{
 "cells": [
  {
   "cell_type": "markdown",
   "id": "0c6aed2f-1493-4636-a124-03c81b28bc52",
   "metadata": {},
   "source": [
    "# Login to SentinelHub openEO\n",
    "In order to access a cloud platfrom you need to login. In this notebook we will login to SentinelHub using openEO. \n",
    "- Import the libraries we need to interact with the cloud platform\n",
    "- Make sure we have the login credentials \n",
    "- Connect to the cloud platform\n",
    "- Login to the cloud platform\n",
    "- Investigate basic properties of the cloud platform "
   ]
  },
  {
   "cell_type": "markdown",
   "id": "d3400da4-b7c0-43be-abc9-e3100bf8c9f4",
   "metadata": {},
   "source": [
    "## Libraries\n",
    "We will import the openeo python client library and the sentinelhub library. Both of them are preinstalled in the jupyter workspace on EDC. \n",
    "- `openeo`: The openeo python client has all the functions available that we need to interact with the cloud platform using the openEO API.\n",
    "- `sentinelhub`: The sentinelhub library has the basic functions to interact with the cloud platform. Here it will only be used to get login information. \n",
    "\n",
    "Here is more information on the openeo python client: \n",
    "- https://open-eo.github.io/openeo-python-client/\n",
    "- PLEASE ADD\n",
    "Here is more information on the sentinelhub library:\n",
    "- PLEASE ADD\n",
    "- PLEASE ADD"
   ]
  },
  {
   "cell_type": "code",
   "execution_count": 1,
   "id": "1abf270c-d73e-4109-854c-3cf36a1b36d7",
   "metadata": {},
   "outputs": [],
   "source": [
    "import openeo\n",
    "from sentinelhub import (SHConfig, SentinelHubRequest, DataCollection, MimeType, CRS, BBox, bbox_to_dimensions, geometry)"
   ]
  },
  {
   "cell_type": "markdown",
   "id": "a15bb3d8-d3d5-4b57-871b-a62d5f4160bd",
   "metadata": {},
   "source": [
    "## Login credentials\n",
    "Now we are checking if we have the credentials available to login to the cloud platform."
   ]
  },
  {
   "cell_type": "code",
   "execution_count": 2,
   "id": "61e18b1a-6c58-4f64-b911-9451d170a116",
   "metadata": {},
   "outputs": [],
   "source": [
    "config = SHConfig()\n",
    "config.sh_client_id = %env SH_CLIENT_ID\n",
    "config.sh_client_secret = %env SH_CLIENT_SECRET"
   ]
  },
  {
   "cell_type": "markdown",
   "id": "4acd87c3-537f-4f9e-9b2a-4378bb9c8abb",
   "metadata": {},
   "source": [
    "## Connect to the cloud platform\n",
    "In a first step we connect to the cloud platform. We can only see information and use functunality that is available to everybody. \n",
    "We can see for example which collections and processes are available, but we cannot process data. We will explore the platforms capabilities in an extra \n",
    "exercise in more depth."
   ]
  },
  {
   "cell_type": "code",
   "execution_count": 4,
   "id": "86afd551-857e-4129-a2ee-39a933255f34",
   "metadata": {},
   "outputs": [],
   "source": [
    "conn = openeo.connect('https://jjdxlu8vwl.execute-api.eu-central-1.amazonaws.com/production')"
   ]
  },
  {
   "cell_type": "code",
   "execution_count": null,
   "id": "8e9ac6c1-903a-455d-a2cb-f93ff155629b",
   "metadata": {},
   "outputs": [],
   "source": [
    "# One basic example to check something"
   ]
  },
  {
   "cell_type": "markdown",
   "id": "42084427-fce5-429b-8707-d950c9e80fa7",
   "metadata": {},
   "source": [
    "## Login to the cloud platform\n",
    "After we have investigated what is possible on the platform, we login. This means we authenticate ourselfs to prove we are an registered user. \n",
    "After access is granted we can also process data. Every computation comes at a cost, this is why every user has an amount of credits (which he usually pays for) for computing.\n",
    "Everytime you are going to use the cloud platform for processing you will have to login at the beginning of your workflow. We are going to learn how to create a workflow in a \n",
    "seperat exercise."
   ]
  },
  {
   "cell_type": "code",
   "execution_count": 5,
   "id": "de26fd5c-71da-4d28-b895-f5108a97a1d5",
   "metadata": {},
   "outputs": [
    {
     "data": {
      "text/plain": [
       "<Connection to 'https://jjdxlu8vwl.execute-api.eu-central-1.amazonaws.com/production/' with BasicBearerAuth>"
      ]
     },
     "execution_count": 5,
     "metadata": {},
     "output_type": "execute_result"
    }
   ],
   "source": [
    "conn.authenticate_basic(username=config.sh_client_id, password=config.sh_client_secret)"
   ]
  },
  {
   "cell_type": "code",
   "execution_count": null,
   "id": "050b91c0-60d8-464e-9fd3-0ab62638aafd",
   "metadata": {},
   "outputs": [],
   "source": [
    "conn.isloggedin()"
   ]
  },
  {
   "cell_type": "code",
   "execution_count": null,
   "id": "7afd0fd0-0207-495d-b076-ed68f826bc5f",
   "metadata": {},
   "outputs": [],
   "source": [
    "# Use this for more \n",
    "# https://github.com/openEOPlatform/sample-notebooks/blob/main/openEO%20Platfrom%20-%20Basics.ipynb\n",
    "# https://github.com/Open-EO/openeo-community-examples/tree/main/python"
   ]
  }
 ],
 "metadata": {
  "kernelspec": {
   "display_name": "users-edc-2023.03-02",
   "language": "python",
   "name": "conda-env-users-edc-2023.03-02-py"
  },
  "language_info": {
   "codemirror_mode": {
    "name": "ipython",
    "version": 3
   },
   "file_extension": ".py",
   "mimetype": "text/x-python",
   "name": "python",
   "nbconvert_exporter": "python",
   "pygments_lexer": "ipython3",
   "version": "3.9.16"
  }
 },
 "nbformat": 4,
 "nbformat_minor": 5
}
