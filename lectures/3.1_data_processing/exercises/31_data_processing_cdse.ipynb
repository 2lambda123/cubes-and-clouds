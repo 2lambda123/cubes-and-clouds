{
 "cells": [
  {
   "cell_type": "markdown",
   "id": "0c6aed2f-1493-4636-a124-03c81b28bc52",
   "metadata": {},
   "source": [
    "# 3.1 Data Processing\n",
    "In this exercise we will build a complete EO workflow on a cloud platform; from data access to obtaining the result. \n",
    "In this example we will analyse snow cover in the Alps. \n",
    "**MORE DETAILS HERE**: This exercise should be more repetition, and the goal is that everybody arrives at the result - without coding very much themselves. Then the transfer application will be done in the sharing exercise\n",
    "\n",
    "We are going to follow these steps in our analysis:\n",
    "- Load relevant data sources\n",
    "- Specify the spatial, temporal extents and the features we are interested in\n",
    "- Process the satellite data to retreive snow cover information\n",
    "- aggregate information in data cubes\n",
    "- Tracking the resources we use for our computation\n",
    "- Visualize and analyse the results\n"
   ]
  },
  {
   "cell_type": "markdown",
   "id": "f9d64c64-39db-4869-917c-ed24bef18204",
   "metadata": {},
   "source": [
    "## Login"
   ]
  },
  {
   "cell_type": "code",
   "execution_count": 1,
   "id": "057019b0-17d5-4cb0-a1a3-5abd47dee312",
   "metadata": {
    "collapsed": true,
    "jupyter": {
     "outputs_hidden": true
    }
   },
   "outputs": [
    {
     "name": "stdout",
     "output_type": "stream",
     "text": [
      "Requirement already satisfied: rioxarray in c:\\users\\mclaus\\miniconda3\\envs\\stacenv\\lib\\site-packages (0.14.1)\n",
      "Requirement already satisfied: geopandas in c:\\users\\mclaus\\miniconda3\\envs\\stacenv\\lib\\site-packages (0.13.2)\n",
      "Requirement already satisfied: leafmap in c:\\users\\mclaus\\miniconda3\\envs\\stacenv\\lib\\site-packages (0.24.1)\n",
      "Requirement already satisfied: packaging in c:\\users\\mclaus\\miniconda3\\envs\\stacenv\\lib\\site-packages (from rioxarray) (23.1)\n",
      "Requirement already satisfied: rasterio>=1.2 in c:\\users\\mclaus\\miniconda3\\envs\\stacenv\\lib\\site-packages (from rioxarray) (1.3.7)\n",
      "Requirement already satisfied: xarray>=0.17 in c:\\users\\mclaus\\miniconda3\\envs\\stacenv\\lib\\site-packages (from rioxarray) (2023.7.0)\n",
      "Requirement already satisfied: pyproj>=2.2 in c:\\users\\mclaus\\miniconda3\\envs\\stacenv\\lib\\site-packages (from rioxarray) (3.6.0)\n",
      "Requirement already satisfied: numpy>=1.21 in c:\\users\\mclaus\\miniconda3\\envs\\stacenv\\lib\\site-packages (from rioxarray) (1.25.0)\n",
      "Requirement already satisfied: fiona>=1.8.19 in c:\\users\\mclaus\\miniconda3\\envs\\stacenv\\lib\\site-packages (from geopandas) (1.9.4)\n",
      "Requirement already satisfied: pandas>=1.1.0 in c:\\users\\mclaus\\miniconda3\\envs\\stacenv\\lib\\site-packages (from geopandas) (2.0.3)\n",
      "Requirement already satisfied: shapely>=1.7.1 in c:\\users\\mclaus\\miniconda3\\envs\\stacenv\\lib\\site-packages (from geopandas) (2.0.1)\n",
      "Requirement already satisfied: bqplot in c:\\users\\mclaus\\miniconda3\\envs\\stacenv\\lib\\site-packages (from leafmap) (0.12.40)\n",
      "Requirement already satisfied: colour in c:\\users\\mclaus\\miniconda3\\envs\\stacenv\\lib\\site-packages (from leafmap) (0.1.5)\n",
      "Requirement already satisfied: folium in c:\\users\\mclaus\\miniconda3\\envs\\stacenv\\lib\\site-packages (from leafmap) (0.14.0)\n",
      "Requirement already satisfied: gdown in c:\\users\\mclaus\\miniconda3\\envs\\stacenv\\lib\\site-packages (from leafmap) (4.7.1)\n",
      "Requirement already satisfied: geojson in c:\\users\\mclaus\\miniconda3\\envs\\stacenv\\lib\\site-packages (from leafmap) (3.0.1)\n",
      "Requirement already satisfied: ipyevents in c:\\users\\mclaus\\miniconda3\\envs\\stacenv\\lib\\site-packages (from leafmap) (2.0.2)\n",
      "Requirement already satisfied: ipyfilechooser in c:\\users\\mclaus\\miniconda3\\envs\\stacenv\\lib\\site-packages (from leafmap) (0.6.0)\n",
      "Requirement already satisfied: ipyleaflet in c:\\users\\mclaus\\miniconda3\\envs\\stacenv\\lib\\site-packages (from leafmap) (0.17.3)\n",
      "Requirement already satisfied: ipywidgets in c:\\users\\mclaus\\miniconda3\\envs\\stacenv\\lib\\site-packages (from leafmap) (8.1.0)\n",
      "Requirement already satisfied: matplotlib in c:\\users\\mclaus\\miniconda3\\envs\\stacenv\\lib\\site-packages (from leafmap) (3.7.1)\n",
      "Requirement already satisfied: pyshp in c:\\users\\mclaus\\miniconda3\\envs\\stacenv\\lib\\site-packages (from leafmap) (2.3.1)\n",
      "Requirement already satisfied: pystac-client in c:\\users\\mclaus\\miniconda3\\envs\\stacenv\\lib\\site-packages (from leafmap) (0.7.2)\n",
      "Requirement already satisfied: python-box in c:\\users\\mclaus\\miniconda3\\envs\\stacenv\\lib\\site-packages (from leafmap) (7.1.1)\n",
      "Requirement already satisfied: scooby in c:\\users\\mclaus\\miniconda3\\envs\\stacenv\\lib\\site-packages (from leafmap) (0.7.2)\n",
      "Requirement already satisfied: whiteboxgui in c:\\users\\mclaus\\miniconda3\\envs\\stacenv\\lib\\site-packages (from leafmap) (2.3.0)\n",
      "Requirement already satisfied: xyzservices in c:\\users\\mclaus\\miniconda3\\envs\\stacenv\\lib\\site-packages (from leafmap) (2023.5.0)\n",
      "Requirement already satisfied: attrs>=19.2.0 in c:\\users\\mclaus\\miniconda3\\envs\\stacenv\\lib\\site-packages (from fiona>=1.8.19->geopandas) (23.1.0)\n",
      "Requirement already satisfied: certifi in c:\\users\\mclaus\\miniconda3\\envs\\stacenv\\lib\\site-packages (from fiona>=1.8.19->geopandas) (2023.5.7)\n",
      "Requirement already satisfied: click~=8.0 in c:\\users\\mclaus\\miniconda3\\envs\\stacenv\\lib\\site-packages (from fiona>=1.8.19->geopandas) (8.1.3)\n",
      "Requirement already satisfied: click-plugins>=1.0 in c:\\users\\mclaus\\miniconda3\\envs\\stacenv\\lib\\site-packages (from fiona>=1.8.19->geopandas) (1.1.1)\n",
      "Requirement already satisfied: cligj>=0.5 in c:\\users\\mclaus\\miniconda3\\envs\\stacenv\\lib\\site-packages (from fiona>=1.8.19->geopandas) (0.7.2)\n",
      "Requirement already satisfied: six in c:\\users\\mclaus\\miniconda3\\envs\\stacenv\\lib\\site-packages (from fiona>=1.8.19->geopandas) (1.16.0)\n",
      "Requirement already satisfied: python-dateutil>=2.8.2 in c:\\users\\mclaus\\appdata\\roaming\\python\\python310\\site-packages (from pandas>=1.1.0->geopandas) (2.8.2)\n",
      "Requirement already satisfied: pytz>=2020.1 in c:\\users\\mclaus\\miniconda3\\envs\\stacenv\\lib\\site-packages (from pandas>=1.1.0->geopandas) (2023.3)\n",
      "Requirement already satisfied: tzdata>=2022.1 in c:\\users\\mclaus\\miniconda3\\envs\\stacenv\\lib\\site-packages (from pandas>=1.1.0->geopandas) (2023.3)\n",
      "Requirement already satisfied: affine in c:\\users\\mclaus\\miniconda3\\envs\\stacenv\\lib\\site-packages (from rasterio>=1.2->rioxarray) (2.4.0)\n",
      "Requirement already satisfied: snuggs>=1.4.1 in c:\\users\\mclaus\\miniconda3\\envs\\stacenv\\lib\\site-packages (from rasterio>=1.2->rioxarray) (1.4.7)\n",
      "Requirement already satisfied: setuptools in c:\\users\\mclaus\\miniconda3\\envs\\stacenv\\lib\\site-packages (from rasterio>=1.2->rioxarray) (68.0.0)\n",
      "Requirement already satisfied: traitlets>=4.3.0 in c:\\users\\mclaus\\appdata\\roaming\\python\\python310\\site-packages (from bqplot->leafmap) (5.9.0)\n",
      "Requirement already satisfied: traittypes>=0.0.6 in c:\\users\\mclaus\\miniconda3\\envs\\stacenv\\lib\\site-packages (from bqplot->leafmap) (0.2.1)\n",
      "Requirement already satisfied: comm>=0.1.3 in c:\\users\\mclaus\\miniconda3\\envs\\stacenv\\lib\\site-packages (from ipywidgets->leafmap) (0.1.4)\n",
      "Requirement already satisfied: ipython>=6.1.0 in c:\\users\\mclaus\\appdata\\roaming\\python\\python310\\site-packages (from ipywidgets->leafmap) (8.11.0)\n",
      "Requirement already satisfied: widgetsnbextension~=4.0.7 in c:\\users\\mclaus\\miniconda3\\envs\\stacenv\\lib\\site-packages (from ipywidgets->leafmap) (4.0.8)\n",
      "Requirement already satisfied: jupyterlab-widgets~=3.0.7 in c:\\users\\mclaus\\miniconda3\\envs\\stacenv\\lib\\site-packages (from ipywidgets->leafmap) (3.0.8)\n",
      "Requirement already satisfied: branca>=0.6.0 in c:\\users\\mclaus\\miniconda3\\envs\\stacenv\\lib\\site-packages (from folium->leafmap) (0.6.0)\n",
      "Requirement already satisfied: jinja2>=2.9 in c:\\users\\mclaus\\miniconda3\\envs\\stacenv\\lib\\site-packages (from folium->leafmap) (3.1.2)\n",
      "Requirement already satisfied: requests in c:\\users\\mclaus\\miniconda3\\envs\\stacenv\\lib\\site-packages (from folium->leafmap) (2.31.0)\n",
      "Requirement already satisfied: filelock in c:\\users\\mclaus\\miniconda3\\envs\\stacenv\\lib\\site-packages (from gdown->leafmap) (3.12.2)\n",
      "Requirement already satisfied: tqdm in c:\\users\\mclaus\\miniconda3\\envs\\stacenv\\lib\\site-packages (from gdown->leafmap) (4.66.1)\n",
      "Requirement already satisfied: beautifulsoup4 in c:\\users\\mclaus\\miniconda3\\envs\\stacenv\\lib\\site-packages (from gdown->leafmap) (4.12.2)\n",
      "Requirement already satisfied: contourpy>=1.0.1 in c:\\users\\mclaus\\miniconda3\\envs\\stacenv\\lib\\site-packages (from matplotlib->leafmap) (1.1.0)\n",
      "Requirement already satisfied: cycler>=0.10 in c:\\users\\mclaus\\miniconda3\\envs\\stacenv\\lib\\site-packages (from matplotlib->leafmap) (0.11.0)\n",
      "Requirement already satisfied: fonttools>=4.22.0 in c:\\users\\mclaus\\miniconda3\\envs\\stacenv\\lib\\site-packages (from matplotlib->leafmap) (4.40.0)\n",
      "Requirement already satisfied: kiwisolver>=1.0.1 in c:\\users\\mclaus\\miniconda3\\envs\\stacenv\\lib\\site-packages (from matplotlib->leafmap) (1.4.4)\n",
      "Requirement already satisfied: pillow>=6.2.0 in c:\\users\\mclaus\\miniconda3\\envs\\stacenv\\lib\\site-packages (from matplotlib->leafmap) (9.5.0)\n",
      "Requirement already satisfied: pyparsing>=2.3.1 in c:\\users\\mclaus\\miniconda3\\envs\\stacenv\\lib\\site-packages (from matplotlib->leafmap) (3.1.0)\n",
      "Requirement already satisfied: pystac[validation]>=1.7.2 in c:\\users\\mclaus\\miniconda3\\envs\\stacenv\\lib\\site-packages (from pystac-client->leafmap) (1.7.3)\n",
      "Requirement already satisfied: ipytree in c:\\users\\mclaus\\miniconda3\\envs\\stacenv\\lib\\site-packages (from whiteboxgui->leafmap) (0.2.2)\n",
      "Requirement already satisfied: whitebox in c:\\users\\mclaus\\miniconda3\\envs\\stacenv\\lib\\site-packages (from whiteboxgui->leafmap) (2.3.1)\n",
      "Requirement already satisfied: colorama in c:\\users\\mclaus\\miniconda3\\envs\\stacenv\\lib\\site-packages (from click~=8.0->fiona>=1.8.19->geopandas) (0.4.6)\n",
      "Requirement already satisfied: backcall in c:\\users\\mclaus\\appdata\\roaming\\python\\python310\\site-packages (from ipython>=6.1.0->ipywidgets->leafmap) (0.2.0)\n",
      "Requirement already satisfied: decorator in c:\\users\\mclaus\\appdata\\roaming\\python\\python310\\site-packages (from ipython>=6.1.0->ipywidgets->leafmap) (5.1.1)\n",
      "Requirement already satisfied: jedi>=0.16 in c:\\users\\mclaus\\appdata\\roaming\\python\\python310\\site-packages (from ipython>=6.1.0->ipywidgets->leafmap) (0.18.2)\n",
      "Requirement already satisfied: matplotlib-inline in c:\\users\\mclaus\\appdata\\roaming\\python\\python310\\site-packages (from ipython>=6.1.0->ipywidgets->leafmap) (0.1.6)\n",
      "Requirement already satisfied: pickleshare in c:\\users\\mclaus\\appdata\\roaming\\python\\python310\\site-packages (from ipython>=6.1.0->ipywidgets->leafmap) (0.7.5)\n",
      "Requirement already satisfied: prompt-toolkit!=3.0.37,<3.1.0,>=3.0.30 in c:\\users\\mclaus\\appdata\\roaming\\python\\python310\\site-packages (from ipython>=6.1.0->ipywidgets->leafmap) (3.0.38)\n",
      "Requirement already satisfied: pygments>=2.4.0 in c:\\users\\mclaus\\appdata\\roaming\\python\\python310\\site-packages (from ipython>=6.1.0->ipywidgets->leafmap) (2.14.0)\n",
      "Requirement already satisfied: stack-data in c:\\users\\mclaus\\appdata\\roaming\\python\\python310\\site-packages (from ipython>=6.1.0->ipywidgets->leafmap) (0.6.2)\n",
      "Requirement already satisfied: MarkupSafe>=2.0 in c:\\users\\mclaus\\miniconda3\\envs\\stacenv\\lib\\site-packages (from jinja2>=2.9->folium->leafmap) (2.1.3)\n",
      "Requirement already satisfied: jsonschema>=4.0.1 in c:\\users\\mclaus\\miniconda3\\envs\\stacenv\\lib\\site-packages (from pystac[validation]>=1.7.2->pystac-client->leafmap) (4.17.3)\n",
      "Requirement already satisfied: charset-normalizer<4,>=2 in c:\\users\\mclaus\\miniconda3\\envs\\stacenv\\lib\\site-packages (from requests->folium->leafmap) (3.1.0)\n",
      "Requirement already satisfied: idna<4,>=2.5 in c:\\users\\mclaus\\miniconda3\\envs\\stacenv\\lib\\site-packages (from requests->folium->leafmap) (3.4)\n",
      "Requirement already satisfied: urllib3<3,>=1.21.1 in c:\\users\\mclaus\\miniconda3\\envs\\stacenv\\lib\\site-packages (from requests->folium->leafmap) (1.26.16)\n",
      "Requirement already satisfied: soupsieve>1.2 in c:\\users\\mclaus\\miniconda3\\envs\\stacenv\\lib\\site-packages (from beautifulsoup4->gdown->leafmap) (2.3.2.post1)\n",
      "Requirement already satisfied: PySocks!=1.5.7,>=1.5.6 in c:\\users\\mclaus\\miniconda3\\envs\\stacenv\\lib\\site-packages (from requests->folium->leafmap) (1.7.1)\n",
      "Requirement already satisfied: parso<0.9.0,>=0.8.0 in c:\\users\\mclaus\\appdata\\roaming\\python\\python310\\site-packages (from jedi>=0.16->ipython>=6.1.0->ipywidgets->leafmap) (0.8.3)\n",
      "Requirement already satisfied: pyrsistent!=0.17.0,!=0.17.1,!=0.17.2,>=0.14.0 in c:\\users\\mclaus\\miniconda3\\envs\\stacenv\\lib\\site-packages (from jsonschema>=4.0.1->pystac[validation]>=1.7.2->pystac-client->leafmap) (0.19.3)\n",
      "Requirement already satisfied: wcwidth in c:\\users\\mclaus\\appdata\\roaming\\python\\python310\\site-packages (from prompt-toolkit!=3.0.37,<3.1.0,>=3.0.30->ipython>=6.1.0->ipywidgets->leafmap) (0.2.6)\n",
      "Requirement already satisfied: executing>=1.2.0 in c:\\users\\mclaus\\appdata\\roaming\\python\\python310\\site-packages (from stack-data->ipython>=6.1.0->ipywidgets->leafmap) (1.2.0)\n",
      "Requirement already satisfied: asttokens>=2.1.0 in c:\\users\\mclaus\\appdata\\roaming\\python\\python310\\site-packages (from stack-data->ipython>=6.1.0->ipywidgets->leafmap) (2.2.1)\n",
      "Requirement already satisfied: pure-eval in c:\\users\\mclaus\\appdata\\roaming\\python\\python310\\site-packages (from stack-data->ipython>=6.1.0->ipywidgets->leafmap) (0.2.2)\n",
      "Note: you may need to restart the kernel to use updated packages.\n"
     ]
    }
   ],
   "source": [
    "pip install rioxarray geopandas leafmap"
   ]
  },
  {
   "cell_type": "code",
   "execution_count": 1,
   "id": "1abf270c-d73e-4109-854c-3cf36a1b36d7",
   "metadata": {},
   "outputs": [],
   "source": [
    "# platform libraries\n",
    "import openeo\n",
    "\n",
    "# utility libraries\n",
    "from datetime import date\n",
    "import numpy as np\n",
    "import xarray as xr\n",
    "import rioxarray\n",
    "import json\n",
    "import pandas as pd\n",
    "import matplotlib.pyplot as plt\n",
    "import geopandas as gpd\n",
    "import leafmap.foliumap as leafmap"
   ]
  },
  {
   "cell_type": "code",
   "execution_count": 2,
   "id": "86afd551-857e-4129-a2ee-39a933255f34",
   "metadata": {},
   "outputs": [
    {
     "name": "stdout",
     "output_type": "stream",
     "text": [
      "Authenticated using refresh token.\n"
     ]
    }
   ],
   "source": [
    "conn = openeo.connect('https://openeo.dataspace.copernicus.eu/').authenticate_oidc()"
   ]
  },
  {
   "cell_type": "markdown",
   "id": "1e95d456-a831-4cca-ab1f-5a2ec8805291",
   "metadata": {},
   "source": [
    "## Region of Interest"
   ]
  },
  {
   "cell_type": "markdown",
   "id": "3a324185-d64a-4e69-9601-8f63af0805ac",
   "metadata": {},
   "source": [
    "Load the catchment area."
   ]
  },
  {
   "cell_type": "code",
   "execution_count": 3,
   "id": "b1679451-2868-4109-ab17-38532a8033e3",
   "metadata": {},
   "outputs": [],
   "source": [
    "catchment_outline = gpd.read_file('data/catchment_outline.geojson')"
   ]
  },
  {
   "cell_type": "code",
   "execution_count": 4,
   "id": "3cd3057b-39f8-4644-886d-bdbad43c6cb5",
   "metadata": {},
   "outputs": [
    {
     "data": {
      "text/html": [
       "<iframe srcdoc=\"&lt;!DOCTYPE html&gt;\n",
       "&lt;html&gt;\n",
       "&lt;head&gt;\n",
       "    \n",
       "    &lt;meta http-equiv=&quot;content-type&quot; content=&quot;text/html; charset=UTF-8&quot; /&gt;\n",
       "    \n",
       "        &lt;script&gt;\n",
       "            L_NO_TOUCH = false;\n",
       "            L_DISABLE_3D = false;\n",
       "        &lt;/script&gt;\n",
       "    \n",
       "    &lt;style&gt;html, body {width: 100%;height: 100%;margin: 0;padding: 0;}&lt;/style&gt;\n",
       "    &lt;style&gt;#map {position:absolute;top:0;bottom:0;right:0;left:0;}&lt;/style&gt;\n",
       "    &lt;script src=&quot;https://cdn.jsdelivr.net/npm/leaflet@1.9.3/dist/leaflet.js&quot;&gt;&lt;/script&gt;\n",
       "    &lt;script src=&quot;https://code.jquery.com/jquery-1.12.4.min.js&quot;&gt;&lt;/script&gt;\n",
       "    &lt;script src=&quot;https://cdn.jsdelivr.net/npm/bootstrap@5.2.2/dist/js/bootstrap.bundle.min.js&quot;&gt;&lt;/script&gt;\n",
       "    &lt;script src=&quot;https://cdnjs.cloudflare.com/ajax/libs/Leaflet.awesome-markers/2.0.2/leaflet.awesome-markers.js&quot;&gt;&lt;/script&gt;\n",
       "    &lt;link rel=&quot;stylesheet&quot; href=&quot;https://cdn.jsdelivr.net/npm/leaflet@1.9.3/dist/leaflet.css&quot;/&gt;\n",
       "    &lt;link rel=&quot;stylesheet&quot; href=&quot;https://cdn.jsdelivr.net/npm/bootstrap@5.2.2/dist/css/bootstrap.min.css&quot;/&gt;\n",
       "    &lt;link rel=&quot;stylesheet&quot; href=&quot;https://netdna.bootstrapcdn.com/bootstrap/3.0.0/css/bootstrap.min.css&quot;/&gt;\n",
       "    &lt;link rel=&quot;stylesheet&quot; href=&quot;https://cdn.jsdelivr.net/npm/@fortawesome/fontawesome-free@6.2.0/css/all.min.css&quot;/&gt;\n",
       "    &lt;link rel=&quot;stylesheet&quot; href=&quot;https://cdnjs.cloudflare.com/ajax/libs/Leaflet.awesome-markers/2.0.2/leaflet.awesome-markers.css&quot;/&gt;\n",
       "    &lt;link rel=&quot;stylesheet&quot; href=&quot;https://cdn.jsdelivr.net/gh/python-visualization/folium/folium/templates/leaflet.awesome.rotate.min.css&quot;/&gt;\n",
       "    \n",
       "            &lt;meta name=&quot;viewport&quot; content=&quot;width=device-width,\n",
       "                initial-scale=1.0, maximum-scale=1.0, user-scalable=no&quot; /&gt;\n",
       "            &lt;style&gt;\n",
       "                #map_da4f937c6c89f6083a213b75fa8b8918 {\n",
       "                    position: relative;\n",
       "                    width: 100.0%;\n",
       "                    height: 100.0%;\n",
       "                    left: 0.0%;\n",
       "                    top: 0.0%;\n",
       "                }\n",
       "                .leaflet-container { font-size: 1rem; }\n",
       "            &lt;/style&gt;\n",
       "        \n",
       "    &lt;script src=&quot;https://cdnjs.cloudflare.com/ajax/libs/leaflet.fullscreen/1.4.2/Control.FullScreen.min.js&quot;&gt;&lt;/script&gt;\n",
       "    &lt;link rel=&quot;stylesheet&quot; href=&quot;https://cdnjs.cloudflare.com/ajax/libs/leaflet.fullscreen/1.4.2/Control.FullScreen.min.css&quot;/&gt;\n",
       "    &lt;script src=&quot;https://cdnjs.cloudflare.com/ajax/libs/leaflet.draw/1.0.2/leaflet.draw.js&quot;&gt;&lt;/script&gt;\n",
       "    &lt;link rel=&quot;stylesheet&quot; href=&quot;https://cdnjs.cloudflare.com/ajax/libs/leaflet.draw/1.0.2/leaflet.draw.css&quot;/&gt;\n",
       "    &lt;script src=&quot;https://cdn.jsdelivr.net/gh/ljagis/leaflet-measure@2.1.7/dist/leaflet-measure.min.js&quot;&gt;&lt;/script&gt;\n",
       "    &lt;link rel=&quot;stylesheet&quot; href=&quot;https://cdn.jsdelivr.net/gh/ljagis/leaflet-measure@2.1.7/dist/leaflet-measure.min.css&quot;/&gt;\n",
       "    &lt;script src=&quot;https://unpkg.com/leaflet-control-geocoder/dist/Control.Geocoder.js&quot;&gt;&lt;/script&gt;\n",
       "    &lt;link rel=&quot;stylesheet&quot; href=&quot;https://unpkg.com/leaflet-control-geocoder/dist/Control.Geocoder.css&quot;/&gt;\n",
       "    \n",
       "                    &lt;style&gt;\n",
       "                        .foliumtooltip {\n",
       "                            \n",
       "                        }\n",
       "                       .foliumtooltip table{\n",
       "                            margin: auto;\n",
       "                        }\n",
       "                        .foliumtooltip tr{\n",
       "                            text-align: left;\n",
       "                        }\n",
       "                        .foliumtooltip th{\n",
       "                            padding: 2px; padding-right: 8px;\n",
       "                        }\n",
       "                    &lt;/style&gt;\n",
       "            \n",
       "&lt;/head&gt;\n",
       "&lt;body&gt;\n",
       "    \n",
       "    \n",
       "            &lt;div class=&quot;folium-map&quot; id=&quot;map_da4f937c6c89f6083a213b75fa8b8918&quot; &gt;&lt;/div&gt;\n",
       "        \n",
       "&lt;/body&gt;\n",
       "&lt;script&gt;\n",
       "    \n",
       "    \n",
       "            var map_da4f937c6c89f6083a213b75fa8b8918 = L.map(\n",
       "                &quot;map_da4f937c6c89f6083a213b75fa8b8918&quot;,\n",
       "                {\n",
       "                    center: [46.79856263096177, 11.177346530561929],\n",
       "                    crs: L.CRS.EPSG3857,\n",
       "                    zoom: 10,\n",
       "                    zoomControl: true,\n",
       "                    preferCanvas: false,\n",
       "                    drawExport: false,\n",
       "                    layersControl: true,\n",
       "                }\n",
       "            );\n",
       "            L.control.scale().addTo(map_da4f937c6c89f6083a213b75fa8b8918);\n",
       "\n",
       "            \n",
       "\n",
       "        \n",
       "    \n",
       "            var tile_layer_19f7336835e567174bf728376c48105e = L.tileLayer(\n",
       "                &quot;https://{s}.tile.openstreetmap.org/{z}/{x}/{y}.png&quot;,\n",
       "                {&quot;attribution&quot;: &quot;Data by \\u0026copy; \\u003ca target=\\&quot;_blank\\&quot; href=\\&quot;http://openstreetmap.org\\&quot;\\u003eOpenStreetMap\\u003c/a\\u003e, under \\u003ca target=\\&quot;_blank\\&quot; href=\\&quot;http://www.openstreetmap.org/copyright\\&quot;\\u003eODbL\\u003c/a\\u003e.&quot;, &quot;detectRetina&quot;: false, &quot;maxNativeZoom&quot;: 24, &quot;maxZoom&quot;: 24, &quot;minZoom&quot;: 0, &quot;noWrap&quot;: false, &quot;opacity&quot;: 1, &quot;subdomains&quot;: &quot;abc&quot;, &quot;tms&quot;: false}\n",
       "            ).addTo(map_da4f937c6c89f6083a213b75fa8b8918);\n",
       "        \n",
       "    \n",
       "            L.control.fullscreen(\n",
       "                {&quot;forceSeparateButton&quot;: false, &quot;position&quot;: &quot;topleft&quot;, &quot;title&quot;: &quot;Full Screen&quot;, &quot;titleCancel&quot;: &quot;Exit Full Screen&quot;}\n",
       "            ).addTo(map_da4f937c6c89f6083a213b75fa8b8918);\n",
       "        \n",
       "    \n",
       "            var options = {\n",
       "              position: &quot;topleft&quot;,\n",
       "              draw: {},\n",
       "              edit: {},\n",
       "            }\n",
       "            // FeatureGroup is to store editable layers.\n",
       "            var drawnItems = new L.featureGroup().addTo(\n",
       "                map_da4f937c6c89f6083a213b75fa8b8918\n",
       "            );\n",
       "            options.edit.featureGroup = drawnItems;\n",
       "            var draw_control_e1455c7a3557fc2d221921253570e2f0 = new L.Control.Draw(\n",
       "                options\n",
       "            ).addTo( map_da4f937c6c89f6083a213b75fa8b8918 );\n",
       "            map_da4f937c6c89f6083a213b75fa8b8918.on(L.Draw.Event.CREATED, function(e) {\n",
       "                var layer = e.layer,\n",
       "                    type = e.layerType;\n",
       "                var coords = JSON.stringify(layer.toGeoJSON());\n",
       "                layer.on(&#x27;click&#x27;, function() {\n",
       "                    alert(coords);\n",
       "                    console.log(coords);\n",
       "                });\n",
       "                drawnItems.addLayer(layer);\n",
       "             });\n",
       "            map_da4f937c6c89f6083a213b75fa8b8918.on(&#x27;draw:created&#x27;, function(e) {\n",
       "                drawnItems.addLayer(e.layer);\n",
       "            });\n",
       "            \n",
       "        \n",
       "    \n",
       "            var measure_control_d929d2d59dfe57132ddfc9c2bc76e873 = new L.Control.Measure(\n",
       "                {&quot;position&quot;: &quot;bottomleft&quot;, &quot;primaryAreaUnit&quot;: &quot;sqmeters&quot;, &quot;primaryLengthUnit&quot;: &quot;meters&quot;, &quot;secondaryAreaUnit&quot;: &quot;acres&quot;, &quot;secondaryLengthUnit&quot;: &quot;miles&quot;});\n",
       "            map_da4f937c6c89f6083a213b75fa8b8918.addControl(measure_control_d929d2d59dfe57132ddfc9c2bc76e873);\n",
       "\n",
       "        \n",
       "    \n",
       "            L.Control.geocoder(\n",
       "                {&quot;collapsed&quot;: true, &quot;defaultMarkGeocode&quot;: true, &quot;position&quot;: &quot;topleft&quot;}\n",
       "            ).on(&#x27;markgeocode&#x27;, function(e) {\n",
       "                map_da4f937c6c89f6083a213b75fa8b8918.setView(e.geocode.center, 11);\n",
       "            }).addTo(map_da4f937c6c89f6083a213b75fa8b8918);\n",
       "\n",
       "        \n",
       "    \n",
       "            map_da4f937c6c89f6083a213b75fa8b8918.fitBounds(\n",
       "                [[46.79856263096177, 11.177346530561929], [46.79856263096177, 11.177346530561929]],\n",
       "                {&quot;maxZoom&quot;: 10}\n",
       "            );\n",
       "        \n",
       "    \n",
       "        function geo_json_71da9770c2ae7fe1236d642d808543ee_styler(feature) {\n",
       "            switch(feature.properties.HYBAS_ID) {\n",
       "                default:\n",
       "                    return {&quot;color&quot;: &quot;#3388ff&quot;, &quot;fillOpacity&quot;: 0, &quot;opacity&quot;: 1, &quot;weight&quot;: 2};\n",
       "            }\n",
       "        }\n",
       "        function geo_json_71da9770c2ae7fe1236d642d808543ee_highlighter(feature) {\n",
       "            switch(feature.properties.HYBAS_ID) {\n",
       "                default:\n",
       "                    return {&quot;fillOpacity&quot;: 0, &quot;weight&quot;: 4};\n",
       "            }\n",
       "        }\n",
       "\n",
       "        function geo_json_71da9770c2ae7fe1236d642d808543ee_onEachFeature(feature, layer) {\n",
       "            layer.on({\n",
       "                mouseout: function(e) {\n",
       "                    if(typeof e.target.setStyle === &quot;function&quot;){\n",
       "                        geo_json_71da9770c2ae7fe1236d642d808543ee.resetStyle(e.target);\n",
       "                    }\n",
       "                },\n",
       "                mouseover: function(e) {\n",
       "                    if(typeof e.target.setStyle === &quot;function&quot;){\n",
       "                        const highlightStyle = geo_json_71da9770c2ae7fe1236d642d808543ee_highlighter(e.target.feature)\n",
       "                        e.target.setStyle(highlightStyle);\n",
       "                    }\n",
       "                },\n",
       "            });\n",
       "        };\n",
       "        var geo_json_71da9770c2ae7fe1236d642d808543ee = L.geoJson(null, {\n",
       "                onEachFeature: geo_json_71da9770c2ae7fe1236d642d808543ee_onEachFeature,\n",
       "            \n",
       "                style: geo_json_71da9770c2ae7fe1236d642d808543ee_styler,\n",
       "        });\n",
       "\n",
       "        function geo_json_71da9770c2ae7fe1236d642d808543ee_add (data) {\n",
       "            geo_json_71da9770c2ae7fe1236d642d808543ee\n",
       "                .addData(data)\n",
       "                .addTo(map_da4f937c6c89f6083a213b75fa8b8918);\n",
       "        }\n",
       "            geo_json_71da9770c2ae7fe1236d642d808543ee_add({&quot;crs&quot;: {&quot;properties&quot;: {&quot;name&quot;: &quot;urn:ogc:def:crs:OGC:1.3:CRS84&quot;}, &quot;type&quot;: &quot;name&quot;}, &quot;features&quot;: [{&quot;geometry&quot;: {&quot;coordinates&quot;: [[[11.075, 46.72916666666669], [11.072575547960094, 46.728813340928845], [11.069091118706622, 46.72535332573787], [11.048285590277802, 46.724646674262175], [11.042024739583358, 46.73087632921009], [11.041666666666691, 46.733333333333356], [11.038123575846377, 46.73424241807728], [11.0375, 46.74583333333336], [11.03664923773874, 46.74914923773874], [11.030017428927975, 46.75085076226131], [11.028599378797768, 46.756377156575546], [11.025567287868947, 46.76028951009117], [11.0244327121311, 46.76471048990888], [11.02140062120228, 46.7686228434245], [11.020833333333357, 46.77083333333336], [11.024291653103322, 46.77172071668839], [11.025567287868947, 46.781377156575545], [11.032766045464435, 46.78945617675784], [11.033900621202282, 46.79387715657555], [11.036932712131101, 46.79778951009117], [11.038067287868948, 46.80221048990888], [11.042586263020858, 46.80762905544707], [11.052210489908878, 46.808900621202284], [11.06028951009117, 46.816099378797766], [11.06471048990888, 46.81723395453562], [11.068622843424503, 46.820266045464436], [11.073043823242212, 46.82140062120228], [11.077974107530407, 46.82522176106773], [11.079733954535614, 46.83010389539933], [11.071295166015648, 46.83957451714412], [11.0744327121311, 46.843622843424505], [11.075567287868948, 46.846579996744815], [11.071400621202281, 46.85195617675784], [11.070266045464434, 46.859321424696205], [11.082766045464435, 46.872789510091174], [11.084041680230058, 46.882445949978326], [11.089710489908878, 46.88390062120228], [11.09995964898006, 46.89319695366756], [11.096400621202282, 46.89778951009117], [11.095266045464435, 46.91343722873266], [11.103599378797767, 46.92278951009117], [11.104166666666691, 46.929166666666696], [11.114924452039954, 46.92951999240454], [11.11875, 46.9333187527127], [11.12328694661461, 46.92881334092885], [11.139924452039956, 46.92951999240454], [11.143408881293428, 46.93298000759551], [11.148288302951414, 46.933691067165825], [11.157980007595512, 46.94340888129343], [11.158691406250025, 46.948290337456626], [11.16424221462676, 46.953813340928846], [11.166666666666693, 46.954166666666694], [11.167024739583358, 46.95170966254343], [11.172575547960095, 46.94618665907121], [11.177424452039956, 46.94548000759551], [11.180908881293428, 46.94201999240454], [11.185757785373289, 46.94131334092884], [11.189242214626761, 46.937853325737876], [11.194123670789956, 46.93714192708336], [11.199646674262178, 46.93159111870662], [11.200353325737872, 46.9100755479601], [11.204519992404538, 46.90587972005211], [11.203813340928845, 46.901742214626765], [11.199646674262178, 46.89754638671877], [11.200353325737872, 46.89340888129343], [11.203813340928845, 46.889924452039956], [11.204519992404538, 46.8850755479601], [11.21248609754777, 46.877084011501765], [11.208686659071207, 46.87325778537329], [11.208333333333359, 46.85833333333336], [11.210543823242213, 46.85776604546444], [11.214456176757839, 46.85473395453562], [11.231377156575547, 46.85359937879777], [11.239456176757837, 46.846400621202285], [11.260543823242212, 46.845266045464435], [11.26458333333336, 46.84213528103301], [11.26875, 46.84536471896704], [11.272789510091172, 46.842233954535615], [11.323043823242214, 46.84109937879777], [11.331122843424506, 46.83390062120228], [11.343877156575548, 46.83276604546444], [11.347789510091172, 46.82973395453561], [11.35331590440541, 46.82831590440541], [11.354733954535616, 46.82278951009117], [11.357766045464437, 46.818877156575546], [11.358900621202284, 46.81445617675784], [11.36609937879777, 46.80637715657554], [11.366666666666694, 46.80416666666669], [11.365779283311658, 46.80070834689673], [11.356122843424506, 46.7994327121311], [11.35208333333336, 46.796301947699675], [11.347916666666693, 46.799531385633706], [11.343877156575548, 46.79640062120228], [11.339456176757839, 46.79526604546444], [11.335543823242213, 46.79223395453562], [11.321806165907145, 46.79101189507381], [11.31306728786895, 46.781377156575545], [11.311932712131103, 46.776956176757835], [11.304733954535617, 46.76887715657555], [11.30359937879777, 46.76445617675784], [11.30056728786895, 46.760543823242216], [11.299149237738742, 46.75501742892798], [11.293622843424505, 46.753599378797766], [11.289710489908881, 46.75056728786895], [11.279166666666693, 46.75], [11.278813340928846, 46.73924221462676], [11.27464667426218, 46.73504638671878], [11.275353325737873, 46.73090888129343], [11.283319430881102, 46.722917344835096], [11.27951999240454, 46.71909111870662], [11.278813340928846, 46.705908881293425], [11.275353325737873, 46.702424452039956], [11.275, 46.7], [11.274032253689262, 46.69622938368058], [11.267413330078151, 46.691099378797766], [11.260289510091171, 46.69223395453562], [11.25491333007815, 46.69640062120228], [11.251956176757838, 46.695266045464436], [11.248043823242213, 46.69223395453562], [11.239456176757837, 46.691099378797766], [11.235543823242214, 46.68806728786895], [11.218622843424505, 46.6869327121311], [11.21471048990888, 46.683900621202284], [11.197789510091171, 46.68276604546443], [11.193877156575546, 46.679733954535614], [11.184220716688394, 46.67845831976999], [11.182413736979193, 46.671416219075546], [11.173043823242214, 46.66306728786895], [11.168622843424505, 46.6619327121311], [11.159270562065997, 46.653599378797765], [11.154985215928845, 46.655143907335095], [11.154166666666692, 46.65833333333336], [11.15085076226131, 46.65918409559464], [11.15, 46.6625], [11.150353325737871, 46.66909111870662], [11.155876329210095, 46.67464192708336], [11.160757785373288, 46.67535332573787], [11.166668023003497, 46.68123406304256], [11.162853325737872, 46.685075547960096], [11.162146674262178, 46.68992445203995], [11.15451999240454, 46.69757554796009], [11.153813340928846, 46.702424452039956], [11.148290337456622, 46.70797526041669], [11.143408881293428, 46.708686659071205], [11.139924452039956, 46.71214667426218], [11.122575547960095, 46.712853325737875], [11.119091118706622, 46.71631334092884], [11.11424221462676, 46.71701999240454], [11.110757785373288, 46.72048000759551], [11.10174221462676, 46.72118665907121], [11.098257785373288, 46.724646674262175], [11.085075547960095, 46.72535332573787], [11.081591118706623, 46.728813340928845], [11.075, 46.72916666666669]]], &quot;type&quot;: &quot;Polygon&quot;}, &quot;properties&quot;: {&quot;COAST&quot;: 0, &quot;DIST_MAIN&quot;: 334.5, &quot;DIST_SINK&quot;: 334.5, &quot;ENDO&quot;: 0, &quot;HYBAS_ID&quot;: 2090516090, &quot;MAIN_BAS&quot;: 2090012980, &quot;NEXT_DOWN&quot;: 2090516950, &quot;NEXT_SINK&quot;: 2090012980, &quot;ORDER&quot;: 3, &quot;PFAF_ID&quot;: 214040804, &quot;SORT&quot;: 10988, &quot;SUB_AREA&quot;: 419.1, &quot;UP_AREA&quot;: 419.2}, &quot;type&quot;: &quot;Feature&quot;}], &quot;type&quot;: &quot;FeatureCollection&quot;});\n",
       "\n",
       "        \n",
       "    \n",
       "    geo_json_71da9770c2ae7fe1236d642d808543ee.bindTooltip(\n",
       "    function(layer){\n",
       "    let div = L.DomUtil.create(&#x27;div&#x27;);\n",
       "    \n",
       "    let handleObject = feature=&gt;typeof(feature)==&#x27;object&#x27; ? JSON.stringify(feature) : feature;\n",
       "    let fields = [&quot;HYBAS_ID&quot;, &quot;NEXT_DOWN&quot;, &quot;NEXT_SINK&quot;, &quot;MAIN_BAS&quot;, &quot;DIST_SINK&quot;, &quot;DIST_MAIN&quot;, &quot;SUB_AREA&quot;, &quot;UP_AREA&quot;, &quot;PFAF_ID&quot;, &quot;ENDO&quot;, &quot;COAST&quot;, &quot;ORDER&quot;, &quot;SORT&quot;];\n",
       "    let aliases = [&quot;HYBAS_ID&quot;, &quot;NEXT_DOWN&quot;, &quot;NEXT_SINK&quot;, &quot;MAIN_BAS&quot;, &quot;DIST_SINK&quot;, &quot;DIST_MAIN&quot;, &quot;SUB_AREA&quot;, &quot;UP_AREA&quot;, &quot;PFAF_ID&quot;, &quot;ENDO&quot;, &quot;COAST&quot;, &quot;ORDER&quot;, &quot;SORT&quot;];\n",
       "    let table = &#x27;&lt;table&gt;&#x27; +\n",
       "        String(\n",
       "        fields.map(\n",
       "        (v,i)=&gt;\n",
       "        `&lt;tr&gt;\n",
       "            &lt;th&gt;${aliases[i]}&lt;/th&gt;\n",
       "            \n",
       "            &lt;td&gt;${handleObject(layer.feature.properties[v])}&lt;/td&gt;\n",
       "        &lt;/tr&gt;`).join(&#x27;&#x27;))\n",
       "    +&#x27;&lt;/table&gt;&#x27;;\n",
       "    div.innerHTML=table;\n",
       "    \n",
       "    return div\n",
       "    }\n",
       "    ,{&quot;className&quot;: &quot;foliumtooltip&quot;, &quot;sticky&quot;: true});\n",
       "                     \n",
       "    \n",
       "            var layer_control_48fcdc71aaf77c5c5509c829e89948a2 = {\n",
       "                base_layers : {\n",
       "                    &quot;openstreetmap&quot; : tile_layer_19f7336835e567174bf728376c48105e,\n",
       "                },\n",
       "                overlays :  {\n",
       "                    &quot;catchment&quot; : geo_json_71da9770c2ae7fe1236d642d808543ee,\n",
       "                },\n",
       "            };\n",
       "            L.control.layers(\n",
       "                layer_control_48fcdc71aaf77c5c5509c829e89948a2.base_layers,\n",
       "                layer_control_48fcdc71aaf77c5c5509c829e89948a2.overlays,\n",
       "                {&quot;autoZIndex&quot;: true, &quot;collapsed&quot;: true, &quot;position&quot;: &quot;topright&quot;}\n",
       "            ).addTo(map_da4f937c6c89f6083a213b75fa8b8918);\n",
       "        \n",
       "&lt;/script&gt;\n",
       "&lt;/html&gt;\" width=\"100%\" height=\"600\"style=\"border:none !important;\" \"allowfullscreen\" \"webkitallowfullscreen\" \"mozallowfullscreen\"></iframe>"
      ],
      "text/plain": [
       "<leafmap.foliumap.Map at 0x1e254234b20>"
      ]
     },
     "execution_count": 4,
     "metadata": {},
     "output_type": "execute_result"
    }
   ],
   "source": [
    "center = (float(catchment_outline.centroid.y), float(catchment_outline.centroid.x))\n",
    "m = leafmap.Map(center=center, zoom=10)\n",
    "m.add_vector('data/catchment_outline.geojson', layer_name=\"catchment\")\n",
    "m"
   ]
  },
  {
   "cell_type": "markdown",
   "id": "284cd7b6-e646-4950-b747-4e1a734f148b",
   "metadata": {},
   "source": [
    "## Inspect Metadata\n",
    "We need to set the following configurations to define the content of the data cube we want to access:\n",
    "- dataset name\n",
    "- band names\n",
    "- time range\n",
    "- the area of interest specifed via bounding box coordinates\n",
    "- spatial resolution\n",
    "\n",
    "To select the correct dataset we can first list all the available datasets."
   ]
  },
  {
   "cell_type": "code",
   "execution_count": 5,
   "id": "7a3592c5-f078-48c0-b039-270fe99f48d6",
   "metadata": {},
   "outputs": [
    {
     "name": "stdout",
     "output_type": "stream",
     "text": [
      "['SENTINEL3_OLCI_L1B', 'SENTINEL3_SLSTR', 'SENTINEL_5P_L2', 'SENTINEL2_L1C', 'SENTINEL2_L2A', 'SENTINEL1_GRD', 'COPERNICUS_30']\n"
     ]
    }
   ],
   "source": [
    "print(conn.list_collection_ids())"
   ]
  },
  {
   "cell_type": "markdown",
   "id": "958ff432-b8cb-45b5-b6c4-68c1e0f92640",
   "metadata": {},
   "source": [
    "We want to use the Sentinel-2 L2A product. It's name is `'SENTINEL2_L2A'`. \n",
    "\n",
    "We get the metadata for this collection as follows."
   ]
  },
  {
   "cell_type": "code",
   "execution_count": 6,
   "id": "7bf6babb-457b-4a09-81d5-092b92c32d5d",
   "metadata": {},
   "outputs": [
    {
     "data": {
      "text/html": [
       "\n",
       "    <script>\n",
       "    if (!window.customElements || !window.customElements.get('openeo-collection')) {\n",
       "        var el = document.createElement('script');\n",
       "        el.src = \"https://cdn.jsdelivr.net/npm/@openeo/vue-components@2/assets/openeo.min.js\";\n",
       "        document.head.appendChild(el);\n",
       "\n",
       "        var font = document.createElement('font');\n",
       "        font.as = \"font\";\n",
       "        font.type = \"font/woff2\";\n",
       "        font.crossOrigin = true;\n",
       "        font.href = \"https://use.fontawesome.com/releases/v5.13.0/webfonts/fa-solid-900.woff2\"\n",
       "        document.head.appendChild(font);\n",
       "    }\n",
       "    </script>\n",
       "    <openeo-collection>\n",
       "        <script type=\"application/json\">{\"mapOptions\": {}, \"data\": {\"assets\": {\"thumbnail\": {\"href\": \"https://www.esa.int/var/esa/storage/images/esa_multimedia/images/2022/07/tallinn_estonia/24383281-1-eng-GB/Tallinn_Estonia_pillars.jpg\", \"roles\": [\"thumbnail\"], \"title\": \"Sentinel 2 L2A\", \"type\": \"image/png\"}}, \"cube:dimensions\": {\"bands\": {\"type\": \"bands\", \"values\": [\"B01\", \"B02\", \"B03\", \"B04\", \"B05\", \"B06\", \"B07\", \"B08\", \"B8A\", \"B09\", \"B11\", \"B12\", \"WVP\", \"AOT\", \"SCL\", \"sunAzimuthAngles\", \"sunZenithAngles\", \"viewAzimuthMean\", \"viewZenithMean\"]}, \"t\": {\"extent\": [\"2015-07-04T00:00:00Z\", null], \"type\": \"temporal\"}, \"x\": {\"axis\": \"x\", \"extent\": [-180, 180], \"reference_system\": {\"$schema\": \"https://proj.org/schemas/v0.2/projjson.schema.json\", \"area\": \"World\", \"bbox\": {\"east_longitude\": 180, \"north_latitude\": 90, \"south_latitude\": -90, \"west_longitude\": -180}, \"coordinate_system\": {\"axis\": [{\"abbreviation\": \"Lat\", \"direction\": \"north\", \"name\": \"Geodetic latitude\", \"unit\": \"degree\"}, {\"abbreviation\": \"Lon\", \"direction\": \"east\", \"name\": \"Geodetic longitude\", \"unit\": \"degree\"}], \"subtype\": \"ellipsoidal\"}, \"datum\": {\"ellipsoid\": {\"inverse_flattening\": 298.257223563, \"name\": \"WGS 84\", \"semi_major_axis\": 6378137}, \"name\": \"World Geodetic System 1984\", \"type\": \"GeodeticReferenceFrame\"}, \"id\": {\"authority\": \"OGC\", \"code\": \"Auto42001\", \"version\": \"1.3\"}, \"name\": \"AUTO 42001 (Universal Transverse Mercator)\", \"type\": \"GeodeticCRS\"}, \"step\": 10, \"type\": \"spatial\"}, \"y\": {\"axis\": \"y\", \"extent\": [-56, 83], \"reference_system\": {\"$schema\": \"https://proj.org/schemas/v0.2/projjson.schema.json\", \"area\": \"World\", \"bbox\": {\"east_longitude\": 180, \"north_latitude\": 90, \"south_latitude\": -90, \"west_longitude\": -180}, \"coordinate_system\": {\"axis\": [{\"abbreviation\": \"Lat\", \"direction\": \"north\", \"name\": \"Geodetic latitude\", \"unit\": \"degree\"}, {\"abbreviation\": \"Lon\", \"direction\": \"east\", \"name\": \"Geodetic longitude\", \"unit\": \"degree\"}], \"subtype\": \"ellipsoidal\"}, \"datum\": {\"ellipsoid\": {\"inverse_flattening\": 298.257223563, \"name\": \"WGS 84\", \"semi_major_axis\": 6378137}, \"name\": \"World Geodetic System 1984\", \"type\": \"GeodeticReferenceFrame\"}, \"id\": {\"authority\": \"OGC\", \"code\": \"Auto42001\", \"version\": \"1.3\"}, \"name\": \"AUTO 42001 (Universal Transverse Mercator)\", \"type\": \"GeodeticCRS\"}, \"step\": 10, \"type\": \"spatial\"}}, \"description\": \"SENTINEL-2 is a wide-swath, high-resolution, multi-spectral imaging mission, supporting Copernicus Land Monitoring studies, including the monitoring of vegetation, soil and water cover, as well as observation of inland waterways and coastal areas. The SENTINEL-2 Multispectral Instrument (MSI) samples 13 spectral bands: four bands at 10 metres, six bands at 20 metres and three bands at 60 metres spatial resolution.\\n The level 2A data is atmospherically corrected using Sen2Cor.\", \"extent\": {\"spatial\": {\"bbox\": [[-180, -56, 180, 83]]}, \"temporal\": {\"interval\": [[\"2015-07-04T00:00:00Z\", null]]}}, \"id\": \"SENTINEL2_L2A\", \"keywords\": [\"COPERNICUS\", \"ESA\", \"Orthoimagery\", \"Sentinel-2\", \"MSI\", \"Level-2A\", \"Radiometry\", \"Plant Resource\", \"TOC\"], \"license\": \"proprietary\", \"links\": [{\"href\": \"https://sentinels.copernicus.eu/documents/247904/690755/Sentinel_Data_Legal_Notice\", \"rel\": \"license\", \"type\": \"application/pdf\"}, {\"href\": \"https://documentation.dataspace.copernicus.eu/Data/Sentinel2.html\", \"rel\": \"alternate\", \"type\": \"application/html\"}, {\"href\": \"https://dataspace.copernicus.eu/browser/?zoom=11&lat=45.36638&lng=12.49832&themeId=DEFAULT-THEME&visualizationUrl=https%3A%2F%2Fsh.dataspace.copernicus.eu%2Fogc%2Fwms%2F28b654e7-8912-4e59-9e58-85b58d768b3a&datasetId=S2_L2A_CDAS&fromTime=2023-02-07T00%3A00%3A00.000Z&toTime=2023-02-07T23%3A59%3A59.999Z&layerId=1_TRUE_COLOR&demSource3D=%22MAPZEN%22&cloudCoverage=10\", \"rel\": \"browser\", \"title\": \"CDSE Data-Browser\"}, {\"href\": \"https://catalogue.dataspace.copernicus.eu/resto/api/collections/Sentinel2/search.json?cloudCover=[0,10]&productType=S2MSI2A&startDate=2022-06-11&completionDate=2022-06-22&maxRecords=10\", \"rel\": \"opensearch\", \"title\": \"Opensearch product query\"}, {\"href\": \"https://sentinels.copernicus.eu/web/sentinel/user-guides/sentinel-2-msi/product-types/level-2a\", \"rel\": \"about\", \"title\": \"User guide\"}, {\"href\": \"https://services.sentinel-hub.com/ogc/wmts/7d34803f-511c-4caf-9438-6d72f32c8174\", \"rel\": \"wmts\", \"title\": \"Web Map Tile Service\", \"wmts:dimensions\": {\"warnings\": true}, \"wmts:layer\": \"TRUE-COLOR\"}], \"mission\": \"Sentinel-2\", \"name\": \"SENTINEL2_L2A\", \"providers\": [{\"name\": \"ESA\", \"roles\": [\"producer\"], \"url\": \"https://esa.int/\"}, {\"name\": \"CDSE\", \"roles\": [\"processor\", \"host\"], \"url\": \"https://dataspace.copernicus.eu/\"}], \"stac_extensions\": [\"https://stac-extensions.github.io/datacube/v2.2.0/schema.json\", \"https://stac-extensions.github.io/eo/v1.1.0/schema.json\"], \"stac_version\": \"0.9.0\", \"summaries\": {\"constellation\": [\"sentinel-2\"], \"eo:bands\": [{\"aliases\": [\"IMG_DATA_Band_B01_60m_Tile1_Data\"], \"center_wavelength\": 0.4427, \"common_name\": \"coastal\", \"full_width_half_max\": 0.021, \"gsd\": 60, \"name\": \"B01\", \"offset\": 0, \"scale\": 0.0001, \"type\": \"int16\", \"unit\": \"1\"}, {\"aliases\": [\"IMG_DATA_Band_B02_10m_Tile1_Data\"], \"center_wavelength\": 0.4924, \"common_name\": \"blue\", \"full_width_half_max\": 0.066, \"gsd\": 10, \"name\": \"B02\", \"offset\": 0, \"scale\": 0.0001, \"type\": \"int16\", \"unit\": \"1\"}, {\"aliases\": [\"IMG_DATA_Band_B03_10m_Tile1_Data\"], \"center_wavelength\": 0.5598, \"common_name\": \"green\", \"full_width_half_max\": 0.036, \"gsd\": 10, \"name\": \"B03\", \"offset\": 0, \"scale\": 0.0001, \"type\": \"int16\", \"unit\": \"1\"}, {\"aliases\": [\"IMG_DATA_Band_B04_10m_Tile1_Data\"], \"center_wavelength\": 0.6646, \"common_name\": \"red\", \"full_width_half_max\": 0.031, \"gsd\": 10, \"name\": \"B04\", \"offset\": 0, \"scale\": 0.0001, \"type\": \"int16\", \"unit\": \"1\"}, {\"aliases\": [\"IMG_DATA_Band_B05_20m_Tile1_Data\"], \"center_wavelength\": 0.7041, \"full_width_half_max\": 0.015, \"gsd\": 20, \"name\": \"B05\", \"offset\": 0, \"scale\": 0.0001, \"type\": \"int16\", \"unit\": \"1\"}, {\"aliases\": [\"IMG_DATA_Band_B06_20m_Tile1_Data\"], \"center_wavelength\": 0.7405, \"full_width_half_max\": 0.015, \"gsd\": 20, \"name\": \"B06\", \"offset\": 0, \"scale\": 0.0001, \"type\": \"int16\", \"unit\": \"1\"}, {\"aliases\": [\"IMG_DATA_Band_B07_20m_Tile1_Data\"], \"center_wavelength\": 0.7828, \"full_width_half_max\": 0.02, \"gsd\": 20, \"name\": \"B07\", \"offset\": 0, \"scale\": 0.0001, \"type\": \"int16\", \"unit\": \"1\"}, {\"aliases\": [\"IMG_DATA_Band_B08_10m_Tile1_Data\"], \"center_wavelength\": 0.8328, \"common_name\": \"nir\", \"full_width_half_max\": 0.106, \"gsd\": 10, \"name\": \"B08\", \"offset\": 0, \"scale\": 0.0001, \"type\": \"int16\", \"unit\": \"1\"}, {\"aliases\": [\"IMG_DATA_Band_B8A_20m_Tile1_Data\"], \"center_wavelength\": 0.8647, \"common_name\": \"nir08\", \"full_width_half_max\": 0.021, \"gsd\": 20, \"name\": \"B8A\", \"offset\": 0, \"scale\": 0.0001, \"type\": \"int16\", \"unit\": \"1\"}, {\"aliases\": [\"IMG_DATA_Band_B09_60m_Tile1_Data\"], \"center_wavelength\": 0.9451, \"common_name\": \"nir09\", \"full_width_half_max\": 0.02, \"gsd\": 60, \"name\": \"B09\", \"offset\": 0, \"scale\": 0.0001, \"type\": \"int16\", \"unit\": \"1\"}, {\"aliases\": [\"IMG_DATA_Band_B11_20m_Tile1_Data\"], \"center_wavelength\": 1.6137, \"common_name\": \"swir16\", \"full_width_half_max\": 0.091, \"gsd\": 20, \"name\": \"B11\", \"offset\": 0, \"scale\": 0.0001, \"type\": \"int16\", \"unit\": \"1\"}, {\"aliases\": [\"IMG_DATA_Band_B12_20m_Tile1_Data\"], \"center_wavelength\": 2.2024, \"common_name\": \"swir22\", \"full_width_half_max\": 0.175, \"gsd\": 20, \"name\": \"B12\", \"offset\": 0, \"scale\": 0.0001, \"type\": \"int16\", \"unit\": \"1\"}, {\"aliases\": [\"IMG_DATA_Band_WVP_10m_Tile1_Data\"], \"name\": \"WVP\"}, {\"aliases\": [\"IMG_DATA_Band_AOT_20m_Tile1_Data\"], \"name\": \"AOT\"}, {\"aliases\": [\"IMG_DATA_Band_SCL_20m_Tile1_Data\"], \"name\": \"SCL\"}, {\"aliases\": [\"S2_Level-2A_Tile1_Metadata##0\", \"SAA\"], \"name\": \"sunAzimuthAngles\", \"unit\": \"deg\"}, {\"aliases\": [\"S2_Level-2A_Tile1_Metadata##1\", \"SZA\"], \"name\": \"sunZenithAngles\", \"unit\": \"deg\"}, {\"aliases\": [\"S2_Level-2A_Tile1_Metadata##2\", \"VAA\", \"approximateViewAzimuth\"], \"name\": \"viewAzimuthMean\", \"unit\": \"deg\"}, {\"aliases\": [\"S2_Level-2A_Tile1_Metadata##3\", \"VZA\", \"approximateViewZenith\"], \"name\": \"viewZenithMean\", \"unit\": \"deg\"}], \"eo:cloud_cover\": {\"maximum\": 100, \"minimum\": 0}, \"gsd\": [10], \"instrument\": [\"msi\"], \"platform\": [\"sentinel-2a\", \"sentinel-2b\"]}, \"title\": \"Sentinel-2 L2A\"}}</script>\n",
       "    </openeo-collection>\n",
       "    "
      ],
      "text/plain": [
       "{'assets': {'thumbnail': {'href': 'https://www.esa.int/var/esa/storage/images/esa_multimedia/images/2022/07/tallinn_estonia/24383281-1-eng-GB/Tallinn_Estonia_pillars.jpg',\n",
       "   'roles': ['thumbnail'],\n",
       "   'title': 'Sentinel 2 L2A',\n",
       "   'type': 'image/png'}},\n",
       " 'cube:dimensions': {'bands': {'type': 'bands',\n",
       "   'values': ['B01',\n",
       "    'B02',\n",
       "    'B03',\n",
       "    'B04',\n",
       "    'B05',\n",
       "    'B06',\n",
       "    'B07',\n",
       "    'B08',\n",
       "    'B8A',\n",
       "    'B09',\n",
       "    'B11',\n",
       "    'B12',\n",
       "    'WVP',\n",
       "    'AOT',\n",
       "    'SCL',\n",
       "    'sunAzimuthAngles',\n",
       "    'sunZenithAngles',\n",
       "    'viewAzimuthMean',\n",
       "    'viewZenithMean']},\n",
       "  't': {'extent': ['2015-07-04T00:00:00Z', None], 'type': 'temporal'},\n",
       "  'x': {'axis': 'x',\n",
       "   'extent': [-180, 180],\n",
       "   'reference_system': {'$schema': 'https://proj.org/schemas/v0.2/projjson.schema.json',\n",
       "    'area': 'World',\n",
       "    'bbox': {'east_longitude': 180,\n",
       "     'north_latitude': 90,\n",
       "     'south_latitude': -90,\n",
       "     'west_longitude': -180},\n",
       "    'coordinate_system': {'axis': [{'abbreviation': 'Lat',\n",
       "       'direction': 'north',\n",
       "       'name': 'Geodetic latitude',\n",
       "       'unit': 'degree'},\n",
       "      {'abbreviation': 'Lon',\n",
       "       'direction': 'east',\n",
       "       'name': 'Geodetic longitude',\n",
       "       'unit': 'degree'}],\n",
       "     'subtype': 'ellipsoidal'},\n",
       "    'datum': {'ellipsoid': {'inverse_flattening': 298.257223563,\n",
       "      'name': 'WGS 84',\n",
       "      'semi_major_axis': 6378137},\n",
       "     'name': 'World Geodetic System 1984',\n",
       "     'type': 'GeodeticReferenceFrame'},\n",
       "    'id': {'authority': 'OGC', 'code': 'Auto42001', 'version': '1.3'},\n",
       "    'name': 'AUTO 42001 (Universal Transverse Mercator)',\n",
       "    'type': 'GeodeticCRS'},\n",
       "   'step': 10,\n",
       "   'type': 'spatial'},\n",
       "  'y': {'axis': 'y',\n",
       "   'extent': [-56, 83],\n",
       "   'reference_system': {'$schema': 'https://proj.org/schemas/v0.2/projjson.schema.json',\n",
       "    'area': 'World',\n",
       "    'bbox': {'east_longitude': 180,\n",
       "     'north_latitude': 90,\n",
       "     'south_latitude': -90,\n",
       "     'west_longitude': -180},\n",
       "    'coordinate_system': {'axis': [{'abbreviation': 'Lat',\n",
       "       'direction': 'north',\n",
       "       'name': 'Geodetic latitude',\n",
       "       'unit': 'degree'},\n",
       "      {'abbreviation': 'Lon',\n",
       "       'direction': 'east',\n",
       "       'name': 'Geodetic longitude',\n",
       "       'unit': 'degree'}],\n",
       "     'subtype': 'ellipsoidal'},\n",
       "    'datum': {'ellipsoid': {'inverse_flattening': 298.257223563,\n",
       "      'name': 'WGS 84',\n",
       "      'semi_major_axis': 6378137},\n",
       "     'name': 'World Geodetic System 1984',\n",
       "     'type': 'GeodeticReferenceFrame'},\n",
       "    'id': {'authority': 'OGC', 'code': 'Auto42001', 'version': '1.3'},\n",
       "    'name': 'AUTO 42001 (Universal Transverse Mercator)',\n",
       "    'type': 'GeodeticCRS'},\n",
       "   'step': 10,\n",
       "   'type': 'spatial'}},\n",
       " 'description': 'SENTINEL-2 is a wide-swath, high-resolution, multi-spectral imaging mission, supporting Copernicus Land Monitoring studies, including the monitoring of vegetation, soil and water cover, as well as observation of inland waterways and coastal areas. The SENTINEL-2 Multispectral Instrument (MSI) samples 13 spectral bands: four bands at 10 metres, six bands at 20 metres and three bands at 60 metres spatial resolution.\\n The level 2A data is atmospherically corrected using Sen2Cor.',\n",
       " 'extent': {'spatial': {'bbox': [[-180, -56, 180, 83]]},\n",
       "  'temporal': {'interval': [['2015-07-04T00:00:00Z', None]]}},\n",
       " 'id': 'SENTINEL2_L2A',\n",
       " 'keywords': ['COPERNICUS',\n",
       "  'ESA',\n",
       "  'Orthoimagery',\n",
       "  'Sentinel-2',\n",
       "  'MSI',\n",
       "  'Level-2A',\n",
       "  'Radiometry',\n",
       "  'Plant Resource',\n",
       "  'TOC'],\n",
       " 'license': 'proprietary',\n",
       " 'links': [{'href': 'https://sentinels.copernicus.eu/documents/247904/690755/Sentinel_Data_Legal_Notice',\n",
       "   'rel': 'license',\n",
       "   'type': 'application/pdf'},\n",
       "  {'href': 'https://documentation.dataspace.copernicus.eu/Data/Sentinel2.html',\n",
       "   'rel': 'alternate',\n",
       "   'type': 'application/html'},\n",
       "  {'href': 'https://dataspace.copernicus.eu/browser/?zoom=11&lat=45.36638&lng=12.49832&themeId=DEFAULT-THEME&visualizationUrl=https%3A%2F%2Fsh.dataspace.copernicus.eu%2Fogc%2Fwms%2F28b654e7-8912-4e59-9e58-85b58d768b3a&datasetId=S2_L2A_CDAS&fromTime=2023-02-07T00%3A00%3A00.000Z&toTime=2023-02-07T23%3A59%3A59.999Z&layerId=1_TRUE_COLOR&demSource3D=%22MAPZEN%22&cloudCoverage=10',\n",
       "   'rel': 'browser',\n",
       "   'title': 'CDSE Data-Browser'},\n",
       "  {'href': 'https://catalogue.dataspace.copernicus.eu/resto/api/collections/Sentinel2/search.json?cloudCover=[0,10]&productType=S2MSI2A&startDate=2022-06-11&completionDate=2022-06-22&maxRecords=10',\n",
       "   'rel': 'opensearch',\n",
       "   'title': 'Opensearch product query'},\n",
       "  {'href': 'https://sentinels.copernicus.eu/web/sentinel/user-guides/sentinel-2-msi/product-types/level-2a',\n",
       "   'rel': 'about',\n",
       "   'title': 'User guide'},\n",
       "  {'href': 'https://services.sentinel-hub.com/ogc/wmts/7d34803f-511c-4caf-9438-6d72f32c8174',\n",
       "   'rel': 'wmts',\n",
       "   'title': 'Web Map Tile Service',\n",
       "   'wmts:dimensions': {'warnings': True},\n",
       "   'wmts:layer': 'TRUE-COLOR'}],\n",
       " 'mission': 'Sentinel-2',\n",
       " 'name': 'SENTINEL2_L2A',\n",
       " 'providers': [{'name': 'ESA',\n",
       "   'roles': ['producer'],\n",
       "   'url': 'https://esa.int/'},\n",
       "  {'name': 'CDSE',\n",
       "   'roles': ['processor', 'host'],\n",
       "   'url': 'https://dataspace.copernicus.eu/'}],\n",
       " 'stac_extensions': ['https://stac-extensions.github.io/datacube/v2.2.0/schema.json',\n",
       "  'https://stac-extensions.github.io/eo/v1.1.0/schema.json'],\n",
       " 'stac_version': '0.9.0',\n",
       " 'summaries': {'constellation': ['sentinel-2'],\n",
       "  'eo:bands': [{'aliases': ['IMG_DATA_Band_B01_60m_Tile1_Data'],\n",
       "    'center_wavelength': 0.4427,\n",
       "    'common_name': 'coastal',\n",
       "    'full_width_half_max': 0.021,\n",
       "    'gsd': 60,\n",
       "    'name': 'B01',\n",
       "    'offset': 0,\n",
       "    'scale': 0.0001,\n",
       "    'type': 'int16',\n",
       "    'unit': '1'},\n",
       "   {'aliases': ['IMG_DATA_Band_B02_10m_Tile1_Data'],\n",
       "    'center_wavelength': 0.4924,\n",
       "    'common_name': 'blue',\n",
       "    'full_width_half_max': 0.066,\n",
       "    'gsd': 10,\n",
       "    'name': 'B02',\n",
       "    'offset': 0,\n",
       "    'scale': 0.0001,\n",
       "    'type': 'int16',\n",
       "    'unit': '1'},\n",
       "   {'aliases': ['IMG_DATA_Band_B03_10m_Tile1_Data'],\n",
       "    'center_wavelength': 0.5598,\n",
       "    'common_name': 'green',\n",
       "    'full_width_half_max': 0.036,\n",
       "    'gsd': 10,\n",
       "    'name': 'B03',\n",
       "    'offset': 0,\n",
       "    'scale': 0.0001,\n",
       "    'type': 'int16',\n",
       "    'unit': '1'},\n",
       "   {'aliases': ['IMG_DATA_Band_B04_10m_Tile1_Data'],\n",
       "    'center_wavelength': 0.6646,\n",
       "    'common_name': 'red',\n",
       "    'full_width_half_max': 0.031,\n",
       "    'gsd': 10,\n",
       "    'name': 'B04',\n",
       "    'offset': 0,\n",
       "    'scale': 0.0001,\n",
       "    'type': 'int16',\n",
       "    'unit': '1'},\n",
       "   {'aliases': ['IMG_DATA_Band_B05_20m_Tile1_Data'],\n",
       "    'center_wavelength': 0.7041,\n",
       "    'full_width_half_max': 0.015,\n",
       "    'gsd': 20,\n",
       "    'name': 'B05',\n",
       "    'offset': 0,\n",
       "    'scale': 0.0001,\n",
       "    'type': 'int16',\n",
       "    'unit': '1'},\n",
       "   {'aliases': ['IMG_DATA_Band_B06_20m_Tile1_Data'],\n",
       "    'center_wavelength': 0.7405,\n",
       "    'full_width_half_max': 0.015,\n",
       "    'gsd': 20,\n",
       "    'name': 'B06',\n",
       "    'offset': 0,\n",
       "    'scale': 0.0001,\n",
       "    'type': 'int16',\n",
       "    'unit': '1'},\n",
       "   {'aliases': ['IMG_DATA_Band_B07_20m_Tile1_Data'],\n",
       "    'center_wavelength': 0.7828,\n",
       "    'full_width_half_max': 0.02,\n",
       "    'gsd': 20,\n",
       "    'name': 'B07',\n",
       "    'offset': 0,\n",
       "    'scale': 0.0001,\n",
       "    'type': 'int16',\n",
       "    'unit': '1'},\n",
       "   {'aliases': ['IMG_DATA_Band_B08_10m_Tile1_Data'],\n",
       "    'center_wavelength': 0.8328,\n",
       "    'common_name': 'nir',\n",
       "    'full_width_half_max': 0.106,\n",
       "    'gsd': 10,\n",
       "    'name': 'B08',\n",
       "    'offset': 0,\n",
       "    'scale': 0.0001,\n",
       "    'type': 'int16',\n",
       "    'unit': '1'},\n",
       "   {'aliases': ['IMG_DATA_Band_B8A_20m_Tile1_Data'],\n",
       "    'center_wavelength': 0.8647,\n",
       "    'common_name': 'nir08',\n",
       "    'full_width_half_max': 0.021,\n",
       "    'gsd': 20,\n",
       "    'name': 'B8A',\n",
       "    'offset': 0,\n",
       "    'scale': 0.0001,\n",
       "    'type': 'int16',\n",
       "    'unit': '1'},\n",
       "   {'aliases': ['IMG_DATA_Band_B09_60m_Tile1_Data'],\n",
       "    'center_wavelength': 0.9451,\n",
       "    'common_name': 'nir09',\n",
       "    'full_width_half_max': 0.02,\n",
       "    'gsd': 60,\n",
       "    'name': 'B09',\n",
       "    'offset': 0,\n",
       "    'scale': 0.0001,\n",
       "    'type': 'int16',\n",
       "    'unit': '1'},\n",
       "   {'aliases': ['IMG_DATA_Band_B11_20m_Tile1_Data'],\n",
       "    'center_wavelength': 1.6137,\n",
       "    'common_name': 'swir16',\n",
       "    'full_width_half_max': 0.091,\n",
       "    'gsd': 20,\n",
       "    'name': 'B11',\n",
       "    'offset': 0,\n",
       "    'scale': 0.0001,\n",
       "    'type': 'int16',\n",
       "    'unit': '1'},\n",
       "   {'aliases': ['IMG_DATA_Band_B12_20m_Tile1_Data'],\n",
       "    'center_wavelength': 2.2024,\n",
       "    'common_name': 'swir22',\n",
       "    'full_width_half_max': 0.175,\n",
       "    'gsd': 20,\n",
       "    'name': 'B12',\n",
       "    'offset': 0,\n",
       "    'scale': 0.0001,\n",
       "    'type': 'int16',\n",
       "    'unit': '1'},\n",
       "   {'aliases': ['IMG_DATA_Band_WVP_10m_Tile1_Data'], 'name': 'WVP'},\n",
       "   {'aliases': ['IMG_DATA_Band_AOT_20m_Tile1_Data'], 'name': 'AOT'},\n",
       "   {'aliases': ['IMG_DATA_Band_SCL_20m_Tile1_Data'], 'name': 'SCL'},\n",
       "   {'aliases': ['S2_Level-2A_Tile1_Metadata##0', 'SAA'],\n",
       "    'name': 'sunAzimuthAngles',\n",
       "    'unit': 'deg'},\n",
       "   {'aliases': ['S2_Level-2A_Tile1_Metadata##1', 'SZA'],\n",
       "    'name': 'sunZenithAngles',\n",
       "    'unit': 'deg'},\n",
       "   {'aliases': ['S2_Level-2A_Tile1_Metadata##2',\n",
       "     'VAA',\n",
       "     'approximateViewAzimuth'],\n",
       "    'name': 'viewAzimuthMean',\n",
       "    'unit': 'deg'},\n",
       "   {'aliases': ['S2_Level-2A_Tile1_Metadata##3',\n",
       "     'VZA',\n",
       "     'approximateViewZenith'],\n",
       "    'name': 'viewZenithMean',\n",
       "    'unit': 'deg'}],\n",
       "  'eo:cloud_cover': {'maximum': 100, 'minimum': 0},\n",
       "  'gsd': [10],\n",
       "  'instrument': ['msi'],\n",
       "  'platform': ['sentinel-2a', 'sentinel-2b']},\n",
       " 'title': 'Sentinel-2 L2A'}"
      ]
     },
     "execution_count": 6,
     "metadata": {},
     "output_type": "execute_result"
    }
   ],
   "source": [
    "conn.describe_collection(\"SENTINEL2_L2A\")"
   ]
  },
  {
   "cell_type": "markdown",
   "id": "ed91226f-a9ea-45d5-9663-98ed56fb067f",
   "metadata": {},
   "source": [
    "## Define a workflow\n",
    "We will define our workflow now. And chain all the processes together we need for analyzing the snow cover in the catchment."
   ]
  },
  {
   "cell_type": "markdown",
   "id": "f786a79c-897d-4858-83c0-af9d4c4efede",
   "metadata": {},
   "source": [
    "### Define the data cube\n",
    "We define all extents of our data cube. We use the catchment as spatial extent. As a time range we will focus on the snow melting season 2018, in particular from Febraury to June 2018."
   ]
  },
  {
   "cell_type": "code",
   "execution_count": 7,
   "id": "139b411c-b401-4af8-9f7a-d046e24e00e1",
   "metadata": {},
   "outputs": [
    {
     "data": {
      "text/plain": [
       "minx    11.020833\n",
       "miny    46.653599\n",
       "maxx    11.366667\n",
       "maxy    46.954167\n",
       "Name: 0, dtype: float64"
      ]
     },
     "execution_count": 7,
     "metadata": {},
     "output_type": "execute_result"
    }
   ],
   "source": [
    "bbox = catchment_outline.bounds.iloc[0]\n",
    "bbox"
   ]
  },
  {
   "cell_type": "code",
   "execution_count": 8,
   "id": "2a136b78-6eba-42df-a71b-f1b86c4a27ea",
   "metadata": {},
   "outputs": [],
   "source": [
    "collection      = 'SENTINEL2_L2A'\n",
    "spatial_extent  = {'west':bbox[0],'east':bbox[2],'south':bbox[1],'north':bbox[3],'crs':4326}\n",
    "# temporal_extent = [\"2018-02-01\", \"2018-06-30\"]\n",
    "temporal_extent = ['2018-02-10', '2018-02-13']\n",
    "bands           = ['B03', 'B11', 'SCL'] # ['B02', 'B03', 'B04', 'CLM']"
   ]
  },
  {
   "cell_type": "markdown",
   "id": "450db68c-ffdc-4037-9885-045afec86637",
   "metadata": {
    "tags": []
   },
   "source": [
    "### Load the data cube\n",
    "We have defined the extents we are interested in. Now we use these definitions to load the data cube."
   ]
  },
  {
   "cell_type": "code",
   "execution_count": 13,
   "id": "7d89755c-ef86-464f-a5e0-187bd44dfd53",
   "metadata": {},
   "outputs": [
    {
     "data": {
      "text/html": [
       "\n",
       "    <script>\n",
       "    if (!window.customElements || !window.customElements.get('openeo-model-builder')) {\n",
       "        var el = document.createElement('script');\n",
       "        el.src = \"https://cdn.jsdelivr.net/npm/@openeo/vue-components@2/assets/openeo.min.js\";\n",
       "        document.head.appendChild(el);\n",
       "\n",
       "        var font = document.createElement('font');\n",
       "        font.as = \"font\";\n",
       "        font.type = \"font/woff2\";\n",
       "        font.crossOrigin = true;\n",
       "        font.href = \"https://use.fontawesome.com/releases/v5.13.0/webfonts/fa-solid-900.woff2\"\n",
       "        document.head.appendChild(font);\n",
       "    }\n",
       "    </script>\n",
       "    <openeo-model-builder>\n",
       "        <script type=\"application/json\">{\"id\": \"4367539f53d34576930b7e7d96f7e318\", \"explicit-zoom\": true, \"height\": \"400px\", \"value\": {\"process_graph\": {\"loadcollection1\": {\"process_id\": \"load_collection\", \"arguments\": {\"bands\": [\"B03\", \"B11\", \"SCL\"], \"id\": \"SENTINEL2_L2A\", \"spatial_extent\": {\"west\": 11.020833333333357, \"east\": 11.366666666666694, \"south\": 46.653599378797765, \"north\": 46.954166666666694, \"crs\": 4326}, \"temporal_extent\": [\"2018-02-10\", \"2018-02-13\"]}, \"result\": true}}}}</script>\n",
       "    </openeo-model-builder>\n",
       "    "
      ],
      "text/plain": [
       "<openeo.rest.datacube.DataCube at 0x1e25c1d8070>"
      ]
     },
     "execution_count": 13,
     "metadata": {},
     "output_type": "execute_result"
    }
   ],
   "source": [
    "s2 = conn.load_collection(collection,\n",
    "                          spatial_extent=spatial_extent, # put json here\n",
    "                          bands=bands,\n",
    "                          temporal_extent=temporal_extent)\n",
    "s2"
   ]
  },
  {
   "cell_type": "markdown",
   "id": "f93a67e6-6746-4de7-9142-635eee9a1196",
   "metadata": {},
   "source": [
    "### NDSI - Normalized Difference Snow Index\n",
    "The Normalized Difference Snow Index (NDSI) is computed as:\n",
    "\n",
    "$$ NDSI = \\frac {GREEN - SWIR} {GREEN +SWIR} $$\n",
    "\n",
    "We have created a Sentinel-2 data cube with bands B03 (green), B11 (SWIR) and the cloud mask (CLM). We will use the green and SWIR band to calculate a the NDSI. This process is reducing the band dimension of the data cube to generate new information, the NDSI."
   ]
  },
  {
   "cell_type": "code",
   "execution_count": 15,
   "id": "26cd85ae-fddf-42c5-975a-1e911420e063",
   "metadata": {},
   "outputs": [
    {
     "data": {
      "text/html": [
       "\n",
       "    <script>\n",
       "    if (!window.customElements || !window.customElements.get('openeo-model-builder')) {\n",
       "        var el = document.createElement('script');\n",
       "        el.src = \"https://cdn.jsdelivr.net/npm/@openeo/vue-components@2/assets/openeo.min.js\";\n",
       "        document.head.appendChild(el);\n",
       "\n",
       "        var font = document.createElement('font');\n",
       "        font.as = \"font\";\n",
       "        font.type = \"font/woff2\";\n",
       "        font.crossOrigin = true;\n",
       "        font.href = \"https://use.fontawesome.com/releases/v5.13.0/webfonts/fa-solid-900.woff2\"\n",
       "        document.head.appendChild(font);\n",
       "    }\n",
       "    </script>\n",
       "    <openeo-model-builder>\n",
       "        <script type=\"application/json\">{\"id\": \"4102de5e8fa042288bba69f16d1756ce\", \"explicit-zoom\": true, \"height\": \"400px\", \"value\": {\"process_graph\": {\"loadcollection1\": {\"process_id\": \"load_collection\", \"arguments\": {\"bands\": [\"B03\", \"B11\", \"SCL\"], \"id\": \"SENTINEL2_L2A\", \"spatial_extent\": {\"west\": 11.020833333333357, \"east\": 11.366666666666694, \"south\": 46.653599378797765, \"north\": 46.954166666666694, \"crs\": 4326}, \"temporal_extent\": [\"2018-02-10\", \"2018-02-13\"]}}, \"reducedimension1\": {\"process_id\": \"reduce_dimension\", \"arguments\": {\"data\": {\"from_node\": \"loadcollection1\"}, \"dimension\": \"bands\", \"reducer\": {\"process_graph\": {\"arrayelement1\": {\"process_id\": \"array_element\", \"arguments\": {\"data\": {\"from_parameter\": \"data\"}, \"index\": 0}}, \"arrayelement2\": {\"process_id\": \"array_element\", \"arguments\": {\"data\": {\"from_parameter\": \"data\"}, \"index\": 1}}, \"subtract1\": {\"process_id\": \"subtract\", \"arguments\": {\"x\": {\"from_node\": \"arrayelement1\"}, \"y\": {\"from_node\": \"arrayelement2\"}}}, \"add1\": {\"process_id\": \"add\", \"arguments\": {\"x\": {\"from_node\": \"arrayelement1\"}, \"y\": {\"from_node\": \"arrayelement2\"}}}, \"divide1\": {\"process_id\": \"divide\", \"arguments\": {\"x\": {\"from_node\": \"subtract1\"}, \"y\": {\"from_node\": \"add1\"}}, \"result\": true}}}}, \"result\": true}}}}</script>\n",
       "    </openeo-model-builder>\n",
       "    "
      ],
      "text/plain": [
       "<openeo.rest.datacube.DataCube at 0x1e25c9471f0>"
      ]
     },
     "execution_count": 15,
     "metadata": {},
     "output_type": "execute_result"
    }
   ],
   "source": [
    "green = s2.band(\"B03\")\n",
    "swir = s2.band(\"B11\")\n",
    "ndsi = (green - swir) / (green + swir)\n",
    "ndsi"
   ]
  },
  {
   "cell_type": "markdown",
   "id": "746ef0f4-9c9f-4884-8806-730d91261acb",
   "metadata": {},
   "source": [
    "### Creating the Snow Map\n",
    "So far we have a timeseries of NDSI values. We are intereseted in the presence of snow though. Ideally in a binary classification: snow and no snow.\n",
    "To achieve this we are setting a threshold of 0.4 on the NDSI. This gives us a binary snow map."
   ]
  },
  {
   "cell_type": "code",
   "execution_count": 26,
   "id": "591d44b1-20d1-447a-a956-291495f7a1c1",
   "metadata": {},
   "outputs": [
    {
     "data": {
      "text/html": [
       "\n",
       "    <script>\n",
       "    if (!window.customElements || !window.customElements.get('openeo-model-builder')) {\n",
       "        var el = document.createElement('script');\n",
       "        el.src = \"https://cdn.jsdelivr.net/npm/@openeo/vue-components@2/assets/openeo.min.js\";\n",
       "        document.head.appendChild(el);\n",
       "\n",
       "        var font = document.createElement('font');\n",
       "        font.as = \"font\";\n",
       "        font.type = \"font/woff2\";\n",
       "        font.crossOrigin = true;\n",
       "        font.href = \"https://use.fontawesome.com/releases/v5.13.0/webfonts/fa-solid-900.woff2\"\n",
       "        document.head.appendChild(font);\n",
       "    }\n",
       "    </script>\n",
       "    <openeo-model-builder>\n",
       "        <script type=\"application/json\">{\"id\": \"c69ac383a19c4480b809b5dd465e0f47\", \"explicit-zoom\": true, \"height\": \"400px\", \"value\": {\"process_graph\": {\"loadcollection1\": {\"process_id\": \"load_collection\", \"arguments\": {\"bands\": [\"B03\", \"B11\", \"SCL\"], \"id\": \"SENTINEL2_L2A\", \"spatial_extent\": {\"west\": 11.020833333333357, \"east\": 11.366666666666694, \"south\": 46.653599378797765, \"north\": 46.954166666666694, \"crs\": 4326}, \"temporal_extent\": [\"2018-02-10\", \"2018-02-13\"]}}, \"reducedimension1\": {\"process_id\": \"reduce_dimension\", \"arguments\": {\"data\": {\"from_node\": \"loadcollection1\"}, \"dimension\": \"bands\", \"reducer\": {\"process_graph\": {\"arrayelement1\": {\"process_id\": \"array_element\", \"arguments\": {\"data\": {\"from_parameter\": \"data\"}, \"index\": 0}}, \"arrayelement2\": {\"process_id\": \"array_element\", \"arguments\": {\"data\": {\"from_parameter\": \"data\"}, \"index\": 1}}, \"subtract1\": {\"process_id\": \"subtract\", \"arguments\": {\"x\": {\"from_node\": \"arrayelement1\"}, \"y\": {\"from_node\": \"arrayelement2\"}}}, \"add1\": {\"process_id\": \"add\", \"arguments\": {\"x\": {\"from_node\": \"arrayelement1\"}, \"y\": {\"from_node\": \"arrayelement2\"}}}, \"divide1\": {\"process_id\": \"divide\", \"arguments\": {\"x\": {\"from_node\": \"subtract1\"}, \"y\": {\"from_node\": \"add1\"}}}, \"gt1\": {\"process_id\": \"gt\", \"arguments\": {\"x\": {\"from_node\": \"divide1\"}, \"y\": 0.4}}, \"multiply1\": {\"process_id\": \"multiply\", \"arguments\": {\"x\": {\"from_node\": \"gt1\"}, \"y\": 1.0}, \"result\": true}}}}, \"result\": true}}}}</script>\n",
       "    </openeo-model-builder>\n",
       "    "
      ],
      "text/plain": [
       "<openeo.rest.datacube.DataCube at 0x1e25e750e50>"
      ]
     },
     "execution_count": 26,
     "metadata": {},
     "output_type": "execute_result"
    }
   ],
   "source": [
    "snowmap = ( ndsi > 0.4 ) * 1.0\n",
    "snowmap"
   ]
  },
  {
   "cell_type": "markdown",
   "id": "1b4ae963-05f1-48d0-937f-f162783f3fe3",
   "metadata": {},
   "source": [
    "### Creating a cloud mask\n",
    "We are going to use \"SCL\" band for creating a cloud mask and then applying it to the NDSI. Here is more information on the Scene Classification https://sentinels.copernicus.eu/web/sentinel/technical-guides/sentinel-2-msi/level-2a/algorithm-overview\n",
    "\n",
    "\n",
    "0\tNO_DAT; \r\n",
    "1\tSATURATED_OR_DEFECTI; E\r\n",
    "2\tCAST_SHAD; WS\r\n",
    "3\tCLOUD_SHA; OWS\r\n",
    "4\tVEGET; TION\r\n",
    "5\tNOT_VEG; TATED\r\n",
    "; \tWATER\r\n",
    "7\tUNCL; SSIFIED\r\n",
    "8\tCLOUD_MEDIUM_PR; BABILITY\r\n",
    "9\tCLOUD_HIGH_P; OBABILITY\r\n",
    "10\t; HIN_CIRRUS\r\n",
    "11\tSNOW or ICE"
   ]
  },
  {
   "cell_type": "code",
   "execution_count": 27,
   "id": "99556d13-fae5-4726-a656-979a1945e7c1",
   "metadata": {},
   "outputs": [
    {
     "data": {
      "text/html": [
       "\n",
       "    <script>\n",
       "    if (!window.customElements || !window.customElements.get('openeo-model-builder')) {\n",
       "        var el = document.createElement('script');\n",
       "        el.src = \"https://cdn.jsdelivr.net/npm/@openeo/vue-components@2/assets/openeo.min.js\";\n",
       "        document.head.appendChild(el);\n",
       "\n",
       "        var font = document.createElement('font');\n",
       "        font.as = \"font\";\n",
       "        font.type = \"font/woff2\";\n",
       "        font.crossOrigin = true;\n",
       "        font.href = \"https://use.fontawesome.com/releases/v5.13.0/webfonts/fa-solid-900.woff2\"\n",
       "        document.head.appendChild(font);\n",
       "    }\n",
       "    </script>\n",
       "    <openeo-model-builder>\n",
       "        <script type=\"application/json\">{\"id\": \"e82a1e45a0664b53aa1e6ed952fe3bc7\", \"explicit-zoom\": true, \"height\": \"400px\", \"value\": {\"process_graph\": {\"loadcollection1\": {\"process_id\": \"load_collection\", \"arguments\": {\"bands\": [\"B03\", \"B11\", \"SCL\"], \"id\": \"SENTINEL2_L2A\", \"spatial_extent\": {\"west\": 11.020833333333357, \"east\": 11.366666666666694, \"south\": 46.653599378797765, \"north\": 46.954166666666694, \"crs\": 4326}, \"temporal_extent\": [\"2018-02-10\", \"2018-02-13\"]}}, \"reducedimension1\": {\"process_id\": \"reduce_dimension\", \"arguments\": {\"data\": {\"from_node\": \"loadcollection1\"}, \"dimension\": \"bands\", \"reducer\": {\"process_graph\": {\"arrayelement1\": {\"process_id\": \"array_element\", \"arguments\": {\"data\": {\"from_parameter\": \"data\"}, \"index\": 2}}, \"eq1\": {\"process_id\": \"eq\", \"arguments\": {\"x\": {\"from_node\": \"arrayelement1\"}, \"y\": 8}}, \"eq2\": {\"process_id\": \"eq\", \"arguments\": {\"x\": {\"from_node\": \"arrayelement1\"}, \"y\": 9}}, \"or1\": {\"process_id\": \"or\", \"arguments\": {\"x\": {\"from_node\": \"eq1\"}, \"y\": {\"from_node\": \"eq2\"}}}, \"eq3\": {\"process_id\": \"eq\", \"arguments\": {\"x\": {\"from_node\": \"arrayelement1\"}, \"y\": 3}}, \"or2\": {\"process_id\": \"or\", \"arguments\": {\"x\": {\"from_node\": \"or1\"}, \"y\": {\"from_node\": \"eq3\"}}}, \"multiply1\": {\"process_id\": \"multiply\", \"arguments\": {\"x\": {\"from_node\": \"or2\"}, \"y\": 1.0}, \"result\": true}}}}, \"result\": true}}}}</script>\n",
       "    </openeo-model-builder>\n",
       "    "
      ],
      "text/plain": [
       "<openeo.rest.datacube.DataCube at 0x1e25ef7fd00>"
      ]
     },
     "execution_count": 27,
     "metadata": {},
     "output_type": "execute_result"
    }
   ],
   "source": [
    "scl_band = s2.band(\"SCL\")\n",
    "cloud_mask = ( (scl_band == 8) | (scl_band == 9) | (scl_band == 3) ) * 1.0\n",
    "cloud_mask"
   ]
  },
  {
   "cell_type": "markdown",
   "id": "8e7d0d18-2c39-4b4f-b493-d0370d7f1c92",
   "metadata": {},
   "source": [
    "### Applying the cloud mask to the snowmap\n",
    "We will mask out all pixels that are covered by clouds. This will result in: 0 = no_snow, 1 = snow, NA = cloud"
   ]
  },
  {
   "cell_type": "code",
   "execution_count": 28,
   "id": "8e188e75-57d6-4140-920d-937bea779934",
   "metadata": {},
   "outputs": [
    {
     "data": {
      "text/html": [
       "\n",
       "    <script>\n",
       "    if (!window.customElements || !window.customElements.get('openeo-model-builder')) {\n",
       "        var el = document.createElement('script');\n",
       "        el.src = \"https://cdn.jsdelivr.net/npm/@openeo/vue-components@2/assets/openeo.min.js\";\n",
       "        document.head.appendChild(el);\n",
       "\n",
       "        var font = document.createElement('font');\n",
       "        font.as = \"font\";\n",
       "        font.type = \"font/woff2\";\n",
       "        font.crossOrigin = true;\n",
       "        font.href = \"https://use.fontawesome.com/releases/v5.13.0/webfonts/fa-solid-900.woff2\"\n",
       "        document.head.appendChild(font);\n",
       "    }\n",
       "    </script>\n",
       "    <openeo-model-builder>\n",
       "        <script type=\"application/json\">{\"id\": \"feecfff57dab4028b0e0175521a71c08\", \"explicit-zoom\": true, \"height\": \"400px\", \"value\": {\"process_graph\": {\"loadcollection1\": {\"process_id\": \"load_collection\", \"arguments\": {\"bands\": [\"B03\", \"B11\", \"SCL\"], \"id\": \"SENTINEL2_L2A\", \"spatial_extent\": {\"west\": 11.020833333333357, \"east\": 11.366666666666694, \"south\": 46.653599378797765, \"north\": 46.954166666666694, \"crs\": 4326}, \"temporal_extent\": [\"2018-02-10\", \"2018-02-13\"]}}, \"reducedimension1\": {\"process_id\": \"reduce_dimension\", \"arguments\": {\"data\": {\"from_node\": \"loadcollection1\"}, \"dimension\": \"bands\", \"reducer\": {\"process_graph\": {\"arrayelement1\": {\"process_id\": \"array_element\", \"arguments\": {\"data\": {\"from_parameter\": \"data\"}, \"index\": 0}}, \"arrayelement2\": {\"process_id\": \"array_element\", \"arguments\": {\"data\": {\"from_parameter\": \"data\"}, \"index\": 1}}, \"subtract1\": {\"process_id\": \"subtract\", \"arguments\": {\"x\": {\"from_node\": \"arrayelement1\"}, \"y\": {\"from_node\": \"arrayelement2\"}}}, \"add1\": {\"process_id\": \"add\", \"arguments\": {\"x\": {\"from_node\": \"arrayelement1\"}, \"y\": {\"from_node\": \"arrayelement2\"}}}, \"divide1\": {\"process_id\": \"divide\", \"arguments\": {\"x\": {\"from_node\": \"subtract1\"}, \"y\": {\"from_node\": \"add1\"}}}, \"gt1\": {\"process_id\": \"gt\", \"arguments\": {\"x\": {\"from_node\": \"divide1\"}, \"y\": 0.4}}, \"multiply1\": {\"process_id\": \"multiply\", \"arguments\": {\"x\": {\"from_node\": \"gt1\"}, \"y\": 1.0}, \"result\": true}}}}}, \"reducedimension2\": {\"process_id\": \"reduce_dimension\", \"arguments\": {\"data\": {\"from_node\": \"loadcollection1\"}, \"dimension\": \"bands\", \"reducer\": {\"process_graph\": {\"arrayelement3\": {\"process_id\": \"array_element\", \"arguments\": {\"data\": {\"from_parameter\": \"data\"}, \"index\": 2}}, \"eq1\": {\"process_id\": \"eq\", \"arguments\": {\"x\": {\"from_node\": \"arrayelement3\"}, \"y\": 8}}, \"eq2\": {\"process_id\": \"eq\", \"arguments\": {\"x\": {\"from_node\": \"arrayelement3\"}, \"y\": 9}}, \"or1\": {\"process_id\": \"or\", \"arguments\": {\"x\": {\"from_node\": \"eq1\"}, \"y\": {\"from_node\": \"eq2\"}}}, \"eq3\": {\"process_id\": \"eq\", \"arguments\": {\"x\": {\"from_node\": \"arrayelement3\"}, \"y\": 3}}, \"or2\": {\"process_id\": \"or\", \"arguments\": {\"x\": {\"from_node\": \"or1\"}, \"y\": {\"from_node\": \"eq3\"}}}, \"multiply2\": {\"process_id\": \"multiply\", \"arguments\": {\"x\": {\"from_node\": \"or2\"}, \"y\": 1.0}, \"result\": true}}}}}, \"mask1\": {\"process_id\": \"mask\", \"arguments\": {\"data\": {\"from_node\": \"reducedimension1\"}, \"mask\": {\"from_node\": \"reducedimension2\"}, \"replacement\": 2}, \"result\": true}}}}</script>\n",
       "    </openeo-model-builder>\n",
       "    "
      ],
      "text/plain": [
       "<openeo.rest.datacube.DataCube at 0x1e25ef7fdc0>"
      ]
     },
     "execution_count": 28,
     "metadata": {},
     "output_type": "execute_result"
    }
   ],
   "source": [
    "snowmap_cloudfree = snowmap.mask(cloud_mask,replacement=2) # replacement is null by default\n",
    "snowmap_cloudfree"
   ]
  },
  {
   "cell_type": "markdown",
   "id": "61be5bad-fce6-46b3-85f3-cbfc15d309f0",
   "metadata": {},
   "source": [
    "### Filter Spatial: From Bounding Box to Shape"
   ]
  },
  {
   "cell_type": "code",
   "execution_count": 29,
   "id": "09b8c9ff-0f11-43ae-81c7-c323365fe3ac",
   "metadata": {},
   "outputs": [
    {
     "data": {
      "image/svg+xml": [
       "<svg xmlns=\"http://www.w3.org/2000/svg\" xmlns:xlink=\"http://www.w3.org/1999/xlink\" width=\"100.0\" height=\"100.0\" viewBox=\"11.007000000000023 46.639766045464434 0.37350000000000527 0.328233954535591\" preserveAspectRatio=\"xMinYMin meet\"><g transform=\"matrix(1,0,0,-1,0,93.60776604546446)\"><path fill-rule=\"evenodd\" fill=\"#66cc99\" stroke=\"#555555\" stroke-width=\"0.007470000000000105\" opacity=\"0.6\" d=\"M 11.075,46.72916666666669 L 11.072575547960094,46.728813340928845 L 11.069091118706622,46.72535332573787 L 11.048285590277802,46.724646674262175 L 11.042024739583358,46.73087632921009 L 11.041666666666691,46.733333333333356 L 11.038123575846377,46.73424241807728 L 11.0375,46.74583333333336 L 11.03664923773874,46.74914923773874 L 11.030017428927975,46.75085076226131 L 11.028599378797768,46.756377156575546 L 11.025567287868947,46.76028951009117 L 11.0244327121311,46.76471048990888 L 11.02140062120228,46.7686228434245 L 11.020833333333357,46.77083333333336 L 11.024291653103322,46.77172071668839 L 11.025567287868947,46.781377156575545 L 11.032766045464435,46.78945617675784 L 11.033900621202282,46.79387715657555 L 11.036932712131101,46.79778951009117 L 11.038067287868948,46.80221048990888 L 11.042586263020858,46.80762905544707 L 11.052210489908878,46.808900621202284 L 11.06028951009117,46.816099378797766 L 11.06471048990888,46.81723395453562 L 11.068622843424503,46.820266045464436 L 11.073043823242212,46.82140062120228 L 11.077974107530407,46.82522176106773 L 11.079733954535614,46.83010389539933 L 11.071295166015648,46.83957451714412 L 11.0744327121311,46.843622843424505 L 11.075567287868948,46.846579996744815 L 11.071400621202281,46.85195617675784 L 11.070266045464434,46.859321424696205 L 11.082766045464435,46.872789510091174 L 11.084041680230058,46.882445949978326 L 11.089710489908878,46.88390062120228 L 11.09995964898006,46.89319695366756 L 11.096400621202282,46.89778951009117 L 11.095266045464435,46.91343722873266 L 11.103599378797767,46.92278951009117 L 11.104166666666691,46.929166666666696 L 11.114924452039954,46.92951999240454 L 11.11875,46.9333187527127 L 11.12328694661461,46.92881334092885 L 11.139924452039956,46.92951999240454 L 11.143408881293428,46.93298000759551 L 11.148288302951414,46.933691067165825 L 11.157980007595512,46.94340888129343 L 11.158691406250025,46.948290337456626 L 11.16424221462676,46.953813340928846 L 11.166666666666693,46.954166666666694 L 11.167024739583358,46.95170966254343 L 11.172575547960095,46.94618665907121 L 11.177424452039956,46.94548000759551 L 11.180908881293428,46.94201999240454 L 11.185757785373289,46.94131334092884 L 11.189242214626761,46.937853325737876 L 11.194123670789956,46.93714192708336 L 11.199646674262178,46.93159111870662 L 11.200353325737872,46.9100755479601 L 11.204519992404538,46.90587972005211 L 11.203813340928845,46.901742214626765 L 11.199646674262178,46.89754638671877 L 11.200353325737872,46.89340888129343 L 11.203813340928845,46.889924452039956 L 11.204519992404538,46.8850755479601 L 11.21248609754777,46.877084011501765 L 11.208686659071207,46.87325778537329 L 11.208333333333359,46.85833333333336 L 11.210543823242213,46.85776604546444 L 11.214456176757839,46.85473395453562 L 11.231377156575547,46.85359937879777 L 11.239456176757837,46.846400621202285 L 11.260543823242212,46.845266045464435 L 11.26458333333336,46.84213528103301 L 11.26875,46.84536471896704 L 11.272789510091172,46.842233954535615 L 11.323043823242214,46.84109937879777 L 11.331122843424506,46.83390062120228 L 11.343877156575548,46.83276604546444 L 11.347789510091172,46.82973395453561 L 11.35331590440541,46.82831590440541 L 11.354733954535616,46.82278951009117 L 11.357766045464437,46.818877156575546 L 11.358900621202284,46.81445617675784 L 11.36609937879777,46.80637715657554 L 11.366666666666694,46.80416666666669 L 11.365779283311658,46.80070834689673 L 11.356122843424506,46.7994327121311 L 11.35208333333336,46.796301947699675 L 11.347916666666693,46.799531385633706 L 11.343877156575548,46.79640062120228 L 11.339456176757839,46.79526604546444 L 11.335543823242213,46.79223395453562 L 11.321806165907145,46.79101189507381 L 11.31306728786895,46.781377156575545 L 11.311932712131103,46.776956176757835 L 11.304733954535617,46.76887715657555 L 11.30359937879777,46.76445617675784 L 11.30056728786895,46.760543823242216 L 11.299149237738742,46.75501742892798 L 11.293622843424505,46.753599378797766 L 11.289710489908881,46.75056728786895 L 11.279166666666693,46.75 L 11.278813340928846,46.73924221462676 L 11.27464667426218,46.73504638671878 L 11.275353325737873,46.73090888129343 L 11.283319430881102,46.722917344835096 L 11.27951999240454,46.71909111870662 L 11.278813340928846,46.705908881293425 L 11.275353325737873,46.702424452039956 L 11.275,46.7 L 11.274032253689262,46.69622938368058 L 11.267413330078151,46.691099378797766 L 11.260289510091171,46.69223395453562 L 11.25491333007815,46.69640062120228 L 11.251956176757838,46.695266045464436 L 11.248043823242213,46.69223395453562 L 11.239456176757837,46.691099378797766 L 11.235543823242214,46.68806728786895 L 11.218622843424505,46.6869327121311 L 11.21471048990888,46.683900621202284 L 11.197789510091171,46.68276604546443 L 11.193877156575546,46.679733954535614 L 11.184220716688394,46.67845831976999 L 11.182413736979193,46.671416219075546 L 11.173043823242214,46.66306728786895 L 11.168622843424505,46.6619327121311 L 11.159270562065997,46.653599378797765 L 11.154985215928845,46.655143907335095 L 11.154166666666692,46.65833333333336 L 11.15085076226131,46.65918409559464 L 11.15,46.6625 L 11.150353325737871,46.66909111870662 L 11.155876329210095,46.67464192708336 L 11.160757785373288,46.67535332573787 L 11.166668023003497,46.68123406304256 L 11.162853325737872,46.685075547960096 L 11.162146674262178,46.68992445203995 L 11.15451999240454,46.69757554796009 L 11.153813340928846,46.702424452039956 L 11.148290337456622,46.70797526041669 L 11.143408881293428,46.708686659071205 L 11.139924452039956,46.71214667426218 L 11.122575547960095,46.712853325737875 L 11.119091118706622,46.71631334092884 L 11.11424221462676,46.71701999240454 L 11.110757785373288,46.72048000759551 L 11.10174221462676,46.72118665907121 L 11.098257785373288,46.724646674262175 L 11.085075547960095,46.72535332573787 L 11.081591118706623,46.728813340928845 L 11.075,46.72916666666669 z\" /></g></svg>"
      ],
      "text/plain": [
       "<POLYGON ((11.075 46.729, 11.073 46.729, 11.069 46.725, 11.048 46.725, 11.04...>"
      ]
     },
     "execution_count": 29,
     "metadata": {},
     "output_type": "execute_result"
    }
   ],
   "source": [
    "catchment_outline['geometry'][0]"
   ]
  },
  {
   "cell_type": "code",
   "execution_count": 30,
   "id": "c6cc66f6-0f09-46e4-b687-f42703da647f",
   "metadata": {
    "scrolled": true
   },
   "outputs": [],
   "source": [
    "# filter to the exact outline of the catchment: this should mask out the pixels outside of the catchment. The process are doing this not correctly. They base the masking on chunks.\n",
    "snowmap_cloudfree_masked = snowmap_cloudfree.mask_polygon(catchment_outline['geometry'][0])"
   ]
  },
  {
   "cell_type": "markdown",
   "id": "ce3b6b14-7f09-456d-9162-8c5f688c67e5",
   "metadata": {},
   "source": [
    "### Visualize some time steps of the timeseries\n",
    "Let's donwload the whole image time series as a netcdf file to have a look how our first results look like"
   ]
  },
  {
   "cell_type": "code",
   "execution_count": 65,
   "id": "891968e3-ddfe-4dad-bba7-af22f8a5f16e",
   "metadata": {},
   "outputs": [],
   "source": [
    "snowmap_cloudfree_1d = snowmap_cloudfree_masked.filter_temporal('2018-02-10', '2018-02-13')\n",
    "snowmap_cloudfree_1d.download('data/snowmap_cloudfree_1d.nc')"
   ]
  },
  {
   "cell_type": "code",
   "execution_count": 31,
   "id": "405e1ee1-febf-4ec6-83d4-5bc644756169",
   "metadata": {},
   "outputs": [
    {
     "data": {
      "text/plain": [
       "<matplotlib.image.AxesImage at 0x1e25efc0b80>"
      ]
     },
     "execution_count": 31,
     "metadata": {},
     "output_type": "execute_result"
    },
    {
     "data": {
      "image/png": "[encoded data removed]",
      "text/plain": [
       "<Figure size 640x480 with 2 Axes>"
      ]
     },
     "metadata": {},
     "output_type": "display_data"
    }
   ],
   "source": [
    "xr.open_dataarray('data/snowmap_cloudfree_1d.nc',decode_coords=\"all\")[0].plot.imshow()"
   ]
  },
  {
   "cell_type": "markdown",
   "id": "7b2c1e5f-f887-4d34-ae89-77716692bce5",
   "metadata": {},
   "source": [
    "### Cloud Percentage\n",
    "We are looking at a region over time. We need to make sure that the information content meets our expected quality. Therefore, we calculate the cloud percentage for the catchment for each timestep. We use this information to filter the timeseries. All timesteps that have a cloud coverage of over 20% will be discarded."
   ]
  },
  {
   "cell_type": "code",
   "execution_count": 33,
   "id": "90830688-b142-48f3-93af-5d988114182c",
   "metadata": {},
   "outputs": [],
   "source": [
    "# get number of cloud pixels in catchment\n",
    "# 1. Create a boolean mask for the clouds in the catchment\n",
    "# 2. count the cloudy pixels\n",
    "n_cloud = ((snowmap_cloudfree_masked == 2) * 1.0 ).aggregate_spatial(geometries = catchment_outline['geometry'][0], reducer = 'sum') # getting a sum of all cloudy pixels, where clouds = 2\n",
    "n_cloud.download('data/n_cloud.json')"
   ]
  },
  {
   "cell_type": "code",
   "execution_count": 34,
   "id": "74764134-ea52-4837-a635-eb8e65119b12",
   "metadata": {},
   "outputs": [],
   "source": [
    "# load number of clouded pixels per time step\n",
    "with open(\"data/n_cloud.json\",\"r\") as file:\n",
    "    n_cloud_json = json.load(file)"
   ]
  },
  {
   "cell_type": "code",
   "execution_count": 35,
   "id": "e022c407-f8a2-4fae-8869-4283cbd1916f",
   "metadata": {},
   "outputs": [
    {
     "data": {
      "text/plain": [
       "[('2018-02-11T00:00:00Z', [[67041.0]])]"
      ]
     },
     "execution_count": 35,
     "metadata": {},
     "output_type": "execute_result"
    }
   ],
   "source": [
    "# check the first 5 entries\n",
    "list(n_cloud_json.items())[:5]"
   ]
  },
  {
   "cell_type": "code",
   "execution_count": 36,
   "id": "f11e2742-2ed3-4ff3-905c-0fcb093fa93b",
   "metadata": {},
   "outputs": [],
   "source": [
    "# get number of all pixels in catchment\n",
    "n_catchment = snowmap_cloudfree_masked.aggregate_spatial(geometries = catchment_outline['geometry'][0], reducer = 'count')\n",
    "n_catchment.download('data/n_catchment.json')"
   ]
  },
  {
   "cell_type": "code",
   "execution_count": 41,
   "id": "71a6d5d5-4c6d-48c3-95b8-053c8638a29d",
   "metadata": {},
   "outputs": [
    {
     "ename": "type",
     "evalue": "'VectorCube' object has no attribute 'merge_cubes'",
     "output_type": "error",
     "traceback": [
      "\u001b[1;31m---------------------------------------------------------------------------\u001b[0m",
      "\u001b[1;31mAttributeError\u001b[0m                            Traceback (most recent call last)",
      "Cell \u001b[1;32mIn[41], line 1\u001b[0m\n\u001b[1;32m----> 1\u001b[0m merged \u001b[38;5;241m=\u001b[39m \u001b[43mn_cloud\u001b[49m\u001b[38;5;241;43m.\u001b[39;49m\u001b[43mmerge_cubes\u001b[49m(n_catchement)\n",
      "\u001b[1;31mAttributeError\u001b[0m: 'VectorCube' object has no attribute 'merge_cubes'"
     ]
    }
   ],
   "source": [
    "merged = n_cloud.merge_cubes(n_catchement)"
   ]
  },
  {
   "cell_type": "code",
   "execution_count": 40,
   "id": "6797fe62-039b-4b8f-b597-7cfd4782ec34",
   "metadata": {
    "scrolled": true
   },
   "outputs": [
    {
     "data": {
      "text/plain": [
       "[('2018-02-11T00:00:00Z', [[4201607.0]])]"
      ]
     },
     "execution_count": 40,
     "metadata": {},
     "output_type": "execute_result"
    }
   ],
   "source": [
    "# load the number of all pixels in the catchment\n",
    "with open(\"data/n_catchment.json\",\"r\") as file:\n",
    "    n_catchment_json = json.load(file)\n",
    "# check the first 5 entries\n",
    "list(n_catchment_json.items())[:5]"
   ]
  },
  {
   "cell_type": "code",
   "execution_count": 29,
   "id": "9b8002fe-2daf-4fe9-9fa7-759fc2ac0e45",
   "metadata": {
    "scrolled": true
   },
   "outputs": [],
   "source": [
    "# get the values out of the dictionary\n",
    "n_catchment_vals = [n_catchment_json[k][0][0] for k in n_catchment_json]\n",
    "n_cloud_vals = [n_cloud_json[k][0][0] for k in n_cloud_json]"
   ]
  },
  {
   "cell_type": "code",
   "execution_count": 35,
   "id": "487bb704-a7e8-4dd9-8269-ca7209819e83",
   "metadata": {},
   "outputs": [
    {
     "data": {
      "image/png": "[encoded data removed]",
      "text/plain": [
       "<Figure size 640x480 with 1 Axes>"
      ]
     },
     "metadata": {},
     "output_type": "display_data"
    }
   ],
   "source": [
    "# divide the number of cloudy pixels by the number of total pixels = cloud percentage\n",
    "perc_cloud = [x[0]/x[1] for x in zip(n_cloud_vals,n_catchment_vals)]"
   ]
  },
  {
   "cell_type": "code",
   "execution_count": null,
   "id": "f3e8a992-d9ff-49b9-b275-f628add4e343",
   "metadata": {},
   "outputs": [],
   "source": [
    "# plot the cloud percentage and a 30% threshold\n",
    "plt.plot(perc_cloud, marker='o')\n",
    "plt.axhline(y = 0.2, color = 'r', linestyle = '-')\n",
    "plt.show()"
   ]
  },
  {
   "cell_type": "code",
   "execution_count": 36,
   "id": "d81e2324-3c15-469c-8856-e3bd2bd2429d",
   "metadata": {},
   "outputs": [
    {
     "ename": "TypeError",
     "evalue": "'<' not supported between instances of 'list' and 'float'",
     "output_type": "error",
     "traceback": [
      "\u001b[0;31m---------------------------------------------------------------------------\u001b[0m",
      "\u001b[0;31mTypeError\u001b[0m                                 Traceback (most recent call last)",
      "Cell \u001b[0;32mIn[36], line 2\u001b[0m\n\u001b[1;32m      1\u001b[0m \u001b[38;5;66;03m# count the number of images below 30%\u001b[39;00m\n\u001b[0;32m----> 2\u001b[0m \u001b[43mperc_cloud\u001b[49m\u001b[43m \u001b[49m\u001b[38;5;241;43m<\u001b[39;49m\u001b[43m \u001b[49m\u001b[38;5;241;43m0.3\u001b[39;49m\n",
      "\u001b[0;31mTypeError\u001b[0m: '<' not supported between instances of 'list' and 'float'"
     ]
    }
   ],
   "source": [
    "# count the number of images below 30%\n",
    "perc_cloud < 0.2"
   ]
  },
  {
   "cell_type": "markdown",
   "id": "8e2510b3-6733-417a-819b-4a8faf78a220",
   "metadata": {},
   "source": [
    "### Cloud Mask visualized"
   ]
  },
  {
   "cell_type": "code",
   "execution_count": 50,
   "id": "cdf0f7ce-bc31-41e9-b35c-e2075e4ac4fe",
   "metadata": {},
   "outputs": [],
   "source": [
    "# download the whole cloud mask as netcdf to validate\n",
    "cloud_mask.download('data/cloud_mask.nc') # 17:09, 17:16 = 7 min"
   ]
  },
  {
   "cell_type": "code",
   "execution_count": 51,
   "id": "1f10577e-5031-45f1-80b9-82c2678c4a13",
   "metadata": {},
   "outputs": [
    {
     "data": {
      "text/html": [
       "<div><svg style=\"position: absolute; width: 0; height: 0; overflow: hidden\">\n",
       "<defs>\n",
       "<symbol id=\"icon-database\" viewBox=\"0 0 32 32\">\n",
       "<path d=\"M16 0c-8.837 0-16 2.239-16 5v4c0 2.761 7.163 5 16 5s16-2.239 16-5v-4c0-2.761-7.163-5-16-5z\"></path>\n",
       "<path d=\"M16 17c-8.837 0-16-2.239-16-5v6c0 2.761 7.163 5 16 5s16-2.239 16-5v-6c0 2.761-7.163 5-16 5z\"></path>\n",
       "<path d=\"M16 26c-8.837 0-16-2.239-16-5v6c0 2.761 7.163 5 16 5s16-2.239 16-5v-6c0 2.761-7.163 5-16 5z\"></path>\n",
       "</symbol>\n",
       "<symbol id=\"icon-file-text2\" viewBox=\"0 0 32 32\">\n",
       "<path d=\"M28.681 7.159c-0.694-0.947-1.662-2.053-2.724-3.116s-2.169-2.030-3.116-2.724c-1.612-1.182-2.393-1.319-2.841-1.319h-15.5c-1.378 0-2.5 1.121-2.5 2.5v27c0 1.378 1.122 2.5 2.5 2.5h23c1.378 0 2.5-1.122 2.5-2.5v-19.5c0-0.448-0.137-1.23-1.319-2.841zM24.543 5.457c0.959 0.959 1.712 1.825 2.268 2.543h-4.811v-4.811c0.718 0.556 1.584 1.309 2.543 2.268zM28 29.5c0 0.271-0.229 0.5-0.5 0.5h-23c-0.271 0-0.5-0.229-0.5-0.5v-27c0-0.271 0.229-0.5 0.5-0.5 0 0 15.499-0 15.5 0v7c0 0.552 0.448 1 1 1h7v19.5z\"></path>\n",
       "<path d=\"M23 26h-14c-0.552 0-1-0.448-1-1s0.448-1 1-1h14c0.552 0 1 0.448 1 1s-0.448 1-1 1z\"></path>\n",
       "<path d=\"M23 22h-14c-0.552 0-1-0.448-1-1s0.448-1 1-1h14c0.552 0 1 0.448 1 1s-0.448 1-1 1z\"></path>\n",
       "<path d=\"M23 18h-14c-0.552 0-1-0.448-1-1s0.448-1 1-1h14c0.552 0 1 0.448 1 1s-0.448 1-1 1z\"></path>\n",
       "</symbol>\n",
       "</defs>\n",
       "</svg>\n",
       "<style>/* CSS stylesheet for displaying xarray objects in jupyterlab.\n",
       " *\n",
       " */\n",
       "\n",
       ":root {\n",
       "  --xr-font-color0: var(--jp-content-font-color0, rgba(0, 0, 0, 1));\n",
       "  --xr-font-color2: var(--jp-content-font-color2, rgba(0, 0, 0, 0.54));\n",
       "  --xr-font-color3: var(--jp-content-font-color3, rgba(0, 0, 0, 0.38));\n",
       "  --xr-border-color: var(--jp-border-color2, #e0e0e0);\n",
       "  --xr-disabled-color: var(--jp-layout-color3, #bdbdbd);\n",
       "  --xr-background-color: var(--jp-layout-color0, white);\n",
       "  --xr-background-color-row-even: var(--jp-layout-color1, white);\n",
       "  --xr-background-color-row-odd: var(--jp-layout-color2, #eeeeee);\n",
       "}\n",
       "\n",
       "html[theme=dark],\n",
       "body[data-theme=dark],\n",
       "body.vscode-dark {\n",
       "  --xr-font-color0: rgba(255, 255, 255, 1);\n",
       "  --xr-font-color2: rgba(255, 255, 255, 0.54);\n",
       "  --xr-font-color3: rgba(255, 255, 255, 0.38);\n",
       "  --xr-border-color: #1F1F1F;\n",
       "  --xr-disabled-color: #515151;\n",
       "  --xr-background-color: #111111;\n",
       "  --xr-background-color-row-even: #111111;\n",
       "  --xr-background-color-row-odd: #313131;\n",
       "}\n",
       "\n",
       ".xr-wrap {\n",
       "  display: block !important;\n",
       "  min-width: 300px;\n",
       "  max-width: 700px;\n",
       "}\n",
       "\n",
       ".xr-text-repr-fallback {\n",
       "  /* fallback to plain text repr when CSS is not injected (untrusted notebook) */\n",
       "  display: none;\n",
       "}\n",
       "\n",
       ".xr-header {\n",
       "  padding-top: 6px;\n",
       "  padding-bottom: 6px;\n",
       "  margin-bottom: 4px;\n",
       "  border-bottom: solid 1px var(--xr-border-color);\n",
       "}\n",
       "\n",
       ".xr-header > div,\n",
       ".xr-header > ul {\n",
       "  display: inline;\n",
       "  margin-top: 0;\n",
       "  margin-bottom: 0;\n",
       "}\n",
       "\n",
       ".xr-obj-type,\n",
       ".xr-array-name {\n",
       "  margin-left: 2px;\n",
       "  margin-right: 10px;\n",
       "}\n",
       "\n",
       ".xr-obj-type {\n",
       "  color: var(--xr-font-color2);\n",
       "}\n",
       "\n",
       ".xr-sections {\n",
       "  padding-left: 0 !important;\n",
       "  display: grid;\n",
       "  grid-template-columns: 150px auto auto 1fr 20px 20px;\n",
       "}\n",
       "\n",
       ".xr-section-item {\n",
       "  display: contents;\n",
       "}\n",
       "\n",
       ".xr-section-item input {\n",
       "  display: none;\n",
       "}\n",
       "\n",
       ".xr-section-item input + label {\n",
       "  color: var(--xr-disabled-color);\n",
       "}\n",
       "\n",
       ".xr-section-item input:enabled + label {\n",
       "  cursor: pointer;\n",
       "  color: var(--xr-font-color2);\n",
       "}\n",
       "\n",
       ".xr-section-item input:enabled + label:hover {\n",
       "  color: var(--xr-font-color0);\n",
       "}\n",
       "\n",
       ".xr-section-summary {\n",
       "  grid-column: 1;\n",
       "  color: var(--xr-font-color2);\n",
       "  font-weight: 500;\n",
       "}\n",
       "\n",
       ".xr-section-summary > span {\n",
       "  display: inline-block;\n",
       "  padding-left: 0.5em;\n",
       "}\n",
       "\n",
       ".xr-section-summary-in:disabled + label {\n",
       "  color: var(--xr-font-color2);\n",
       "}\n",
       "\n",
       ".xr-section-summary-in + label:before {\n",
       "  display: inline-block;\n",
       "  content: '►';\n",
       "  font-size: 11px;\n",
       "  width: 15px;\n",
       "  text-align: center;\n",
       "}\n",
       "\n",
       ".xr-section-summary-in:disabled + label:before {\n",
       "  color: var(--xr-disabled-color);\n",
       "}\n",
       "\n",
       ".xr-section-summary-in:checked + label:before {\n",
       "  content: '▼';\n",
       "}\n",
       "\n",
       ".xr-section-summary-in:checked + label > span {\n",
       "  display: none;\n",
       "}\n",
       "\n",
       ".xr-section-summary,\n",
       ".xr-section-inline-details {\n",
       "  padding-top: 4px;\n",
       "  padding-bottom: 4px;\n",
       "}\n",
       "\n",
       ".xr-section-inline-details {\n",
       "  grid-column: 2 / -1;\n",
       "}\n",
       "\n",
       ".xr-section-details {\n",
       "  display: none;\n",
       "  grid-column: 1 / -1;\n",
       "  margin-bottom: 5px;\n",
       "}\n",
       "\n",
       ".xr-section-summary-in:checked ~ .xr-section-details {\n",
       "  display: contents;\n",
       "}\n",
       "\n",
       ".xr-array-wrap {\n",
       "  grid-column: 1 / -1;\n",
       "  display: grid;\n",
       "  grid-template-columns: 20px auto;\n",
       "}\n",
       "\n",
       ".xr-array-wrap > label {\n",
       "  grid-column: 1;\n",
       "  vertical-align: top;\n",
       "}\n",
       "\n",
       ".xr-preview {\n",
       "  color: var(--xr-font-color3);\n",
       "}\n",
       "\n",
       ".xr-array-preview,\n",
       ".xr-array-data {\n",
       "  padding: 0 5px !important;\n",
       "  grid-column: 2;\n",
       "}\n",
       "\n",
       ".xr-array-data,\n",
       ".xr-array-in:checked ~ .xr-array-preview {\n",
       "  display: none;\n",
       "}\n",
       "\n",
       ".xr-array-in:checked ~ .xr-array-data,\n",
       ".xr-array-preview {\n",
       "  display: inline-block;\n",
       "}\n",
       "\n",
       ".xr-dim-list {\n",
       "  display: inline-block !important;\n",
       "  list-style: none;\n",
       "  padding: 0 !important;\n",
       "  margin: 0;\n",
       "}\n",
       "\n",
       ".xr-dim-list li {\n",
       "  display: inline-block;\n",
       "  padding: 0;\n",
       "  margin: 0;\n",
       "}\n",
       "\n",
       ".xr-dim-list:before {\n",
       "  content: '(';\n",
       "}\n",
       "\n",
       ".xr-dim-list:after {\n",
       "  content: ')';\n",
       "}\n",
       "\n",
       ".xr-dim-list li:not(:last-child):after {\n",
       "  content: ',';\n",
       "  padding-right: 5px;\n",
       "}\n",
       "\n",
       ".xr-has-index {\n",
       "  font-weight: bold;\n",
       "}\n",
       "\n",
       ".xr-var-list,\n",
       ".xr-var-item {\n",
       "  display: contents;\n",
       "}\n",
       "\n",
       ".xr-var-item > div,\n",
       ".xr-var-item label,\n",
       ".xr-var-item > .xr-var-name span {\n",
       "  background-color: var(--xr-background-color-row-even);\n",
       "  margin-bottom: 0;\n",
       "}\n",
       "\n",
       ".xr-var-item > .xr-var-name:hover span {\n",
       "  padding-right: 5px;\n",
       "}\n",
       "\n",
       ".xr-var-list > li:nth-child(odd) > div,\n",
       ".xr-var-list > li:nth-child(odd) > label,\n",
       ".xr-var-list > li:nth-child(odd) > .xr-var-name span {\n",
       "  background-color: var(--xr-background-color-row-odd);\n",
       "}\n",
       "\n",
       ".xr-var-name {\n",
       "  grid-column: 1;\n",
       "}\n",
       "\n",
       ".xr-var-dims {\n",
       "  grid-column: 2;\n",
       "}\n",
       "\n",
       ".xr-var-dtype {\n",
       "  grid-column: 3;\n",
       "  text-align: right;\n",
       "  color: var(--xr-font-color2);\n",
       "}\n",
       "\n",
       ".xr-var-preview {\n",
       "  grid-column: 4;\n",
       "}\n",
       "\n",
       ".xr-index-preview {\n",
       "  grid-column: 2 / 5;\n",
       "  color: var(--xr-font-color2);\n",
       "}\n",
       "\n",
       ".xr-var-name,\n",
       ".xr-var-dims,\n",
       ".xr-var-dtype,\n",
       ".xr-preview,\n",
       ".xr-attrs dt {\n",
       "  white-space: nowrap;\n",
       "  overflow: hidden;\n",
       "  text-overflow: ellipsis;\n",
       "  padding-right: 10px;\n",
       "}\n",
       "\n",
       ".xr-var-name:hover,\n",
       ".xr-var-dims:hover,\n",
       ".xr-var-dtype:hover,\n",
       ".xr-attrs dt:hover {\n",
       "  overflow: visible;\n",
       "  width: auto;\n",
       "  z-index: 1;\n",
       "}\n",
       "\n",
       ".xr-var-attrs,\n",
       ".xr-var-data,\n",
       ".xr-index-data {\n",
       "  display: none;\n",
       "  background-color: var(--xr-background-color) !important;\n",
       "  padding-bottom: 5px !important;\n",
       "}\n",
       "\n",
       ".xr-var-attrs-in:checked ~ .xr-var-attrs,\n",
       ".xr-var-data-in:checked ~ .xr-var-data,\n",
       ".xr-index-data-in:checked ~ .xr-index-data {\n",
       "  display: block;\n",
       "}\n",
       "\n",
       ".xr-var-data > table {\n",
       "  float: right;\n",
       "}\n",
       "\n",
       ".xr-var-name span,\n",
       ".xr-var-data,\n",
       ".xr-index-name div,\n",
       ".xr-index-data,\n",
       ".xr-attrs {\n",
       "  padding-left: 25px !important;\n",
       "}\n",
       "\n",
       ".xr-attrs,\n",
       ".xr-var-attrs,\n",
       ".xr-var-data,\n",
       ".xr-index-data {\n",
       "  grid-column: 1 / -1;\n",
       "}\n",
       "\n",
       "dl.xr-attrs {\n",
       "  padding: 0;\n",
       "  margin: 0;\n",
       "  display: grid;\n",
       "  grid-template-columns: 125px auto;\n",
       "}\n",
       "\n",
       ".xr-attrs dt,\n",
       ".xr-attrs dd {\n",
       "  padding: 0;\n",
       "  margin: 0;\n",
       "  float: left;\n",
       "  padding-right: 10px;\n",
       "  width: auto;\n",
       "}\n",
       "\n",
       ".xr-attrs dt {\n",
       "  font-weight: normal;\n",
       "  grid-column: 1;\n",
       "}\n",
       "\n",
       ".xr-attrs dt:hover span {\n",
       "  display: inline-block;\n",
       "  background: var(--xr-background-color);\n",
       "  padding-right: 10px;\n",
       "}\n",
       "\n",
       ".xr-attrs dd {\n",
       "  grid-column: 2;\n",
       "  white-space: pre-wrap;\n",
       "  word-break: break-all;\n",
       "}\n",
       "\n",
       ".xr-icon-database,\n",
       ".xr-icon-file-text2,\n",
       ".xr-no-icon {\n",
       "  display: inline-block;\n",
       "  vertical-align: middle;\n",
       "  width: 1em;\n",
       "  height: 1.5em !important;\n",
       "  stroke-width: 0;\n",
       "  stroke: currentColor;\n",
       "  fill: currentColor;\n",
       "}\n",
       "</style><pre class='xr-text-repr-fallback'>&lt;xarray.DataArray &#x27;var&#x27; (t: 59, y: 3414, x: 2733)&gt;\n",
       "dask.array&lt;open_dataset-var, shape=(59, 3414, 2733), dtype=float32, chunksize=(59, 3414, 2733), chunktype=numpy.ndarray&gt;\n",
       "Coordinates:\n",
       "  * t        (t) datetime64[ns] 2018-02-01 2018-02-03 ... 2018-06-26 2018-06-28\n",
       "  * x        (x) float64 6.538e+05 6.538e+05 6.538e+05 ... 6.811e+05 6.811e+05\n",
       "  * y        (y) float64 5.203e+06 5.203e+06 5.203e+06 ... 5.169e+06 5.169e+06\n",
       "    crs      |S1 ...\n",
       "Attributes:\n",
       "    long_name:  var\n",
       "    units:      </pre><div class='xr-wrap' style='display:none'><div class='xr-header'><div class='xr-obj-type'>xarray.DataArray</div><div class='xr-array-name'>'var'</div><ul class='xr-dim-list'><li><span class='xr-has-index'>t</span>: 59</li><li><span class='xr-has-index'>y</span>: 3414</li><li><span class='xr-has-index'>x</span>: 2733</li></ul></div><ul class='xr-sections'><li class='xr-section-item'><div class='xr-array-wrap'><input id='section-d4017798-1bce-4936-9c2b-f59d821f5257' class='xr-array-in' type='checkbox' checked><label for='section-d4017798-1bce-4936-9c2b-f59d821f5257' title='Show/hide data repr'><svg class='icon xr-icon-database'><use xlink:href='#icon-database'></use></svg></label><div class='xr-array-preview xr-preview'><span>dask.array&lt;chunksize=(59, 3414, 2733), meta=np.ndarray&gt;</span></div><div class='xr-array-data'><table>\n",
       "    <tr>\n",
       "        <td>\n",
       "            <table style=\"border-collapse: collapse;\">\n",
       "                <thead>\n",
       "                    <tr>\n",
       "                        <td> </td>\n",
       "                        <th> Array </th>\n",
       "                        <th> Chunk </th>\n",
       "                    </tr>\n",
       "                </thead>\n",
       "                <tbody>\n",
       "                    \n",
       "                    <tr>\n",
       "                        <th> Bytes </th>\n",
       "                        <td> 2.05 GiB </td>\n",
       "                        <td> 2.05 GiB </td>\n",
       "                    </tr>\n",
       "                    \n",
       "                    <tr>\n",
       "                        <th> Shape </th>\n",
       "                        <td> (59, 3414, 2733) </td>\n",
       "                        <td> (59, 3414, 2733) </td>\n",
       "                    </tr>\n",
       "                    <tr>\n",
       "                        <th> Dask graph </th>\n",
       "                        <td colspan=\"2\"> 1 chunks in 2 graph layers </td>\n",
       "                    </tr>\n",
       "                    <tr>\n",
       "                        <th> Data type </th>\n",
       "                        <td colspan=\"2\"> float32 numpy.ndarray </td>\n",
       "                    </tr>\n",
       "                </tbody>\n",
       "            </table>\n",
       "        </td>\n",
       "        <td>\n",
       "        <svg width=\"172\" height=\"186\" style=\"stroke:rgb(0,0,0);stroke-width:1\" >\n",
       "\n",
       "  <!-- Horizontal lines -->\n",
       "  <line x1=\"10\" y1=\"0\" x2=\"26\" y2=\"16\" style=\"stroke-width:2\" />\n",
       "  <line x1=\"10\" y1=\"120\" x2=\"26\" y2=\"136\" style=\"stroke-width:2\" />\n",
       "\n",
       "  <!-- Vertical lines -->\n",
       "  <line x1=\"10\" y1=\"0\" x2=\"10\" y2=\"120\" style=\"stroke-width:2\" />\n",
       "  <line x1=\"26\" y1=\"16\" x2=\"26\" y2=\"136\" style=\"stroke-width:2\" />\n",
       "\n",
       "  <!-- Colored Rectangle -->\n",
       "  <polygon points=\"10.0,0.0 26.600148208093366,16.600148208093366 26.600148208093366,136.60014820809337 10.0,120.0\" style=\"fill:#ECB172A0;stroke-width:0\"/>\n",
       "\n",
       "  <!-- Horizontal lines -->\n",
       "  <line x1=\"10\" y1=\"0\" x2=\"106\" y2=\"0\" style=\"stroke-width:2\" />\n",
       "  <line x1=\"26\" y1=\"16\" x2=\"122\" y2=\"16\" style=\"stroke-width:2\" />\n",
       "\n",
       "  <!-- Vertical lines -->\n",
       "  <line x1=\"10\" y1=\"0\" x2=\"26\" y2=\"16\" style=\"stroke-width:2\" />\n",
       "  <line x1=\"106\" y1=\"0\" x2=\"122\" y2=\"16\" style=\"stroke-width:2\" />\n",
       "\n",
       "  <!-- Colored Rectangle -->\n",
       "  <polygon points=\"10.0,0.0 106.06326889279437,0.0 122.66341710088773,16.600148208093366 26.600148208093366,16.600148208093366\" style=\"fill:#ECB172A0;stroke-width:0\"/>\n",
       "\n",
       "  <!-- Horizontal lines -->\n",
       "  <line x1=\"26\" y1=\"16\" x2=\"122\" y2=\"16\" style=\"stroke-width:2\" />\n",
       "  <line x1=\"26\" y1=\"136\" x2=\"122\" y2=\"136\" style=\"stroke-width:2\" />\n",
       "\n",
       "  <!-- Vertical lines -->\n",
       "  <line x1=\"26\" y1=\"16\" x2=\"26\" y2=\"136\" style=\"stroke-width:2\" />\n",
       "  <line x1=\"122\" y1=\"16\" x2=\"122\" y2=\"136\" style=\"stroke-width:2\" />\n",
       "\n",
       "  <!-- Colored Rectangle -->\n",
       "  <polygon points=\"26.600148208093366,16.600148208093366 122.66341710088773,16.600148208093366 122.66341710088773,136.60014820809337 26.600148208093366,136.60014820809337\" style=\"fill:#ECB172A0;stroke-width:0\"/>\n",
       "\n",
       "  <!-- Text -->\n",
       "  <text x=\"74.631783\" y=\"156.600148\" font-size=\"1.0rem\" font-weight=\"100\" text-anchor=\"middle\" >2733</text>\n",
       "  <text x=\"142.663417\" y=\"76.600148\" font-size=\"1.0rem\" font-weight=\"100\" text-anchor=\"middle\" transform=\"rotate(-90,142.663417,76.600148)\">3414</text>\n",
       "  <text x=\"8.300074\" y=\"148.300074\" font-size=\"1.0rem\" font-weight=\"100\" text-anchor=\"middle\" transform=\"rotate(45,8.300074,148.300074)\">59</text>\n",
       "</svg>\n",
       "        </td>\n",
       "    </tr>\n",
       "</table></div></div></li><li class='xr-section-item'><input id='section-0bc97b65-21f3-4dea-93b4-e3d1e9be6188' class='xr-section-summary-in' type='checkbox'  checked><label for='section-0bc97b65-21f3-4dea-93b4-e3d1e9be6188' class='xr-section-summary' >Coordinates: <span>(4)</span></label><div class='xr-section-inline-details'></div><div class='xr-section-details'><ul class='xr-var-list'><li class='xr-var-item'><div class='xr-var-name'><span class='xr-has-index'>t</span></div><div class='xr-var-dims'>(t)</div><div class='xr-var-dtype'>datetime64[ns]</div><div class='xr-var-preview xr-preview'>2018-02-01 ... 2018-06-28</div><input id='attrs-d3d3703c-59de-49af-832e-68eb62530bef' class='xr-var-attrs-in' type='checkbox' ><label for='attrs-d3d3703c-59de-49af-832e-68eb62530bef' title='Show/Hide attributes'><svg class='icon xr-icon-file-text2'><use xlink:href='#icon-file-text2'></use></svg></label><input id='data-72e3f058-c0fc-438c-bcfb-214ddbe49949' class='xr-var-data-in' type='checkbox'><label for='data-72e3f058-c0fc-438c-bcfb-214ddbe49949' title='Show/Hide data repr'><svg class='icon xr-icon-database'><use xlink:href='#icon-database'></use></svg></label><div class='xr-var-attrs'><dl class='xr-attrs'><dt><span>standard_name :</span></dt><dd>t</dd><dt><span>long_name :</span></dt><dd>t</dd><dt><span>axis :</span></dt><dd>T</dd></dl></div><div class='xr-var-data'><pre>array([&#x27;2018-02-01T00:00:00.000000000&#x27;, &#x27;2018-02-03T00:00:00.000000000&#x27;,\n",
       "       &#x27;2018-02-06T00:00:00.000000000&#x27;, &#x27;2018-02-08T00:00:00.000000000&#x27;,\n",
       "       &#x27;2018-02-11T00:00:00.000000000&#x27;, &#x27;2018-02-13T00:00:00.000000000&#x27;,\n",
       "       &#x27;2018-02-16T00:00:00.000000000&#x27;, &#x27;2018-02-18T00:00:00.000000000&#x27;,\n",
       "       &#x27;2018-02-21T00:00:00.000000000&#x27;, &#x27;2018-02-23T00:00:00.000000000&#x27;,\n",
       "       &#x27;2018-02-26T00:00:00.000000000&#x27;, &#x27;2018-02-28T00:00:00.000000000&#x27;,\n",
       "       &#x27;2018-03-03T00:00:00.000000000&#x27;, &#x27;2018-03-05T00:00:00.000000000&#x27;,\n",
       "       &#x27;2018-03-08T00:00:00.000000000&#x27;, &#x27;2018-03-10T00:00:00.000000000&#x27;,\n",
       "       &#x27;2018-03-13T00:00:00.000000000&#x27;, &#x27;2018-03-15T00:00:00.000000000&#x27;,\n",
       "       &#x27;2018-03-18T00:00:00.000000000&#x27;, &#x27;2018-03-20T00:00:00.000000000&#x27;,\n",
       "       &#x27;2018-03-23T00:00:00.000000000&#x27;, &#x27;2018-03-25T00:00:00.000000000&#x27;,\n",
       "       &#x27;2018-03-28T00:00:00.000000000&#x27;, &#x27;2018-03-30T00:00:00.000000000&#x27;,\n",
       "       &#x27;2018-04-02T00:00:00.000000000&#x27;, &#x27;2018-04-04T00:00:00.000000000&#x27;,\n",
       "       &#x27;2018-04-07T00:00:00.000000000&#x27;, &#x27;2018-04-09T00:00:00.000000000&#x27;,\n",
       "       &#x27;2018-04-12T00:00:00.000000000&#x27;, &#x27;2018-04-14T00:00:00.000000000&#x27;,\n",
       "       &#x27;2018-04-17T00:00:00.000000000&#x27;, &#x27;2018-04-19T00:00:00.000000000&#x27;,\n",
       "       &#x27;2018-04-22T00:00:00.000000000&#x27;, &#x27;2018-04-24T00:00:00.000000000&#x27;,\n",
       "       &#x27;2018-04-27T00:00:00.000000000&#x27;, &#x27;2018-04-29T00:00:00.000000000&#x27;,\n",
       "       &#x27;2018-05-02T00:00:00.000000000&#x27;, &#x27;2018-05-04T00:00:00.000000000&#x27;,\n",
       "       &#x27;2018-05-07T00:00:00.000000000&#x27;, &#x27;2018-05-09T00:00:00.000000000&#x27;,\n",
       "       &#x27;2018-05-12T00:00:00.000000000&#x27;, &#x27;2018-05-14T00:00:00.000000000&#x27;,\n",
       "       &#x27;2018-05-17T00:00:00.000000000&#x27;, &#x27;2018-05-19T00:00:00.000000000&#x27;,\n",
       "       &#x27;2018-05-22T00:00:00.000000000&#x27;, &#x27;2018-05-24T00:00:00.000000000&#x27;,\n",
       "       &#x27;2018-05-29T00:00:00.000000000&#x27;, &#x27;2018-06-01T00:00:00.000000000&#x27;,\n",
       "       &#x27;2018-06-03T00:00:00.000000000&#x27;, &#x27;2018-06-06T00:00:00.000000000&#x27;,\n",
       "       &#x27;2018-06-08T00:00:00.000000000&#x27;, &#x27;2018-06-11T00:00:00.000000000&#x27;,\n",
       "       &#x27;2018-06-13T00:00:00.000000000&#x27;, &#x27;2018-06-16T00:00:00.000000000&#x27;,\n",
       "       &#x27;2018-06-18T00:00:00.000000000&#x27;, &#x27;2018-06-21T00:00:00.000000000&#x27;,\n",
       "       &#x27;2018-06-23T00:00:00.000000000&#x27;, &#x27;2018-06-26T00:00:00.000000000&#x27;,\n",
       "       &#x27;2018-06-28T00:00:00.000000000&#x27;], dtype=&#x27;datetime64[ns]&#x27;)</pre></div></li><li class='xr-var-item'><div class='xr-var-name'><span class='xr-has-index'>x</span></div><div class='xr-var-dims'>(x)</div><div class='xr-var-dtype'>float64</div><div class='xr-var-preview xr-preview'>6.538e+05 6.538e+05 ... 6.811e+05</div><input id='attrs-68a91b98-4edf-4c4b-8bc2-02ebc97cd602' class='xr-var-attrs-in' type='checkbox' ><label for='attrs-68a91b98-4edf-4c4b-8bc2-02ebc97cd602' title='Show/Hide attributes'><svg class='icon xr-icon-file-text2'><use xlink:href='#icon-file-text2'></use></svg></label><input id='data-89d99ff2-81fe-4887-81d0-d70217bff620' class='xr-var-data-in' type='checkbox'><label for='data-89d99ff2-81fe-4887-81d0-d70217bff620' title='Show/Hide data repr'><svg class='icon xr-icon-database'><use xlink:href='#icon-database'></use></svg></label><div class='xr-var-attrs'><dl class='xr-attrs'><dt><span>standard_name :</span></dt><dd>projection_x_coordinate</dd><dt><span>long_name :</span></dt><dd>x coordinate of projection</dd><dt><span>units :</span></dt><dd>m</dd></dl></div><div class='xr-var-data'><pre>array([653765., 653775., 653785., ..., 681065., 681075., 681085.])</pre></div></li><li class='xr-var-item'><div class='xr-var-name'><span class='xr-has-index'>y</span></div><div class='xr-var-dims'>(y)</div><div class='xr-var-dtype'>float64</div><div class='xr-var-preview xr-preview'>5.203e+06 5.203e+06 ... 5.169e+06</div><input id='attrs-f055691a-a33a-4807-9b4c-161637bd1b6c' class='xr-var-attrs-in' type='checkbox' ><label for='attrs-f055691a-a33a-4807-9b4c-161637bd1b6c' title='Show/Hide attributes'><svg class='icon xr-icon-file-text2'><use xlink:href='#icon-file-text2'></use></svg></label><input id='data-592d535e-6415-4258-a599-751fbf2fb9bc' class='xr-var-data-in' type='checkbox'><label for='data-592d535e-6415-4258-a599-751fbf2fb9bc' title='Show/Hide data repr'><svg class='icon xr-icon-database'><use xlink:href='#icon-database'></use></svg></label><div class='xr-var-attrs'><dl class='xr-attrs'><dt><span>standard_name :</span></dt><dd>projection_y_coordinate</dd><dt><span>long_name :</span></dt><dd>y coordinate of projection</dd><dt><span>units :</span></dt><dd>m</dd></dl></div><div class='xr-var-data'><pre>array([5202785., 5202775., 5202765., ..., 5168675., 5168665., 5168655.])</pre></div></li><li class='xr-var-item'><div class='xr-var-name'><span>crs</span></div><div class='xr-var-dims'>()</div><div class='xr-var-dtype'>|S1</div><div class='xr-var-preview xr-preview'>...</div><input id='attrs-409f66e3-d3aa-4922-b7e9-c46ad77066fa' class='xr-var-attrs-in' type='checkbox' ><label for='attrs-409f66e3-d3aa-4922-b7e9-c46ad77066fa' title='Show/Hide attributes'><svg class='icon xr-icon-file-text2'><use xlink:href='#icon-file-text2'></use></svg></label><input id='data-187045c8-b1c3-44b7-bf92-f889da05e4e5' class='xr-var-data-in' type='checkbox'><label for='data-187045c8-b1c3-44b7-bf92-f889da05e4e5' title='Show/Hide data repr'><svg class='icon xr-icon-database'><use xlink:href='#icon-database'></use></svg></label><div class='xr-var-attrs'><dl class='xr-attrs'><dt><span>crs_wkt :</span></dt><dd>PROJCS[&quot;WGS 84 / UTM zone 32N&quot;, GEOGCS[&quot;WGS 84&quot;, DATUM[&quot;World Geodetic System 1984&quot;, SPHEROID[&quot;WGS 84&quot;, 6378137.0, 298.257223563, AUTHORITY[&quot;EPSG&quot;,&quot;7030&quot;]], AUTHORITY[&quot;EPSG&quot;,&quot;6326&quot;]], PRIMEM[&quot;Greenwich&quot;, 0.0, AUTHORITY[&quot;EPSG&quot;,&quot;8901&quot;]], UNIT[&quot;degree&quot;, 0.017453292519943295], AXIS[&quot;Geodetic longitude&quot;, EAST], AXIS[&quot;Geodetic latitude&quot;, NORTH], AUTHORITY[&quot;EPSG&quot;,&quot;4326&quot;]], PROJECTION[&quot;Transverse_Mercator&quot;, AUTHORITY[&quot;EPSG&quot;,&quot;9807&quot;]], PARAMETER[&quot;central_meridian&quot;, 9.0], PARAMETER[&quot;latitude_of_origin&quot;, 0.0], PARAMETER[&quot;scale_factor&quot;, 0.9996], PARAMETER[&quot;false_easting&quot;, 500000.0], PARAMETER[&quot;false_northing&quot;, 0.0], UNIT[&quot;m&quot;, 1.0], AXIS[&quot;Easting&quot;, EAST], AXIS[&quot;Northing&quot;, NORTH], AUTHORITY[&quot;EPSG&quot;,&quot;32632&quot;]]</dd><dt><span>spatial_ref :</span></dt><dd>PROJCS[&quot;WGS 84 / UTM zone 32N&quot;, GEOGCS[&quot;WGS 84&quot;, DATUM[&quot;World Geodetic System 1984&quot;, SPHEROID[&quot;WGS 84&quot;, 6378137.0, 298.257223563, AUTHORITY[&quot;EPSG&quot;,&quot;7030&quot;]], AUTHORITY[&quot;EPSG&quot;,&quot;6326&quot;]], PRIMEM[&quot;Greenwich&quot;, 0.0, AUTHORITY[&quot;EPSG&quot;,&quot;8901&quot;]], UNIT[&quot;degree&quot;, 0.017453292519943295], AXIS[&quot;Geodetic longitude&quot;, EAST], AXIS[&quot;Geodetic latitude&quot;, NORTH], AUTHORITY[&quot;EPSG&quot;,&quot;4326&quot;]], PROJECTION[&quot;Transverse_Mercator&quot;, AUTHORITY[&quot;EPSG&quot;,&quot;9807&quot;]], PARAMETER[&quot;central_meridian&quot;, 9.0], PARAMETER[&quot;latitude_of_origin&quot;, 0.0], PARAMETER[&quot;scale_factor&quot;, 0.9996], PARAMETER[&quot;false_easting&quot;, 500000.0], PARAMETER[&quot;false_northing&quot;, 0.0], UNIT[&quot;m&quot;, 1.0], AXIS[&quot;Easting&quot;, EAST], AXIS[&quot;Northing&quot;, NORTH], AUTHORITY[&quot;EPSG&quot;,&quot;32632&quot;]]</dd></dl></div><div class='xr-var-data'><pre>[1 values with dtype=|S1]</pre></div></li></ul></div></li><li class='xr-section-item'><input id='section-55241a27-bd5a-4f08-93f3-32603cc113d7' class='xr-section-summary-in' type='checkbox'  ><label for='section-55241a27-bd5a-4f08-93f3-32603cc113d7' class='xr-section-summary' >Indexes: <span>(3)</span></label><div class='xr-section-inline-details'></div><div class='xr-section-details'><ul class='xr-var-list'><li class='xr-var-item'><div class='xr-index-name'><div>t</div></div><div class='xr-index-preview'>PandasIndex</div><div></div><input id='index-a74457ae-da2e-48aa-b01f-c1899b98e86b' class='xr-index-data-in' type='checkbox'/><label for='index-a74457ae-da2e-48aa-b01f-c1899b98e86b' title='Show/Hide index repr'><svg class='icon xr-icon-database'><use xlink:href='#icon-database'></use></svg></label><div class='xr-index-data'><pre>PandasIndex(DatetimeIndex([&#x27;2018-02-01&#x27;, &#x27;2018-02-03&#x27;, &#x27;2018-02-06&#x27;, &#x27;2018-02-08&#x27;,\n",
       "               &#x27;2018-02-11&#x27;, &#x27;2018-02-13&#x27;, &#x27;2018-02-16&#x27;, &#x27;2018-02-18&#x27;,\n",
       "               &#x27;2018-02-21&#x27;, &#x27;2018-02-23&#x27;, &#x27;2018-02-26&#x27;, &#x27;2018-02-28&#x27;,\n",
       "               &#x27;2018-03-03&#x27;, &#x27;2018-03-05&#x27;, &#x27;2018-03-08&#x27;, &#x27;2018-03-10&#x27;,\n",
       "               &#x27;2018-03-13&#x27;, &#x27;2018-03-15&#x27;, &#x27;2018-03-18&#x27;, &#x27;2018-03-20&#x27;,\n",
       "               &#x27;2018-03-23&#x27;, &#x27;2018-03-25&#x27;, &#x27;2018-03-28&#x27;, &#x27;2018-03-30&#x27;,\n",
       "               &#x27;2018-04-02&#x27;, &#x27;2018-04-04&#x27;, &#x27;2018-04-07&#x27;, &#x27;2018-04-09&#x27;,\n",
       "               &#x27;2018-04-12&#x27;, &#x27;2018-04-14&#x27;, &#x27;2018-04-17&#x27;, &#x27;2018-04-19&#x27;,\n",
       "               &#x27;2018-04-22&#x27;, &#x27;2018-04-24&#x27;, &#x27;2018-04-27&#x27;, &#x27;2018-04-29&#x27;,\n",
       "               &#x27;2018-05-02&#x27;, &#x27;2018-05-04&#x27;, &#x27;2018-05-07&#x27;, &#x27;2018-05-09&#x27;,\n",
       "               &#x27;2018-05-12&#x27;, &#x27;2018-05-14&#x27;, &#x27;2018-05-17&#x27;, &#x27;2018-05-19&#x27;,\n",
       "               &#x27;2018-05-22&#x27;, &#x27;2018-05-24&#x27;, &#x27;2018-05-29&#x27;, &#x27;2018-06-01&#x27;,\n",
       "               &#x27;2018-06-03&#x27;, &#x27;2018-06-06&#x27;, &#x27;2018-06-08&#x27;, &#x27;2018-06-11&#x27;,\n",
       "               &#x27;2018-06-13&#x27;, &#x27;2018-06-16&#x27;, &#x27;2018-06-18&#x27;, &#x27;2018-06-21&#x27;,\n",
       "               &#x27;2018-06-23&#x27;, &#x27;2018-06-26&#x27;, &#x27;2018-06-28&#x27;],\n",
       "              dtype=&#x27;datetime64[ns]&#x27;, name=&#x27;t&#x27;, freq=None))</pre></div></li><li class='xr-var-item'><div class='xr-index-name'><div>x</div></div><div class='xr-index-preview'>PandasIndex</div><div></div><input id='index-6d061ef8-ba09-47f5-97de-6925f2755e6e' class='xr-index-data-in' type='checkbox'/><label for='index-6d061ef8-ba09-47f5-97de-6925f2755e6e' title='Show/Hide index repr'><svg class='icon xr-icon-database'><use xlink:href='#icon-database'></use></svg></label><div class='xr-index-data'><pre>PandasIndex(Index([653765.0, 653775.0, 653785.0, 653795.0, 653805.0, 653815.0, 653825.0,\n",
       "       653835.0, 653845.0, 653855.0,\n",
       "       ...\n",
       "       680995.0, 681005.0, 681015.0, 681025.0, 681035.0, 681045.0, 681055.0,\n",
       "       681065.0, 681075.0, 681085.0],\n",
       "      dtype=&#x27;float64&#x27;, name=&#x27;x&#x27;, length=2733))</pre></div></li><li class='xr-var-item'><div class='xr-index-name'><div>y</div></div><div class='xr-index-preview'>PandasIndex</div><div></div><input id='index-d5b87a0f-83e4-4011-9999-8a61fac46a38' class='xr-index-data-in' type='checkbox'/><label for='index-d5b87a0f-83e4-4011-9999-8a61fac46a38' title='Show/Hide index repr'><svg class='icon xr-icon-database'><use xlink:href='#icon-database'></use></svg></label><div class='xr-index-data'><pre>PandasIndex(Index([5202785.0, 5202775.0, 5202765.0, 5202755.0, 5202745.0, 5202735.0,\n",
       "       5202725.0, 5202715.0, 5202705.0, 5202695.0,\n",
       "       ...\n",
       "       5168745.0, 5168735.0, 5168725.0, 5168715.0, 5168705.0, 5168695.0,\n",
       "       5168685.0, 5168675.0, 5168665.0, 5168655.0],\n",
       "      dtype=&#x27;float64&#x27;, name=&#x27;y&#x27;, length=3414))</pre></div></li></ul></div></li><li class='xr-section-item'><input id='section-f412409c-c662-420e-9df6-b40469b6fe7b' class='xr-section-summary-in' type='checkbox'  checked><label for='section-f412409c-c662-420e-9df6-b40469b6fe7b' class='xr-section-summary' >Attributes: <span>(2)</span></label><div class='xr-section-inline-details'></div><div class='xr-section-details'><dl class='xr-attrs'><dt><span>long_name :</span></dt><dd>var</dd><dt><span>units :</span></dt><dd></dd></dl></div></li></ul></div></div>"
      ],
      "text/plain": [
       "<xarray.DataArray 'var' (t: 59, y: 3414, x: 2733)>\n",
       "dask.array<open_dataset-var, shape=(59, 3414, 2733), dtype=float32, chunksize=(59, 3414, 2733), chunktype=numpy.ndarray>\n",
       "Coordinates:\n",
       "  * t        (t) datetime64[ns] 2018-02-01 2018-02-03 ... 2018-06-26 2018-06-28\n",
       "  * x        (x) float64 6.538e+05 6.538e+05 6.538e+05 ... 6.811e+05 6.811e+05\n",
       "  * y        (y) float64 5.203e+06 5.203e+06 5.203e+06 ... 5.169e+06 5.169e+06\n",
       "    crs      |S1 ...\n",
       "Attributes:\n",
       "    long_name:  var\n",
       "    units:      "
      ]
     },
     "execution_count": 51,
     "metadata": {},
     "output_type": "execute_result"
    }
   ],
   "source": [
    "cloud_mask_nc = xr.open_dataarray('data/cloud_mask_catchment.nc',decode_coords=\"all\",chunks={})\n",
    "cloud_mask_nc"
   ]
  },
  {
   "cell_type": "code",
   "execution_count": null,
   "id": "f9b6d728-02a3-4250-9563-08ace89ceb12",
   "metadata": {},
   "outputs": [],
   "source": [
    "# mask the cloud mask with the catchment in case filter_spatial and mask_polygon are not working\n",
    "# filter_spatial and mask_polygon doesn't mask exactly to the outline of the catchment. It looks like it's selecting only the chunks that are within the shape\n"
   ]
  },
  {
   "cell_type": "code",
   "execution_count": 52,
   "id": "e79baba6-82a2-419a-960f-803deec256f3",
   "metadata": {},
   "outputs": [
    {
     "data": {
      "text/plain": [
       "<matplotlib.image.AxesImage at 0x7f9086c33c10>"
      ]
     },
     "execution_count": 52,
     "metadata": {},
     "output_type": "execute_result"
    },
    {
     "data": {
      "image/png": "[encoded data removed]",
      "text/plain": [
       "<Figure size 640x480 with 2 Axes>"
      ]
     },
     "metadata": {},
     "output_type": "display_data"
    }
   ],
   "source": [
    "cloud_mask_nc[5].plot.imshow() # low clouds\n",
    "# cloud_mask_nc[55].plot.imshow() # missing data"
   ]
  },
  {
   "cell_type": "markdown",
   "id": "1ce49f5a-158c-4117-82d3-788cdc21620b",
   "metadata": {
    "jp-MarkdownHeadingCollapsed": true
   },
   "source": [
    "### Snow Covered Area in the Catchment\n",
    "We are interested in the snow covered area (SCA) within the catchment. We count all snow covered pixels within the catchment for each time step. After our snow classification our data cube has the values: 0 = no snow, 1 = snow, NA = cloud. This means we can sum up all pixels within the catchment and the sum will give us the count of the snow covered pixels. Later we can use this number to translate pixel count into area."
   ]
  },
  {
   "cell_type": "code",
   "execution_count": 82,
   "id": "3867aff7-4dc5-43ac-a1ed-cdd9f2aa618d",
   "metadata": {},
   "outputs": [
    {
     "data": {
      "text/html": [
       "\n",
       "    <script>\n",
       "    if (!window.customElements || !window.customElements.get('openeo-model-builder')) {\n",
       "        var el = document.createElement('script');\n",
       "        el.src = \"https://cdn.jsdelivr.net/npm/@openeo/vue-components@2/assets/openeo.min.js\";\n",
       "        document.head.appendChild(el);\n",
       "\n",
       "        var font = document.createElement('font');\n",
       "        font.as = \"font\";\n",
       "        font.type = \"font/woff2\";\n",
       "        font.crossOrigin = true;\n",
       "        font.href = \"https://use.fontawesome.com/releases/v5.13.0/webfonts/fa-solid-900.woff2\"\n",
       "        document.head.appendChild(font);\n",
       "    }\n",
       "    </script>\n",
       "    <openeo-model-builder>\n",
       "        <script type=\"application/json\">{\"id\": \"5663584ce4c14bc0846ee17d35acab1b\", \"explicit-zoom\": true, \"height\": \"400px\", \"value\": {\"process_graph\": {\"loadcollection1\": {\"process_id\": \"load_collection\", \"arguments\": {\"bands\": [\"B03\", \"B11\", \"CLM\"], \"id\": \"SENTINEL2_L2A_SENTINELHUB\", \"spatial_extent\": {\"west\": 11.020833333333357, \"east\": 11.366666666666694, \"south\": 46.653599378797765, \"north\": 46.954166666666694, \"crs\": 4326}, \"temporal_extent\": [\"2018-02-01\", \"2018-06-30\"]}}, \"filterbands1\": {\"process_id\": \"filter_bands\", \"arguments\": {\"bands\": [\"B03\"], \"data\": {\"from_node\": \"loadcollection1\"}}}, \"filterbands2\": {\"process_id\": \"filter_bands\", \"arguments\": {\"bands\": [\"B11\"], \"data\": {\"from_node\": \"loadcollection1\"}}}, \"mergecubes1\": {\"process_id\": \"merge_cubes\", \"arguments\": {\"cube1\": {\"from_node\": \"filterbands1\"}, \"cube2\": {\"from_node\": \"filterbands2\"}, \"overlap_resolver\": {\"process_graph\": {\"subtract1\": {\"process_id\": \"subtract\", \"arguments\": {\"x\": {\"from_parameter\": \"x\"}, \"y\": {\"from_parameter\": \"y\"}}, \"result\": true}}}}}, \"mergecubes2\": {\"process_id\": \"merge_cubes\", \"arguments\": {\"cube1\": {\"from_node\": \"filterbands1\"}, \"cube2\": {\"from_node\": \"filterbands2\"}, \"overlap_resolver\": {\"process_graph\": {\"add1\": {\"process_id\": \"add\", \"arguments\": {\"x\": {\"from_parameter\": \"x\"}, \"y\": {\"from_parameter\": \"y\"}}, \"result\": true}}}}}, \"mergecubes3\": {\"process_id\": \"merge_cubes\", \"arguments\": {\"cube1\": {\"from_node\": \"mergecubes1\"}, \"cube2\": {\"from_node\": \"mergecubes2\"}, \"overlap_resolver\": {\"process_graph\": {\"divide1\": {\"process_id\": \"divide\", \"arguments\": {\"x\": {\"from_parameter\": \"x\"}, \"y\": {\"from_parameter\": \"y\"}}, \"result\": true}}}}}, \"filterbands3\": {\"process_id\": \"filter_bands\", \"arguments\": {\"bands\": [\"CLM\"], \"data\": {\"from_node\": \"loadcollection1\"}}}, \"apply1\": {\"process_id\": \"apply\", \"arguments\": {\"data\": {\"from_node\": \"filterbands3\"}, \"process\": {\"process_graph\": {\"eq1\": {\"process_id\": \"eq\", \"arguments\": {\"x\": {\"from_parameter\": \"x\"}, \"y\": 1}, \"result\": true}}}}}, \"mask1\": {\"process_id\": \"mask\", \"arguments\": {\"data\": {\"from_node\": \"mergecubes3\"}, \"mask\": {\"from_node\": \"apply1\"}}}, \"apply2\": {\"process_id\": \"apply\", \"arguments\": {\"data\": {\"from_node\": \"mask1\"}, \"process\": {\"process_graph\": {\"gt1\": {\"process_id\": \"gt\", \"arguments\": {\"x\": {\"from_parameter\": \"x\"}, \"y\": 0.4}, \"result\": true}}}}}, \"readvector1\": {\"process_id\": \"read_vector\", \"arguments\": {\"filename\": \"{\\\"type\\\": \\\"FeatureCollection\\\", \\\"features\\\": [{\\\"id\\\": \\\"0\\\", \\\"type\\\": \\\"Feature\\\", \\\"properties\\\": {\\\"HYBAS_ID\\\": 2090516090, \\\"NEXT_DOWN\\\": 2090516950, \\\"NEXT_SINK\\\": 2090012980, \\\"MAIN_BAS\\\": 2090012980, \\\"DIST_SINK\\\": 334.5, \\\"DIST_MAIN\\\": 334.5, \\\"SUB_AREA\\\": 419.1, \\\"UP_AREA\\\": 419.2, \\\"PFAF_ID\\\": 214040804, \\\"ENDO\\\": 0, \\\"COAST\\\": 0, \\\"ORDER\\\": 3, \\\"SORT\\\": 10988}, \\\"geometry\\\": {\\\"type\\\": \\\"MultiPolygon\\\", \\\"coordinates\\\": [[[[11.075, 46.72916666666669], [11.072575547960094, 46.728813340928845], [11.069091118706622, 46.72535332573787], [11.048285590277802, 46.724646674262175], [11.042024739583358, 46.73087632921009], [11.041666666666691, 46.733333333333356], [11.038123575846377, 46.73424241807728], [11.0375, 46.74583333333336], [11.03664923773874, 46.74914923773874], [11.030017428927975, 46.75085076226131], [11.028599378797768, 46.756377156575546], [11.025567287868947, 46.76028951009117], [11.0244327121311, 46.76471048990888], [11.02140062120228, 46.7686228434245], [11.020833333333357, 46.77083333333336], [11.024291653103322, 46.77172071668839], [11.025567287868947, 46.781377156575545], [11.032766045464435, 46.78945617675784], [11.033900621202282, 46.79387715657555], [11.036932712131101, 46.79778951009117], [11.038067287868948, 46.80221048990888], [11.042586263020858, 46.80762905544707], [11.052210489908878, 46.808900621202284], [11.06028951009117, 46.816099378797766], [11.06471048990888, 46.81723395453562], [11.068622843424503, 46.820266045464436], [11.073043823242212, 46.82140062120228], [11.077974107530407, 46.82522176106773], [11.079733954535614, 46.83010389539933], [11.071295166015648, 46.83957451714412], [11.0744327121311, 46.843622843424505], [11.075567287868948, 46.846579996744815], [11.071400621202281, 46.85195617675784], [11.070266045464434, 46.859321424696205], [11.082766045464435, 46.872789510091174], [11.084041680230058, 46.882445949978326], [11.089710489908878, 46.88390062120228], [11.09995964898006, 46.89319695366756], [11.096400621202282, 46.89778951009117], [11.095266045464435, 46.91343722873266], [11.103599378797767, 46.92278951009117], [11.104166666666691, 46.929166666666696], [11.114924452039954, 46.92951999240454], [11.11875, 46.9333187527127], [11.12328694661461, 46.92881334092885], [11.139924452039956, 46.92951999240454], [11.143408881293428, 46.93298000759551], [11.148288302951414, 46.933691067165825], [11.157980007595512, 46.94340888129343], [11.158691406250025, 46.948290337456626], [11.16424221462676, 46.953813340928846], [11.166666666666693, 46.954166666666694], [11.167024739583358, 46.95170966254343], [11.172575547960095, 46.94618665907121], [11.177424452039956, 46.94548000759551], [11.180908881293428, 46.94201999240454], [11.185757785373289, 46.94131334092884], [11.189242214626761, 46.937853325737876], [11.194123670789956, 46.93714192708336], [11.199646674262178, 46.93159111870662], [11.200353325737872, 46.9100755479601], [11.204519992404538, 46.90587972005211], [11.203813340928845, 46.901742214626765], [11.199646674262178, 46.89754638671877], [11.200353325737872, 46.89340888129343], [11.203813340928845, 46.889924452039956], [11.204519992404538, 46.8850755479601], [11.21248609754777, 46.877084011501765], [11.208686659071207, 46.87325778537329], [11.208333333333359, 46.85833333333336], [11.210543823242213, 46.85776604546444], [11.214456176757839, 46.85473395453562], [11.231377156575547, 46.85359937879777], [11.239456176757837, 46.846400621202285], [11.260543823242212, 46.845266045464435], [11.26458333333336, 46.84213528103301], [11.26875, 46.84536471896704], [11.272789510091172, 46.842233954535615], [11.323043823242214, 46.84109937879777], [11.331122843424506, 46.83390062120228], [11.343877156575548, 46.83276604546444], [11.347789510091172, 46.82973395453561], [11.35331590440541, 46.82831590440541], [11.354733954535616, 46.82278951009117], [11.357766045464437, 46.818877156575546], [11.358900621202284, 46.81445617675784], [11.36609937879777, 46.80637715657554], [11.366666666666694, 46.80416666666669], [11.365779283311658, 46.80070834689673], [11.356122843424506, 46.7994327121311], [11.35208333333336, 46.796301947699675], [11.347916666666693, 46.799531385633706], [11.343877156575548, 46.79640062120228], [11.339456176757839, 46.79526604546444], [11.335543823242213, 46.79223395453562], [11.321806165907145, 46.79101189507381], [11.31306728786895, 46.781377156575545], [11.311932712131103, 46.776956176757835], [11.304733954535617, 46.76887715657555], [11.30359937879777, 46.76445617675784], [11.30056728786895, 46.760543823242216], [11.299149237738742, 46.75501742892798], [11.293622843424505, 46.753599378797766], [11.289710489908881, 46.75056728786895], [11.279166666666693, 46.75], [11.278813340928846, 46.73924221462676], [11.27464667426218, 46.73504638671878], [11.275353325737873, 46.73090888129343], [11.283319430881102, 46.722917344835096], [11.27951999240454, 46.71909111870662], [11.278813340928846, 46.705908881293425], [11.275353325737873, 46.702424452039956], [11.275, 46.7], [11.274032253689262, 46.69622938368058], [11.267413330078151, 46.691099378797766], [11.260289510091171, 46.69223395453562], [11.25491333007815, 46.69640062120228], [11.251956176757838, 46.695266045464436], [11.248043823242213, 46.69223395453562], [11.239456176757837, 46.691099378797766], [11.235543823242214, 46.68806728786895], [11.218622843424505, 46.6869327121311], [11.21471048990888, 46.683900621202284], [11.197789510091171, 46.68276604546443], [11.193877156575546, 46.679733954535614], [11.184220716688394, 46.67845831976999], [11.182413736979193, 46.671416219075546], [11.173043823242214, 46.66306728786895], [11.168622843424505, 46.6619327121311], [11.159270562065997, 46.653599378797765], [11.154985215928845, 46.655143907335095], [11.154166666666692, 46.65833333333336], [11.15085076226131, 46.65918409559464], [11.15, 46.6625], [11.150353325737871, 46.66909111870662], [11.155876329210095, 46.67464192708336], [11.160757785373288, 46.67535332573787], [11.166668023003497, 46.68123406304256], [11.162853325737872, 46.685075547960096], [11.162146674262178, 46.68992445203995], [11.15451999240454, 46.69757554796009], [11.153813340928846, 46.702424452039956], [11.148290337456622, 46.70797526041669], [11.143408881293428, 46.708686659071205], [11.139924452039956, 46.71214667426218], [11.122575547960095, 46.712853325737875], [11.119091118706622, 46.71631334092884], [11.11424221462676, 46.71701999240454], [11.110757785373288, 46.72048000759551], [11.10174221462676, 46.72118665907121], [11.098257785373288, 46.724646674262175], [11.085075547960095, 46.72535332573787], [11.081591118706623, 46.728813340928845], [11.075, 46.72916666666669]]]]}}]}\"}}, \"aggregatespatial1\": {\"process_id\": \"aggregate_spatial\", \"arguments\": {\"data\": {\"from_node\": \"apply2\"}, \"geometries\": {\"from_node\": \"readvector1\"}, \"reducer\": {\"process_graph\": {\"sum1\": {\"process_id\": \"sum\", \"arguments\": {\"data\": {\"from_parameter\": \"data\"}}, \"result\": true}}}}, \"result\": true}}}}</script>\n",
       "    </openeo-model-builder>\n",
       "    "
      ],
      "text/plain": [
       "<openeo.rest.vectorcube.VectorCube at 0x7fab83385d90>"
      ]
     },
     "execution_count": 82,
     "metadata": {},
     "output_type": "execute_result"
    }
   ],
   "source": [
    "n_snow = snowmap.aggregate_spatial(geometries = catchment_outline['geometry'][0], reducer=\"sum\")\n",
    "n_snow"
   ]
  },
  {
   "cell_type": "markdown",
   "id": "098ebda8-ad8e-4dc6-a4f0-1f744ee3fe48",
   "metadata": {},
   "source": [
    "## Download the results\n",
    "So far no processing has happened! We have only created the workflow instructions. Now we are moving to the step where the actual processing will take place.\n",
    "Before downloading please run the connection step again to make sure your connection is still active. Then we check the available file formats that the cloud backend supports. This is very important to know, since not all file formats are suitable for all types of information. Finally we will download the results in two different ways."
   ]
  },
  {
   "cell_type": "markdown",
   "id": "21aef105-933e-4693-8420-caea98dc29cd",
   "metadata": {},
   "source": [
    "### Reconnect before downloading\n",
    "Run the connection cell in the beginning of the script again to make sure your connection is still valid."
   ]
  },
  {
   "cell_type": "markdown",
   "id": "be1ead0b-ca8e-417e-af20-566402186b7c",
   "metadata": {
    "tags": []
   },
   "source": [
    "### Available File Formats\n",
    "We check the available file formats that the cloud backend supports. This is very important to know, since not all file formats are suitable for all types of information."
   ]
  },
  {
   "cell_type": "code",
   "execution_count": 28,
   "id": "4a5b0dc5-665c-45e7-b54c-268bec23d9a5",
   "metadata": {},
   "outputs": [
    {
     "data": {
      "text/html": [
       "\n",
       "    <script>\n",
       "    if (!window.customElements || !window.customElements.get('openeo-file-formats')) {\n",
       "        var el = document.createElement('script');\n",
       "        el.src = \"https://cdn.jsdelivr.net/npm/@openeo/vue-components@2/assets/openeo.min.js\";\n",
       "        document.head.appendChild(el);\n",
       "\n",
       "        var font = document.createElement('font');\n",
       "        font.as = \"font\";\n",
       "        font.type = \"font/woff2\";\n",
       "        font.crossOrigin = true;\n",
       "        font.href = \"https://use.fontawesome.com/releases/v5.13.0/webfonts/fa-solid-900.woff2\"\n",
       "        document.head.appendChild(font);\n",
       "    }\n",
       "    </script>\n",
       "    <openeo-file-formats>\n",
       "        <script type=\"application/json\">{\"formats\": {\"input\": {}, \"output\": {\"GTiff\": {\"gis_data_types\": [\"raster\"], \"parameters\": {\"datatype\": {\"default\": \"float32\", \"description\": \"The values data type.\", \"enum\": [\"byte\", \"uint16\", \"float32\"], \"type\": \"string\"}}}, \"JPEG\": {\"gis_data_types\": [\"raster\"], \"parameters\": {\"datatype\": {\"default\": \"byte\", \"description\": \"The values data type.\", \"enum\": [\"byte\"], \"type\": \"string\"}}}, \"PNG\": {\"gis_data_types\": [\"raster\"], \"parameters\": {\"datatype\": {\"default\": \"byte\", \"description\": \"The values data type.\", \"enum\": [\"byte\", \"uint16\"], \"type\": \"string\"}}}}}}</script>\n",
       "    </openeo-file-formats>\n",
       "    "
      ],
      "text/plain": [
       "{'input': {},\n",
       " 'output': {'GTiff': {'gis_data_types': ['raster'],\n",
       "   'parameters': {'datatype': {'default': 'float32',\n",
       "     'description': 'The values data type.',\n",
       "     'enum': ['byte', 'uint16', 'float32'],\n",
       "     'type': 'string'}}},\n",
       "  'JPEG': {'gis_data_types': ['raster'],\n",
       "   'parameters': {'datatype': {'default': 'byte',\n",
       "     'description': 'The values data type.',\n",
       "     'enum': ['byte'],\n",
       "     'type': 'string'}}},\n",
       "  'PNG': {'gis_data_types': ['raster'],\n",
       "   'parameters': {'datatype': {'default': 'byte',\n",
       "     'description': 'The values data type.',\n",
       "     'enum': ['byte', 'uint16'],\n",
       "     'type': 'string'}}}}}"
      ]
     },
     "execution_count": 28,
     "metadata": {},
     "output_type": "execute_result"
    }
   ],
   "source": [
    "conn.list_file_formats()"
   ]
  },
  {
   "cell_type": "markdown",
   "id": "9888f058-b489-435d-9ec0-cab93eb650d5",
   "metadata": {},
   "source": [
    "### Synchronous Download\n",
    "One way of receiving the data from the cloud platform is via direct download. In this way we tell the platform to execute our workflow while we wait until it is done and then it will be directly downloaded. This blocks our development environment. It is suitable for quickly receiving small amounts of data."
   ]
  },
  {
   "cell_type": "code",
   "execution_count": 37,
   "id": "fe917d92-4ada-48bd-a401-a5c377002945",
   "metadata": {},
   "outputs": [
    {
     "ename": "OpenEoApiError",
     "evalue": "[403] TokenInvalid: Authorization token has expired or is invalid. Please authenticate again.",
     "output_type": "error",
     "traceback": [
      "\u001b[0;31m---------------------------------------------------------------------------\u001b[0m",
      "\u001b[0;31mOpenEoApiError\u001b[0m                            Traceback (most recent call last)",
      "Cell \u001b[0;32mIn[37], line 1\u001b[0m\n\u001b[0;32m----> 1\u001b[0m \u001b[43msnowarea\u001b[49m\u001b[38;5;241;43m.\u001b[39;49m\u001b[43mdownload\u001b[49m\u001b[43m(\u001b[49m\u001b[38;5;124;43m\"\u001b[39;49m\u001b[38;5;124;43msnowarea.tiff\u001b[39;49m\u001b[38;5;124;43m\"\u001b[39;49m\u001b[43m)\u001b[49m\n",
      "File \u001b[0;32m/home/conda/users/52c397debe78d7686aa36bd394f6f113e95009637029c5b71995fe48a567dcd4-20230418-061740-771350-145-edc-2023.03-02/lib/python3.9/site-packages/openeo/rest/vectorcube.py:109\u001b[0m, in \u001b[0;36mVectorCube.download\u001b[0;34m(self, outputfile, format, options)\u001b[0m\n\u001b[1;32m    106\u001b[0m \u001b[38;5;28;01mdef\u001b[39;00m \u001b[38;5;21mdownload\u001b[39m(\u001b[38;5;28mself\u001b[39m, outputfile: \u001b[38;5;28mstr\u001b[39m, \u001b[38;5;28mformat\u001b[39m: \u001b[38;5;28mstr\u001b[39m \u001b[38;5;241m=\u001b[39m \u001b[38;5;124m\"\u001b[39m\u001b[38;5;124mGeoJSON\u001b[39m\u001b[38;5;124m\"\u001b[39m, options: \u001b[38;5;28mdict\u001b[39m \u001b[38;5;241m=\u001b[39m \u001b[38;5;28;01mNone\u001b[39;00m):\n\u001b[1;32m    107\u001b[0m     \u001b[38;5;66;03m# TODO: only add save_result, when not already present (see DataCube.download)\u001b[39;00m\n\u001b[1;32m    108\u001b[0m     cube \u001b[38;5;241m=\u001b[39m \u001b[38;5;28mself\u001b[39m\u001b[38;5;241m.\u001b[39msave_result(\u001b[38;5;28mformat\u001b[39m\u001b[38;5;241m=\u001b[39m\u001b[38;5;28mformat\u001b[39m, options\u001b[38;5;241m=\u001b[39moptions)\n\u001b[0;32m--> 109\u001b[0m     \u001b[38;5;28;01mreturn\u001b[39;00m \u001b[38;5;28;43mself\u001b[39;49m\u001b[38;5;241;43m.\u001b[39;49m\u001b[43m_connection\u001b[49m\u001b[38;5;241;43m.\u001b[39;49m\u001b[43mdownload\u001b[49m\u001b[43m(\u001b[49m\u001b[43mcube\u001b[49m\u001b[38;5;241;43m.\u001b[39;49m\u001b[43mflat_graph\u001b[49m\u001b[43m(\u001b[49m\u001b[43m)\u001b[49m\u001b[43m,\u001b[49m\u001b[43m \u001b[49m\u001b[43moutputfile\u001b[49m\u001b[43m)\u001b[49m\n",
      "File \u001b[0;32m/home/conda/users/52c397debe78d7686aa36bd394f6f113e95009637029c5b71995fe48a567dcd4-20230418-061740-771350-145-edc-2023.03-02/lib/python3.9/site-packages/openeo/rest/connection.py:1146\u001b[0m, in \u001b[0;36mConnection.download\u001b[0;34m(self, graph, outputfile, timeout)\u001b[0m\n\u001b[1;32m   1135\u001b[0m \u001b[38;5;250m\u001b[39m\u001b[38;5;124;03m\"\"\"\u001b[39;00m\n\u001b[1;32m   1136\u001b[0m \u001b[38;5;124;03mDownloads the result of a process graph synchronously,\u001b[39;00m\n\u001b[1;32m   1137\u001b[0m \u001b[38;5;124;03mand save the result to the given file or return bytes object if no outputfile is specified.\u001b[39;00m\n\u001b[0;32m   (...)\u001b[0m\n\u001b[1;32m   1143\u001b[0m \u001b[38;5;124;03m:param timeout: timeout to wait for response\u001b[39;00m\n\u001b[1;32m   1144\u001b[0m \u001b[38;5;124;03m\"\"\"\u001b[39;00m\n\u001b[1;32m   1145\u001b[0m request \u001b[38;5;241m=\u001b[39m \u001b[38;5;28mself\u001b[39m\u001b[38;5;241m.\u001b[39m_build_request_with_process_graph(process_graph\u001b[38;5;241m=\u001b[39mgraph)\n\u001b[0;32m-> 1146\u001b[0m response \u001b[38;5;241m=\u001b[39m \u001b[38;5;28;43mself\u001b[39;49m\u001b[38;5;241;43m.\u001b[39;49m\u001b[43mpost\u001b[49m\u001b[43m(\u001b[49m\u001b[43mpath\u001b[49m\u001b[38;5;241;43m=\u001b[39;49m\u001b[38;5;124;43m\"\u001b[39;49m\u001b[38;5;124;43m/result\u001b[39;49m\u001b[38;5;124;43m\"\u001b[39;49m\u001b[43m,\u001b[49m\u001b[43m \u001b[49m\u001b[43mjson\u001b[49m\u001b[38;5;241;43m=\u001b[39;49m\u001b[43mrequest\u001b[49m\u001b[43m,\u001b[49m\u001b[43m \u001b[49m\u001b[43mexpected_status\u001b[49m\u001b[38;5;241;43m=\u001b[39;49m\u001b[38;5;241;43m200\u001b[39;49m\u001b[43m,\u001b[49m\u001b[43m \u001b[49m\u001b[43mstream\u001b[49m\u001b[38;5;241;43m=\u001b[39;49m\u001b[38;5;28;43;01mTrue\u001b[39;49;00m\u001b[43m,\u001b[49m\u001b[43m \u001b[49m\u001b[43mtimeout\u001b[49m\u001b[38;5;241;43m=\u001b[39;49m\u001b[43mtimeout\u001b[49m\u001b[43m)\u001b[49m\n\u001b[1;32m   1148\u001b[0m \u001b[38;5;28;01mif\u001b[39;00m outputfile \u001b[38;5;129;01mis\u001b[39;00m \u001b[38;5;129;01mnot\u001b[39;00m \u001b[38;5;28;01mNone\u001b[39;00m:\n\u001b[1;32m   1149\u001b[0m     \u001b[38;5;28;01mwith\u001b[39;00m Path(outputfile)\u001b[38;5;241m.\u001b[39mopen(mode\u001b[38;5;241m=\u001b[39m\u001b[38;5;124m\"\u001b[39m\u001b[38;5;124mwb\u001b[39m\u001b[38;5;124m\"\u001b[39m) \u001b[38;5;28;01mas\u001b[39;00m f:\n",
      "File \u001b[0;32m/home/conda/users/52c397debe78d7686aa36bd394f6f113e95009637029c5b71995fe48a567dcd4-20230418-061740-771350-145-edc-2023.03-02/lib/python3.9/site-packages/openeo/rest/connection.py:177\u001b[0m, in \u001b[0;36mRestApiConnection.post\u001b[0;34m(self, path, json, **kwargs)\u001b[0m\n\u001b[1;32m    169\u001b[0m \u001b[38;5;28;01mdef\u001b[39;00m \u001b[38;5;21mpost\u001b[39m(\u001b[38;5;28mself\u001b[39m, path, json: \u001b[38;5;28mdict\u001b[39m \u001b[38;5;241m=\u001b[39m \u001b[38;5;28;01mNone\u001b[39;00m, \u001b[38;5;241m*\u001b[39m\u001b[38;5;241m*\u001b[39mkwargs) \u001b[38;5;241m-\u001b[39m\u001b[38;5;241m>\u001b[39m Response:\n\u001b[1;32m    170\u001b[0m \u001b[38;5;250m    \u001b[39m\u001b[38;5;124;03m\"\"\"\u001b[39;00m\n\u001b[1;32m    171\u001b[0m \u001b[38;5;124;03m    Do POST request to REST API.\u001b[39;00m\n\u001b[1;32m    172\u001b[0m \n\u001b[0;32m   (...)\u001b[0m\n\u001b[1;32m    175\u001b[0m \u001b[38;5;124;03m    :return: response: Response\u001b[39;00m\n\u001b[1;32m    176\u001b[0m \u001b[38;5;124;03m    \"\"\"\u001b[39;00m\n\u001b[0;32m--> 177\u001b[0m     \u001b[38;5;28;01mreturn\u001b[39;00m \u001b[38;5;28;43mself\u001b[39;49m\u001b[38;5;241;43m.\u001b[39;49m\u001b[43mrequest\u001b[49m\u001b[43m(\u001b[49m\u001b[38;5;124;43m\"\u001b[39;49m\u001b[38;5;124;43mpost\u001b[39;49m\u001b[38;5;124;43m\"\u001b[39;49m\u001b[43m,\u001b[49m\u001b[43m \u001b[49m\u001b[43mpath\u001b[49m\u001b[38;5;241;43m=\u001b[39;49m\u001b[43mpath\u001b[49m\u001b[43m,\u001b[49m\u001b[43m \u001b[49m\u001b[43mjson\u001b[49m\u001b[38;5;241;43m=\u001b[39;49m\u001b[43mjson\u001b[49m\u001b[43m,\u001b[49m\u001b[43m \u001b[49m\u001b[43mallow_redirects\u001b[49m\u001b[38;5;241;43m=\u001b[39;49m\u001b[38;5;28;43;01mFalse\u001b[39;49;00m\u001b[43m,\u001b[49m\u001b[43m \u001b[49m\u001b[38;5;241;43m*\u001b[39;49m\u001b[38;5;241;43m*\u001b[39;49m\u001b[43mkwargs\u001b[49m\u001b[43m)\u001b[49m\n",
      "File \u001b[0;32m/home/conda/users/52c397debe78d7686aa36bd394f6f113e95009637029c5b71995fe48a567dcd4-20230418-061740-771350-145-edc-2023.03-02/lib/python3.9/site-packages/openeo/rest/connection.py:604\u001b[0m, in \u001b[0;36mConnection.request\u001b[0;34m(self, method, path, headers, auth, check_error, expected_status, **kwargs)\u001b[0m\n\u001b[1;32m    597\u001b[0m     \u001b[38;5;28;01mreturn\u001b[39;00m \u001b[38;5;28msuper\u001b[39m(Connection, \u001b[38;5;28mself\u001b[39m)\u001b[38;5;241m.\u001b[39mrequest(\n\u001b[1;32m    598\u001b[0m         method\u001b[38;5;241m=\u001b[39mmethod, path\u001b[38;5;241m=\u001b[39mpath, headers\u001b[38;5;241m=\u001b[39mheaders, auth\u001b[38;5;241m=\u001b[39mauth,\n\u001b[1;32m    599\u001b[0m         check_error\u001b[38;5;241m=\u001b[39mcheck_error, expected_status\u001b[38;5;241m=\u001b[39mexpected_status, \u001b[38;5;241m*\u001b[39m\u001b[38;5;241m*\u001b[39mkwargs,\n\u001b[1;32m    600\u001b[0m     )\n\u001b[1;32m    602\u001b[0m \u001b[38;5;28;01mtry\u001b[39;00m:\n\u001b[1;32m    603\u001b[0m     \u001b[38;5;66;03m# Initial request attempt\u001b[39;00m\n\u001b[0;32m--> 604\u001b[0m     \u001b[38;5;28;01mreturn\u001b[39;00m \u001b[43m_request\u001b[49m\u001b[43m(\u001b[49m\u001b[43m)\u001b[49m\n\u001b[1;32m    605\u001b[0m \u001b[38;5;28;01mexcept\u001b[39;00m OpenEoApiError \u001b[38;5;28;01mas\u001b[39;00m api_exc:\n\u001b[1;32m    606\u001b[0m     \u001b[38;5;28;01mif\u001b[39;00m api_exc\u001b[38;5;241m.\u001b[39mhttp_status_code \u001b[38;5;241m==\u001b[39m \u001b[38;5;241m403\u001b[39m \u001b[38;5;129;01mand\u001b[39;00m api_exc\u001b[38;5;241m.\u001b[39mcode \u001b[38;5;241m==\u001b[39m \u001b[38;5;124m\"\u001b[39m\u001b[38;5;124mTokenInvalid\u001b[39m\u001b[38;5;124m\"\u001b[39m:\n\u001b[1;32m    607\u001b[0m         \u001b[38;5;66;03m# Auth token expired: can we refresh?\u001b[39;00m\n",
      "File \u001b[0;32m/home/conda/users/52c397debe78d7686aa36bd394f6f113e95009637029c5b71995fe48a567dcd4-20230418-061740-771350-145-edc-2023.03-02/lib/python3.9/site-packages/openeo/rest/connection.py:597\u001b[0m, in \u001b[0;36mConnection.request.<locals>._request\u001b[0;34m()\u001b[0m\n\u001b[1;32m    596\u001b[0m \u001b[38;5;28;01mdef\u001b[39;00m \u001b[38;5;21m_request\u001b[39m():\n\u001b[0;32m--> 597\u001b[0m     \u001b[38;5;28;01mreturn\u001b[39;00m \u001b[38;5;28;43msuper\u001b[39;49m\u001b[43m(\u001b[49m\u001b[43mConnection\u001b[49m\u001b[43m,\u001b[49m\u001b[43m \u001b[49m\u001b[38;5;28;43mself\u001b[39;49m\u001b[43m)\u001b[49m\u001b[38;5;241;43m.\u001b[39;49m\u001b[43mrequest\u001b[49m\u001b[43m(\u001b[49m\n\u001b[1;32m    598\u001b[0m \u001b[43m        \u001b[49m\u001b[43mmethod\u001b[49m\u001b[38;5;241;43m=\u001b[39;49m\u001b[43mmethod\u001b[49m\u001b[43m,\u001b[49m\u001b[43m \u001b[49m\u001b[43mpath\u001b[49m\u001b[38;5;241;43m=\u001b[39;49m\u001b[43mpath\u001b[49m\u001b[43m,\u001b[49m\u001b[43m \u001b[49m\u001b[43mheaders\u001b[49m\u001b[38;5;241;43m=\u001b[39;49m\u001b[43mheaders\u001b[49m\u001b[43m,\u001b[49m\u001b[43m \u001b[49m\u001b[43mauth\u001b[49m\u001b[38;5;241;43m=\u001b[39;49m\u001b[43mauth\u001b[49m\u001b[43m,\u001b[49m\n\u001b[1;32m    599\u001b[0m \u001b[43m        \u001b[49m\u001b[43mcheck_error\u001b[49m\u001b[38;5;241;43m=\u001b[39;49m\u001b[43mcheck_error\u001b[49m\u001b[43m,\u001b[49m\u001b[43m \u001b[49m\u001b[43mexpected_status\u001b[49m\u001b[38;5;241;43m=\u001b[39;49m\u001b[43mexpected_status\u001b[49m\u001b[43m,\u001b[49m\u001b[43m \u001b[49m\u001b[38;5;241;43m*\u001b[39;49m\u001b[38;5;241;43m*\u001b[39;49m\u001b[43mkwargs\u001b[49m\u001b[43m,\u001b[49m\n\u001b[1;32m    600\u001b[0m \u001b[43m    \u001b[49m\u001b[43m)\u001b[49m\n",
      "File \u001b[0;32m/home/conda/users/52c397debe78d7686aa36bd394f6f113e95009637029c5b71995fe48a567dcd4-20230418-061740-771350-145-edc-2023.03-02/lib/python3.9/site-packages/openeo/rest/connection.py:125\u001b[0m, in \u001b[0;36mRestApiConnection.request\u001b[0;34m(self, method, path, headers, auth, check_error, expected_status, **kwargs)\u001b[0m\n\u001b[1;32m    123\u001b[0m expected_status \u001b[38;5;241m=\u001b[39m ensure_list(expected_status) \u001b[38;5;28;01mif\u001b[39;00m expected_status \u001b[38;5;28;01melse\u001b[39;00m []\n\u001b[1;32m    124\u001b[0m \u001b[38;5;28;01mif\u001b[39;00m check_error \u001b[38;5;129;01mand\u001b[39;00m status \u001b[38;5;241m>\u001b[39m\u001b[38;5;241m=\u001b[39m \u001b[38;5;241m400\u001b[39m \u001b[38;5;129;01mand\u001b[39;00m status \u001b[38;5;129;01mnot\u001b[39;00m \u001b[38;5;129;01min\u001b[39;00m expected_status:\n\u001b[0;32m--> 125\u001b[0m     \u001b[38;5;28;43mself\u001b[39;49m\u001b[38;5;241;43m.\u001b[39;49m\u001b[43m_raise_api_error\u001b[49m\u001b[43m(\u001b[49m\u001b[43mresp\u001b[49m\u001b[43m)\u001b[49m\n\u001b[1;32m    126\u001b[0m \u001b[38;5;28;01mif\u001b[39;00m expected_status \u001b[38;5;129;01mand\u001b[39;00m status \u001b[38;5;129;01mnot\u001b[39;00m \u001b[38;5;129;01min\u001b[39;00m expected_status:\n\u001b[1;32m    127\u001b[0m     \u001b[38;5;28;01mraise\u001b[39;00m OpenEoRestError(\u001b[38;5;124m\"\u001b[39m\u001b[38;5;124mGot status code \u001b[39m\u001b[38;5;132;01m{s!r}\u001b[39;00m\u001b[38;5;124m for `\u001b[39m\u001b[38;5;132;01m{m}\u001b[39;00m\u001b[38;5;124m \u001b[39m\u001b[38;5;132;01m{p}\u001b[39;00m\u001b[38;5;124m` (expected \u001b[39m\u001b[38;5;132;01m{e!r}\u001b[39;00m\u001b[38;5;124m)\u001b[39m\u001b[38;5;124m\"\u001b[39m\u001b[38;5;241m.\u001b[39mformat(\n\u001b[1;32m    128\u001b[0m         m\u001b[38;5;241m=\u001b[39mmethod\u001b[38;5;241m.\u001b[39mupper(), p\u001b[38;5;241m=\u001b[39mpath, s\u001b[38;5;241m=\u001b[39mstatus, e\u001b[38;5;241m=\u001b[39mexpected_status)\n\u001b[1;32m    129\u001b[0m     )\n",
      "File \u001b[0;32m/home/conda/users/52c397debe78d7686aa36bd394f6f113e95009637029c5b71995fe48a567dcd4-20230418-061740-771350-145-edc-2023.03-02/lib/python3.9/site-packages/openeo/rest/connection.py:156\u001b[0m, in \u001b[0;36mRestApiConnection._raise_api_error\u001b[0;34m(self, response)\u001b[0m\n\u001b[1;32m    154\u001b[0m     \u001b[38;5;28;01melse\u001b[39;00m:\n\u001b[1;32m    155\u001b[0m         exception \u001b[38;5;241m=\u001b[39m OpenEoApiError(http_status_code\u001b[38;5;241m=\u001b[39mstatus_code, message\u001b[38;5;241m=\u001b[39mtext)\n\u001b[0;32m--> 156\u001b[0m \u001b[38;5;28;01mraise\u001b[39;00m exception\n",
      "\u001b[0;31mOpenEoApiError\u001b[0m: [403] TokenInvalid: Authorization token has expired or is invalid. Please authenticate again."
     ]
    }
   ],
   "source": [
    "snowarea.download(\"snowarea.tiff\")"
   ]
  },
  {
   "cell_type": "markdown",
   "id": "97f2eaad-d916-47f8-9f5f-ea157fbf35b6",
   "metadata": {},
   "source": [
    "### Batch Job\n",
    "A second way to receive the results from the platform is to use a batch job, or asynchrounous processing. In this way a job is registered on the backend first. This job is persistently available via it's ID for a given amount of time. The job can be started whenever wanted. It is then executed in the background. Its status can be cecked. When it's done the results can be downloaded. In this way the development environment is not blocked, other things can be done. This is suitable for larger analysis. "
   ]
  },
  {
   "cell_type": "code",
   "execution_count": 84,
   "id": "7abe8c8f-dcda-4bf0-9510-399aabf23fb1",
   "metadata": {},
   "outputs": [
    {
     "ename": "OpenEoApiError",
     "evalue": "[400] 400: Unable to convert process graph to evalscript: list index out of range",
     "output_type": "error",
     "traceback": [
      "\u001b[0;31m---------------------------------------------------------------------------\u001b[0m",
      "\u001b[0;31mOpenEoApiError\u001b[0m                            Traceback (most recent call last)",
      "Cell \u001b[0;32mIn[84], line 4\u001b[0m\n\u001b[1;32m      1\u001b[0m snowmap_fin \u001b[38;5;241m=\u001b[39m snowmap\u001b[38;5;241m.\u001b[39msave_result(\u001b[38;5;28mformat\u001b[39m\u001b[38;5;241m=\u001b[39m\u001b[38;5;124m\"\u001b[39m\u001b[38;5;124mGTiff\u001b[39m\u001b[38;5;124m\"\u001b[39m)\n\u001b[1;32m      2\u001b[0m \u001b[38;5;66;03m#snowmap_fin.execute_batch()\u001b[39;00m\n\u001b[0;32m----> 4\u001b[0m snowmap_fin_job \u001b[38;5;241m=\u001b[39m \u001b[43msnowmap\u001b[49m\u001b[38;5;241;43m.\u001b[39;49m\u001b[43mcreate_job\u001b[49m\u001b[43m(\u001b[49m\u001b[43mtitle\u001b[49m\u001b[43m \u001b[49m\u001b[38;5;241;43m=\u001b[39;49m\u001b[43m \u001b[49m\u001b[38;5;124;43m\"\u001b[39;49m\u001b[38;5;124;43msnowmap\u001b[39;49m\u001b[38;5;124;43m\"\u001b[39;49m\u001b[43m)\u001b[49m\n\u001b[1;32m      5\u001b[0m snowmap_fin_job\u001b[38;5;241m.\u001b[39mstart_job()\n",
      "File \u001b[0;32m/home/conda/users/52c397debe78d7686aa36bd394f6f113e95009637029c5b71995fe48a567dcd4-20230418-061740-771350-145-edc-2023.03-02/lib/python3.9/site-packages/openeo/rest/datacube.py:1970\u001b[0m, in \u001b[0;36mDataCube.create_job\u001b[0;34m(self, out_format, title, description, plan, budget, job_options, **format_options)\u001b[0m\n\u001b[1;32m   1966\u001b[0m \u001b[38;5;66;03m# TODO: add option to also automatically start the job?\u001b[39;00m\n\u001b[1;32m   1967\u001b[0m \u001b[38;5;66;03m# TODO: avoid using all kwargs as format_options\u001b[39;00m\n\u001b[1;32m   1968\u001b[0m \u001b[38;5;66;03m# TODO: centralize `create_job` for `DataCube`, `VectorCube`, `MlModel`, ...\u001b[39;00m\n\u001b[1;32m   1969\u001b[0m cube \u001b[38;5;241m=\u001b[39m \u001b[38;5;28mself\u001b[39m\u001b[38;5;241m.\u001b[39m_ensure_save_result(\u001b[38;5;28mformat\u001b[39m\u001b[38;5;241m=\u001b[39mout_format, options\u001b[38;5;241m=\u001b[39mformat_options)\n\u001b[0;32m-> 1970\u001b[0m \u001b[38;5;28;01mreturn\u001b[39;00m \u001b[38;5;28;43mself\u001b[39;49m\u001b[38;5;241;43m.\u001b[39;49m\u001b[43m_connection\u001b[49m\u001b[38;5;241;43m.\u001b[39;49m\u001b[43mcreate_job\u001b[49m\u001b[43m(\u001b[49m\n\u001b[1;32m   1971\u001b[0m \u001b[43m    \u001b[49m\u001b[43mprocess_graph\u001b[49m\u001b[38;5;241;43m=\u001b[39;49m\u001b[43mcube\u001b[49m\u001b[38;5;241;43m.\u001b[39;49m\u001b[43mflat_graph\u001b[49m\u001b[43m(\u001b[49m\u001b[43m)\u001b[49m\u001b[43m,\u001b[49m\n\u001b[1;32m   1972\u001b[0m \u001b[43m    \u001b[49m\u001b[43mtitle\u001b[49m\u001b[38;5;241;43m=\u001b[39;49m\u001b[43mtitle\u001b[49m\u001b[43m,\u001b[49m\n\u001b[1;32m   1973\u001b[0m \u001b[43m    \u001b[49m\u001b[43mdescription\u001b[49m\u001b[38;5;241;43m=\u001b[39;49m\u001b[43mdescription\u001b[49m\u001b[43m,\u001b[49m\n\u001b[1;32m   1974\u001b[0m \u001b[43m    \u001b[49m\u001b[43mplan\u001b[49m\u001b[38;5;241;43m=\u001b[39;49m\u001b[43mplan\u001b[49m\u001b[43m,\u001b[49m\n\u001b[1;32m   1975\u001b[0m \u001b[43m    \u001b[49m\u001b[43mbudget\u001b[49m\u001b[38;5;241;43m=\u001b[39;49m\u001b[43mbudget\u001b[49m\u001b[43m,\u001b[49m\n\u001b[1;32m   1976\u001b[0m \u001b[43m    \u001b[49m\u001b[43madditional\u001b[49m\u001b[38;5;241;43m=\u001b[39;49m\u001b[43mjob_options\u001b[49m\u001b[43m,\u001b[49m\n\u001b[1;32m   1977\u001b[0m \u001b[43m\u001b[49m\u001b[43m)\u001b[49m\n",
      "File \u001b[0;32m/home/conda/users/52c397debe78d7686aa36bd394f6f113e95009637029c5b71995fe48a567dcd4-20230418-061740-771350-145-edc-2023.03-02/lib/python3.9/site-packages/openeo/rest/connection.py:1197\u001b[0m, in \u001b[0;36mConnection.create_job\u001b[0;34m(self, process_graph, title, description, plan, budget, additional)\u001b[0m\n\u001b[1;32m   1193\u001b[0m \u001b[38;5;28;01mif\u001b[39;00m additional:\n\u001b[1;32m   1194\u001b[0m     \u001b[38;5;66;03m# TODO: get rid of this non-standard field? https://github.com/Open-EO/openeo-api/issues/276\u001b[39;00m\n\u001b[1;32m   1195\u001b[0m     req[\u001b[38;5;124m\"\u001b[39m\u001b[38;5;124mjob_options\u001b[39m\u001b[38;5;124m\"\u001b[39m] \u001b[38;5;241m=\u001b[39m additional\n\u001b[0;32m-> 1197\u001b[0m response \u001b[38;5;241m=\u001b[39m \u001b[38;5;28;43mself\u001b[39;49m\u001b[38;5;241;43m.\u001b[39;49m\u001b[43mpost\u001b[49m\u001b[43m(\u001b[49m\u001b[38;5;124;43m\"\u001b[39;49m\u001b[38;5;124;43m/jobs\u001b[39;49m\u001b[38;5;124;43m\"\u001b[39;49m\u001b[43m,\u001b[49m\u001b[43m \u001b[49m\u001b[43mjson\u001b[49m\u001b[38;5;241;43m=\u001b[39;49m\u001b[43mreq\u001b[49m\u001b[43m,\u001b[49m\u001b[43m \u001b[49m\u001b[43mexpected_status\u001b[49m\u001b[38;5;241;43m=\u001b[39;49m\u001b[38;5;241;43m201\u001b[39;49m\u001b[43m)\u001b[49m\n\u001b[1;32m   1199\u001b[0m job_id \u001b[38;5;241m=\u001b[39m \u001b[38;5;28;01mNone\u001b[39;00m\n\u001b[1;32m   1200\u001b[0m \u001b[38;5;28;01mif\u001b[39;00m \u001b[38;5;124m\"\u001b[39m\u001b[38;5;124mopeneo-identifier\u001b[39m\u001b[38;5;124m\"\u001b[39m \u001b[38;5;129;01min\u001b[39;00m response\u001b[38;5;241m.\u001b[39mheaders:\n",
      "File \u001b[0;32m/home/conda/users/52c397debe78d7686aa36bd394f6f113e95009637029c5b71995fe48a567dcd4-20230418-061740-771350-145-edc-2023.03-02/lib/python3.9/site-packages/openeo/rest/connection.py:177\u001b[0m, in \u001b[0;36mRestApiConnection.post\u001b[0;34m(self, path, json, **kwargs)\u001b[0m\n\u001b[1;32m    169\u001b[0m \u001b[38;5;28;01mdef\u001b[39;00m \u001b[38;5;21mpost\u001b[39m(\u001b[38;5;28mself\u001b[39m, path, json: \u001b[38;5;28mdict\u001b[39m \u001b[38;5;241m=\u001b[39m \u001b[38;5;28;01mNone\u001b[39;00m, \u001b[38;5;241m*\u001b[39m\u001b[38;5;241m*\u001b[39mkwargs) \u001b[38;5;241m-\u001b[39m\u001b[38;5;241m>\u001b[39m Response:\n\u001b[1;32m    170\u001b[0m \u001b[38;5;250m    \u001b[39m\u001b[38;5;124;03m\"\"\"\u001b[39;00m\n\u001b[1;32m    171\u001b[0m \u001b[38;5;124;03m    Do POST request to REST API.\u001b[39;00m\n\u001b[1;32m    172\u001b[0m \n\u001b[0;32m   (...)\u001b[0m\n\u001b[1;32m    175\u001b[0m \u001b[38;5;124;03m    :return: response: Response\u001b[39;00m\n\u001b[1;32m    176\u001b[0m \u001b[38;5;124;03m    \"\"\"\u001b[39;00m\n\u001b[0;32m--> 177\u001b[0m     \u001b[38;5;28;01mreturn\u001b[39;00m \u001b[38;5;28;43mself\u001b[39;49m\u001b[38;5;241;43m.\u001b[39;49m\u001b[43mrequest\u001b[49m\u001b[43m(\u001b[49m\u001b[38;5;124;43m\"\u001b[39;49m\u001b[38;5;124;43mpost\u001b[39;49m\u001b[38;5;124;43m\"\u001b[39;49m\u001b[43m,\u001b[49m\u001b[43m \u001b[49m\u001b[43mpath\u001b[49m\u001b[38;5;241;43m=\u001b[39;49m\u001b[43mpath\u001b[49m\u001b[43m,\u001b[49m\u001b[43m \u001b[49m\u001b[43mjson\u001b[49m\u001b[38;5;241;43m=\u001b[39;49m\u001b[43mjson\u001b[49m\u001b[43m,\u001b[49m\u001b[43m \u001b[49m\u001b[43mallow_redirects\u001b[49m\u001b[38;5;241;43m=\u001b[39;49m\u001b[38;5;28;43;01mFalse\u001b[39;49;00m\u001b[43m,\u001b[49m\u001b[43m \u001b[49m\u001b[38;5;241;43m*\u001b[39;49m\u001b[38;5;241;43m*\u001b[39;49m\u001b[43mkwargs\u001b[49m\u001b[43m)\u001b[49m\n",
      "File \u001b[0;32m/home/conda/users/52c397debe78d7686aa36bd394f6f113e95009637029c5b71995fe48a567dcd4-20230418-061740-771350-145-edc-2023.03-02/lib/python3.9/site-packages/openeo/rest/connection.py:604\u001b[0m, in \u001b[0;36mConnection.request\u001b[0;34m(self, method, path, headers, auth, check_error, expected_status, **kwargs)\u001b[0m\n\u001b[1;32m    597\u001b[0m     \u001b[38;5;28;01mreturn\u001b[39;00m \u001b[38;5;28msuper\u001b[39m(Connection, \u001b[38;5;28mself\u001b[39m)\u001b[38;5;241m.\u001b[39mrequest(\n\u001b[1;32m    598\u001b[0m         method\u001b[38;5;241m=\u001b[39mmethod, path\u001b[38;5;241m=\u001b[39mpath, headers\u001b[38;5;241m=\u001b[39mheaders, auth\u001b[38;5;241m=\u001b[39mauth,\n\u001b[1;32m    599\u001b[0m         check_error\u001b[38;5;241m=\u001b[39mcheck_error, expected_status\u001b[38;5;241m=\u001b[39mexpected_status, \u001b[38;5;241m*\u001b[39m\u001b[38;5;241m*\u001b[39mkwargs,\n\u001b[1;32m    600\u001b[0m     )\n\u001b[1;32m    602\u001b[0m \u001b[38;5;28;01mtry\u001b[39;00m:\n\u001b[1;32m    603\u001b[0m     \u001b[38;5;66;03m# Initial request attempt\u001b[39;00m\n\u001b[0;32m--> 604\u001b[0m     \u001b[38;5;28;01mreturn\u001b[39;00m \u001b[43m_request\u001b[49m\u001b[43m(\u001b[49m\u001b[43m)\u001b[49m\n\u001b[1;32m    605\u001b[0m \u001b[38;5;28;01mexcept\u001b[39;00m OpenEoApiError \u001b[38;5;28;01mas\u001b[39;00m api_exc:\n\u001b[1;32m    606\u001b[0m     \u001b[38;5;28;01mif\u001b[39;00m api_exc\u001b[38;5;241m.\u001b[39mhttp_status_code \u001b[38;5;241m==\u001b[39m \u001b[38;5;241m403\u001b[39m \u001b[38;5;129;01mand\u001b[39;00m api_exc\u001b[38;5;241m.\u001b[39mcode \u001b[38;5;241m==\u001b[39m \u001b[38;5;124m\"\u001b[39m\u001b[38;5;124mTokenInvalid\u001b[39m\u001b[38;5;124m\"\u001b[39m:\n\u001b[1;32m    607\u001b[0m         \u001b[38;5;66;03m# Auth token expired: can we refresh?\u001b[39;00m\n",
      "File \u001b[0;32m/home/conda/users/52c397debe78d7686aa36bd394f6f113e95009637029c5b71995fe48a567dcd4-20230418-061740-771350-145-edc-2023.03-02/lib/python3.9/site-packages/openeo/rest/connection.py:597\u001b[0m, in \u001b[0;36mConnection.request.<locals>._request\u001b[0;34m()\u001b[0m\n\u001b[1;32m    596\u001b[0m \u001b[38;5;28;01mdef\u001b[39;00m \u001b[38;5;21m_request\u001b[39m():\n\u001b[0;32m--> 597\u001b[0m     \u001b[38;5;28;01mreturn\u001b[39;00m \u001b[38;5;28;43msuper\u001b[39;49m\u001b[43m(\u001b[49m\u001b[43mConnection\u001b[49m\u001b[43m,\u001b[49m\u001b[43m \u001b[49m\u001b[38;5;28;43mself\u001b[39;49m\u001b[43m)\u001b[49m\u001b[38;5;241;43m.\u001b[39;49m\u001b[43mrequest\u001b[49m\u001b[43m(\u001b[49m\n\u001b[1;32m    598\u001b[0m \u001b[43m        \u001b[49m\u001b[43mmethod\u001b[49m\u001b[38;5;241;43m=\u001b[39;49m\u001b[43mmethod\u001b[49m\u001b[43m,\u001b[49m\u001b[43m \u001b[49m\u001b[43mpath\u001b[49m\u001b[38;5;241;43m=\u001b[39;49m\u001b[43mpath\u001b[49m\u001b[43m,\u001b[49m\u001b[43m \u001b[49m\u001b[43mheaders\u001b[49m\u001b[38;5;241;43m=\u001b[39;49m\u001b[43mheaders\u001b[49m\u001b[43m,\u001b[49m\u001b[43m \u001b[49m\u001b[43mauth\u001b[49m\u001b[38;5;241;43m=\u001b[39;49m\u001b[43mauth\u001b[49m\u001b[43m,\u001b[49m\n\u001b[1;32m    599\u001b[0m \u001b[43m        \u001b[49m\u001b[43mcheck_error\u001b[49m\u001b[38;5;241;43m=\u001b[39;49m\u001b[43mcheck_error\u001b[49m\u001b[43m,\u001b[49m\u001b[43m \u001b[49m\u001b[43mexpected_status\u001b[49m\u001b[38;5;241;43m=\u001b[39;49m\u001b[43mexpected_status\u001b[49m\u001b[43m,\u001b[49m\u001b[43m \u001b[49m\u001b[38;5;241;43m*\u001b[39;49m\u001b[38;5;241;43m*\u001b[39;49m\u001b[43mkwargs\u001b[49m\u001b[43m,\u001b[49m\n\u001b[1;32m    600\u001b[0m \u001b[43m    \u001b[49m\u001b[43m)\u001b[49m\n",
      "File \u001b[0;32m/home/conda/users/52c397debe78d7686aa36bd394f6f113e95009637029c5b71995fe48a567dcd4-20230418-061740-771350-145-edc-2023.03-02/lib/python3.9/site-packages/openeo/rest/connection.py:125\u001b[0m, in \u001b[0;36mRestApiConnection.request\u001b[0;34m(self, method, path, headers, auth, check_error, expected_status, **kwargs)\u001b[0m\n\u001b[1;32m    123\u001b[0m expected_status \u001b[38;5;241m=\u001b[39m ensure_list(expected_status) \u001b[38;5;28;01mif\u001b[39;00m expected_status \u001b[38;5;28;01melse\u001b[39;00m []\n\u001b[1;32m    124\u001b[0m \u001b[38;5;28;01mif\u001b[39;00m check_error \u001b[38;5;129;01mand\u001b[39;00m status \u001b[38;5;241m>\u001b[39m\u001b[38;5;241m=\u001b[39m \u001b[38;5;241m400\u001b[39m \u001b[38;5;129;01mand\u001b[39;00m status \u001b[38;5;129;01mnot\u001b[39;00m \u001b[38;5;129;01min\u001b[39;00m expected_status:\n\u001b[0;32m--> 125\u001b[0m     \u001b[38;5;28;43mself\u001b[39;49m\u001b[38;5;241;43m.\u001b[39;49m\u001b[43m_raise_api_error\u001b[49m\u001b[43m(\u001b[49m\u001b[43mresp\u001b[49m\u001b[43m)\u001b[49m\n\u001b[1;32m    126\u001b[0m \u001b[38;5;28;01mif\u001b[39;00m expected_status \u001b[38;5;129;01mand\u001b[39;00m status \u001b[38;5;129;01mnot\u001b[39;00m \u001b[38;5;129;01min\u001b[39;00m expected_status:\n\u001b[1;32m    127\u001b[0m     \u001b[38;5;28;01mraise\u001b[39;00m OpenEoRestError(\u001b[38;5;124m\"\u001b[39m\u001b[38;5;124mGot status code \u001b[39m\u001b[38;5;132;01m{s!r}\u001b[39;00m\u001b[38;5;124m for `\u001b[39m\u001b[38;5;132;01m{m}\u001b[39;00m\u001b[38;5;124m \u001b[39m\u001b[38;5;132;01m{p}\u001b[39;00m\u001b[38;5;124m` (expected \u001b[39m\u001b[38;5;132;01m{e!r}\u001b[39;00m\u001b[38;5;124m)\u001b[39m\u001b[38;5;124m\"\u001b[39m\u001b[38;5;241m.\u001b[39mformat(\n\u001b[1;32m    128\u001b[0m         m\u001b[38;5;241m=\u001b[39mmethod\u001b[38;5;241m.\u001b[39mupper(), p\u001b[38;5;241m=\u001b[39mpath, s\u001b[38;5;241m=\u001b[39mstatus, e\u001b[38;5;241m=\u001b[39mexpected_status)\n\u001b[1;32m    129\u001b[0m     )\n",
      "File \u001b[0;32m/home/conda/users/52c397debe78d7686aa36bd394f6f113e95009637029c5b71995fe48a567dcd4-20230418-061740-771350-145-edc-2023.03-02/lib/python3.9/site-packages/openeo/rest/connection.py:156\u001b[0m, in \u001b[0;36mRestApiConnection._raise_api_error\u001b[0;34m(self, response)\u001b[0m\n\u001b[1;32m    154\u001b[0m     \u001b[38;5;28;01melse\u001b[39;00m:\n\u001b[1;32m    155\u001b[0m         exception \u001b[38;5;241m=\u001b[39m OpenEoApiError(http_status_code\u001b[38;5;241m=\u001b[39mstatus_code, message\u001b[38;5;241m=\u001b[39mtext)\n\u001b[0;32m--> 156\u001b[0m \u001b[38;5;28;01mraise\u001b[39;00m exception\n",
      "\u001b[0;31mOpenEoApiError\u001b[0m: [400] 400: Unable to convert process graph to evalscript: list index out of range"
     ]
    }
   ],
   "source": [
    "snowmap_fin = snowmap.save_result(format=\"GTiff\")\n",
    "#snowmap_fin.execute_batch()\n",
    "snowmap_fin_job = snowmap_fin.create_job(title = \"snowmap\")\n",
    "snowmap_fin_job.start_job()"
   ]
  },
  {
   "cell_type": "code",
   "execution_count": 40,
   "id": "634aff98-481e-4eab-b9ba-e33a723bcca3",
   "metadata": {},
   "outputs": [],
   "source": [
    "from openeo.rest.auth.config import RefreshTokenStore\n",
    "RefreshTokenStore().remove()"
   ]
  },
  {
   "cell_type": "markdown",
   "id": "acbfccb7-e2b2-4137-98e9-33e2a32c8253",
   "metadata": {},
   "source": [
    "## Analysis of the results\n",
    "**we should move this complete step to validation (and rename it to data analysis and validation)**\n",
    "In a next step we will analyze and validate the results. We are going to compare the SCA timeseries we have derived from satellite observations to runoff measurements at the outlet of the catchment and to snow measurement station data. For now we will have a look at the timeseries. And at a map (one time step or mean of the winter)."
   ]
  }
 ],
 "metadata": {
  "kernelspec": {
   "display_name": "Python 3 (ipykernel)",
   "language": "python",
   "name": "python3"
  },
  "language_info": {
   "codemirror_mode": {
    "name": "ipython",
    "version": 3
   },
   "file_extension": ".py",
   "mimetype": "text/x-python",
   "name": "python",
   "nbconvert_exporter": "python",
   "pygments_lexer": "ipython3",
   "version": "3.10.12"
  }
 },
 "nbformat": 4,
 "nbformat_minor": 5
}
