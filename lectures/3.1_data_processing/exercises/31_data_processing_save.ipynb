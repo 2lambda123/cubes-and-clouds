{
 "cells": [
  {
   "cell_type": "markdown",
   "id": "9649ba9c-b412-43f2-8fc1-bb588e2c8b45",
   "metadata": {},
   "source": [
    "# Data Processing\n",
    "Shows the different processes for saving datasets in cloud optimized formats leveraging eo cloud tools"
   ]
  },
  {
   "cell_type": "code",
   "execution_count": 2,
   "id": "c6d6975a-4eec-4610-9abb-61cb0a6f12ee",
   "metadata": {},
   "outputs": [],
   "source": [
    "# platform libraries\n",
    "import openeo\n",
    "from sentinelhub import (SHConfig, SentinelHubRequest, DataCollection, MimeType, CRS, BBox, bbox_to_dimensions, geometry)\n",
    "\n",
    "# utility libraries\n",
    "from datetime import date\n",
    "import numpy as np\n",
    "import pandas as pd\n",
    "import geopandas as gpd\n",
    "import matplotlib.pyplot as plt\n",
    "import folium\n",
    "import xarray as xr"
   ]
  },
  {
   "cell_type": "code",
   "execution_count": 3,
   "id": "77edf2f7-1e06-4c66-8515-94fffee4c2cf",
   "metadata": {},
   "outputs": [],
   "source": [
    "config = SHConfig()\n",
    "config.sh_client_id = %env SH_CLIENT_ID\n",
    "config.sh_client_secret = %env SH_CLIENT_SECRET"
   ]
  },
  {
   "cell_type": "code",
   "execution_count": 4,
   "id": "7b0e0b8b-bc34-4614-bc77-9352aa1a30c8",
   "metadata": {
    "tags": []
   },
   "outputs": [],
   "source": [
    "conn = openeo.connect('https://jjdxlu8vwl.execute-api.eu-central-1.amazonaws.com/production')\n",
    "# conn = openeo.connect('https://openeo-dev.sinergise.com/testing')"
   ]
  },
  {
   "cell_type": "code",
   "execution_count": 5,
   "id": "50698ae9-20d7-4a05-91d7-1168f94b8235",
   "metadata": {},
   "outputs": [],
   "source": [
    "conn = conn.authenticate_basic(username=config.sh_client_id, password=config.sh_client_secret)"
   ]
  },
  {
   "cell_type": "code",
   "execution_count": 6,
   "id": "878711dd-a938-4034-84cd-38ee02a6ae91",
   "metadata": {},
   "outputs": [
    {
     "data": {
      "text/plain": [
       "{'default_plan': 'enterprise-s',\n",
       " 'info': {'sh_userinfo': {'account': '7c7cd3b4-7996-4abb-a465-b41dac60e107',\n",
       "   'aid': '7c7cd3b4-7996-4abb-a465-b41dac60e107',\n",
       "   'aud': 'c7210eb0-591c-4b42-b355-a654a71051b5',\n",
       "   'd': {'1': {'ra': {'rag': 7}, 't': 14001}},\n",
       "   'did': 1,\n",
       "   'email': 'hub+mooc@eox.at',\n",
       "   'exp': 1695723854,\n",
       "   'jti': '826b3a6d-a1b1-4712-b12b-bf3b186fd606',\n",
       "   'name': 'hub+mooc@eox.at',\n",
       "   'org': '3d31397f-770a-4f98-9358-84e918491745',\n",
       "   'sid': 'ffa9b318-fbd0-4d70-ae5f-9c6726eba450',\n",
       "   'sub': '58a6b718-458b-4493-bfe9-14229b83c310'}},\n",
       " 'name': 'hub+mooc@eox.at',\n",
       " 'user_id': '58a6b718-458b-4493-bfe9-14229b83c310'}"
      ]
     },
     "execution_count": 6,
     "metadata": {},
     "output_type": "execute_result"
    }
   ],
   "source": [
    "conn.describe_account()"
   ]
  },
  {
   "cell_type": "markdown",
   "id": "c24afe90-f759-4a20-8545-94688e339756",
   "metadata": {},
   "source": [
    "#### Load collections"
   ]
  },
  {
   "cell_type": "code",
   "execution_count": 7,
   "id": "64a0bd48-6508-4fcf-bddd-9f1072ea8fc6",
   "metadata": {},
   "outputs": [],
   "source": [
    "collection      = 'SENTINEL2_L2A_SENTINELHUB'\n",
    "#spatial_extent  = {'west':11.020833,'east':11.366667,'south':46.653599,'north':46.954167,'crs':4326}\n",
    "#spatial_extent  = {'west':11.0,'east':11.1,'south':46.6,'north':46.7,'crs':4326}\n",
    "# spatial_extent  = {'west':11.08,'east':11.11,'south':46.77,'north':46.79,'crs':4326}\n",
    "# spatial_extent  = {'west':11.08,'east':11.20,'south':46.6,'north':46.79,'crs':4326}\n",
    "spatial_extent  = {'west':11.18,'east':11.21,'south':46.70,'north':46.72,'crs':4326}\n",
    "\n",
    "#temporal_extent = [\"2018-02-01\", \"2018-06-30\"]\n",
    "temporal_extent = [\"2018-02-01\", \"2018-02-15\"]\n",
    "\n",
    "#bands           = ['B03', 'B11', 'CLM'] # ['B02', 'B03', 'B04', 'CLM']\n",
    "bands           = ['B03', 'B11', \"CLM\"] # ['B02', 'B03', 'B04', 'CLM']"
   ]
  },
  {
   "cell_type": "code",
   "execution_count": 9,
   "id": "0b0cb0d2-004d-409a-9e5f-e4443d9e285a",
   "metadata": {},
   "outputs": [],
   "source": [
    "s2 = conn.load_collection(collection,\n",
    "                          spatial_extent=spatial_extent, # put json here\n",
    "                          bands=bands,\n",
    "                          temporal_extent=temporal_extent)"
   ]
  },
  {
   "cell_type": "code",
   "execution_count": 10,
   "id": "cbf97ba0-2e01-4cb6-8e55-753b2af62a1c",
   "metadata": {},
   "outputs": [],
   "source": [
    "# s2 = s2.save_result(format=\"GTiff\") #ZARR"
   ]
  },
  {
   "cell_type": "markdown",
   "id": "15b81fc0-cc16-4080-83fd-d63061e168b8",
   "metadata": {},
   "source": [
    "#### Create process graph"
   ]
  },
  {
   "cell_type": "code",
   "execution_count": 11,
   "id": "8b6c5936-9e8d-4560-a92b-bc5c0ec4c246",
   "metadata": {},
   "outputs": [],
   "source": [
    "# mask out cloud areas\n",
    "cloud_mask= s2.band(\"CLM\")\n",
    "s2cube_masked = s2.mask(cloud_mask)"
   ]
  },
  {
   "cell_type": "code",
   "execution_count": 12,
   "id": "f300b255-d585-46cd-b599-86086dc32dc5",
   "metadata": {},
   "outputs": [],
   "source": [
    "# compute ndsi \n",
    "green = s2cube_masked.band(\"B03\")\n",
    "swir = s2cube_masked.band(\"B11\")\n",
    "ndsi = (green - swir) / (green + swir)"
   ]
  },
  {
   "cell_type": "code",
   "execution_count": 13,
   "id": "b5c086cf-b95b-4469-b5cf-9439ed6522da",
   "metadata": {},
   "outputs": [],
   "source": [
    "# threshold and select only snow areas\n",
    "snowmap = ndsi > 0.4"
   ]
  },
  {
   "cell_type": "code",
   "execution_count": 14,
   "id": "835160a0-d4f3-4287-8214-1c9ec2c6ff45",
   "metadata": {},
   "outputs": [
    {
     "data": {
      "text/html": [
       "\n",
       "    <script>\n",
       "    if (!window.customElements || !window.customElements.get('openeo-model-builder')) {\n",
       "        var el = document.createElement('script');\n",
       "        el.src = \"https://cdn.jsdelivr.net/npm/@openeo/vue-components@2/assets/openeo.min.js\";\n",
       "        document.head.appendChild(el);\n",
       "\n",
       "        var font = document.createElement('font');\n",
       "        font.as = \"font\";\n",
       "        font.type = \"font/woff2\";\n",
       "        font.crossOrigin = true;\n",
       "        font.href = \"https://use.fontawesome.com/releases/v5.13.0/webfonts/fa-solid-900.woff2\"\n",
       "        document.head.appendChild(font);\n",
       "    }\n",
       "    </script>\n",
       "    <openeo-model-builder>\n",
       "        <script type=\"application/json\">{\"id\": \"501e065673884e8387df9162c5f6aa58\", \"explicit-zoom\": true, \"height\": \"400px\", \"value\": {\"process_graph\": {\"loadcollection1\": {\"process_id\": \"load_collection\", \"arguments\": {\"bands\": [\"B03\", \"B11\", \"CLM\"], \"id\": \"SENTINEL2_L2A_SENTINELHUB\", \"spatial_extent\": {\"west\": 11.18, \"east\": 11.21, \"south\": 46.7, \"north\": 46.72, \"crs\": 4326}, \"temporal_extent\": [\"2018-02-01\", \"2018-02-15\"]}}, \"reducedimension1\": {\"process_id\": \"reduce_dimension\", \"arguments\": {\"data\": {\"from_node\": \"loadcollection1\"}, \"dimension\": \"bands\", \"reducer\": {\"process_graph\": {\"arrayelement1\": {\"process_id\": \"array_element\", \"arguments\": {\"data\": {\"from_parameter\": \"data\"}, \"index\": 2}, \"result\": true}}}}}, \"mask1\": {\"process_id\": \"mask\", \"arguments\": {\"data\": {\"from_node\": \"loadcollection1\"}, \"mask\": {\"from_node\": \"reducedimension1\"}}}, \"reducedimension2\": {\"process_id\": \"reduce_dimension\", \"arguments\": {\"data\": {\"from_node\": \"mask1\"}, \"dimension\": \"bands\", \"reducer\": {\"process_graph\": {\"arrayelement2\": {\"process_id\": \"array_element\", \"arguments\": {\"data\": {\"from_parameter\": \"data\"}, \"index\": 0}}, \"arrayelement3\": {\"process_id\": \"array_element\", \"arguments\": {\"data\": {\"from_parameter\": \"data\"}, \"index\": 1}}, \"subtract1\": {\"process_id\": \"subtract\", \"arguments\": {\"x\": {\"from_node\": \"arrayelement2\"}, \"y\": {\"from_node\": \"arrayelement3\"}}}, \"add1\": {\"process_id\": \"add\", \"arguments\": {\"x\": {\"from_node\": \"arrayelement2\"}, \"y\": {\"from_node\": \"arrayelement3\"}}}, \"divide1\": {\"process_id\": \"divide\", \"arguments\": {\"x\": {\"from_node\": \"subtract1\"}, \"y\": {\"from_node\": \"add1\"}}}, \"gt1\": {\"process_id\": \"gt\", \"arguments\": {\"x\": {\"from_node\": \"divide1\"}, \"y\": 0.4}, \"result\": true}}}}, \"result\": true}}}}</script>\n",
       "    </openeo-model-builder>\n",
       "    "
      ],
      "text/plain": [
       "<openeo.rest.datacube.DataCube at 0x7fe930a6b450>"
      ]
     },
     "execution_count": 14,
     "metadata": {},
     "output_type": "execute_result"
    }
   ],
   "source": [
    "snowmap"
   ]
  },
  {
   "cell_type": "code",
   "execution_count": null,
   "id": "ffb7203c-42aa-4a56-b34e-cb17d90f92d3",
   "metadata": {},
   "outputs": [
    {
     "name": "stdout",
     "output_type": "stream",
     "text": [
      "{\n",
      "  \"process_graph\": {\n",
      "    \"loadcollection1\": {\n",
      "      \"process_id\": \"load_collection\",\n",
      "      \"arguments\": {\n",
      "        \"bands\": [\n",
      "          \"B03\",\n",
      "          \"B11\",\n",
      "          \"CLM\"\n",
      "        ],\n",
      "        \"id\": \"SENTINEL2_L2A_SENTINELHUB\",\n",
      "        \"spatial_extent\": {\n",
      "          \"west\": 11.18,\n",
      "          \"east\": 11.21,\n",
      "          \"south\": 46.7,\n",
      "          \"north\": 46.72,\n",
      "          \"crs\": 4326\n",
      "        },\n",
      "        \"temporal_extent\": [\n",
      "          \"2018-02-01\",\n",
      "          \"2018-02-15\"\n",
      "        ]\n",
      "      }\n",
      "    },\n",
      "    \"reducedimension1\": {\n",
      "      \"process_id\": \"reduce_dimension\",\n",
      "      \"arguments\": {\n",
      "        \"data\": {\n",
      "          \"from_node\": \"loadcollection1\"\n",
      "        },\n",
      "        \"dimension\": \"bands\",\n",
      "        \"reducer\": {\n",
      "          \"process_graph\": {\n",
      "            \"arrayelement1\": {\n",
      "              \"process_id\": \"array_element\",\n",
      "              \"arguments\": {\n",
      "                \"data\": {\n",
      "                  \"from_parameter\": \"data\"\n",
      "                },\n",
      "                \"index\": 2\n",
      "              },\n",
      "              \"result\": true\n",
      "            }\n",
      "          }\n",
      "        }\n",
      "      }\n",
      "    },\n",
      "    \"mask1\": {\n",
      "      \"process_id\": \"mask\",\n",
      "      \"arguments\": {\n",
      "        \"data\": {\n",
      "          \"from_node\": \"loadcollection1\"\n",
      "        },\n",
      "        \"mask\": {\n",
      "          \"from_node\": \"reducedimension1\"\n",
      "        }\n",
      "      }\n",
      "    },\n",
      "    \"reducedimension2\": {\n",
      "      \"process_id\": \"reduce_dimension\",\n",
      "      \"arguments\": {\n",
      "        \"data\": {\n",
      "          \"from_node\": \"mask1\"\n",
      "        },\n",
      "        \"dimension\": \"bands\",\n",
      "        \"reducer\": {\n",
      "          \"process_graph\": {\n",
      "            \"arrayelement2\": {\n",
      "              \"process_id\": \"array_element\",\n",
      "              \"arguments\": {\n",
      "                \"data\": {\n",
      "                  \"from_parameter\": \"data\"\n",
      "                },\n",
      "                \"index\": 0\n",
      "              }\n",
      "            },\n",
      "            \"arrayelement3\": {\n",
      "              \"process_id\": \"array_element\",\n",
      "              \"arguments\": {\n",
      "                \"data\": {\n",
      "                  \"from_parameter\": \"data\"\n",
      "                },\n",
      "                \"index\": 1\n",
      "              }\n",
      "            },\n",
      "            \"subtract1\": {\n",
      "              \"process_id\": \"subtract\",\n",
      "              \"arguments\": {\n",
      "                \"x\": {\n",
      "                  \"from_node\": \"arrayelement2\"\n",
      "                },\n",
      "                \"y\": {\n",
      "                  \"from_node\": \"arrayelement3\"\n",
      "                }\n",
      "              }\n",
      "            },\n",
      "            \"add1\": {\n",
      "              \"process_id\": \"add\",\n",
      "              \"arguments\": {\n",
      "                \"x\": {\n",
      "                  \"from_node\": \"arrayelement2\"\n",
      "                },\n",
      "                \"y\": {\n",
      "                  \"from_node\": \"arrayelement3\"\n",
      "                }\n",
      "              }\n",
      "            },\n",
      "            \"divide1\": {\n",
      "              \"process_id\": \"divide\",\n",
      "              \"arguments\": {\n",
      "                \"x\": {\n",
      "                  \"from_node\": \"subtract1\"\n",
      "                },\n",
      "                \"y\": {\n",
      "                  \"from_node\": \"add1\"\n",
      "                }\n",
      "              }\n",
      "            },\n",
      "            \"gt1\": {\n",
      "              \"process_id\": \"gt\",\n",
      "              \"arguments\": {\n",
      "                \"x\": {\n",
      "                  \"from_node\": \"divide1\"\n",
      "                },\n",
      "                \"y\": 0.4\n",
      "              },\n",
      "              \"result\": true\n",
      "            }\n",
      "          }\n",
      "        }\n",
      "      },\n",
      "      \"result\": true\n",
      "    }\n",
      "  }\n",
      "}\n"
     ]
    }
   ],
   "source": [
    "# show process graph json\n",
    "snowmap.print_json()"
   ]
  },
  {
   "cell_type": "markdown",
   "id": "79050bb5-2f88-493a-a5aa-98c8f9d170db",
   "metadata": {},
   "source": [
    "#### Data Processing and save\n",
    "- Synchronous Saving\n",
    "- Asynchronous Saving"
   ]
  },
  {
   "cell_type": "markdown",
   "id": "54437441-82ba-4b86-a16d-8d525cb0afe1",
   "metadata": {},
   "source": [
    "##### Synchronous Saving"
   ]
  },
  {
   "cell_type": "code",
   "execution_count": 16,
   "id": "b5e0670a-d38b-419f-acf1-f2b75bd1f4e5",
   "metadata": {},
   "outputs": [
    {
     "data": {
      "text/html": [
       "\n",
       "    <script>\n",
       "    if (!window.customElements || !window.customElements.get('openeo-file-formats')) {\n",
       "        var el = document.createElement('script');\n",
       "        el.src = \"https://cdn.jsdelivr.net/npm/@openeo/vue-components@2/assets/openeo.min.js\";\n",
       "        document.head.appendChild(el);\n",
       "\n",
       "        var font = document.createElement('font');\n",
       "        font.as = \"font\";\n",
       "        font.type = \"font/woff2\";\n",
       "        font.crossOrigin = true;\n",
       "        font.href = \"https://use.fontawesome.com/releases/v5.13.0/webfonts/fa-solid-900.woff2\"\n",
       "        document.head.appendChild(font);\n",
       "    }\n",
       "    </script>\n",
       "    <openeo-file-formats>\n",
       "        <script type=\"application/json\">{\"formats\": {\"input\": {}, \"output\": {\"GTiff\": {\"gis_data_types\": [\"raster\"], \"parameters\": {\"datatype\": {\"default\": \"float32\", \"description\": \"The values data type.\", \"enum\": [\"byte\", \"uint16\", \"float32\"], \"type\": \"string\"}}}, \"JPEG\": {\"gis_data_types\": [\"raster\"], \"parameters\": {\"datatype\": {\"default\": \"byte\", \"description\": \"The values data type.\", \"enum\": [\"byte\"], \"type\": \"string\"}}}, \"PNG\": {\"gis_data_types\": [\"raster\"], \"parameters\": {\"datatype\": {\"default\": \"byte\", \"description\": \"The values data type.\", \"enum\": [\"byte\", \"uint16\"], \"type\": \"string\"}}}}}}</script>\n",
       "    </openeo-file-formats>\n",
       "    "
      ],
      "text/plain": [
       "{'input': {},\n",
       " 'output': {'GTiff': {'gis_data_types': ['raster'],\n",
       "   'parameters': {'datatype': {'default': 'float32',\n",
       "     'description': 'The values data type.',\n",
       "     'enum': ['byte', 'uint16', 'float32'],\n",
       "     'type': 'string'}}},\n",
       "  'JPEG': {'gis_data_types': ['raster'],\n",
       "   'parameters': {'datatype': {'default': 'byte',\n",
       "     'description': 'The values data type.',\n",
       "     'enum': ['byte'],\n",
       "     'type': 'string'}}},\n",
       "  'PNG': {'gis_data_types': ['raster'],\n",
       "   'parameters': {'datatype': {'default': 'byte',\n",
       "     'description': 'The values data type.',\n",
       "     'enum': ['byte', 'uint16'],\n",
       "     'type': 'string'}}}}}"
      ]
     },
     "execution_count": 16,
     "metadata": {},
     "output_type": "execute_result"
    }
   ],
   "source": [
    "conn.list_file_formats()"
   ]
  },
  {
   "cell_type": "code",
   "execution_count": 17,
   "id": "cb33bdb4-aa6e-4b7f-8db3-4bef4e0f0627",
   "metadata": {},
   "outputs": [],
   "source": [
    "snowmap.download(\"data/snowmap_syn.tiff\")"
   ]
  },
  {
   "cell_type": "markdown",
   "id": "1caeeced-465c-4295-b580-f23d44b4f3b2",
   "metadata": {},
   "source": [
    "#### Asynchronous Saving\n",
    "Creating a batch job suitable for processing larger study area or longer time step"
   ]
  },
  {
   "cell_type": "code",
   "execution_count": 18,
   "id": "12ac5f03-a8e1-4f9e-8a59-ed751bc99459",
   "metadata": {},
   "outputs": [],
   "source": [
    "# Asynchronous saving -- batch processing \n",
    "snowmap = snowmap.save_result(format=\"GTiff\")\n",
    "job = snowmap.create_job(title=\"NDSI timeseries 2022\") "
   ]
  },
  {
   "cell_type": "code",
   "execution_count": null,
   "id": "11ad2285-3dbf-4856-8205-21c6fae85a18",
   "metadata": {},
   "outputs": [
    {
     "name": "stdout",
     "output_type": "stream",
     "text": [
      "0:00:00 Job '319621bf-ffc6-43c2-8fef-46443e7c84a7': send 'start'\n",
      "0:00:26 Job '319621bf-ffc6-43c2-8fef-46443e7c84a7': queued (progress N/A)\n",
      "0:00:31 Job '319621bf-ffc6-43c2-8fef-46443e7c84a7': queued (progress N/A)\n",
      "0:00:37 Job '319621bf-ffc6-43c2-8fef-46443e7c84a7': running (progress N/A)\n",
      "0:00:45 Job '319621bf-ffc6-43c2-8fef-46443e7c84a7': running (progress N/A)\n",
      "0:00:55 Job '319621bf-ffc6-43c2-8fef-46443e7c84a7': running (progress N/A)\n",
      "0:01:07 Job '319621bf-ffc6-43c2-8fef-46443e7c84a7': running (progress N/A)\n",
      "0:01:23 Job '319621bf-ffc6-43c2-8fef-46443e7c84a7': running (progress N/A)\n",
      "0:01:42 Job '319621bf-ffc6-43c2-8fef-46443e7c84a7': running (progress N/A)\n",
      "0:02:06 Job '319621bf-ffc6-43c2-8fef-46443e7c84a7': running (progress N/A)\n"
     ]
    }
   ],
   "source": [
    "job.start_and_wait()"
   ]
  },
  {
   "cell_type": "code",
   "execution_count": null,
   "id": "3cb7b5e1-bb46-4dfe-adea-1e505f9010e2",
   "metadata": {},
   "outputs": [],
   "source": [
    "results = job.get_results()\n",
    "results"
   ]
  },
  {
   "cell_type": "code",
   "execution_count": null,
   "id": "38316cfd-367b-4bed-8421-d044d87de9cf",
   "metadata": {},
   "outputs": [],
   "source": [
    "results.download_files(\"data/snowmap/\")"
   ]
  },
  {
   "cell_type": "code",
   "execution_count": 14,
   "id": "94cf1e78-ad8c-407e-b6c6-690d60a44394",
   "metadata": {},
   "outputs": [],
   "source": [
    "# #ndsi_mean = ndsi.reduce_dimension(dimension=\"t\", reducer = mean)\n",
    "# ndsi_max = ndsi.max_time()\n",
    "# ndsi_max"
   ]
  },
  {
   "cell_type": "code",
   "execution_count": 18,
   "id": "c17a50b3-a0df-4c5e-8b62-64c161c619db",
   "metadata": {},
   "outputs": [],
   "source": [
    "# ndsi_max.download(\"ndsi_max.tiff\")\n",
    "# ndsi.download(\"data/snowmap.tiff\")"
   ]
  },
  {
   "cell_type": "code",
   "execution_count": 16,
   "id": "a3308098-d938-47e1-8e01-204252fadc89",
   "metadata": {},
   "outputs": [],
   "source": [
    "# OpenEoApiError: [400] ProcessGraphComplexity: The process is too complex for synchronous processing. Please use a batch job instead. estimated size of generated output of 34754520 bytes exceeds maximum supported size of 5000000 bytes.\n",
    "# OpenEoApiError: [504] unknown: Endpoint request timed out"
   ]
  },
  {
   "cell_type": "markdown",
   "id": "ffb3d5ad-1655-4359-957d-e84edee27d98",
   "metadata": {
    "jp-MarkdownHeadingCollapsed": true,
    "tags": []
   },
   "source": [
    "# Others"
   ]
  },
  {
   "cell_type": "code",
   "execution_count": null,
   "id": "91571c79-e076-4bf9-ae8d-9a565c100cc2",
   "metadata": {},
   "outputs": [],
   "source": [
    "# # from gtiff_parser import *\n",
    "# import gtiff_parser\n",
    "\n",
    "# # URL containing \"default.tif\" from a response to \"/jobs/{job_id}/results\"\n",
    "# input_tiff = \"data/snowmap/9c4626d3-a8fc-4b89-a8cc-59b296cbc646/32TPS_6_2/default.tif\"\n",
    "\n",
    "# # URL containing \"userdata.json\" from a response to \"/jobs/{job_id}/results\"\n",
    "# input_metadata = \"data/snowmap/job-results.json\"\n",
    "\n",
    "# # folder where the output files will be put\n",
    "# output_dir = \".\"\n",
    "\n",
    "# # output format\n",
    "# output_format = \"zarr\"\n",
    "\n",
    "# output_file_paths = parse_multitemporal_gtiff_to_format(input_tiff, input_metadata, output_dir, output_format)\n"
   ]
  },
  {
   "cell_type": "code",
   "execution_count": 22,
   "id": "37e5cfae-aaad-482f-9254-94c6a91c0070",
   "metadata": {},
   "outputs": [],
   "source": [
    "# job/f382cd4a-f26c-4fc4-ab80-e16764aef2e0/results"
   ]
  },
  {
   "cell_type": "code",
   "execution_count": 23,
   "id": "79093e8c-f82b-40c5-afe3-d4c7cbfa5664",
   "metadata": {},
   "outputs": [
    {
     "data": {
      "text/plain": [
       "'f382cd4a-f26c-4fc4-ab80-e16764aef2e0'"
      ]
     },
     "execution_count": 23,
     "metadata": {},
     "output_type": "execute_result"
    }
   ],
   "source": [
    "job.job_id"
   ]
  },
  {
   "cell_type": "code",
   "execution_count": null,
   "id": "a6933830-6a80-46d0-8b88-041b8655695a",
   "metadata": {},
   "outputs": [],
   "source": [
    "# import rioxarray as rio\n",
    "# rio.open_rasterio(\"data/snowmap.tiff\")"
   ]
  },
  {
   "cell_type": "code",
   "execution_count": null,
   "id": "01078cf6-7ba5-4295-82e5-ddaf9424f97c",
   "metadata": {},
   "outputs": [],
   "source": [
    "# import rioxarray as rio\n",
    "# pth_res = \"ndsi_max.tiff\"\n",
    "# res = rio.open_rasterio(pth_res)\n",
    "# res"
   ]
  },
  {
   "cell_type": "code",
   "execution_count": 1,
   "id": "fb770bce-8fad-47e2-842c-c04ccdbad740",
   "metadata": {},
   "outputs": [],
   "source": [
    "# res.values"
   ]
  },
  {
   "cell_type": "code",
   "execution_count": 1,
   "id": "44f5131b-539c-4e4f-9136-84cbab7d41b3",
   "metadata": {},
   "outputs": [],
   "source": [
    "# res.squeeze().plot.imshow(cmap=\"hot_r\")"
   ]
  },
  {
   "cell_type": "code",
   "execution_count": 15,
   "id": "e6d10441-10f3-4af3-ac5e-1a2e3c48dc75",
   "metadata": {},
   "outputs": [],
   "source": [
    "# ndsi_max_fin = ndsi_max.save_result(format=\"GTiff\")\n",
    "# #snowmap_fin.execute_batch()\n",
    "# ndsi_max_fin_job = ndsi_max_fin.create_job(title = \"ndsi_max\")\n",
    "# ndsi_max_fin_job.start_job()"
   ]
  },
  {
   "cell_type": "code",
   "execution_count": null,
   "id": "daf061ea-acb9-4780-b45e-ea6b1081e2dc",
   "metadata": {},
   "outputs": [],
   "source": [
    "# ndsi_max_fin_job"
   ]
  },
  {
   "cell_type": "code",
   "execution_count": null,
   "id": "5fcf8ad4-ffbc-4575-aa40-989b2eac3a91",
   "metadata": {},
   "outputs": [],
   "source": [
    "# OpenEoApiError: [500] Internal: Server error: Failed to download from:\n",
    "# https://services.sentinel-hub.com/api/v1/batch/process\n",
    "# with HTTPError:\n",
    "# 403 Client Error: Forbidden for url: https://services.sentinel-hub.com/api/v1/batch/process\n",
    "# Server response: \"{\"status\": 403, \"reason\": \"Forbidden\", \"message\": \"You are not authorized to perform this action.\", \"code\": \"COMMON_INSUFFICIENT_PERMISSIONS\"}\""
   ]
  },
  {
   "cell_type": "code",
   "execution_count": null,
   "id": "58776e83-5240-4f32-beea-331ab669152c",
   "metadata": {},
   "outputs": [],
   "source": []
  }
 ],
 "metadata": {
  "kernelspec": {
   "display_name": "users-edc-2023.07-01",
   "language": "python",
   "name": "conda-env-users-edc-2023.07-01-py"
  },
  "language_info": {
   "codemirror_mode": {
    "name": "ipython",
    "version": 3
   },
   "file_extension": ".py",
   "mimetype": "text/x-python",
   "name": "python",
   "nbconvert_exporter": "python",
   "pygments_lexer": "ipython3",
   "version": "3.11.4"
  }
 },
 "nbformat": 4,
 "nbformat_minor": 5
}
