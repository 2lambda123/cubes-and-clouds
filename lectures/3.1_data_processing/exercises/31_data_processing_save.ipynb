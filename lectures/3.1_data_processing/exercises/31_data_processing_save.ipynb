{
 "cells": [
  {
   "cell_type": "markdown",
   "id": "9649ba9c-b412-43f2-8fc1-bb588e2c8b45",
   "metadata": {},
   "source": [
    "# Data Processing\n",
    "Shows the different processes for saving datasets in cloud optimized formats leveraging eo cloud tools"
   ]
  },
  {
   "cell_type": "code",
   "execution_count": 1,
   "id": "c6d6975a-4eec-4610-9abb-61cb0a6f12ee",
   "metadata": {},
   "outputs": [],
   "source": [
    "# platform libraries\n",
    "import openeo\n",
    "from sentinelhub import (SHConfig, SentinelHubRequest, DataCollection, MimeType, CRS, BBox, bbox_to_dimensions, geometry)\n",
    "\n",
    "# utility libraries\n",
    "from datetime import date\n",
    "import numpy as np\n",
    "import pandas as pd\n",
    "import geopandas as gpd\n",
    "import matplotlib.pyplot as plt\n",
    "import folium\n",
    "import xarray as xr"
   ]
  },
  {
   "cell_type": "code",
   "execution_count": 2,
   "id": "77edf2f7-1e06-4c66-8515-94fffee4c2cf",
   "metadata": {},
   "outputs": [],
   "source": [
    "config = SHConfig()\n",
    "config.sh_client_id = %env SH_CLIENT_ID\n",
    "config.sh_client_secret = %env SH_CLIENT_SECRET"
   ]
  },
  {
   "cell_type": "code",
   "execution_count": 3,
   "id": "7b0e0b8b-bc34-4614-bc77-9352aa1a30c8",
   "metadata": {
    "tags": []
   },
   "outputs": [],
   "source": [
    "conn = openeo.connect('https://jjdxlu8vwl.execute-api.eu-central-1.amazonaws.com/production')\n",
    "# conn = openeo.connect('https://openeo-dev.sinergise.com/testing')"
   ]
  },
  {
   "cell_type": "code",
   "execution_count": 4,
   "id": "50698ae9-20d7-4a05-91d7-1168f94b8235",
   "metadata": {},
   "outputs": [],
   "source": [
    "conn = conn.authenticate_basic(username=config.sh_client_id, password=config.sh_client_secret)"
   ]
  },
  {
   "cell_type": "code",
   "execution_count": 5,
   "id": "878711dd-a938-4034-84cd-38ee02a6ae91",
   "metadata": {},
   "outputs": [
    {
     "data": {
      "text/plain": [
       "{'default_plan': 'enterprise-s',\n",
       " 'info': {'sh_userinfo': {'account': '7c7cd3b4-7996-4abb-a465-b41dac60e107',\n",
       "   'aid': '7c7cd3b4-7996-4abb-a465-b41dac60e107',\n",
       "   'aud': 'c7210eb0-591c-4b42-b355-a654a71051b5',\n",
       "   'd': {'1': {'ra': {'rag': 7}, 't': 14001}},\n",
       "   'did': 1,\n",
       "   'email': 'hub+mooc@eox.at',\n",
       "   'exp': 1695900074,\n",
       "   'jti': '4a94f976-b9e1-4e9b-9cf9-68850c7bdccd',\n",
       "   'name': 'hub+mooc@eox.at',\n",
       "   'org': '3d31397f-770a-4f98-9358-84e918491745',\n",
       "   'sid': 'ccd025cd-adb9-46f6-81db-bc99a73c5c57',\n",
       "   'sub': '58a6b718-458b-4493-bfe9-14229b83c310'}},\n",
       " 'name': 'hub+mooc@eox.at',\n",
       " 'user_id': '58a6b718-458b-4493-bfe9-14229b83c310'}"
      ]
     },
     "execution_count": 5,
     "metadata": {},
     "output_type": "execute_result"
    }
   ],
   "source": [
    "conn.describe_account()"
   ]
  },
  {
   "cell_type": "markdown",
   "id": "c24afe90-f759-4a20-8545-94688e339756",
   "metadata": {},
   "source": [
    "#### Load collections"
   ]
  },
  {
   "cell_type": "code",
   "execution_count": 13,
   "id": "64a0bd48-6508-4fcf-bddd-9f1072ea8fc6",
   "metadata": {},
   "outputs": [],
   "source": [
    "collection      = 'SENTINEL2_L2A_SENTINELHUB'\n",
    "spatial_extent  = {'west':11.020833,'east':11.366667,'south':46.653599,'north':46.954167,'crs':4326}\n",
    "#spatial_extent  = {'west':11.0,'east':11.1,'south':46.6,'north':46.7,'crs':4326}\n",
    "# spatial_extent  = {'west':11.08,'east':11.11,'south':46.77,'north':46.79,'crs':4326}\n",
    "# spatial_extent  = {'west':11.08,'east':11.20,'south':46.6,'north':46.79,'crs':4326}\n",
    "# spatial_extent  = {'west':11.18,'east':11.21,'south':46.70,'north':46.72,'crs':4326}\\\n",
    "\n",
    "temporal_extent = [\"2018-02-01\", \"2018-06-30\"]\n",
    "# temporal_extent = [\"2018-02-01\", \"2018-02-15\"]\n",
    "\n",
    "#bands           = ['B03', 'B11', 'CLM'] # ['B02', 'B03', 'B04', 'CLM']\n",
    "bands           = ['B03', 'B11', \"CLM\"] # ['B02', 'B03', 'B04', 'CLM']"
   ]
  },
  {
   "cell_type": "code",
   "execution_count": 14,
   "id": "0b0cb0d2-004d-409a-9e5f-e4443d9e285a",
   "metadata": {},
   "outputs": [],
   "source": [
    "s2 = conn.load_collection(collection,\n",
    "                          spatial_extent=spatial_extent, # put json here\n",
    "                          bands=bands,\n",
    "                          temporal_extent=temporal_extent)"
   ]
  },
  {
   "cell_type": "code",
   "execution_count": 15,
   "id": "cbf97ba0-2e01-4cb6-8e55-753b2af62a1c",
   "metadata": {},
   "outputs": [],
   "source": [
    "# s2 = s2.save_result(format=\"GTiff\") #ZARR"
   ]
  },
  {
   "cell_type": "markdown",
   "id": "15b81fc0-cc16-4080-83fd-d63061e168b8",
   "metadata": {},
   "source": [
    "#### Create process graph"
   ]
  },
  {
   "cell_type": "code",
   "execution_count": 16,
   "id": "8b6c5936-9e8d-4560-a92b-bc5c0ec4c246",
   "metadata": {},
   "outputs": [],
   "source": [
    "# mask out cloud areas\n",
    "cloud_mask= s2.band(\"CLM\")\n",
    "s2cube_masked = s2.mask(cloud_mask)"
   ]
  },
  {
   "cell_type": "code",
   "execution_count": 17,
   "id": "f300b255-d585-46cd-b599-86086dc32dc5",
   "metadata": {},
   "outputs": [],
   "source": [
    "# compute ndsi \n",
    "green = s2cube_masked.band(\"B03\")\n",
    "swir = s2cube_masked.band(\"B11\")\n",
    "ndsi = (green - swir) / (green + swir)"
   ]
  },
  {
   "cell_type": "code",
   "execution_count": 19,
   "id": "b5c086cf-b95b-4469-b5cf-9439ed6522da",
   "metadata": {},
   "outputs": [],
   "source": [
    "# threshold and select only snow areas\n",
    "snowmap = ndsi > 0.4"
   ]
  },
  {
   "cell_type": "code",
   "execution_count": 20,
   "id": "835160a0-d4f3-4287-8214-1c9ec2c6ff45",
   "metadata": {},
   "outputs": [
    {
     "data": {
      "text/html": [
       "\n",
       "    <script>\n",
       "    if (!window.customElements || !window.customElements.get('openeo-model-builder')) {\n",
       "        var el = document.createElement('script');\n",
       "        el.src = \"https://cdn.jsdelivr.net/npm/@openeo/vue-components@2/assets/openeo.min.js\";\n",
       "        document.head.appendChild(el);\n",
       "\n",
       "        var font = document.createElement('font');\n",
       "        font.as = \"font\";\n",
       "        font.type = \"font/woff2\";\n",
       "        font.crossOrigin = true;\n",
       "        font.href = \"https://use.fontawesome.com/releases/v5.13.0/webfonts/fa-solid-900.woff2\"\n",
       "        document.head.appendChild(font);\n",
       "    }\n",
       "    </script>\n",
       "    <openeo-model-builder>\n",
       "        <script type=\"application/json\">{\"id\": \"2471602b73c048df91442fb63d9f9ff2\", \"explicit-zoom\": true, \"height\": \"400px\", \"value\": {\"process_graph\": {\"loadcollection1\": {\"process_id\": \"load_collection\", \"arguments\": {\"bands\": [\"B03\", \"B11\", \"CLM\"], \"id\": \"SENTINEL2_L2A_SENTINELHUB\", \"spatial_extent\": {\"west\": 11.020833, \"east\": 11.366667, \"south\": 46.653599, \"north\": 46.954167, \"crs\": 4326}, \"temporal_extent\": [\"2018-02-01\", \"2018-06-30\"]}}, \"reducedimension1\": {\"process_id\": \"reduce_dimension\", \"arguments\": {\"data\": {\"from_node\": \"loadcollection1\"}, \"dimension\": \"bands\", \"reducer\": {\"process_graph\": {\"arrayelement1\": {\"process_id\": \"array_element\", \"arguments\": {\"data\": {\"from_parameter\": \"data\"}, \"index\": 2}, \"result\": true}}}}}, \"mask1\": {\"process_id\": \"mask\", \"arguments\": {\"data\": {\"from_node\": \"loadcollection1\"}, \"mask\": {\"from_node\": \"reducedimension1\"}}}, \"reducedimension2\": {\"process_id\": \"reduce_dimension\", \"arguments\": {\"data\": {\"from_node\": \"mask1\"}, \"dimension\": \"bands\", \"reducer\": {\"process_graph\": {\"arrayelement2\": {\"process_id\": \"array_element\", \"arguments\": {\"data\": {\"from_parameter\": \"data\"}, \"index\": 0}}, \"arrayelement3\": {\"process_id\": \"array_element\", \"arguments\": {\"data\": {\"from_parameter\": \"data\"}, \"index\": 1}}, \"subtract1\": {\"process_id\": \"subtract\", \"arguments\": {\"x\": {\"from_node\": \"arrayelement2\"}, \"y\": {\"from_node\": \"arrayelement3\"}}}, \"add1\": {\"process_id\": \"add\", \"arguments\": {\"x\": {\"from_node\": \"arrayelement2\"}, \"y\": {\"from_node\": \"arrayelement3\"}}}, \"divide1\": {\"process_id\": \"divide\", \"arguments\": {\"x\": {\"from_node\": \"subtract1\"}, \"y\": {\"from_node\": \"add1\"}}}, \"gt1\": {\"process_id\": \"gt\", \"arguments\": {\"x\": {\"from_node\": \"divide1\"}, \"y\": 0.4}, \"result\": true}}}}, \"result\": true}}}}</script>\n",
       "    </openeo-model-builder>\n",
       "    "
      ],
      "text/plain": [
       "<openeo.rest.datacube.DataCube at 0x7f52b5776490>"
      ]
     },
     "execution_count": 20,
     "metadata": {},
     "output_type": "execute_result"
    }
   ],
   "source": [
    "snowmap"
   ]
  },
  {
   "cell_type": "code",
   "execution_count": 21,
   "id": "d4f3fb68-54ed-46fd-a26a-66fc41755b44",
   "metadata": {},
   "outputs": [],
   "source": [
    "snowmap = snowmap.save_result(format=\"GTiff\")"
   ]
  },
  {
   "cell_type": "code",
   "execution_count": 23,
   "id": "17dcadf9-2a5a-421f-aa8d-bbd49343a52e",
   "metadata": {},
   "outputs": [
    {
     "data": {
      "text/html": [
       "\n",
       "    <script>\n",
       "    if (!window.customElements || !window.customElements.get('openeo-model-builder')) {\n",
       "        var el = document.createElement('script');\n",
       "        el.src = \"https://cdn.jsdelivr.net/npm/@openeo/vue-components@2/assets/openeo.min.js\";\n",
       "        document.head.appendChild(el);\n",
       "\n",
       "        var font = document.createElement('font');\n",
       "        font.as = \"font\";\n",
       "        font.type = \"font/woff2\";\n",
       "        font.crossOrigin = true;\n",
       "        font.href = \"https://use.fontawesome.com/releases/v5.13.0/webfonts/fa-solid-900.woff2\"\n",
       "        document.head.appendChild(font);\n",
       "    }\n",
       "    </script>\n",
       "    <openeo-model-builder>\n",
       "        <script type=\"application/json\">{\"id\": \"ac43b4e478884b1db18b16497b9ab417\", \"explicit-zoom\": true, \"height\": \"400px\", \"value\": {\"process_graph\": {\"loadcollection1\": {\"process_id\": \"load_collection\", \"arguments\": {\"bands\": [\"B03\", \"B11\", \"CLM\"], \"id\": \"SENTINEL2_L2A_SENTINELHUB\", \"spatial_extent\": {\"west\": 11.020833, \"east\": 11.366667, \"south\": 46.653599, \"north\": 46.954167, \"crs\": 4326}, \"temporal_extent\": [\"2018-02-01\", \"2018-06-30\"]}}, \"reducedimension1\": {\"process_id\": \"reduce_dimension\", \"arguments\": {\"data\": {\"from_node\": \"loadcollection1\"}, \"dimension\": \"bands\", \"reducer\": {\"process_graph\": {\"arrayelement1\": {\"process_id\": \"array_element\", \"arguments\": {\"data\": {\"from_parameter\": \"data\"}, \"index\": 2}, \"result\": true}}}}}, \"mask1\": {\"process_id\": \"mask\", \"arguments\": {\"data\": {\"from_node\": \"loadcollection1\"}, \"mask\": {\"from_node\": \"reducedimension1\"}}}, \"reducedimension2\": {\"process_id\": \"reduce_dimension\", \"arguments\": {\"data\": {\"from_node\": \"mask1\"}, \"dimension\": \"bands\", \"reducer\": {\"process_graph\": {\"arrayelement2\": {\"process_id\": \"array_element\", \"arguments\": {\"data\": {\"from_parameter\": \"data\"}, \"index\": 0}}, \"arrayelement3\": {\"process_id\": \"array_element\", \"arguments\": {\"data\": {\"from_parameter\": \"data\"}, \"index\": 1}}, \"subtract1\": {\"process_id\": \"subtract\", \"arguments\": {\"x\": {\"from_node\": \"arrayelement2\"}, \"y\": {\"from_node\": \"arrayelement3\"}}}, \"add1\": {\"process_id\": \"add\", \"arguments\": {\"x\": {\"from_node\": \"arrayelement2\"}, \"y\": {\"from_node\": \"arrayelement3\"}}}, \"divide1\": {\"process_id\": \"divide\", \"arguments\": {\"x\": {\"from_node\": \"subtract1\"}, \"y\": {\"from_node\": \"add1\"}}}, \"gt1\": {\"process_id\": \"gt\", \"arguments\": {\"x\": {\"from_node\": \"divide1\"}, \"y\": 0.4}, \"result\": true}}}}}, \"saveresult1\": {\"process_id\": \"save_result\", \"arguments\": {\"data\": {\"from_node\": \"reducedimension2\"}, \"format\": \"GTiff\", \"options\": {}}, \"result\": true}}}}</script>\n",
       "    </openeo-model-builder>\n",
       "    "
      ],
      "text/plain": [
       "<openeo.rest.datacube.DataCube at 0x7f52b544d3d0>"
      ]
     },
     "execution_count": 23,
     "metadata": {},
     "output_type": "execute_result"
    }
   ],
   "source": [
    "snowmap"
   ]
  },
  {
   "cell_type": "code",
   "execution_count": 22,
   "id": "ffb7203c-42aa-4a56-b34e-cb17d90f92d3",
   "metadata": {},
   "outputs": [
    {
     "name": "stdout",
     "output_type": "stream",
     "text": [
      "{\n",
      "  \"process_graph\": {\n",
      "    \"loadcollection1\": {\n",
      "      \"process_id\": \"load_collection\",\n",
      "      \"arguments\": {\n",
      "        \"bands\": [\n",
      "          \"B03\",\n",
      "          \"B11\",\n",
      "          \"CLM\"\n",
      "        ],\n",
      "        \"id\": \"SENTINEL2_L2A_SENTINELHUB\",\n",
      "        \"spatial_extent\": {\n",
      "          \"west\": 11.020833,\n",
      "          \"east\": 11.366667,\n",
      "          \"south\": 46.653599,\n",
      "          \"north\": 46.954167,\n",
      "          \"crs\": 4326\n",
      "        },\n",
      "        \"temporal_extent\": [\n",
      "          \"2018-02-01\",\n",
      "          \"2018-06-30\"\n",
      "        ]\n",
      "      }\n",
      "    },\n",
      "    \"reducedimension1\": {\n",
      "      \"process_id\": \"reduce_dimension\",\n",
      "      \"arguments\": {\n",
      "        \"data\": {\n",
      "          \"from_node\": \"loadcollection1\"\n",
      "        },\n",
      "        \"dimension\": \"bands\",\n",
      "        \"reducer\": {\n",
      "          \"process_graph\": {\n",
      "            \"arrayelement1\": {\n",
      "              \"process_id\": \"array_element\",\n",
      "              \"arguments\": {\n",
      "                \"data\": {\n",
      "                  \"from_parameter\": \"data\"\n",
      "                },\n",
      "                \"index\": 2\n",
      "              },\n",
      "              \"result\": true\n",
      "            }\n",
      "          }\n",
      "        }\n",
      "      }\n",
      "    },\n",
      "    \"mask1\": {\n",
      "      \"process_id\": \"mask\",\n",
      "      \"arguments\": {\n",
      "        \"data\": {\n",
      "          \"from_node\": \"loadcollection1\"\n",
      "        },\n",
      "        \"mask\": {\n",
      "          \"from_node\": \"reducedimension1\"\n",
      "        }\n",
      "      }\n",
      "    },\n",
      "    \"reducedimension2\": {\n",
      "      \"process_id\": \"reduce_dimension\",\n",
      "      \"arguments\": {\n",
      "        \"data\": {\n",
      "          \"from_node\": \"mask1\"\n",
      "        },\n",
      "        \"dimension\": \"bands\",\n",
      "        \"reducer\": {\n",
      "          \"process_graph\": {\n",
      "            \"arrayelement2\": {\n",
      "              \"process_id\": \"array_element\",\n",
      "              \"arguments\": {\n",
      "                \"data\": {\n",
      "                  \"from_parameter\": \"data\"\n",
      "                },\n",
      "                \"index\": 0\n",
      "              }\n",
      "            },\n",
      "            \"arrayelement3\": {\n",
      "              \"process_id\": \"array_element\",\n",
      "              \"arguments\": {\n",
      "                \"data\": {\n",
      "                  \"from_parameter\": \"data\"\n",
      "                },\n",
      "                \"index\": 1\n",
      "              }\n",
      "            },\n",
      "            \"subtract1\": {\n",
      "              \"process_id\": \"subtract\",\n",
      "              \"arguments\": {\n",
      "                \"x\": {\n",
      "                  \"from_node\": \"arrayelement2\"\n",
      "                },\n",
      "                \"y\": {\n",
      "                  \"from_node\": \"arrayelement3\"\n",
      "                }\n",
      "              }\n",
      "            },\n",
      "            \"add1\": {\n",
      "              \"process_id\": \"add\",\n",
      "              \"arguments\": {\n",
      "                \"x\": {\n",
      "                  \"from_node\": \"arrayelement2\"\n",
      "                },\n",
      "                \"y\": {\n",
      "                  \"from_node\": \"arrayelement3\"\n",
      "                }\n",
      "              }\n",
      "            },\n",
      "            \"divide1\": {\n",
      "              \"process_id\": \"divide\",\n",
      "              \"arguments\": {\n",
      "                \"x\": {\n",
      "                  \"from_node\": \"subtract1\"\n",
      "                },\n",
      "                \"y\": {\n",
      "                  \"from_node\": \"add1\"\n",
      "                }\n",
      "              }\n",
      "            },\n",
      "            \"gt1\": {\n",
      "              \"process_id\": \"gt\",\n",
      "              \"arguments\": {\n",
      "                \"x\": {\n",
      "                  \"from_node\": \"divide1\"\n",
      "                },\n",
      "                \"y\": 0.4\n",
      "              },\n",
      "              \"result\": true\n",
      "            }\n",
      "          }\n",
      "        }\n",
      "      }\n",
      "    },\n",
      "    \"saveresult1\": {\n",
      "      \"process_id\": \"save_result\",\n",
      "      \"arguments\": {\n",
      "        \"data\": {\n",
      "          \"from_node\": \"reducedimension2\"\n",
      "        },\n",
      "        \"format\": \"GTiff\",\n",
      "        \"options\": {}\n",
      "      },\n",
      "      \"result\": true\n",
      "    }\n",
      "  }\n",
      "}\n"
     ]
    }
   ],
   "source": [
    "# show process graph json\n",
    "snowmap.print_json()"
   ]
  },
  {
   "cell_type": "markdown",
   "id": "79050bb5-2f88-493a-a5aa-98c8f9d170db",
   "metadata": {},
   "source": [
    "#### Data Processing and save\n",
    "- Synchronous Saving\n",
    "- Asynchronous Saving"
   ]
  },
  {
   "cell_type": "markdown",
   "id": "1caeeced-465c-4295-b580-f23d44b4f3b2",
   "metadata": {},
   "source": [
    "##### Asynchronous Saving\n",
    "Creating a batch job suitable for processing larger study area or longer time step"
   ]
  },
  {
   "cell_type": "code",
   "execution_count": 25,
   "id": "12ac5f03-a8e1-4f9e-8a59-ed751bc99459",
   "metadata": {},
   "outputs": [],
   "source": [
    "# Asynchronous saving -- batch processing \n",
    "# snowmap = snowmap.save_result(format=\"GTiff\")\n",
    "job = snowmap.create_job(title=\"NDSI timeseries 2022\") "
   ]
  },
  {
   "cell_type": "code",
   "execution_count": 26,
   "id": "11ad2285-3dbf-4856-8205-21c6fae85a18",
   "metadata": {},
   "outputs": [
    {
     "name": "stdout",
     "output_type": "stream",
     "text": [
      "0:00:00 Job 'acd0daf4-ab44-45cd-9e6d-fdf24e7f1bdf': send 'start'\n",
      "0:00:15 Job 'acd0daf4-ab44-45cd-9e6d-fdf24e7f1bdf': queued (progress N/A)\n",
      "0:00:20 Job 'acd0daf4-ab44-45cd-9e6d-fdf24e7f1bdf': queued (progress N/A)\n",
      "0:00:27 Job 'acd0daf4-ab44-45cd-9e6d-fdf24e7f1bdf': queued (progress N/A)\n",
      "0:00:35 Job 'acd0daf4-ab44-45cd-9e6d-fdf24e7f1bdf': queued (progress N/A)\n",
      "0:00:45 Job 'acd0daf4-ab44-45cd-9e6d-fdf24e7f1bdf': running (progress N/A)\n",
      "0:00:57 Job 'acd0daf4-ab44-45cd-9e6d-fdf24e7f1bdf': running (progress N/A)\n",
      "0:01:13 Job 'acd0daf4-ab44-45cd-9e6d-fdf24e7f1bdf': running (progress N/A)\n",
      "0:01:32 Job 'acd0daf4-ab44-45cd-9e6d-fdf24e7f1bdf': running (progress N/A)\n",
      "0:01:56 Job 'acd0daf4-ab44-45cd-9e6d-fdf24e7f1bdf': running (progress N/A)\n",
      "0:02:26 Job 'acd0daf4-ab44-45cd-9e6d-fdf24e7f1bdf': running (progress N/A)\n",
      "0:03:03 Job 'acd0daf4-ab44-45cd-9e6d-fdf24e7f1bdf': running (progress N/A)\n",
      "0:03:50 Job 'acd0daf4-ab44-45cd-9e6d-fdf24e7f1bdf': running (progress N/A)\n",
      "0:04:48 Job 'acd0daf4-ab44-45cd-9e6d-fdf24e7f1bdf': running (progress N/A)\n",
      "0:05:49 Job 'acd0daf4-ab44-45cd-9e6d-fdf24e7f1bdf': running (progress N/A)\n",
      "0:06:49 Job 'acd0daf4-ab44-45cd-9e6d-fdf24e7f1bdf': running (progress N/A)\n",
      "0:07:49 Job 'acd0daf4-ab44-45cd-9e6d-fdf24e7f1bdf': running (progress N/A)\n",
      "0:08:49 Job 'acd0daf4-ab44-45cd-9e6d-fdf24e7f1bdf': running (progress N/A)\n",
      "0:09:49 Job 'acd0daf4-ab44-45cd-9e6d-fdf24e7f1bdf': running (progress N/A)\n"
     ]
    },
    {
     "name": "stderr",
     "output_type": "stream",
     "text": [
      "Failed to parse API error response: 404 '<!doctype html>\\n<html lang=en>\\n<title>404 Not Found</title>\\n<h1>Not Found</h1>\\n<p>The requested URL was not found on the server. If you entered the URL manually please check your spelling and try again.</p>\\n'\n"
     ]
    },
    {
     "name": "stdout",
     "output_type": "stream",
     "text": [
      "0:10:49 Job 'acd0daf4-ab44-45cd-9e6d-fdf24e7f1bdf': error (progress N/A)\n",
      "Your batch job 'acd0daf4-ab44-45cd-9e6d-fdf24e7f1bdf' failed. Error logs:\n"
     ]
    },
    {
     "ename": "OpenEoApiError",
     "evalue": "[404] unknown: <!doctype html>\n<html lang=en>\n<title>404 Not Found</title>\n<h1>Not Found</h1>\n<p>The requested URL was not found on the server. If you entered the URL manually please check your spelling and try again.</p>\n",
     "output_type": "error",
     "traceback": [
      "\u001b[0;31m---------------------------------------------------------------------------\u001b[0m",
      "\u001b[0;31mOpenEoApiError\u001b[0m                            Traceback (most recent call last)",
      "Cell \u001b[0;32mIn[26], line 1\u001b[0m\n\u001b[0;32m----> 1\u001b[0m \u001b[43mjob\u001b[49m\u001b[38;5;241;43m.\u001b[39;49m\u001b[43mstart_and_wait\u001b[49m\u001b[43m(\u001b[49m\u001b[43m)\u001b[49m\n",
      "File \u001b[0;32m/home/conda/users/c06df7d8cc38dff0b6ab13f016d9cda4bb65ebb5cdefbe46dc867e3aa29b6b61-20230801-104751-102087-199-edc-2023.07-01/lib/python3.11/site-packages/openeo/rest/job.py:282\u001b[0m, in \u001b[0;36mBatchJob.start_and_wait\u001b[0;34m(self, print, max_poll_interval, connection_retry_interval, soft_error_max)\u001b[0m\n\u001b[1;32m    278\u001b[0m \u001b[38;5;28;01mif\u001b[39;00m status \u001b[38;5;241m!=\u001b[39m \u001b[38;5;124m\"\u001b[39m\u001b[38;5;124mfinished\u001b[39m\u001b[38;5;124m\"\u001b[39m:\n\u001b[1;32m    279\u001b[0m     \u001b[38;5;66;03m# TODO: allow to disable this printing logs (e.g. in non-interactive contexts)?\u001b[39;00m\n\u001b[1;32m    280\u001b[0m     \u001b[38;5;66;03m# TODO: render logs jupyter-aware in a notebook context?\u001b[39;00m\n\u001b[1;32m    281\u001b[0m     \u001b[38;5;28mprint\u001b[39m(\u001b[38;5;124mf\u001b[39m\u001b[38;5;124m\"\u001b[39m\u001b[38;5;124mYour batch job \u001b[39m\u001b[38;5;132;01m{\u001b[39;00m\u001b[38;5;28mself\u001b[39m\u001b[38;5;241m.\u001b[39mjob_id\u001b[38;5;132;01m!r}\u001b[39;00m\u001b[38;5;124m failed. Error logs:\u001b[39m\u001b[38;5;124m\"\u001b[39m)\n\u001b[0;32m--> 282\u001b[0m     \u001b[38;5;28mprint\u001b[39m(\u001b[38;5;28;43mself\u001b[39;49m\u001b[38;5;241;43m.\u001b[39;49m\u001b[43mlogs\u001b[49m\u001b[43m(\u001b[49m\u001b[43mlevel\u001b[49m\u001b[38;5;241;43m=\u001b[39;49m\u001b[43mlogging\u001b[49m\u001b[38;5;241;43m.\u001b[39;49m\u001b[43mERROR\u001b[49m\u001b[43m)\u001b[49m)\n\u001b[1;32m    283\u001b[0m     \u001b[38;5;28mprint\u001b[39m(\n\u001b[1;32m    284\u001b[0m         \u001b[38;5;124mf\u001b[39m\u001b[38;5;124m\"\u001b[39m\u001b[38;5;124mFull logs can be inspected in an openEO (web) editor or with `connection.job(\u001b[39m\u001b[38;5;132;01m{\u001b[39;00m\u001b[38;5;28mself\u001b[39m\u001b[38;5;241m.\u001b[39mjob_id\u001b[38;5;132;01m!r}\u001b[39;00m\u001b[38;5;124m).logs()`.\u001b[39m\u001b[38;5;124m\"\u001b[39m\n\u001b[1;32m    285\u001b[0m     )\n\u001b[1;32m    286\u001b[0m     \u001b[38;5;28;01mraise\u001b[39;00m JobFailedException(\n\u001b[1;32m    287\u001b[0m         \u001b[38;5;124mf\u001b[39m\u001b[38;5;124m\"\u001b[39m\u001b[38;5;124mBatch job \u001b[39m\u001b[38;5;132;01m{\u001b[39;00m\u001b[38;5;28mself\u001b[39m\u001b[38;5;241m.\u001b[39mjob_id\u001b[38;5;132;01m!r}\u001b[39;00m\u001b[38;5;124m didn\u001b[39m\u001b[38;5;124m'\u001b[39m\u001b[38;5;124mt finish successfully. Status: \u001b[39m\u001b[38;5;132;01m{\u001b[39;00mstatus\u001b[38;5;132;01m}\u001b[39;00m\u001b[38;5;124m (after \u001b[39m\u001b[38;5;132;01m{\u001b[39;00melapsed()\u001b[38;5;132;01m}\u001b[39;00m\u001b[38;5;124m).\u001b[39m\u001b[38;5;124m\"\u001b[39m,\n\u001b[1;32m    288\u001b[0m         job\u001b[38;5;241m=\u001b[39m\u001b[38;5;28mself\u001b[39m,\n\u001b[1;32m    289\u001b[0m     )\n",
      "File \u001b[0;32m/home/conda/users/c06df7d8cc38dff0b6ab13f016d9cda4bb65ebb5cdefbe46dc867e3aa29b6b61-20230801-104751-102087-199-edc-2023.07-01/lib/python3.11/site-packages/openeo/rest/job.py:182\u001b[0m, in \u001b[0;36mBatchJob.logs\u001b[0;34m(self, offset, level)\u001b[0m\n\u001b[1;32m    180\u001b[0m \u001b[38;5;28;01mif\u001b[39;00m level \u001b[38;5;129;01mis\u001b[39;00m \u001b[38;5;129;01mnot\u001b[39;00m \u001b[38;5;28;01mNone\u001b[39;00m:\n\u001b[1;32m    181\u001b[0m     params[\u001b[38;5;124m\"\u001b[39m\u001b[38;5;124mlevel\u001b[39m\u001b[38;5;124m\"\u001b[39m] \u001b[38;5;241m=\u001b[39m log_level_name(level)\n\u001b[0;32m--> 182\u001b[0m response \u001b[38;5;241m=\u001b[39m \u001b[38;5;28;43mself\u001b[39;49m\u001b[38;5;241;43m.\u001b[39;49m\u001b[43mconnection\u001b[49m\u001b[38;5;241;43m.\u001b[39;49m\u001b[43mget\u001b[49m\u001b[43m(\u001b[49m\u001b[43murl\u001b[49m\u001b[43m,\u001b[49m\u001b[43m \u001b[49m\u001b[43mparams\u001b[49m\u001b[38;5;241;43m=\u001b[39;49m\u001b[43mparams\u001b[49m\u001b[43m,\u001b[49m\u001b[43m \u001b[49m\u001b[43mexpected_status\u001b[49m\u001b[38;5;241;43m=\u001b[39;49m\u001b[38;5;241;43m200\u001b[39;49m\u001b[43m)\u001b[49m\n\u001b[1;32m    183\u001b[0m logs \u001b[38;5;241m=\u001b[39m response\u001b[38;5;241m.\u001b[39mjson()[\u001b[38;5;124m\"\u001b[39m\u001b[38;5;124mlogs\u001b[39m\u001b[38;5;124m\"\u001b[39m]\n\u001b[1;32m    185\u001b[0m \u001b[38;5;66;03m# Only filter logs when specified.\u001b[39;00m\n\u001b[1;32m    186\u001b[0m \u001b[38;5;66;03m# We should still support client-side log_level filtering because not all backends\u001b[39;00m\n\u001b[1;32m    187\u001b[0m \u001b[38;5;66;03m# support the minimum log level parameter.\u001b[39;00m\n",
      "File \u001b[0;32m/home/conda/users/c06df7d8cc38dff0b6ab13f016d9cda4bb65ebb5cdefbe46dc867e3aa29b6b61-20230801-104751-102087-199-edc-2023.07-01/lib/python3.11/site-packages/openeo/rest/connection.py:168\u001b[0m, in \u001b[0;36mRestApiConnection.get\u001b[0;34m(self, path, stream, auth, **kwargs)\u001b[0m\n\u001b[1;32m    159\u001b[0m \u001b[38;5;28;01mdef\u001b[39;00m \u001b[38;5;21mget\u001b[39m(\u001b[38;5;28mself\u001b[39m, path, stream\u001b[38;5;241m=\u001b[39m\u001b[38;5;28;01mFalse\u001b[39;00m, auth: AuthBase \u001b[38;5;241m=\u001b[39m \u001b[38;5;28;01mNone\u001b[39;00m, \u001b[38;5;241m*\u001b[39m\u001b[38;5;241m*\u001b[39mkwargs) \u001b[38;5;241m-\u001b[39m\u001b[38;5;241m>\u001b[39m Response:\n\u001b[1;32m    160\u001b[0m \u001b[38;5;250m    \u001b[39m\u001b[38;5;124;03m\"\"\"\u001b[39;00m\n\u001b[1;32m    161\u001b[0m \u001b[38;5;124;03m    Do GET request to REST API.\u001b[39;00m\n\u001b[1;32m    162\u001b[0m \n\u001b[0;32m   (...)\u001b[0m\n\u001b[1;32m    166\u001b[0m \u001b[38;5;124;03m    :return: response: Response\u001b[39;00m\n\u001b[1;32m    167\u001b[0m \u001b[38;5;124;03m    \"\"\"\u001b[39;00m\n\u001b[0;32m--> 168\u001b[0m     \u001b[38;5;28;01mreturn\u001b[39;00m \u001b[38;5;28;43mself\u001b[39;49m\u001b[38;5;241;43m.\u001b[39;49m\u001b[43mrequest\u001b[49m\u001b[43m(\u001b[49m\u001b[38;5;124;43m\"\u001b[39;49m\u001b[38;5;124;43mget\u001b[39;49m\u001b[38;5;124;43m\"\u001b[39;49m\u001b[43m,\u001b[49m\u001b[43m \u001b[49m\u001b[43mpath\u001b[49m\u001b[38;5;241;43m=\u001b[39;49m\u001b[43mpath\u001b[49m\u001b[43m,\u001b[49m\u001b[43m \u001b[49m\u001b[43mstream\u001b[49m\u001b[38;5;241;43m=\u001b[39;49m\u001b[43mstream\u001b[49m\u001b[43m,\u001b[49m\u001b[43m \u001b[49m\u001b[43mauth\u001b[49m\u001b[38;5;241;43m=\u001b[39;49m\u001b[43mauth\u001b[49m\u001b[43m,\u001b[49m\u001b[43m \u001b[49m\u001b[38;5;241;43m*\u001b[39;49m\u001b[38;5;241;43m*\u001b[39;49m\u001b[43mkwargs\u001b[49m\u001b[43m)\u001b[49m\n",
      "File \u001b[0;32m/home/conda/users/c06df7d8cc38dff0b6ab13f016d9cda4bb65ebb5cdefbe46dc867e3aa29b6b61-20230801-104751-102087-199-edc-2023.07-01/lib/python3.11/site-packages/openeo/rest/connection.py:699\u001b[0m, in \u001b[0;36mConnection.request\u001b[0;34m(self, method, path, headers, auth, check_error, expected_status, **kwargs)\u001b[0m\n\u001b[1;32m    692\u001b[0m     \u001b[38;5;28;01mreturn\u001b[39;00m \u001b[38;5;28msuper\u001b[39m(Connection, \u001b[38;5;28mself\u001b[39m)\u001b[38;5;241m.\u001b[39mrequest(\n\u001b[1;32m    693\u001b[0m         method\u001b[38;5;241m=\u001b[39mmethod, path\u001b[38;5;241m=\u001b[39mpath, headers\u001b[38;5;241m=\u001b[39mheaders, auth\u001b[38;5;241m=\u001b[39mauth,\n\u001b[1;32m    694\u001b[0m         check_error\u001b[38;5;241m=\u001b[39mcheck_error, expected_status\u001b[38;5;241m=\u001b[39mexpected_status, \u001b[38;5;241m*\u001b[39m\u001b[38;5;241m*\u001b[39mkwargs,\n\u001b[1;32m    695\u001b[0m     )\n\u001b[1;32m    697\u001b[0m \u001b[38;5;28;01mtry\u001b[39;00m:\n\u001b[1;32m    698\u001b[0m     \u001b[38;5;66;03m# Initial request attempt\u001b[39;00m\n\u001b[0;32m--> 699\u001b[0m     \u001b[38;5;28;01mreturn\u001b[39;00m \u001b[43m_request\u001b[49m\u001b[43m(\u001b[49m\u001b[43m)\u001b[49m\n\u001b[1;32m    700\u001b[0m \u001b[38;5;28;01mexcept\u001b[39;00m OpenEoApiError \u001b[38;5;28;01mas\u001b[39;00m api_exc:\n\u001b[1;32m    701\u001b[0m     \u001b[38;5;28;01mif\u001b[39;00m api_exc\u001b[38;5;241m.\u001b[39mhttp_status_code \u001b[38;5;241m==\u001b[39m \u001b[38;5;241m403\u001b[39m \u001b[38;5;129;01mand\u001b[39;00m api_exc\u001b[38;5;241m.\u001b[39mcode \u001b[38;5;241m==\u001b[39m \u001b[38;5;124m\"\u001b[39m\u001b[38;5;124mTokenInvalid\u001b[39m\u001b[38;5;124m\"\u001b[39m:\n\u001b[1;32m    702\u001b[0m         \u001b[38;5;66;03m# Auth token expired: can we refresh?\u001b[39;00m\n",
      "File \u001b[0;32m/home/conda/users/c06df7d8cc38dff0b6ab13f016d9cda4bb65ebb5cdefbe46dc867e3aa29b6b61-20230801-104751-102087-199-edc-2023.07-01/lib/python3.11/site-packages/openeo/rest/connection.py:692\u001b[0m, in \u001b[0;36mConnection.request.<locals>._request\u001b[0;34m()\u001b[0m\n\u001b[1;32m    691\u001b[0m \u001b[38;5;28;01mdef\u001b[39;00m \u001b[38;5;21m_request\u001b[39m():\n\u001b[0;32m--> 692\u001b[0m     \u001b[38;5;28;01mreturn\u001b[39;00m \u001b[38;5;28;43msuper\u001b[39;49m\u001b[43m(\u001b[49m\u001b[43mConnection\u001b[49m\u001b[43m,\u001b[49m\u001b[43m \u001b[49m\u001b[38;5;28;43mself\u001b[39;49m\u001b[43m)\u001b[49m\u001b[38;5;241;43m.\u001b[39;49m\u001b[43mrequest\u001b[49m\u001b[43m(\u001b[49m\n\u001b[1;32m    693\u001b[0m \u001b[43m        \u001b[49m\u001b[43mmethod\u001b[49m\u001b[38;5;241;43m=\u001b[39;49m\u001b[43mmethod\u001b[49m\u001b[43m,\u001b[49m\u001b[43m \u001b[49m\u001b[43mpath\u001b[49m\u001b[38;5;241;43m=\u001b[39;49m\u001b[43mpath\u001b[49m\u001b[43m,\u001b[49m\u001b[43m \u001b[49m\u001b[43mheaders\u001b[49m\u001b[38;5;241;43m=\u001b[39;49m\u001b[43mheaders\u001b[49m\u001b[43m,\u001b[49m\u001b[43m \u001b[49m\u001b[43mauth\u001b[49m\u001b[38;5;241;43m=\u001b[39;49m\u001b[43mauth\u001b[49m\u001b[43m,\u001b[49m\n\u001b[1;32m    694\u001b[0m \u001b[43m        \u001b[49m\u001b[43mcheck_error\u001b[49m\u001b[38;5;241;43m=\u001b[39;49m\u001b[43mcheck_error\u001b[49m\u001b[43m,\u001b[49m\u001b[43m \u001b[49m\u001b[43mexpected_status\u001b[49m\u001b[38;5;241;43m=\u001b[39;49m\u001b[43mexpected_status\u001b[49m\u001b[43m,\u001b[49m\u001b[43m \u001b[49m\u001b[38;5;241;43m*\u001b[39;49m\u001b[38;5;241;43m*\u001b[39;49m\u001b[43mkwargs\u001b[49m\u001b[43m,\u001b[49m\n\u001b[1;32m    695\u001b[0m \u001b[43m    \u001b[49m\u001b[43m)\u001b[49m\n",
      "File \u001b[0;32m/home/conda/users/c06df7d8cc38dff0b6ab13f016d9cda4bb65ebb5cdefbe46dc867e3aa29b6b61-20230801-104751-102087-199-edc-2023.07-01/lib/python3.11/site-packages/openeo/rest/connection.py:126\u001b[0m, in \u001b[0;36mRestApiConnection.request\u001b[0;34m(self, method, path, headers, auth, check_error, expected_status, **kwargs)\u001b[0m\n\u001b[1;32m    124\u001b[0m expected_status \u001b[38;5;241m=\u001b[39m ensure_list(expected_status) \u001b[38;5;28;01mif\u001b[39;00m expected_status \u001b[38;5;28;01melse\u001b[39;00m []\n\u001b[1;32m    125\u001b[0m \u001b[38;5;28;01mif\u001b[39;00m check_error \u001b[38;5;129;01mand\u001b[39;00m status \u001b[38;5;241m>\u001b[39m\u001b[38;5;241m=\u001b[39m \u001b[38;5;241m400\u001b[39m \u001b[38;5;129;01mand\u001b[39;00m status \u001b[38;5;129;01mnot\u001b[39;00m \u001b[38;5;129;01min\u001b[39;00m expected_status:\n\u001b[0;32m--> 126\u001b[0m     \u001b[38;5;28;43mself\u001b[39;49m\u001b[38;5;241;43m.\u001b[39;49m\u001b[43m_raise_api_error\u001b[49m\u001b[43m(\u001b[49m\u001b[43mresp\u001b[49m\u001b[43m)\u001b[49m\n\u001b[1;32m    127\u001b[0m \u001b[38;5;28;01mif\u001b[39;00m expected_status \u001b[38;5;129;01mand\u001b[39;00m status \u001b[38;5;129;01mnot\u001b[39;00m \u001b[38;5;129;01min\u001b[39;00m expected_status:\n\u001b[1;32m    128\u001b[0m     \u001b[38;5;28;01mraise\u001b[39;00m OpenEoRestError(\u001b[38;5;124m\"\u001b[39m\u001b[38;5;124mGot status code \u001b[39m\u001b[38;5;132;01m{s!r}\u001b[39;00m\u001b[38;5;124m for `\u001b[39m\u001b[38;5;132;01m{m}\u001b[39;00m\u001b[38;5;124m \u001b[39m\u001b[38;5;132;01m{p}\u001b[39;00m\u001b[38;5;124m` (expected \u001b[39m\u001b[38;5;132;01m{e!r}\u001b[39;00m\u001b[38;5;124m) with body \u001b[39m\u001b[38;5;132;01m{body}\u001b[39;00m\u001b[38;5;124m\"\u001b[39m\u001b[38;5;241m.\u001b[39mformat(\n\u001b[1;32m    129\u001b[0m         m\u001b[38;5;241m=\u001b[39mmethod\u001b[38;5;241m.\u001b[39mupper(), p\u001b[38;5;241m=\u001b[39mpath, s\u001b[38;5;241m=\u001b[39mstatus, e\u001b[38;5;241m=\u001b[39mexpected_status, body\u001b[38;5;241m=\u001b[39mresp\u001b[38;5;241m.\u001b[39mtext)\n\u001b[1;32m    130\u001b[0m     )\n",
      "File \u001b[0;32m/home/conda/users/c06df7d8cc38dff0b6ab13f016d9cda4bb65ebb5cdefbe46dc867e3aa29b6b61-20230801-104751-102087-199-edc-2023.07-01/lib/python3.11/site-packages/openeo/rest/connection.py:157\u001b[0m, in \u001b[0;36mRestApiConnection._raise_api_error\u001b[0;34m(self, response)\u001b[0m\n\u001b[1;32m    155\u001b[0m     \u001b[38;5;28;01melse\u001b[39;00m:\n\u001b[1;32m    156\u001b[0m         exception \u001b[38;5;241m=\u001b[39m OpenEoApiError(http_status_code\u001b[38;5;241m=\u001b[39mstatus_code, message\u001b[38;5;241m=\u001b[39mtext)\n\u001b[0;32m--> 157\u001b[0m \u001b[38;5;28;01mraise\u001b[39;00m exception\n",
      "\u001b[0;31mOpenEoApiError\u001b[0m: [404] unknown: <!doctype html>\n<html lang=en>\n<title>404 Not Found</title>\n<h1>Not Found</h1>\n<p>The requested URL was not found on the server. If you entered the URL manually please check your spelling and try again.</p>\n"
     ]
    }
   ],
   "source": [
    "job.start_and_wait()"
   ]
  },
  {
   "cell_type": "code",
   "execution_count": null,
   "id": "3cb7b5e1-bb46-4dfe-adea-1e505f9010e2",
   "metadata": {},
   "outputs": [],
   "source": [
    "results = job.get_results()\n",
    "results"
   ]
  },
  {
   "cell_type": "code",
   "execution_count": null,
   "id": "38316cfd-367b-4bed-8421-d044d87de9cf",
   "metadata": {},
   "outputs": [],
   "source": [
    "results.download_files(\"data/snowmap/\")"
   ]
  },
  {
   "cell_type": "markdown",
   "id": "54437441-82ba-4b86-a16d-8d525cb0afe1",
   "metadata": {
    "tags": []
   },
   "source": [
    "##### Synchronous Saving"
   ]
  },
  {
   "cell_type": "code",
   "execution_count": 14,
   "id": "b5e0670a-d38b-419f-acf1-f2b75bd1f4e5",
   "metadata": {},
   "outputs": [
    {
     "data": {
      "text/html": [
       "\n",
       "    <script>\n",
       "    if (!window.customElements || !window.customElements.get('openeo-file-formats')) {\n",
       "        var el = document.createElement('script');\n",
       "        el.src = \"https://cdn.jsdelivr.net/npm/@openeo/vue-components@2/assets/openeo.min.js\";\n",
       "        document.head.appendChild(el);\n",
       "\n",
       "        var font = document.createElement('font');\n",
       "        font.as = \"font\";\n",
       "        font.type = \"font/woff2\";\n",
       "        font.crossOrigin = true;\n",
       "        font.href = \"https://use.fontawesome.com/releases/v5.13.0/webfonts/fa-solid-900.woff2\"\n",
       "        document.head.appendChild(font);\n",
       "    }\n",
       "    </script>\n",
       "    <openeo-file-formats>\n",
       "        <script type=\"application/json\">{\"formats\": {\"input\": {}, \"output\": {\"GTiff\": {\"gis_data_types\": [\"raster\"], \"parameters\": {\"datatype\": {\"default\": \"float32\", \"description\": \"The values data type.\", \"enum\": [\"byte\", \"uint16\", \"float32\"], \"type\": \"string\"}}}, \"JPEG\": {\"gis_data_types\": [\"raster\"], \"parameters\": {\"datatype\": {\"default\": \"byte\", \"description\": \"The values data type.\", \"enum\": [\"byte\"], \"type\": \"string\"}}}, \"PNG\": {\"gis_data_types\": [\"raster\"], \"parameters\": {\"datatype\": {\"default\": \"byte\", \"description\": \"The values data type.\", \"enum\": [\"byte\", \"uint16\"], \"type\": \"string\"}}}}}}</script>\n",
       "    </openeo-file-formats>\n",
       "    "
      ],
      "text/plain": [
       "{'input': {},\n",
       " 'output': {'GTiff': {'gis_data_types': ['raster'],\n",
       "   'parameters': {'datatype': {'default': 'float32',\n",
       "     'description': 'The values data type.',\n",
       "     'enum': ['byte', 'uint16', 'float32'],\n",
       "     'type': 'string'}}},\n",
       "  'JPEG': {'gis_data_types': ['raster'],\n",
       "   'parameters': {'datatype': {'default': 'byte',\n",
       "     'description': 'The values data type.',\n",
       "     'enum': ['byte'],\n",
       "     'type': 'string'}}},\n",
       "  'PNG': {'gis_data_types': ['raster'],\n",
       "   'parameters': {'datatype': {'default': 'byte',\n",
       "     'description': 'The values data type.',\n",
       "     'enum': ['byte', 'uint16'],\n",
       "     'type': 'string'}}}}}"
      ]
     },
     "execution_count": 14,
     "metadata": {},
     "output_type": "execute_result"
    }
   ],
   "source": [
    "conn.list_file_formats()"
   ]
  },
  {
   "cell_type": "code",
   "execution_count": 15,
   "id": "cb33bdb4-aa6e-4b7f-8db3-4bef4e0f0627",
   "metadata": {},
   "outputs": [
    {
     "ename": "OpenEoApiError",
     "evalue": "[400] ProcessGraphComplexity: The process is too complex for synchronous processing. Please use a batch job instead. estimated size of generated output of 139018080 bytes exceeds maximum supported size of 5000000 bytes.",
     "output_type": "error",
     "traceback": [
      "\u001b[0;31m---------------------------------------------------------------------------\u001b[0m",
      "\u001b[0;31mOpenEoApiError\u001b[0m                            Traceback (most recent call last)",
      "Cell \u001b[0;32mIn[15], line 1\u001b[0m\n\u001b[0;32m----> 1\u001b[0m \u001b[43msnowmap\u001b[49m\u001b[38;5;241;43m.\u001b[39;49m\u001b[43mdownload\u001b[49m\u001b[43m(\u001b[49m\u001b[38;5;124;43m\"\u001b[39;49m\u001b[38;5;124;43mdata/snowmap_syn.tiff\u001b[39;49m\u001b[38;5;124;43m\"\u001b[39;49m\u001b[43m)\u001b[49m\n",
      "File \u001b[0;32m/home/conda/users/c06df7d8cc38dff0b6ab13f016d9cda4bb65ebb5cdefbe46dc867e3aa29b6b61-20230801-104751-102087-199-edc-2023.07-01/lib/python3.11/site-packages/openeo/rest/datacube.py:1948\u001b[0m, in \u001b[0;36mDataCube.download\u001b[0;34m(self, outputfile, format, options)\u001b[0m\n\u001b[1;32m   1946\u001b[0m     \u001b[38;5;28mformat\u001b[39m \u001b[38;5;241m=\u001b[39m guess_format(outputfile)\n\u001b[1;32m   1947\u001b[0m cube \u001b[38;5;241m=\u001b[39m \u001b[38;5;28mself\u001b[39m\u001b[38;5;241m.\u001b[39m_ensure_save_result(\u001b[38;5;28mformat\u001b[39m\u001b[38;5;241m=\u001b[39m\u001b[38;5;28mformat\u001b[39m, options\u001b[38;5;241m=\u001b[39moptions)\n\u001b[0;32m-> 1948\u001b[0m \u001b[38;5;28;01mreturn\u001b[39;00m \u001b[38;5;28;43mself\u001b[39;49m\u001b[38;5;241;43m.\u001b[39;49m\u001b[43m_connection\u001b[49m\u001b[38;5;241;43m.\u001b[39;49m\u001b[43mdownload\u001b[49m\u001b[43m(\u001b[49m\u001b[43mcube\u001b[49m\u001b[38;5;241;43m.\u001b[39;49m\u001b[43mflat_graph\u001b[49m\u001b[43m(\u001b[49m\u001b[43m)\u001b[49m\u001b[43m,\u001b[49m\u001b[43m \u001b[49m\u001b[43moutputfile\u001b[49m\u001b[43m)\u001b[49m\n",
      "File \u001b[0;32m/home/conda/users/c06df7d8cc38dff0b6ab13f016d9cda4bb65ebb5cdefbe46dc867e3aa29b6b61-20230801-104751-102087-199-edc-2023.07-01/lib/python3.11/site-packages/openeo/rest/connection.py:1374\u001b[0m, in \u001b[0;36mConnection.download\u001b[0;34m(self, graph, outputfile, timeout)\u001b[0m\n\u001b[1;32m   1363\u001b[0m \u001b[38;5;250m\u001b[39m\u001b[38;5;124;03m\"\"\"\u001b[39;00m\n\u001b[1;32m   1364\u001b[0m \u001b[38;5;124;03mDownloads the result of a process graph synchronously,\u001b[39;00m\n\u001b[1;32m   1365\u001b[0m \u001b[38;5;124;03mand save the result to the given file or return bytes object if no outputfile is specified.\u001b[39;00m\n\u001b[0;32m   (...)\u001b[0m\n\u001b[1;32m   1371\u001b[0m \u001b[38;5;124;03m:param timeout: timeout to wait for response\u001b[39;00m\n\u001b[1;32m   1372\u001b[0m \u001b[38;5;124;03m\"\"\"\u001b[39;00m\n\u001b[1;32m   1373\u001b[0m request \u001b[38;5;241m=\u001b[39m \u001b[38;5;28mself\u001b[39m\u001b[38;5;241m.\u001b[39m_build_request_with_process_graph(process_graph\u001b[38;5;241m=\u001b[39mgraph)\n\u001b[0;32m-> 1374\u001b[0m response \u001b[38;5;241m=\u001b[39m \u001b[38;5;28;43mself\u001b[39;49m\u001b[38;5;241;43m.\u001b[39;49m\u001b[43mpost\u001b[49m\u001b[43m(\u001b[49m\u001b[43mpath\u001b[49m\u001b[38;5;241;43m=\u001b[39;49m\u001b[38;5;124;43m\"\u001b[39;49m\u001b[38;5;124;43m/result\u001b[39;49m\u001b[38;5;124;43m\"\u001b[39;49m\u001b[43m,\u001b[49m\u001b[43m \u001b[49m\u001b[43mjson\u001b[49m\u001b[38;5;241;43m=\u001b[39;49m\u001b[43mrequest\u001b[49m\u001b[43m,\u001b[49m\u001b[43m \u001b[49m\u001b[43mexpected_status\u001b[49m\u001b[38;5;241;43m=\u001b[39;49m\u001b[38;5;241;43m200\u001b[39;49m\u001b[43m,\u001b[49m\u001b[43m \u001b[49m\u001b[43mstream\u001b[49m\u001b[38;5;241;43m=\u001b[39;49m\u001b[38;5;28;43;01mTrue\u001b[39;49;00m\u001b[43m,\u001b[49m\u001b[43m \u001b[49m\u001b[43mtimeout\u001b[49m\u001b[38;5;241;43m=\u001b[39;49m\u001b[43mtimeout\u001b[49m\u001b[43m)\u001b[49m\n\u001b[1;32m   1376\u001b[0m \u001b[38;5;28;01mif\u001b[39;00m outputfile \u001b[38;5;129;01mis\u001b[39;00m \u001b[38;5;129;01mnot\u001b[39;00m \u001b[38;5;28;01mNone\u001b[39;00m:\n\u001b[1;32m   1377\u001b[0m     \u001b[38;5;28;01mwith\u001b[39;00m Path(outputfile)\u001b[38;5;241m.\u001b[39mopen(mode\u001b[38;5;241m=\u001b[39m\u001b[38;5;124m\"\u001b[39m\u001b[38;5;124mwb\u001b[39m\u001b[38;5;124m\"\u001b[39m) \u001b[38;5;28;01mas\u001b[39;00m f:\n",
      "File \u001b[0;32m/home/conda/users/c06df7d8cc38dff0b6ab13f016d9cda4bb65ebb5cdefbe46dc867e3aa29b6b61-20230801-104751-102087-199-edc-2023.07-01/lib/python3.11/site-packages/openeo/rest/connection.py:178\u001b[0m, in \u001b[0;36mRestApiConnection.post\u001b[0;34m(self, path, json, **kwargs)\u001b[0m\n\u001b[1;32m    170\u001b[0m \u001b[38;5;28;01mdef\u001b[39;00m \u001b[38;5;21mpost\u001b[39m(\u001b[38;5;28mself\u001b[39m, path, json: \u001b[38;5;28mdict\u001b[39m \u001b[38;5;241m=\u001b[39m \u001b[38;5;28;01mNone\u001b[39;00m, \u001b[38;5;241m*\u001b[39m\u001b[38;5;241m*\u001b[39mkwargs) \u001b[38;5;241m-\u001b[39m\u001b[38;5;241m>\u001b[39m Response:\n\u001b[1;32m    171\u001b[0m \u001b[38;5;250m    \u001b[39m\u001b[38;5;124;03m\"\"\"\u001b[39;00m\n\u001b[1;32m    172\u001b[0m \u001b[38;5;124;03m    Do POST request to REST API.\u001b[39;00m\n\u001b[1;32m    173\u001b[0m \n\u001b[0;32m   (...)\u001b[0m\n\u001b[1;32m    176\u001b[0m \u001b[38;5;124;03m    :return: response: Response\u001b[39;00m\n\u001b[1;32m    177\u001b[0m \u001b[38;5;124;03m    \"\"\"\u001b[39;00m\n\u001b[0;32m--> 178\u001b[0m     \u001b[38;5;28;01mreturn\u001b[39;00m \u001b[38;5;28;43mself\u001b[39;49m\u001b[38;5;241;43m.\u001b[39;49m\u001b[43mrequest\u001b[49m\u001b[43m(\u001b[49m\u001b[38;5;124;43m\"\u001b[39;49m\u001b[38;5;124;43mpost\u001b[39;49m\u001b[38;5;124;43m\"\u001b[39;49m\u001b[43m,\u001b[49m\u001b[43m \u001b[49m\u001b[43mpath\u001b[49m\u001b[38;5;241;43m=\u001b[39;49m\u001b[43mpath\u001b[49m\u001b[43m,\u001b[49m\u001b[43m \u001b[49m\u001b[43mjson\u001b[49m\u001b[38;5;241;43m=\u001b[39;49m\u001b[43mjson\u001b[49m\u001b[43m,\u001b[49m\u001b[43m \u001b[49m\u001b[43mallow_redirects\u001b[49m\u001b[38;5;241;43m=\u001b[39;49m\u001b[38;5;28;43;01mFalse\u001b[39;49;00m\u001b[43m,\u001b[49m\u001b[43m \u001b[49m\u001b[38;5;241;43m*\u001b[39;49m\u001b[38;5;241;43m*\u001b[39;49m\u001b[43mkwargs\u001b[49m\u001b[43m)\u001b[49m\n",
      "File \u001b[0;32m/home/conda/users/c06df7d8cc38dff0b6ab13f016d9cda4bb65ebb5cdefbe46dc867e3aa29b6b61-20230801-104751-102087-199-edc-2023.07-01/lib/python3.11/site-packages/openeo/rest/connection.py:699\u001b[0m, in \u001b[0;36mConnection.request\u001b[0;34m(self, method, path, headers, auth, check_error, expected_status, **kwargs)\u001b[0m\n\u001b[1;32m    692\u001b[0m     \u001b[38;5;28;01mreturn\u001b[39;00m \u001b[38;5;28msuper\u001b[39m(Connection, \u001b[38;5;28mself\u001b[39m)\u001b[38;5;241m.\u001b[39mrequest(\n\u001b[1;32m    693\u001b[0m         method\u001b[38;5;241m=\u001b[39mmethod, path\u001b[38;5;241m=\u001b[39mpath, headers\u001b[38;5;241m=\u001b[39mheaders, auth\u001b[38;5;241m=\u001b[39mauth,\n\u001b[1;32m    694\u001b[0m         check_error\u001b[38;5;241m=\u001b[39mcheck_error, expected_status\u001b[38;5;241m=\u001b[39mexpected_status, \u001b[38;5;241m*\u001b[39m\u001b[38;5;241m*\u001b[39mkwargs,\n\u001b[1;32m    695\u001b[0m     )\n\u001b[1;32m    697\u001b[0m \u001b[38;5;28;01mtry\u001b[39;00m:\n\u001b[1;32m    698\u001b[0m     \u001b[38;5;66;03m# Initial request attempt\u001b[39;00m\n\u001b[0;32m--> 699\u001b[0m     \u001b[38;5;28;01mreturn\u001b[39;00m \u001b[43m_request\u001b[49m\u001b[43m(\u001b[49m\u001b[43m)\u001b[49m\n\u001b[1;32m    700\u001b[0m \u001b[38;5;28;01mexcept\u001b[39;00m OpenEoApiError \u001b[38;5;28;01mas\u001b[39;00m api_exc:\n\u001b[1;32m    701\u001b[0m     \u001b[38;5;28;01mif\u001b[39;00m api_exc\u001b[38;5;241m.\u001b[39mhttp_status_code \u001b[38;5;241m==\u001b[39m \u001b[38;5;241m403\u001b[39m \u001b[38;5;129;01mand\u001b[39;00m api_exc\u001b[38;5;241m.\u001b[39mcode \u001b[38;5;241m==\u001b[39m \u001b[38;5;124m\"\u001b[39m\u001b[38;5;124mTokenInvalid\u001b[39m\u001b[38;5;124m\"\u001b[39m:\n\u001b[1;32m    702\u001b[0m         \u001b[38;5;66;03m# Auth token expired: can we refresh?\u001b[39;00m\n",
      "File \u001b[0;32m/home/conda/users/c06df7d8cc38dff0b6ab13f016d9cda4bb65ebb5cdefbe46dc867e3aa29b6b61-20230801-104751-102087-199-edc-2023.07-01/lib/python3.11/site-packages/openeo/rest/connection.py:692\u001b[0m, in \u001b[0;36mConnection.request.<locals>._request\u001b[0;34m()\u001b[0m\n\u001b[1;32m    691\u001b[0m \u001b[38;5;28;01mdef\u001b[39;00m \u001b[38;5;21m_request\u001b[39m():\n\u001b[0;32m--> 692\u001b[0m     \u001b[38;5;28;01mreturn\u001b[39;00m \u001b[38;5;28;43msuper\u001b[39;49m\u001b[43m(\u001b[49m\u001b[43mConnection\u001b[49m\u001b[43m,\u001b[49m\u001b[43m \u001b[49m\u001b[38;5;28;43mself\u001b[39;49m\u001b[43m)\u001b[49m\u001b[38;5;241;43m.\u001b[39;49m\u001b[43mrequest\u001b[49m\u001b[43m(\u001b[49m\n\u001b[1;32m    693\u001b[0m \u001b[43m        \u001b[49m\u001b[43mmethod\u001b[49m\u001b[38;5;241;43m=\u001b[39;49m\u001b[43mmethod\u001b[49m\u001b[43m,\u001b[49m\u001b[43m \u001b[49m\u001b[43mpath\u001b[49m\u001b[38;5;241;43m=\u001b[39;49m\u001b[43mpath\u001b[49m\u001b[43m,\u001b[49m\u001b[43m \u001b[49m\u001b[43mheaders\u001b[49m\u001b[38;5;241;43m=\u001b[39;49m\u001b[43mheaders\u001b[49m\u001b[43m,\u001b[49m\u001b[43m \u001b[49m\u001b[43mauth\u001b[49m\u001b[38;5;241;43m=\u001b[39;49m\u001b[43mauth\u001b[49m\u001b[43m,\u001b[49m\n\u001b[1;32m    694\u001b[0m \u001b[43m        \u001b[49m\u001b[43mcheck_error\u001b[49m\u001b[38;5;241;43m=\u001b[39;49m\u001b[43mcheck_error\u001b[49m\u001b[43m,\u001b[49m\u001b[43m \u001b[49m\u001b[43mexpected_status\u001b[49m\u001b[38;5;241;43m=\u001b[39;49m\u001b[43mexpected_status\u001b[49m\u001b[43m,\u001b[49m\u001b[43m \u001b[49m\u001b[38;5;241;43m*\u001b[39;49m\u001b[38;5;241;43m*\u001b[39;49m\u001b[43mkwargs\u001b[49m\u001b[43m,\u001b[49m\n\u001b[1;32m    695\u001b[0m \u001b[43m    \u001b[49m\u001b[43m)\u001b[49m\n",
      "File \u001b[0;32m/home/conda/users/c06df7d8cc38dff0b6ab13f016d9cda4bb65ebb5cdefbe46dc867e3aa29b6b61-20230801-104751-102087-199-edc-2023.07-01/lib/python3.11/site-packages/openeo/rest/connection.py:126\u001b[0m, in \u001b[0;36mRestApiConnection.request\u001b[0;34m(self, method, path, headers, auth, check_error, expected_status, **kwargs)\u001b[0m\n\u001b[1;32m    124\u001b[0m expected_status \u001b[38;5;241m=\u001b[39m ensure_list(expected_status) \u001b[38;5;28;01mif\u001b[39;00m expected_status \u001b[38;5;28;01melse\u001b[39;00m []\n\u001b[1;32m    125\u001b[0m \u001b[38;5;28;01mif\u001b[39;00m check_error \u001b[38;5;129;01mand\u001b[39;00m status \u001b[38;5;241m>\u001b[39m\u001b[38;5;241m=\u001b[39m \u001b[38;5;241m400\u001b[39m \u001b[38;5;129;01mand\u001b[39;00m status \u001b[38;5;129;01mnot\u001b[39;00m \u001b[38;5;129;01min\u001b[39;00m expected_status:\n\u001b[0;32m--> 126\u001b[0m     \u001b[38;5;28;43mself\u001b[39;49m\u001b[38;5;241;43m.\u001b[39;49m\u001b[43m_raise_api_error\u001b[49m\u001b[43m(\u001b[49m\u001b[43mresp\u001b[49m\u001b[43m)\u001b[49m\n\u001b[1;32m    127\u001b[0m \u001b[38;5;28;01mif\u001b[39;00m expected_status \u001b[38;5;129;01mand\u001b[39;00m status \u001b[38;5;129;01mnot\u001b[39;00m \u001b[38;5;129;01min\u001b[39;00m expected_status:\n\u001b[1;32m    128\u001b[0m     \u001b[38;5;28;01mraise\u001b[39;00m OpenEoRestError(\u001b[38;5;124m\"\u001b[39m\u001b[38;5;124mGot status code \u001b[39m\u001b[38;5;132;01m{s!r}\u001b[39;00m\u001b[38;5;124m for `\u001b[39m\u001b[38;5;132;01m{m}\u001b[39;00m\u001b[38;5;124m \u001b[39m\u001b[38;5;132;01m{p}\u001b[39;00m\u001b[38;5;124m` (expected \u001b[39m\u001b[38;5;132;01m{e!r}\u001b[39;00m\u001b[38;5;124m) with body \u001b[39m\u001b[38;5;132;01m{body}\u001b[39;00m\u001b[38;5;124m\"\u001b[39m\u001b[38;5;241m.\u001b[39mformat(\n\u001b[1;32m    129\u001b[0m         m\u001b[38;5;241m=\u001b[39mmethod\u001b[38;5;241m.\u001b[39mupper(), p\u001b[38;5;241m=\u001b[39mpath, s\u001b[38;5;241m=\u001b[39mstatus, e\u001b[38;5;241m=\u001b[39mexpected_status, body\u001b[38;5;241m=\u001b[39mresp\u001b[38;5;241m.\u001b[39mtext)\n\u001b[1;32m    130\u001b[0m     )\n",
      "File \u001b[0;32m/home/conda/users/c06df7d8cc38dff0b6ab13f016d9cda4bb65ebb5cdefbe46dc867e3aa29b6b61-20230801-104751-102087-199-edc-2023.07-01/lib/python3.11/site-packages/openeo/rest/connection.py:157\u001b[0m, in \u001b[0;36mRestApiConnection._raise_api_error\u001b[0;34m(self, response)\u001b[0m\n\u001b[1;32m    155\u001b[0m     \u001b[38;5;28;01melse\u001b[39;00m:\n\u001b[1;32m    156\u001b[0m         exception \u001b[38;5;241m=\u001b[39m OpenEoApiError(http_status_code\u001b[38;5;241m=\u001b[39mstatus_code, message\u001b[38;5;241m=\u001b[39mtext)\n\u001b[0;32m--> 157\u001b[0m \u001b[38;5;28;01mraise\u001b[39;00m exception\n",
      "\u001b[0;31mOpenEoApiError\u001b[0m: [400] ProcessGraphComplexity: The process is too complex for synchronous processing. Please use a batch job instead. estimated size of generated output of 139018080 bytes exceeds maximum supported size of 5000000 bytes."
     ]
    }
   ],
   "source": [
    "snowmap.download(\"data/snowmap_syn.tiff\")"
   ]
  },
  {
   "cell_type": "code",
   "execution_count": 14,
   "id": "94cf1e78-ad8c-407e-b6c6-690d60a44394",
   "metadata": {},
   "outputs": [],
   "source": [
    "# #ndsi_mean = ndsi.reduce_dimension(dimension=\"t\", reducer = mean)\n",
    "# ndsi_max = ndsi.max_time()\n",
    "# ndsi_max"
   ]
  },
  {
   "cell_type": "code",
   "execution_count": 18,
   "id": "c17a50b3-a0df-4c5e-8b62-64c161c619db",
   "metadata": {},
   "outputs": [],
   "source": [
    "# ndsi_max.download(\"ndsi_max.tiff\")\n",
    "# ndsi.download(\"data/snowmap.tiff\")"
   ]
  },
  {
   "cell_type": "code",
   "execution_count": 16,
   "id": "a3308098-d938-47e1-8e01-204252fadc89",
   "metadata": {},
   "outputs": [],
   "source": [
    "# OpenEoApiError: [400] ProcessGraphComplexity: The process is too complex for synchronous processing. Please use a batch job instead. estimated size of generated output of 34754520 bytes exceeds maximum supported size of 5000000 bytes.\n",
    "# OpenEoApiError: [504] unknown: Endpoint request timed out"
   ]
  },
  {
   "cell_type": "markdown",
   "id": "ffb3d5ad-1655-4359-957d-e84edee27d98",
   "metadata": {
    "jp-MarkdownHeadingCollapsed": true,
    "tags": []
   },
   "source": [
    "# Others"
   ]
  },
  {
   "cell_type": "code",
   "execution_count": 26,
   "id": "91571c79-e076-4bf9-ae8d-9a565c100cc2",
   "metadata": {},
   "outputs": [],
   "source": [
    "# # from gtiff_parser import *\n",
    "# import gtiff_parser\n",
    "\n",
    "# # URL containing \"default.tif\" from a response to \"/jobs/{job_id}/results\"\n",
    "# input_tiff = \"data/snowmap/9c4626d3-a8fc-4b89-a8cc-59b296cbc646/32TPS_6_2/default.tif\"\n",
    "\n",
    "# # URL containing \"userdata.json\" from a response to \"/jobs/{job_id}/results\"\n",
    "# input_metadata = \"data/snowmap/job-results.json\"\n",
    "\n",
    "# # folder where the output files will be put\n",
    "# output_dir = \".\"\n",
    "\n",
    "# # output format\n",
    "# output_format = \"zarr\"\n",
    "\n",
    "# output_file_paths = parse_multitemporal_gtiff_to_format(input_tiff, input_metadata, output_dir, output_format)\n"
   ]
  },
  {
   "cell_type": "code",
   "execution_count": 22,
   "id": "37e5cfae-aaad-482f-9254-94c6a91c0070",
   "metadata": {},
   "outputs": [],
   "source": [
    "# job/f382cd4a-f26c-4fc4-ab80-e16764aef2e0/results"
   ]
  },
  {
   "cell_type": "code",
   "execution_count": 23,
   "id": "79093e8c-f82b-40c5-afe3-d4c7cbfa5664",
   "metadata": {},
   "outputs": [
    {
     "data": {
      "text/plain": [
       "'f382cd4a-f26c-4fc4-ab80-e16764aef2e0'"
      ]
     },
     "execution_count": 23,
     "metadata": {},
     "output_type": "execute_result"
    }
   ],
   "source": [
    "job.job_id"
   ]
  },
  {
   "cell_type": "code",
   "execution_count": 22,
   "id": "a6933830-6a80-46d0-8b88-041b8655695a",
   "metadata": {},
   "outputs": [],
   "source": [
    "# import rioxarray as rio\n",
    "# rio.open_rasterio(\"data/snowmap.tiff\")"
   ]
  },
  {
   "cell_type": "code",
   "execution_count": 23,
   "id": "01078cf6-7ba5-4295-82e5-ddaf9424f97c",
   "metadata": {},
   "outputs": [],
   "source": [
    "# import rioxarray as rio\n",
    "# pth_res = \"ndsi_max.tiff\"\n",
    "# res = rio.open_rasterio(pth_res)\n",
    "# res"
   ]
  },
  {
   "cell_type": "code",
   "execution_count": 1,
   "id": "fb770bce-8fad-47e2-842c-c04ccdbad740",
   "metadata": {},
   "outputs": [],
   "source": [
    "# res.values"
   ]
  },
  {
   "cell_type": "code",
   "execution_count": 1,
   "id": "44f5131b-539c-4e4f-9136-84cbab7d41b3",
   "metadata": {},
   "outputs": [],
   "source": [
    "# res.squeeze().plot.imshow(cmap=\"hot_r\")"
   ]
  },
  {
   "cell_type": "code",
   "execution_count": 15,
   "id": "e6d10441-10f3-4af3-ac5e-1a2e3c48dc75",
   "metadata": {},
   "outputs": [],
   "source": [
    "# ndsi_max_fin = ndsi_max.save_result(format=\"GTiff\")\n",
    "# #snowmap_fin.execute_batch()\n",
    "# ndsi_max_fin_job = ndsi_max_fin.create_job(title = \"ndsi_max\")\n",
    "# ndsi_max_fin_job.start_job()"
   ]
  },
  {
   "cell_type": "code",
   "execution_count": 24,
   "id": "daf061ea-acb9-4780-b45e-ea6b1081e2dc",
   "metadata": {},
   "outputs": [],
   "source": [
    "# ndsi_max_fin_job"
   ]
  },
  {
   "cell_type": "code",
   "execution_count": 25,
   "id": "5fcf8ad4-ffbc-4575-aa40-989b2eac3a91",
   "metadata": {},
   "outputs": [],
   "source": [
    "# OpenEoApiError: [500] Internal: Server error: Failed to download from:\n",
    "# https://services.sentinel-hub.com/api/v1/batch/process\n",
    "# with HTTPError:\n",
    "# 403 Client Error: Forbidden for url: https://services.sentinel-hub.com/api/v1/batch/process\n",
    "# Server response: \"{\"status\": 403, \"reason\": \"Forbidden\", \"message\": \"You are not authorized to perform this action.\", \"code\": \"COMMON_INSUFFICIENT_PERMISSIONS\"}\""
   ]
  },
  {
   "cell_type": "code",
   "execution_count": null,
   "id": "58776e83-5240-4f32-beea-331ab669152c",
   "metadata": {},
   "outputs": [],
   "source": []
  }
 ],
 "metadata": {
  "kernelspec": {
   "display_name": "users-edc-2023.07-01",
   "language": "python",
   "name": "conda-env-users-edc-2023.07-01-py"
  },
  "language_info": {
   "codemirror_mode": {
    "name": "ipython",
    "version": 3
   },
   "file_extension": ".py",
   "mimetype": "text/x-python",
   "name": "python",
   "nbconvert_exporter": "python",
   "pygments_lexer": "ipython3",
   "version": "3.11.4"
  }
 },
 "nbformat": 4,
 "nbformat_minor": 5
}
