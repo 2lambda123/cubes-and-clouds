{
 "cells": [
  {
   "cell_type": "markdown",
   "id": "f0816bcf-2b14-4b19-b78e-491144f16344",
   "metadata": {},
   "source": [
    "<img src=\"https://raw.githubusercontent.com/EO-College/cubes-and-clouds/main/icons/cnc_icon_process.svg\"\n",
    "     alt=\"Cubes & Clouds Processing logo\" width=\"00\"\n",
    "     style=\"width: 2500px; height:300px; float: center; margin-right: 10px;\" />"
   ]
  },
  {
   "cell_type": "markdown",
   "id": "0c6aed2f-1493-4636-a124-03c81b28bc52",
   "metadata": {},
   "source": [
    "# 3.3 Validation\n",
    "In this exercise, we showcase the approach you can utilize to quickly validate the usefulness of your satellite-derived computation. In general, the integrity of the information derived from satellite observation is often showcased by stating its accuracy or some other metrics computed using in-situ measurements. Here, we compute a specified metric using the provided tools and resources on the cloud platform we are using.\n",
    "\n",
    "The steps involved in this analysis:\n",
    "- Generate Datacube time-series of snowmap,\n",
    "- Load _in-situ_ datasets,\n",
    "- Pre-process and filter _in-situ_ datasets to match area of interest, \n",
    "- Perform validation of snow-depth measurements\n",
    "\n",
    "More information on the openEO Python Client: https://open-eo.github.io/openeo-python-client/index.html"
   ]
  },
  {
   "cell_type": "markdown",
   "id": "62f4cb92-ac45-4e98-8d61-b2ff43c7dc84",
   "metadata": {},
   "source": [
    "## Libraries"
   ]
  },
  {
   "cell_type": "code",
   "execution_count": 1,
   "id": "1abf270c-d73e-4109-854c-3cf36a1b36d7",
   "metadata": {},
   "outputs": [],
   "source": [
    "import json\n",
    "from datetime import date\n",
    "import numpy as np\n",
    "import pandas as pd\n",
    "\n",
    "import xarray as xr\n",
    "import rioxarray as rio\n",
    "\n",
    "import matplotlib.pyplot as plt\n",
    "import rasterio\n",
    "from rasterio.plot import show\n",
    "\n",
    "import geopandas as gpd\n",
    "import leafmap.foliumap as leafmap\n",
    "import openeo"
   ]
  },
  {
   "cell_type": "markdown",
   "id": "fc23ce94-ec50-42a1-ac64-031dc18565fa",
   "metadata": {
    "tags": []
   },
   "source": [
    "## Login\n",
    "Connect to the copernicus dataspace ecosystem."
   ]
  },
  {
   "cell_type": "code",
   "execution_count": 2,
   "id": "86afd551-857e-4129-a2ee-39a933255f34",
   "metadata": {},
   "outputs": [],
   "source": [
    "conn = openeo.connect('https://openeo.dataspace.copernicus.eu/')"
   ]
  },
  {
   "cell_type": "markdown",
   "id": "c5572699-f06c-4f42-8aed-4f6f549cedf9",
   "metadata": {},
   "source": [
    "Authenticate login"
   ]
  },
  {
   "cell_type": "code",
   "execution_count": 3,
   "id": "de26fd5c-71da-4d28-b895-f5108a97a1d5",
   "metadata": {},
   "outputs": [
    {
     "name": "stdout",
     "output_type": "stream",
     "text": [
      "Authenticated using refresh token.\n"
     ]
    },
    {
     "data": {
      "text/plain": [
       "<Connection to 'https://openeo.dataspace.copernicus.eu/openeo/1.1/' with OidcBearerAuth>"
      ]
     },
     "execution_count": 3,
     "metadata": {},
     "output_type": "execute_result"
    }
   ],
   "source": [
    "conn.authenticate_oidc()"
   ]
  },
  {
   "cell_type": "markdown",
   "id": "96ccb225-6691-458a-bac3-ae0ed48c4a71",
   "metadata": {},
   "source": [
    "Check if the login worked"
   ]
  },
  {
   "cell_type": "code",
   "execution_count": 4,
   "id": "7afd0fd0-0207-495d-b076-ed68f826bc5f",
   "metadata": {},
   "outputs": [
    {
     "data": {
      "text/plain": [
       "{'info': {'oidc_userinfo': {'email': 'rufaibalogun1@gmail.com',\n",
       "   'email_verified': True,\n",
       "   'family_name': 'Balogun',\n",
       "   'given_name': 'Rufai Omowunmi',\n",
       "   'name': 'Rufai Omowunmi Balogun',\n",
       "   'preferred_username': 'rufaibalogun1@gmail.com',\n",
       "   'sub': '06183cbc-84c8-4c6a-8a7d-cb18ba08cc8c'}},\n",
       " 'name': 'Rufai Omowunmi Balogun',\n",
       " 'user_id': '06183cbc-84c8-4c6a-8a7d-cb18ba08cc8c'}"
      ]
     },
     "execution_count": 4,
     "metadata": {},
     "output_type": "execute_result"
    }
   ],
   "source": [
    "conn.describe_account()"
   ]
  },
  {
   "cell_type": "markdown",
   "id": "fc770846-94b0-480e-8a7e-64e8b6b6b58e",
   "metadata": {
    "tags": []
   },
   "source": [
    "## Utility functions"
   ]
  },
  {
   "cell_type": "markdown",
   "id": "6cb40bc5-8916-4989-b026-1b354a33e695",
   "metadata": {},
   "source": [
    "## Region of Interest"
   ]
  },
  {
   "cell_type": "code",
   "execution_count": 5,
   "id": "bc69c8d6-62dc-474e-be39-3e5ca9c5daca",
   "metadata": {
    "tags": []
   },
   "outputs": [],
   "source": [
    "catchment_outline = gpd.read_file('data/catchment_outline.geojson')"
   ]
  },
  {
   "cell_type": "code",
   "execution_count": 6,
   "id": "920d356b-c477-4bac-a811-e0eb3b031853",
   "metadata": {
    "tags": []
   },
   "outputs": [
    {
     "data": {
      "text/html": [
       "<iframe srcdoc=\"&lt;!DOCTYPE html&gt;\n",
       "&lt;html&gt;\n",
       "&lt;head&gt;\n",
       "    \n",
       "    &lt;meta http-equiv=&quot;content-type&quot; content=&quot;text/html; charset=UTF-8&quot; /&gt;\n",
       "    \n",
       "        &lt;script&gt;\n",
       "            L_NO_TOUCH = false;\n",
       "            L_DISABLE_3D = false;\n",
       "        &lt;/script&gt;\n",
       "    \n",
       "    &lt;style&gt;html, body {width: 100%;height: 100%;margin: 0;padding: 0;}&lt;/style&gt;\n",
       "    &lt;style&gt;#map {position:absolute;top:0;bottom:0;right:0;left:0;}&lt;/style&gt;\n",
       "    &lt;script src=&quot;https://cdn.jsdelivr.net/npm/leaflet@1.9.3/dist/leaflet.js&quot;&gt;&lt;/script&gt;\n",
       "    &lt;script src=&quot;https://code.jquery.com/jquery-1.12.4.min.js&quot;&gt;&lt;/script&gt;\n",
       "    &lt;script src=&quot;https://cdn.jsdelivr.net/npm/bootstrap@5.2.2/dist/js/bootstrap.bundle.min.js&quot;&gt;&lt;/script&gt;\n",
       "    &lt;script src=&quot;https://cdnjs.cloudflare.com/ajax/libs/Leaflet.awesome-markers/2.0.2/leaflet.awesome-markers.js&quot;&gt;&lt;/script&gt;\n",
       "    &lt;link rel=&quot;stylesheet&quot; href=&quot;https://cdn.jsdelivr.net/npm/leaflet@1.9.3/dist/leaflet.css&quot;/&gt;\n",
       "    &lt;link rel=&quot;stylesheet&quot; href=&quot;https://cdn.jsdelivr.net/npm/bootstrap@5.2.2/dist/css/bootstrap.min.css&quot;/&gt;\n",
       "    &lt;link rel=&quot;stylesheet&quot; href=&quot;https://netdna.bootstrapcdn.com/bootstrap/3.0.0/css/bootstrap.min.css&quot;/&gt;\n",
       "    &lt;link rel=&quot;stylesheet&quot; href=&quot;https://cdn.jsdelivr.net/npm/@fortawesome/fontawesome-free@6.2.0/css/all.min.css&quot;/&gt;\n",
       "    &lt;link rel=&quot;stylesheet&quot; href=&quot;https://cdnjs.cloudflare.com/ajax/libs/Leaflet.awesome-markers/2.0.2/leaflet.awesome-markers.css&quot;/&gt;\n",
       "    &lt;link rel=&quot;stylesheet&quot; href=&quot;https://cdn.jsdelivr.net/gh/python-visualization/folium/folium/templates/leaflet.awesome.rotate.min.css&quot;/&gt;\n",
       "    \n",
       "            &lt;meta name=&quot;viewport&quot; content=&quot;width=device-width,\n",
       "                initial-scale=1.0, maximum-scale=1.0, user-scalable=no&quot; /&gt;\n",
       "            &lt;style&gt;\n",
       "                #map_98173014a757824458fa1c78f9f277c9 {\n",
       "                    position: relative;\n",
       "                    width: 100.0%;\n",
       "                    height: 100.0%;\n",
       "                    left: 0.0%;\n",
       "                    top: 0.0%;\n",
       "                }\n",
       "                .leaflet-container { font-size: 1rem; }\n",
       "            &lt;/style&gt;\n",
       "        \n",
       "    &lt;script src=&quot;https://cdnjs.cloudflare.com/ajax/libs/leaflet.fullscreen/1.4.2/Control.FullScreen.min.js&quot;&gt;&lt;/script&gt;\n",
       "    &lt;link rel=&quot;stylesheet&quot; href=&quot;https://cdnjs.cloudflare.com/ajax/libs/leaflet.fullscreen/1.4.2/Control.FullScreen.min.css&quot;/&gt;\n",
       "    &lt;script src=&quot;https://cdnjs.cloudflare.com/ajax/libs/leaflet.draw/1.0.2/leaflet.draw.js&quot;&gt;&lt;/script&gt;\n",
       "    &lt;link rel=&quot;stylesheet&quot; href=&quot;https://cdnjs.cloudflare.com/ajax/libs/leaflet.draw/1.0.2/leaflet.draw.css&quot;/&gt;\n",
       "    &lt;script src=&quot;https://cdn.jsdelivr.net/gh/ljagis/leaflet-measure@2.1.7/dist/leaflet-measure.min.js&quot;&gt;&lt;/script&gt;\n",
       "    &lt;link rel=&quot;stylesheet&quot; href=&quot;https://cdn.jsdelivr.net/gh/ljagis/leaflet-measure@2.1.7/dist/leaflet-measure.min.css&quot;/&gt;\n",
       "    &lt;script src=&quot;https://unpkg.com/leaflet-control-geocoder/dist/Control.Geocoder.js&quot;&gt;&lt;/script&gt;\n",
       "    &lt;link rel=&quot;stylesheet&quot; href=&quot;https://unpkg.com/leaflet-control-geocoder/dist/Control.Geocoder.css&quot;/&gt;\n",
       "    \n",
       "                    &lt;style&gt;\n",
       "                        .foliumtooltip {\n",
       "                            \n",
       "                        }\n",
       "                       .foliumtooltip table{\n",
       "                            margin: auto;\n",
       "                        }\n",
       "                        .foliumtooltip tr{\n",
       "                            text-align: left;\n",
       "                        }\n",
       "                        .foliumtooltip th{\n",
       "                            padding: 2px; padding-right: 8px;\n",
       "                        }\n",
       "                    &lt;/style&gt;\n",
       "            \n",
       "&lt;/head&gt;\n",
       "&lt;body&gt;\n",
       "    \n",
       "    \n",
       "            &lt;div class=&quot;folium-map&quot; id=&quot;map_98173014a757824458fa1c78f9f277c9&quot; &gt;&lt;/div&gt;\n",
       "        \n",
       "&lt;/body&gt;\n",
       "&lt;script&gt;\n",
       "    \n",
       "    \n",
       "            var map_98173014a757824458fa1c78f9f277c9 = L.map(\n",
       "                &quot;map_98173014a757824458fa1c78f9f277c9&quot;,\n",
       "                {\n",
       "                    center: [46.79856263096177, 11.177346530561929],\n",
       "                    crs: L.CRS.EPSG3857,\n",
       "                    zoom: 10,\n",
       "                    zoomControl: true,\n",
       "                    preferCanvas: false,\n",
       "                    drawExport: false,\n",
       "                    layersControl: true,\n",
       "                }\n",
       "            );\n",
       "            L.control.scale().addTo(map_98173014a757824458fa1c78f9f277c9);\n",
       "\n",
       "            \n",
       "\n",
       "        \n",
       "    \n",
       "            var tile_layer_3450d1d4086a798af8a8d9aed04bdc26 = L.tileLayer(\n",
       "                &quot;https://{s}.tile.openstreetmap.org/{z}/{x}/{y}.png&quot;,\n",
       "                {&quot;attribution&quot;: &quot;Data by \\u0026copy; \\u003ca target=\\&quot;_blank\\&quot; href=\\&quot;http://openstreetmap.org\\&quot;\\u003eOpenStreetMap\\u003c/a\\u003e, under \\u003ca target=\\&quot;_blank\\&quot; href=\\&quot;http://www.openstreetmap.org/copyright\\&quot;\\u003eODbL\\u003c/a\\u003e.&quot;, &quot;detectRetina&quot;: false, &quot;maxNativeZoom&quot;: 24, &quot;maxZoom&quot;: 24, &quot;minZoom&quot;: 0, &quot;noWrap&quot;: false, &quot;opacity&quot;: 1, &quot;subdomains&quot;: &quot;abc&quot;, &quot;tms&quot;: false}\n",
       "            ).addTo(map_98173014a757824458fa1c78f9f277c9);\n",
       "        \n",
       "    \n",
       "            L.control.fullscreen(\n",
       "                {&quot;forceSeparateButton&quot;: false, &quot;position&quot;: &quot;topleft&quot;, &quot;title&quot;: &quot;Full Screen&quot;, &quot;titleCancel&quot;: &quot;Exit Full Screen&quot;}\n",
       "            ).addTo(map_98173014a757824458fa1c78f9f277c9);\n",
       "        \n",
       "    \n",
       "            var options = {\n",
       "              position: &quot;topleft&quot;,\n",
       "              draw: {},\n",
       "              edit: {},\n",
       "            }\n",
       "            // FeatureGroup is to store editable layers.\n",
       "            var drawnItems = new L.featureGroup().addTo(\n",
       "                map_98173014a757824458fa1c78f9f277c9\n",
       "            );\n",
       "            options.edit.featureGroup = drawnItems;\n",
       "            var draw_control_78e1e1f60379b165fb061ed340c06b20 = new L.Control.Draw(\n",
       "                options\n",
       "            ).addTo( map_98173014a757824458fa1c78f9f277c9 );\n",
       "            map_98173014a757824458fa1c78f9f277c9.on(L.Draw.Event.CREATED, function(e) {\n",
       "                var layer = e.layer,\n",
       "                    type = e.layerType;\n",
       "                var coords = JSON.stringify(layer.toGeoJSON());\n",
       "                layer.on(&#x27;click&#x27;, function() {\n",
       "                    alert(coords);\n",
       "                    console.log(coords);\n",
       "                });\n",
       "                drawnItems.addLayer(layer);\n",
       "             });\n",
       "            map_98173014a757824458fa1c78f9f277c9.on(&#x27;draw:created&#x27;, function(e) {\n",
       "                drawnItems.addLayer(e.layer);\n",
       "            });\n",
       "            \n",
       "        \n",
       "    \n",
       "            var measure_control_e4602574eb14dc032fe03d760a383732 = new L.Control.Measure(\n",
       "                {&quot;position&quot;: &quot;bottomleft&quot;, &quot;primaryAreaUnit&quot;: &quot;sqmeters&quot;, &quot;primaryLengthUnit&quot;: &quot;meters&quot;, &quot;secondaryAreaUnit&quot;: &quot;acres&quot;, &quot;secondaryLengthUnit&quot;: &quot;miles&quot;});\n",
       "            map_98173014a757824458fa1c78f9f277c9.addControl(measure_control_e4602574eb14dc032fe03d760a383732);\n",
       "\n",
       "        \n",
       "    \n",
       "            L.Control.geocoder(\n",
       "                {&quot;collapsed&quot;: true, &quot;defaultMarkGeocode&quot;: true, &quot;position&quot;: &quot;topleft&quot;}\n",
       "            ).on(&#x27;markgeocode&#x27;, function(e) {\n",
       "                map_98173014a757824458fa1c78f9f277c9.setView(e.geocode.center, 11);\n",
       "            }).addTo(map_98173014a757824458fa1c78f9f277c9);\n",
       "\n",
       "        \n",
       "    \n",
       "            map_98173014a757824458fa1c78f9f277c9.fitBounds(\n",
       "                [[46.79856263096177, 11.177346530561929], [46.79856263096177, 11.177346530561929]],\n",
       "                {&quot;maxZoom&quot;: 10}\n",
       "            );\n",
       "        \n",
       "    \n",
       "        function geo_json_fd997a7ec3a79bf650bb8e8260079601_styler(feature) {\n",
       "            switch(feature.properties.HYBAS_ID) {\n",
       "                default:\n",
       "                    return {&quot;color&quot;: &quot;#3388ff&quot;, &quot;fillOpacity&quot;: 0, &quot;opacity&quot;: 1, &quot;weight&quot;: 2};\n",
       "            }\n",
       "        }\n",
       "        function geo_json_fd997a7ec3a79bf650bb8e8260079601_highlighter(feature) {\n",
       "            switch(feature.properties.HYBAS_ID) {\n",
       "                default:\n",
       "                    return {&quot;fillOpacity&quot;: 0, &quot;weight&quot;: 4};\n",
       "            }\n",
       "        }\n",
       "\n",
       "        function geo_json_fd997a7ec3a79bf650bb8e8260079601_onEachFeature(feature, layer) {\n",
       "            layer.on({\n",
       "                mouseout: function(e) {\n",
       "                    if(typeof e.target.setStyle === &quot;function&quot;){\n",
       "                        geo_json_fd997a7ec3a79bf650bb8e8260079601.resetStyle(e.target);\n",
       "                    }\n",
       "                },\n",
       "                mouseover: function(e) {\n",
       "                    if(typeof e.target.setStyle === &quot;function&quot;){\n",
       "                        const highlightStyle = geo_json_fd997a7ec3a79bf650bb8e8260079601_highlighter(e.target.feature)\n",
       "                        e.target.setStyle(highlightStyle);\n",
       "                    }\n",
       "                },\n",
       "            });\n",
       "        };\n",
       "        var geo_json_fd997a7ec3a79bf650bb8e8260079601 = L.geoJson(null, {\n",
       "                onEachFeature: geo_json_fd997a7ec3a79bf650bb8e8260079601_onEachFeature,\n",
       "            \n",
       "                style: geo_json_fd997a7ec3a79bf650bb8e8260079601_styler,\n",
       "        });\n",
       "\n",
       "        function geo_json_fd997a7ec3a79bf650bb8e8260079601_add (data) {\n",
       "            geo_json_fd997a7ec3a79bf650bb8e8260079601\n",
       "                .addData(data)\n",
       "                .addTo(map_98173014a757824458fa1c78f9f277c9);\n",
       "        }\n",
       "            geo_json_fd997a7ec3a79bf650bb8e8260079601_add({&quot;crs&quot;: {&quot;properties&quot;: {&quot;name&quot;: &quot;urn:ogc:def:crs:OGC:1.3:CRS84&quot;}, &quot;type&quot;: &quot;name&quot;}, &quot;features&quot;: [{&quot;geometry&quot;: {&quot;coordinates&quot;: [[[[11.075, 46.72916666666669], [11.072575547960094, 46.728813340928845], [11.069091118706622, 46.72535332573787], [11.048285590277802, 46.724646674262175], [11.042024739583358, 46.73087632921009], [11.041666666666691, 46.733333333333356], [11.038123575846377, 46.73424241807728], [11.0375, 46.74583333333336], [11.03664923773874, 46.74914923773874], [11.030017428927975, 46.75085076226131], [11.028599378797768, 46.756377156575546], [11.025567287868947, 46.76028951009117], [11.0244327121311, 46.76471048990888], [11.02140062120228, 46.7686228434245], [11.020833333333357, 46.77083333333336], [11.024291653103322, 46.77172071668839], [11.025567287868947, 46.781377156575545], [11.032766045464435, 46.78945617675784], [11.033900621202282, 46.79387715657555], [11.036932712131101, 46.79778951009117], [11.038067287868948, 46.80221048990888], [11.042586263020858, 46.80762905544707], [11.052210489908878, 46.808900621202284], [11.06028951009117, 46.816099378797766], [11.06471048990888, 46.81723395453562], [11.068622843424503, 46.820266045464436], [11.073043823242212, 46.82140062120228], [11.077974107530407, 46.82522176106773], [11.079733954535614, 46.83010389539933], [11.071295166015648, 46.83957451714412], [11.0744327121311, 46.843622843424505], [11.075567287868948, 46.846579996744815], [11.071400621202281, 46.85195617675784], [11.070266045464434, 46.859321424696205], [11.082766045464435, 46.872789510091174], [11.084041680230058, 46.882445949978326], [11.089710489908878, 46.88390062120228], [11.09995964898006, 46.89319695366756], [11.096400621202282, 46.89778951009117], [11.095266045464435, 46.91343722873266], [11.103599378797767, 46.92278951009117], [11.104166666666691, 46.929166666666696], [11.114924452039954, 46.92951999240454], [11.11875, 46.9333187527127], [11.12328694661461, 46.92881334092885], [11.139924452039956, 46.92951999240454], [11.143408881293428, 46.93298000759551], [11.148288302951414, 46.933691067165825], [11.157980007595512, 46.94340888129343], [11.158691406250025, 46.948290337456626], [11.16424221462676, 46.953813340928846], [11.166666666666693, 46.954166666666694], [11.167024739583358, 46.95170966254343], [11.172575547960095, 46.94618665907121], [11.177424452039956, 46.94548000759551], [11.180908881293428, 46.94201999240454], [11.185757785373289, 46.94131334092884], [11.189242214626761, 46.937853325737876], [11.194123670789956, 46.93714192708336], [11.199646674262178, 46.93159111870662], [11.200353325737872, 46.9100755479601], [11.204519992404538, 46.90587972005211], [11.203813340928845, 46.901742214626765], [11.199646674262178, 46.89754638671877], [11.200353325737872, 46.89340888129343], [11.203813340928845, 46.889924452039956], [11.204519992404538, 46.8850755479601], [11.21248609754777, 46.877084011501765], [11.208686659071207, 46.87325778537329], [11.208333333333359, 46.85833333333336], [11.210543823242213, 46.85776604546444], [11.214456176757839, 46.85473395453562], [11.231377156575547, 46.85359937879777], [11.239456176757837, 46.846400621202285], [11.260543823242212, 46.845266045464435], [11.26458333333336, 46.84213528103301], [11.26875, 46.84536471896704], [11.272789510091172, 46.842233954535615], [11.323043823242214, 46.84109937879777], [11.331122843424506, 46.83390062120228], [11.343877156575548, 46.83276604546444], [11.347789510091172, 46.82973395453561], [11.35331590440541, 46.82831590440541], [11.354733954535616, 46.82278951009117], [11.357766045464437, 46.818877156575546], [11.358900621202284, 46.81445617675784], [11.36609937879777, 46.80637715657554], [11.366666666666694, 46.80416666666669], [11.365779283311658, 46.80070834689673], [11.356122843424506, 46.7994327121311], [11.35208333333336, 46.796301947699675], [11.347916666666693, 46.799531385633706], [11.343877156575548, 46.79640062120228], [11.339456176757839, 46.79526604546444], [11.335543823242213, 46.79223395453562], [11.321806165907145, 46.79101189507381], [11.31306728786895, 46.781377156575545], [11.311932712131103, 46.776956176757835], [11.304733954535617, 46.76887715657555], [11.30359937879777, 46.76445617675784], [11.30056728786895, 46.760543823242216], [11.299149237738742, 46.75501742892798], [11.293622843424505, 46.753599378797766], [11.289710489908881, 46.75056728786895], [11.279166666666693, 46.75], [11.278813340928846, 46.73924221462676], [11.27464667426218, 46.73504638671878], [11.275353325737873, 46.73090888129343], [11.283319430881102, 46.722917344835096], [11.27951999240454, 46.71909111870662], [11.278813340928846, 46.705908881293425], [11.275353325737873, 46.702424452039956], [11.275, 46.7], [11.274032253689262, 46.69622938368058], [11.267413330078151, 46.691099378797766], [11.260289510091171, 46.69223395453562], [11.25491333007815, 46.69640062120228], [11.251956176757838, 46.695266045464436], [11.248043823242213, 46.69223395453562], [11.239456176757837, 46.691099378797766], [11.235543823242214, 46.68806728786895], [11.218622843424505, 46.6869327121311], [11.21471048990888, 46.683900621202284], [11.197789510091171, 46.68276604546443], [11.193877156575546, 46.679733954535614], [11.184220716688394, 46.67845831976999], [11.182413736979193, 46.671416219075546], [11.173043823242214, 46.66306728786895], [11.168622843424505, 46.6619327121311], [11.159270562065997, 46.653599378797765], [11.154985215928845, 46.655143907335095], [11.154166666666692, 46.65833333333336], [11.15085076226131, 46.65918409559464], [11.15, 46.6625], [11.150353325737871, 46.66909111870662], [11.155876329210095, 46.67464192708336], [11.160757785373288, 46.67535332573787], [11.166668023003497, 46.68123406304256], [11.162853325737872, 46.685075547960096], [11.162146674262178, 46.68992445203995], [11.15451999240454, 46.69757554796009], [11.153813340928846, 46.702424452039956], [11.148290337456622, 46.70797526041669], [11.143408881293428, 46.708686659071205], [11.139924452039956, 46.71214667426218], [11.122575547960095, 46.712853325737875], [11.119091118706622, 46.71631334092884], [11.11424221462676, 46.71701999240454], [11.110757785373288, 46.72048000759551], [11.10174221462676, 46.72118665907121], [11.098257785373288, 46.724646674262175], [11.085075547960095, 46.72535332573787], [11.081591118706623, 46.728813340928845], [11.075, 46.72916666666669]]]], &quot;type&quot;: &quot;MultiPolygon&quot;}, &quot;properties&quot;: {&quot;COAST&quot;: 0, &quot;DIST_MAIN&quot;: 334.5, &quot;DIST_SINK&quot;: 334.5, &quot;ENDO&quot;: 0, &quot;HYBAS_ID&quot;: 2090516090, &quot;MAIN_BAS&quot;: 2090012980, &quot;NEXT_DOWN&quot;: 2090516950, &quot;NEXT_SINK&quot;: 2090012980, &quot;ORDER&quot;: 3, &quot;PFAF_ID&quot;: 214040804, &quot;SORT&quot;: 10988, &quot;SUB_AREA&quot;: 419.1, &quot;UP_AREA&quot;: 419.2}, &quot;type&quot;: &quot;Feature&quot;}], &quot;name&quot;: &quot;ADO_DSC_ITH1_0025_lev09_hybas&quot;, &quot;type&quot;: &quot;FeatureCollection&quot;});\n",
       "\n",
       "        \n",
       "    \n",
       "    geo_json_fd997a7ec3a79bf650bb8e8260079601.bindTooltip(\n",
       "    function(layer){\n",
       "    let div = L.DomUtil.create(&#x27;div&#x27;);\n",
       "    \n",
       "    let handleObject = feature=&gt;typeof(feature)==&#x27;object&#x27; ? JSON.stringify(feature) : feature;\n",
       "    let fields = [&quot;HYBAS_ID&quot;, &quot;NEXT_DOWN&quot;, &quot;NEXT_SINK&quot;, &quot;MAIN_BAS&quot;, &quot;DIST_SINK&quot;, &quot;DIST_MAIN&quot;, &quot;SUB_AREA&quot;, &quot;UP_AREA&quot;, &quot;PFAF_ID&quot;, &quot;ENDO&quot;, &quot;COAST&quot;, &quot;ORDER&quot;, &quot;SORT&quot;];\n",
       "    let aliases = [&quot;HYBAS_ID&quot;, &quot;NEXT_DOWN&quot;, &quot;NEXT_SINK&quot;, &quot;MAIN_BAS&quot;, &quot;DIST_SINK&quot;, &quot;DIST_MAIN&quot;, &quot;SUB_AREA&quot;, &quot;UP_AREA&quot;, &quot;PFAF_ID&quot;, &quot;ENDO&quot;, &quot;COAST&quot;, &quot;ORDER&quot;, &quot;SORT&quot;];\n",
       "    let table = &#x27;&lt;table&gt;&#x27; +\n",
       "        String(\n",
       "        fields.map(\n",
       "        (v,i)=&gt;\n",
       "        `&lt;tr&gt;\n",
       "            &lt;th&gt;${aliases[i]}&lt;/th&gt;\n",
       "            \n",
       "            &lt;td&gt;${handleObject(layer.feature.properties[v])}&lt;/td&gt;\n",
       "        &lt;/tr&gt;`).join(&#x27;&#x27;))\n",
       "    +&#x27;&lt;/table&gt;&#x27;;\n",
       "    div.innerHTML=table;\n",
       "    \n",
       "    return div\n",
       "    }\n",
       "    ,{&quot;className&quot;: &quot;foliumtooltip&quot;, &quot;sticky&quot;: true});\n",
       "                     \n",
       "    \n",
       "            map_98173014a757824458fa1c78f9f277c9.fitBounds(\n",
       "                [[46.653599378797765, 11.020833333333357], [46.954166666666694, 11.366666666666694]],\n",
       "                {}\n",
       "            );\n",
       "        \n",
       "    \n",
       "            var layer_control_c96d60e7af93a101d7892a1c03c836b2 = {\n",
       "                base_layers : {\n",
       "                    &quot;openstreetmap&quot; : tile_layer_3450d1d4086a798af8a8d9aed04bdc26,\n",
       "                },\n",
       "                overlays :  {\n",
       "                    &quot;catchment&quot; : geo_json_fd997a7ec3a79bf650bb8e8260079601,\n",
       "                },\n",
       "            };\n",
       "            L.control.layers(\n",
       "                layer_control_c96d60e7af93a101d7892a1c03c836b2.base_layers,\n",
       "                layer_control_c96d60e7af93a101d7892a1c03c836b2.overlays,\n",
       "                {&quot;autoZIndex&quot;: true, &quot;collapsed&quot;: true, &quot;position&quot;: &quot;topright&quot;}\n",
       "            ).addTo(map_98173014a757824458fa1c78f9f277c9);\n",
       "        \n",
       "&lt;/script&gt;\n",
       "&lt;/html&gt;\" width=\"100%\" height=\"600\"style=\"border:none !important;\" \"allowfullscreen\" \"webkitallowfullscreen\" \"mozallowfullscreen\"></iframe>"
      ],
      "text/plain": [
       "<leafmap.foliumap.Map at 0x7fc9093d9f10>"
      ]
     },
     "execution_count": 6,
     "metadata": {},
     "output_type": "execute_result"
    }
   ],
   "source": [
    "center = (float(catchment_outline.centroid.y), float(catchment_outline.centroid.x))\n",
    "m = leafmap.Map(center=center, zoom=10)\n",
    "m.add_vector('data/catchment_outline.geojson', layer_name=\"catchment\")\n",
    "m"
   ]
  },
  {
   "cell_type": "markdown",
   "id": "a6d24033-7c7f-41fa-ad68-7c32b01f0a30",
   "metadata": {
    "tags": []
   },
   "source": [
    "## Generate Datacube of Snowmap"
   ]
  },
  {
   "cell_type": "code",
   "execution_count": 7,
   "id": "e0de482c-af6c-4beb-82c8-fc196d4bd7b0",
   "metadata": {
    "tags": []
   },
   "outputs": [],
   "source": [
    "%run cubes_utilities.py"
   ]
  },
  {
   "cell_type": "code",
   "execution_count": 8,
   "id": "c5343f82-547c-4af5-8aaf-6188a0dba977",
   "metadata": {
    "tags": []
   },
   "outputs": [
    {
     "data": {
      "text/html": [
       "\n",
       "    <script>\n",
       "    if (!window.customElements || !window.customElements.get('openeo-model-builder')) {\n",
       "        var el = document.createElement('script');\n",
       "        el.src = \"https://cdn.jsdelivr.net/npm/@openeo/vue-components@2/assets/openeo.min.js\";\n",
       "        document.head.appendChild(el);\n",
       "\n",
       "        var font = document.createElement('font');\n",
       "        font.as = \"font\";\n",
       "        font.type = \"font/woff2\";\n",
       "        font.crossOrigin = true;\n",
       "        font.href = \"https://use.fontawesome.com/releases/v5.13.0/webfonts/fa-solid-900.woff2\"\n",
       "        document.head.appendChild(font);\n",
       "    }\n",
       "    </script>\n",
       "    <openeo-model-builder>\n",
       "        <script type=\"application/json\">{\"id\": \"faa7ce5b47bf405b8c8cef55321483e8\", \"explicit-zoom\": true, \"height\": \"400px\", \"value\": {\"process_graph\": {\"loadcollection1\": {\"process_id\": \"load_collection\", \"arguments\": {\"bands\": [\"B03\", \"B11\", \"SCL\"], \"id\": \"SENTINEL2_L2A\", \"spatial_extent\": {\"west\": 11.020833333333357, \"east\": 11.366666666666694, \"south\": 46.653599378797765, \"north\": 46.954166666666694, \"crs\": 4326}, \"temporal_extent\": [\"2018-02-01\", \"2018-06-30\"]}}, \"reducedimension1\": {\"process_id\": \"reduce_dimension\", \"arguments\": {\"data\": {\"from_node\": \"loadcollection1\"}, \"dimension\": \"bands\", \"reducer\": {\"process_graph\": {\"arrayelement1\": {\"process_id\": \"array_element\", \"arguments\": {\"data\": {\"from_parameter\": \"data\"}, \"index\": 0}}, \"arrayelement2\": {\"process_id\": \"array_element\", \"arguments\": {\"data\": {\"from_parameter\": \"data\"}, \"index\": 1}}, \"subtract1\": {\"process_id\": \"subtract\", \"arguments\": {\"x\": {\"from_node\": \"arrayelement1\"}, \"y\": {\"from_node\": \"arrayelement2\"}}}, \"add1\": {\"process_id\": \"add\", \"arguments\": {\"x\": {\"from_node\": \"arrayelement1\"}, \"y\": {\"from_node\": \"arrayelement2\"}}}, \"divide1\": {\"process_id\": \"divide\", \"arguments\": {\"x\": {\"from_node\": \"subtract1\"}, \"y\": {\"from_node\": \"add1\"}}}, \"gt1\": {\"process_id\": \"gt\", \"arguments\": {\"x\": {\"from_node\": \"divide1\"}, \"y\": 0.4}}, \"multiply1\": {\"process_id\": \"multiply\", \"arguments\": {\"x\": {\"from_node\": \"gt1\"}, \"y\": 1.0}, \"result\": true}}}}}, \"reducedimension2\": {\"process_id\": \"reduce_dimension\", \"arguments\": {\"data\": {\"from_node\": \"loadcollection1\"}, \"dimension\": \"bands\", \"reducer\": {\"process_graph\": {\"arrayelement3\": {\"process_id\": \"array_element\", \"arguments\": {\"data\": {\"from_parameter\": \"data\"}, \"index\": 2}}, \"eq1\": {\"process_id\": \"eq\", \"arguments\": {\"x\": {\"from_node\": \"arrayelement3\"}, \"y\": 8}}, \"eq2\": {\"process_id\": \"eq\", \"arguments\": {\"x\": {\"from_node\": \"arrayelement3\"}, \"y\": 9}}, \"or1\": {\"process_id\": \"or\", \"arguments\": {\"x\": {\"from_node\": \"eq1\"}, \"y\": {\"from_node\": \"eq2\"}}}, \"eq3\": {\"process_id\": \"eq\", \"arguments\": {\"x\": {\"from_node\": \"arrayelement3\"}, \"y\": 3}}, \"or2\": {\"process_id\": \"or\", \"arguments\": {\"x\": {\"from_node\": \"or1\"}, \"y\": {\"from_node\": \"eq3\"}}}, \"multiply2\": {\"process_id\": \"multiply\", \"arguments\": {\"x\": {\"from_node\": \"or2\"}, \"y\": 1.0}, \"result\": true}}}}}, \"mask1\": {\"process_id\": \"mask\", \"arguments\": {\"data\": {\"from_node\": \"reducedimension1\"}, \"mask\": {\"from_node\": \"reducedimension2\"}}, \"result\": true}}}}</script>\n",
       "    </openeo-model-builder>\n",
       "    "
      ],
      "text/plain": [
       "<openeo.rest.datacube.DataCube at 0x7fc9093d6e50>"
      ]
     },
     "execution_count": 8,
     "metadata": {},
     "output_type": "execute_result"
    }
   ],
   "source": [
    "bbox = catchment_outline.bounds.iloc[0]\n",
    "temporal_extent = [\"2018-02-01\", \"2018-06-30\"]\n",
    "snow_map_cloud_free = calculate_sca(conn, bbox, temporal_extent)\n",
    "snow_map_cloud_free"
   ]
  },
  {
   "cell_type": "markdown",
   "id": "1079721a-1c43-4956-8a15-f76a76d9c933",
   "metadata": {
    "tags": []
   },
   "source": [
    "## Load snow-station in-situ data\n",
    "Load the _in-situ_ datasets [snow cover in the European Alps](https://zenodo.org/record/5109574) with stations in our area of interest and subsequently catchment of interest."
   ]
  },
  {
   "cell_type": "code",
   "execution_count": 9,
   "id": "2c712f51-044c-4de9-aa89-814a1fbc94b4",
   "metadata": {
    "tags": []
   },
   "outputs": [],
   "source": [
    "# load snow station datasets from zenodo:: https://zenodo.org/record/5109574\n",
    "station_df = pd.read_csv(\"data/data_daily_IT_BZ.csv\")\n",
    "# station_df.head()"
   ]
  },
  {
   "cell_type": "code",
   "execution_count": 10,
   "id": "249cd8c1-371b-4010-94a0-c5020bf62d55",
   "metadata": {
    "tags": []
   },
   "outputs": [],
   "source": [
    "# load additional metadata for acessing the station geometries\n",
    "station_df_meta = pd.read_csv(\"data/meta_all.csv\")\n",
    "# station_df_meta.head()"
   ]
  },
  {
   "cell_type": "markdown",
   "id": "c0a09085-ba4c-497c-b710-404945865f62",
   "metadata": {
    "tags": []
   },
   "source": [
    "## Pre-process and filter _in-situ_ datasets to match area of interest\n",
    "- Temporally: Filter the in-situ datasets to match the snow-map time-series,\n",
    "- Spatially: Filter the in-situ datasets into the catchment area of interest"
   ]
  },
  {
   "cell_type": "markdown",
   "id": "2255ad29-4d40-434e-add6-3f6740391527",
   "metadata": {},
   "source": [
    "Temporal Filter"
   ]
  },
  {
   "cell_type": "code",
   "execution_count": 11,
   "id": "f7940eb6-4ff6-4d76-83ba-e8e68a68daf4",
   "metadata": {
    "tags": []
   },
   "outputs": [],
   "source": [
    "start_date = \"2018-02-01\"\n",
    "end_date = \"2018-06-30\"\n",
    "\n",
    "snow_stations = station_temporal_filter(station_daily_df = station_df, \n",
    "                                        station_meta_df = station_df_meta,\n",
    "                                        start_date = start_date,\n",
    "                                        end_date = end_date)\n",
    "# snow_stations.head()"
   ]
  },
  {
   "cell_type": "markdown",
   "id": "033dc8c3-ae2e-461b-87f8-e6e3b4d81df7",
   "metadata": {},
   "source": [
    "Spatial filter"
   ]
  },
  {
   "cell_type": "code",
   "execution_count": 12,
   "id": "dba8cbb1-990c-41d5-b25c-e1e57f71a9ab",
   "metadata": {
    "tags": []
   },
   "outputs": [],
   "source": [
    "catchment_stations = station_spatial_filter(snow_stations, catchment_outline)\n",
    "# catchment_stations.head()"
   ]
  },
  {
   "cell_type": "markdown",
   "id": "90c78ce7-e5bf-4b31-abcd-20bd1fa65ef5",
   "metadata": {},
   "source": [
    "Visualize location of snow stations"
   ]
  },
  {
   "cell_type": "code",
   "execution_count": 13,
   "id": "bda36f9a-4c0a-4b17-b51c-26d4d31bcabf",
   "metadata": {
    "tags": []
   },
   "outputs": [
    {
     "name": "stdout",
     "output_type": "stream",
     "text": [
      "There are 5 unique stations within our catchment area of interest\n"
     ]
    }
   ],
   "source": [
    "print(\"There are\", len(np.unique(catchment_stations.Name)), \"unique stations within our catchment area of interest\")"
   ]
  },
  {
   "cell_type": "markdown",
   "id": "70832a9b-a1bb-4703-8643-dd3c7ab3b6d7",
   "metadata": {
    "tags": []
   },
   "source": [
    "Binarize snow presence at station level"
   ]
  },
  {
   "cell_type": "code",
   "execution_count": 14,
   "id": "4bf0d8d2-f2e0-4392-be2f-02918c39977b",
   "metadata": {
    "tags": []
   },
   "outputs": [
    {
     "data": {
      "text/html": [
       "<div>\n",
       "<style scoped>\n",
       "    .dataframe tbody tr th:only-of-type {\n",
       "        vertical-align: middle;\n",
       "    }\n",
       "\n",
       "    .dataframe tbody tr th {\n",
       "        vertical-align: top;\n",
       "    }\n",
       "\n",
       "    .dataframe thead th {\n",
       "        text-align: right;\n",
       "    }\n",
       "</style>\n",
       "<table border=\"1\" class=\"dataframe\">\n",
       "  <thead>\n",
       "    <tr style=\"text-align: right;\">\n",
       "      <th></th>\n",
       "      <th>Provider</th>\n",
       "      <th>Name</th>\n",
       "      <th>HN</th>\n",
       "      <th>HS</th>\n",
       "      <th>HN_after_qc</th>\n",
       "      <th>HS_after_qc</th>\n",
       "      <th>HS_after_gapfill</th>\n",
       "      <th>Longitude</th>\n",
       "      <th>Latitude</th>\n",
       "      <th>Elevation</th>\n",
       "      <th>geometry</th>\n",
       "      <th>snow_presence</th>\n",
       "    </tr>\n",
       "    <tr>\n",
       "      <th>Date</th>\n",
       "      <th></th>\n",
       "      <th></th>\n",
       "      <th></th>\n",
       "      <th></th>\n",
       "      <th></th>\n",
       "      <th></th>\n",
       "      <th></th>\n",
       "      <th></th>\n",
       "      <th></th>\n",
       "      <th></th>\n",
       "      <th></th>\n",
       "      <th></th>\n",
       "    </tr>\n",
       "  </thead>\n",
       "  <tbody>\n",
       "    <tr>\n",
       "      <th>2018-02-01</th>\n",
       "      <td>IT_BZ</td>\n",
       "      <td>S_Martino_in_Passiria_Osservatore</td>\n",
       "      <td>0.0</td>\n",
       "      <td>0.0</td>\n",
       "      <td>0.0</td>\n",
       "      <td>0.0</td>\n",
       "      <td>0.0</td>\n",
       "      <td>11.227909</td>\n",
       "      <td>46.782682</td>\n",
       "      <td>588.0</td>\n",
       "      <td>POINT (11.22791 46.78268)</td>\n",
       "      <td>0</td>\n",
       "    </tr>\n",
       "    <tr>\n",
       "      <th>2018-02-01</th>\n",
       "      <td>IT_BZ</td>\n",
       "      <td>Rifiano_Beobachter</td>\n",
       "      <td>0.0</td>\n",
       "      <td>0.0</td>\n",
       "      <td>0.0</td>\n",
       "      <td>0.0</td>\n",
       "      <td>0.0</td>\n",
       "      <td>11.183607</td>\n",
       "      <td>46.705034</td>\n",
       "      <td>500.0</td>\n",
       "      <td>POINT (11.18361 46.70503)</td>\n",
       "      <td>0</td>\n",
       "    </tr>\n",
       "    <tr>\n",
       "      <th>2018-02-01</th>\n",
       "      <td>IT_BZ</td>\n",
       "      <td>Plata_Osservatore</td>\n",
       "      <td>2.0</td>\n",
       "      <td>55.0</td>\n",
       "      <td>2.0</td>\n",
       "      <td>55.0</td>\n",
       "      <td>55.0</td>\n",
       "      <td>11.176968</td>\n",
       "      <td>46.822847</td>\n",
       "      <td>1130.0</td>\n",
       "      <td>POINT (11.17697 46.82285)</td>\n",
       "      <td>1</td>\n",
       "    </tr>\n",
       "    <tr>\n",
       "      <th>2018-02-01</th>\n",
       "      <td>IT_BZ</td>\n",
       "      <td>S_Leonardo_in_Passiria_Osservatore</td>\n",
       "      <td>0.0</td>\n",
       "      <td>NaN</td>\n",
       "      <td>0.0</td>\n",
       "      <td>NaN</td>\n",
       "      <td>NaN</td>\n",
       "      <td>11.247126</td>\n",
       "      <td>46.809062</td>\n",
       "      <td>644.0</td>\n",
       "      <td>POINT (11.24713 46.80906)</td>\n",
       "      <td>0</td>\n",
       "    </tr>\n",
       "    <tr>\n",
       "      <th>2018-02-01</th>\n",
       "      <td>IT_BZ</td>\n",
       "      <td>Scena_Osservatore</td>\n",
       "      <td>0.0</td>\n",
       "      <td>0.0</td>\n",
       "      <td>0.0</td>\n",
       "      <td>0.0</td>\n",
       "      <td>0.0</td>\n",
       "      <td>11.190831</td>\n",
       "      <td>46.689596</td>\n",
       "      <td>680.0</td>\n",
       "      <td>POINT (11.19083 46.68960)</td>\n",
       "      <td>0</td>\n",
       "    </tr>\n",
       "  </tbody>\n",
       "</table>\n",
       "</div>"
      ],
      "text/plain": [
       "           Provider                                Name   HN    HS  \\\n",
       "Date                                                                 \n",
       "2018-02-01    IT_BZ   S_Martino_in_Passiria_Osservatore  0.0   0.0   \n",
       "2018-02-01    IT_BZ                  Rifiano_Beobachter  0.0   0.0   \n",
       "2018-02-01    IT_BZ                   Plata_Osservatore  2.0  55.0   \n",
       "2018-02-01    IT_BZ  S_Leonardo_in_Passiria_Osservatore  0.0   NaN   \n",
       "2018-02-01    IT_BZ                   Scena_Osservatore  0.0   0.0   \n",
       "\n",
       "            HN_after_qc  HS_after_qc  HS_after_gapfill  Longitude   Latitude  \\\n",
       "Date                                                                           \n",
       "2018-02-01          0.0          0.0               0.0  11.227909  46.782682   \n",
       "2018-02-01          0.0          0.0               0.0  11.183607  46.705034   \n",
       "2018-02-01          2.0         55.0              55.0  11.176968  46.822847   \n",
       "2018-02-01          0.0          NaN               NaN  11.247126  46.809062   \n",
       "2018-02-01          0.0          0.0               0.0  11.190831  46.689596   \n",
       "\n",
       "            Elevation                   geometry  snow_presence  \n",
       "Date                                                             \n",
       "2018-02-01      588.0  POINT (11.22791 46.78268)              0  \n",
       "2018-02-01      500.0  POINT (11.18361 46.70503)              0  \n",
       "2018-02-01     1130.0  POINT (11.17697 46.82285)              1  \n",
       "2018-02-01      644.0  POINT (11.24713 46.80906)              0  \n",
       "2018-02-01      680.0  POINT (11.19083 46.68960)              0  "
      ]
     },
     "execution_count": 14,
     "metadata": {},
     "output_type": "execute_result"
    }
   ],
   "source": [
    "catchment_stations = catchment_stations.assign(snow_presence=catchment_stations.apply(binarize_snow, axis=1))\n",
    "catchment_stations.head()"
   ]
  },
  {
   "cell_type": "markdown",
   "id": "8e3ec45b-b0bf-4d46-af35-c524ce770903",
   "metadata": {},
   "source": [
    "Save snow stations within catchment as GeoJSON"
   ]
  },
  {
   "cell_type": "code",
   "execution_count": 15,
   "id": "33cc1440-ce77-4c29-91f6-2bdace7f8c57",
   "metadata": {
    "tags": []
   },
   "outputs": [],
   "source": [
    "# save snow stations datasets as GeoJSON in the shared folder\n",
    "with open(\"results/catchment_stations.geojson\", \"w\") as file:\n",
    "    file.write(catchment_stations.to_json())"
   ]
  },
  {
   "cell_type": "markdown",
   "id": "41039c03-2652-4ce1-bfbb-bf7e6902eaff",
   "metadata": {},
   "source": [
    "Visualize stations within catchment"
   ]
  },
  {
   "cell_type": "code",
   "execution_count": 16,
   "id": "1e7fb869-6928-44ad-a643-fd3d269884df",
   "metadata": {
    "tags": []
   },
   "outputs": [],
   "source": [
    "# generate buffers\n",
    "# catchment_stations_gpd = gpd.read_file(\"results/catchment_stations.geojson\")\n",
    "# catchment_stations_gpd[\"geometry\"] = catchment_stations_gpd.geometry.buffer(0.0075)\n",
    "\n",
    "# visualize on map\n",
    "# m.add_gdf(catchment_stations_gpd, layer_name=\"catchment_station\")\n",
    "# m"
   ]
  },
  {
   "cell_type": "markdown",
   "id": "64e38b03-2427-4718-8a11-544a6b0cc5aa",
   "metadata": {
    "tags": []
   },
   "source": [
    "### Aggregate snow value per station"
   ]
  },
  {
   "cell_type": "markdown",
   "id": "82a7f129-c2ba-4bf6-aadc-548394a0954c",
   "metadata": {},
   "source": [
    "Create buffer around snow stations"
   ]
  },
  {
   "cell_type": "code",
   "execution_count": 17,
   "id": "e67e88fb-42ce-4d68-99c2-db7e1ba14ed0",
   "metadata": {
    "tags": []
   },
   "outputs": [
    {
     "data": {
      "text/plain": [
       "<Axes: >"
      ]
     },
     "execution_count": 17,
     "metadata": {},
     "output_type": "execute_result"
    },
    {
     "data": {
      "image/png": "[encoded data removed]",
      "text/plain": [
       "<Figure size 640x480 with 1 Axes>"
      ]
     },
     "metadata": {},
     "output_type": "display_data"
    }
   ],
   "source": [
    "catchment_stations_gpd = gpd.read_file(\"results/catchment_stations.geojson\")\n",
    "catchment_stations_gpd[\"geometry\"] = catchment_stations_gpd.geometry.buffer(0.0075)\n",
    "catchment_stations_gpd.plot()"
   ]
  },
  {
   "cell_type": "markdown",
   "id": "3fb83f8e-0ed5-4cc5-b870-ecb522e43f0c",
   "metadata": {},
   "source": [
    "Convert unique geometries to Feature Collection"
   ]
  },
  {
   "cell_type": "code",
   "execution_count": 18,
   "id": "ec68237a-c549-420e-a670-247d7d87000d",
   "metadata": {
    "tags": []
   },
   "outputs": [
    {
     "data": {
      "text/plain": [
       "dict"
      ]
     },
     "execution_count": 18,
     "metadata": {},
     "output_type": "execute_result"
    }
   ],
   "source": [
    "catchment_stations_fc = json.loads(\n",
    "    catchment_stations_gpd.geometry.iloc[:5].to_json()\n",
    ")\n",
    "type(catchment_stations_fc)"
   ]
  },
  {
   "cell_type": "markdown",
   "id": "4e70bd61-c865-4f97-bdbc-f3ca06de250c",
   "metadata": {},
   "source": [
    "### Aggregate spatial"
   ]
  },
  {
   "cell_type": "code",
   "execution_count": 19,
   "id": "660cdb0b-c35c-43d9-8e11-7e0487ed7bf3",
   "metadata": {
    "tags": []
   },
   "outputs": [
    {
     "data": {
      "text/html": [
       "\n",
       "    <script>\n",
       "    if (!window.customElements || !window.customElements.get('openeo-model-builder')) {\n",
       "        var el = document.createElement('script');\n",
       "        el.src = \"https://cdn.jsdelivr.net/npm/@openeo/vue-components@2/assets/openeo.min.js\";\n",
       "        document.head.appendChild(el);\n",
       "\n",
       "        var font = document.createElement('font');\n",
       "        font.as = \"font\";\n",
       "        font.type = \"font/woff2\";\n",
       "        font.crossOrigin = true;\n",
       "        font.href = \"https://use.fontawesome.com/releases/v5.13.0/webfonts/fa-solid-900.woff2\"\n",
       "        document.head.appendChild(font);\n",
       "    }\n",
       "    </script>\n",
       "    <openeo-model-builder>\n",
       "        <script type=\"application/json\">{\"id\": \"4e131bce1b5f42518098963cd7bbb9ac\", \"explicit-zoom\": true, \"height\": \"400px\", \"value\": {\"process_graph\": {\"loadcollection1\": {\"process_id\": \"load_collection\", \"arguments\": {\"bands\": [\"B03\", \"B11\", \"SCL\"], \"id\": \"SENTINEL2_L2A\", \"spatial_extent\": {\"west\": 11.020833333333357, \"east\": 11.366666666666694, \"south\": 46.653599378797765, \"north\": 46.954166666666694, \"crs\": 4326}, \"temporal_extent\": [\"2018-02-01\", \"2018-06-30\"]}}, \"reducedimension1\": {\"process_id\": \"reduce_dimension\", \"arguments\": {\"data\": {\"from_node\": \"loadcollection1\"}, \"dimension\": \"bands\", \"reducer\": {\"process_graph\": {\"arrayelement1\": {\"process_id\": \"array_element\", \"arguments\": {\"data\": {\"from_parameter\": \"data\"}, \"index\": 0}}, \"arrayelement2\": {\"process_id\": \"array_element\", \"arguments\": {\"data\": {\"from_parameter\": \"data\"}, \"index\": 1}}, \"subtract1\": {\"process_id\": \"subtract\", \"arguments\": {\"x\": {\"from_node\": \"arrayelement1\"}, \"y\": {\"from_node\": \"arrayelement2\"}}}, \"add1\": {\"process_id\": \"add\", \"arguments\": {\"x\": {\"from_node\": \"arrayelement1\"}, \"y\": {\"from_node\": \"arrayelement2\"}}}, \"divide1\": {\"process_id\": \"divide\", \"arguments\": {\"x\": {\"from_node\": \"subtract1\"}, \"y\": {\"from_node\": \"add1\"}}}, \"gt1\": {\"process_id\": \"gt\", \"arguments\": {\"x\": {\"from_node\": \"divide1\"}, \"y\": 0.4}}, \"multiply1\": {\"process_id\": \"multiply\", \"arguments\": {\"x\": {\"from_node\": \"gt1\"}, \"y\": 1.0}, \"result\": true}}}}}, \"reducedimension2\": {\"process_id\": \"reduce_dimension\", \"arguments\": {\"data\": {\"from_node\": \"loadcollection1\"}, \"dimension\": \"bands\", \"reducer\": {\"process_graph\": {\"arrayelement3\": {\"process_id\": \"array_element\", \"arguments\": {\"data\": {\"from_parameter\": \"data\"}, \"index\": 2}}, \"eq1\": {\"process_id\": \"eq\", \"arguments\": {\"x\": {\"from_node\": \"arrayelement3\"}, \"y\": 8}}, \"eq2\": {\"process_id\": \"eq\", \"arguments\": {\"x\": {\"from_node\": \"arrayelement3\"}, \"y\": 9}}, \"or1\": {\"process_id\": \"or\", \"arguments\": {\"x\": {\"from_node\": \"eq1\"}, \"y\": {\"from_node\": \"eq2\"}}}, \"eq3\": {\"process_id\": \"eq\", \"arguments\": {\"x\": {\"from_node\": \"arrayelement3\"}, \"y\": 3}}, \"or2\": {\"process_id\": \"or\", \"arguments\": {\"x\": {\"from_node\": \"or1\"}, \"y\": {\"from_node\": \"eq3\"}}}, \"multiply2\": {\"process_id\": \"multiply\", \"arguments\": {\"x\": {\"from_node\": \"or2\"}, \"y\": 1.0}, \"result\": true}}}}}, \"mask1\": {\"process_id\": \"mask\", \"arguments\": {\"data\": {\"from_node\": \"reducedimension1\"}, \"mask\": {\"from_node\": \"reducedimension2\"}}}, \"aggregatespatial1\": {\"process_id\": \"aggregate_spatial\", \"arguments\": {\"data\": {\"from_node\": \"mask1\"}, \"geometries\": {\"type\": \"FeatureCollection\", \"features\": [{\"id\": \"0\", \"type\": \"Feature\", \"properties\": {}, \"geometry\": {\"type\": \"Polygon\", \"coordinates\": [[[11.23540902, 46.78268248], [11.235372905450042, 46.78194735144753], [11.235264909603025, 46.78121930258488], [11.235086072517992, 46.78050534492059], [11.234838116493835, 46.77981235425726], [11.234523429482612, 46.779147004473806], [11.234145042092269, 46.77851570325235], [11.233706598400222, 46.77792453036877], [11.233212320858899, 46.7773791791411], [11.232666969631227, 46.77688490159978], [11.232075796747647, 46.77644645790773], [11.231444495526196, 46.77606807051738], [11.230779145742739, 46.775753383506164], [11.230086155079409, 46.77550542748201], [11.22937219741512, 46.77532659039697], [11.228644148552473, 46.775218594549955], [11.22790902, 46.77518248], [11.227173891447528, 46.775218594549955], [11.22644584258488, 46.77532659039697], [11.225731884920592, 46.77550542748201], [11.225038894257262, 46.775753383506164], [11.224373544473805, 46.77606807051738], [11.223742243252353, 46.77644645790773], [11.223151070368774, 46.77688490159978], [11.222605719141102, 46.7773791791411], [11.222111441599779, 46.77792453036877], [11.221672997907731, 46.77851570325235], [11.221294610517388, 46.779147004473806], [11.220979923506166, 46.77981235425726], [11.220731967482008, 46.78050534492059], [11.220553130396976, 46.78121930258488], [11.220445134549959, 46.78194735144753], [11.22040902, 46.78268248], [11.220445134549959, 46.78341760855247], [11.220553130396976, 46.78414565741512], [11.220731967482008, 46.784859615079405], [11.220979923506166, 46.78555260574274], [11.221294610517388, 46.78621795552619], [11.221672997907731, 46.786849256747644], [11.222111441599779, 46.787440429631225], [11.222605719141102, 46.7879857808589], [11.223151070368774, 46.78848005840022], [11.223742243252353, 46.788918502092265], [11.224373544473805, 46.789296889482614], [11.225038894257262, 46.78961157649383], [11.225731884920592, 46.78985953251799], [11.22644584258488, 46.790038369603025], [11.227173891447528, 46.79014636545004], [11.22790902, 46.79018248], [11.228644148552473, 46.79014636545004], [11.22937219741512, 46.790038369603025], [11.230086155079409, 46.78985953251799], [11.230779145742739, 46.78961157649383], [11.231444495526196, 46.789296889482614], [11.232075796747647, 46.788918502092265], [11.232666969631227, 46.78848005840022], [11.233212320858899, 46.7879857808589], [11.233706598400222, 46.787440429631225], [11.234145042092269, 46.786849256747644], [11.234523429482612, 46.78621795552619], [11.234838116493835, 46.78555260574274], [11.235086072517992, 46.784859615079405], [11.235264909603025, 46.78414565741512], [11.235372905450042, 46.78341760855247], [11.23540902, 46.78268248]]]}, \"bbox\": [11.22040902, 46.77518248, 11.23540902, 46.79018248]}, {\"id\": \"1\", \"type\": \"Feature\", \"properties\": {}, \"geometry\": {\"type\": \"Polygon\", \"coordinates\": [[[11.19110656, 46.70503357], [11.191070445450041, 46.70429844144753], [11.190962449603024, 46.70357039258488], [11.190783612517992, 46.70285643492059], [11.190535656493834, 46.70216344425726], [11.190220969482612, 46.701498094473806], [11.189842582092268, 46.70086679325235], [11.18940413840022, 46.70027562036877], [11.188909860858898, 46.6997302691411], [11.188364509631226, 46.69923599159978], [11.187773336747647, 46.69879754790773], [11.187142035526195, 46.69841916051738], [11.186476685742738, 46.69810447350616], [11.185783695079408, 46.69785651748201], [11.18506973741512, 46.69767768039697], [11.184341688552472, 46.697569684549954], [11.18360656, 46.69753357], [11.182871431447527, 46.697569684549954], [11.18214338258488, 46.69767768039697], [11.18142942492059, 46.69785651748201], [11.18073643425726, 46.69810447350616], [11.180071084473804, 46.69841916051738], [11.179439783252352, 46.69879754790773], [11.178848610368773, 46.69923599159978], [11.178303259141101, 46.6997302691411], [11.177808981599778, 46.70027562036877], [11.17737053790773, 46.70086679325235], [11.176992150517387, 46.701498094473806], [11.176677463506165, 46.70216344425726], [11.176429507482007, 46.70285643492059], [11.176250670396975, 46.70357039258488], [11.176142674549958, 46.70429844144753], [11.17610656, 46.70503357], [11.176142674549958, 46.70576869855247], [11.176250670396975, 46.706496747415116], [11.176429507482007, 46.707210705079405], [11.176677463506165, 46.707903695742736], [11.176992150517387, 46.70856904552619], [11.17737053790773, 46.70920034674764], [11.177808981599778, 46.709791519631224], [11.178303259141101, 46.710336870858896], [11.178848610368773, 46.71083114840022], [11.179439783252352, 46.711269592092265], [11.180071084473804, 46.71164797948261], [11.18073643425726, 46.71196266649383], [11.18142942492059, 46.712210622517986], [11.18214338258488, 46.712389459603024], [11.182871431447527, 46.71249745545004], [11.18360656, 46.71253357], [11.184341688552472, 46.71249745545004], [11.18506973741512, 46.712389459603024], [11.185783695079408, 46.712210622517986], [11.186476685742738, 46.71196266649383], [11.187142035526195, 46.71164797948261], [11.187773336747647, 46.711269592092265], [11.188364509631226, 46.71083114840022], [11.188909860858898, 46.710336870858896], [11.18940413840022, 46.709791519631224], [11.189842582092268, 46.70920034674764], [11.190220969482612, 46.70856904552619], [11.190535656493834, 46.707903695742736], [11.190783612517992, 46.707210705079405], [11.190962449603024, 46.706496747415116], [11.191070445450041, 46.70576869855247], [11.19110656, 46.70503357]]]}, \"bbox\": [11.17610656, 46.69753357, 11.19110656, 46.71253357]}, {\"id\": \"2\", \"type\": \"Feature\", \"properties\": {}, \"geometry\": {\"type\": \"Polygon\", \"coordinates\": [[[11.18446798, 46.82284696], [11.184431865450042, 46.82211183144753], [11.184323869603025, 46.82138378258488], [11.184145032517993, 46.82066982492059], [11.183897076493835, 46.81997683425726], [11.183582389482613, 46.81931148447381], [11.18320400209227, 46.818680183252354], [11.182765558400222, 46.81808901036877], [11.182271280858899, 46.8175436591411], [11.181725929631227, 46.81704938159978], [11.181134756747648, 46.81661093790773], [11.180503455526196, 46.816232550517384], [11.17983810574274, 46.815917863506165], [11.17914511507941, 46.81566990748201], [11.17843115741512, 46.81549107039697], [11.177703108552473, 46.815383074549956], [11.17696798, 46.81534696], [11.176232851447528, 46.815383074549956], [11.17550480258488, 46.81549107039697], [11.174790844920592, 46.81566990748201], [11.174097854257262, 46.815917863506165], [11.173432504473805, 46.816232550517384], [11.172801203252353, 46.81661093790773], [11.172210030368774, 46.81704938159978], [11.171664679141102, 46.8175436591411], [11.17117040159978, 46.81808901036877], [11.170731957907732, 46.818680183252354], [11.170353570517388, 46.81931148447381], [11.170038883506166, 46.81997683425726], [11.169790927482008, 46.82066982492059], [11.169612090396976, 46.82138378258488], [11.169504094549959, 46.82211183144753], [11.16946798, 46.82284696], [11.169504094549959, 46.82358208855247], [11.169612090396976, 46.82431013741512], [11.169790927482008, 46.82502409507941], [11.170038883506166, 46.82571708574274], [11.170353570517388, 46.82638243552619], [11.170731957907732, 46.827013736747645], [11.17117040159978, 46.827604909631226], [11.171664679141102, 46.8281502608589], [11.172210030368774, 46.82864453840022], [11.172801203252353, 46.82908298209227], [11.173432504473805, 46.829461369482615], [11.174097854257262, 46.829776056493834], [11.174790844920592, 46.83002401251799], [11.17550480258488, 46.830202849603026], [11.176232851447528, 46.83031084545004], [11.17696798, 46.83034696], [11.177703108552473, 46.83031084545004], [11.17843115741512, 46.830202849603026], [11.17914511507941, 46.83002401251799], [11.17983810574274, 46.829776056493834], [11.180503455526196, 46.829461369482615], [11.181134756747648, 46.82908298209227], [11.181725929631227, 46.82864453840022], [11.182271280858899, 46.8281502608589], [11.182765558400222, 46.827604909631226], [11.18320400209227, 46.827013736747645], [11.183582389482613, 46.82638243552619], [11.183897076493835, 46.82571708574274], [11.184145032517993, 46.82502409507941], [11.184323869603025, 46.82431013741512], [11.184431865450042, 46.82358208855247], [11.18446798, 46.82284696]]]}, \"bbox\": [11.16946798, 46.81534696, 11.18446798, 46.83034696]}, {\"id\": \"3\", \"type\": \"Feature\", \"properties\": {}, \"geometry\": {\"type\": \"Polygon\", \"coordinates\": [[[11.25462619, 46.80906215], [11.254590075450041, 46.80832702144753], [11.254482079603024, 46.807598972584884], [11.254303242517992, 46.806885014920596], [11.254055286493834, 46.806192024257264], [11.253740599482612, 46.80552667447381], [11.253362212092268, 46.80489537325236], [11.25292376840022, 46.804304200368776], [11.252429490858898, 46.803758849141104], [11.251884139631226, 46.80326457159978], [11.251292966747647, 46.802826127907736], [11.250661665526195, 46.80244774051739], [11.249996315742738, 46.80213305350617], [11.249303325079408, 46.801885097482014], [11.24858936741512, 46.801706260396976], [11.247861318552472, 46.80159826454996], [11.24712619, 46.80156215], [11.246391061447527, 46.80159826454996], [11.24566301258488, 46.801706260396976], [11.24494905492059, 46.801885097482014], [11.24425606425726, 46.80213305350617], [11.243590714473804, 46.80244774051739], [11.242959413252352, 46.802826127907736], [11.242368240368773, 46.80326457159978], [11.241822889141101, 46.803758849141104], [11.241328611599778, 46.804304200368776], [11.24089016790773, 46.80489537325236], [11.240511780517387, 46.80552667447381], [11.240197093506165, 46.806192024257264], [11.239949137482007, 46.806885014920596], [11.239770300396975, 46.807598972584884], [11.239662304549958, 46.80832702144753], [11.23962619, 46.80906215], [11.239662304549958, 46.80979727855247], [11.239770300396975, 46.81052532741512], [11.239949137482007, 46.81123928507941], [11.240197093506165, 46.81193227574274], [11.240511780517387, 46.812597625526195], [11.24089016790773, 46.81322892674765], [11.241328611599778, 46.81382009963123], [11.241822889141101, 46.8143654508589], [11.242368240368773, 46.81485972840022], [11.242959413252352, 46.81529817209227], [11.243590714473804, 46.81567655948262], [11.24425606425726, 46.81599124649384], [11.24494905492059, 46.81623920251799], [11.24566301258488, 46.81641803960303], [11.246391061447527, 46.816526035450046], [11.24712619, 46.81656215], [11.247861318552472, 46.816526035450046], [11.24858936741512, 46.81641803960303], [11.249303325079408, 46.81623920251799], [11.249996315742738, 46.81599124649384], [11.250661665526195, 46.81567655948262], [11.251292966747647, 46.81529817209227], [11.251884139631226, 46.81485972840022], [11.252429490858898, 46.8143654508589], [11.25292376840022, 46.81382009963123], [11.253362212092268, 46.81322892674765], [11.253740599482612, 46.812597625526195], [11.254055286493834, 46.81193227574274], [11.254303242517992, 46.81123928507941], [11.254482079603024, 46.81052532741512], [11.254590075450041, 46.80979727855247], [11.25462619, 46.80906215]]]}, \"bbox\": [11.23962619, 46.80156215, 11.25462619, 46.81656215]}, {\"id\": \"4\", \"type\": \"Feature\", \"properties\": {}, \"geometry\": {\"type\": \"Polygon\", \"coordinates\": [[[11.19833113, 46.68959605], [11.198295015450041, 46.68886092144753], [11.198187019603024, 46.68813287258488], [11.198008182517992, 46.68741891492059], [11.197760226493834, 46.68672592425726], [11.197445539482612, 46.68606057447381], [11.197067152092268, 46.68542927325235], [11.19662870840022, 46.68483810036877], [11.196134430858898, 46.6842927491411], [11.195589079631226, 46.68379847159978], [11.194997906747647, 46.68336002790773], [11.194366605526195, 46.68298164051738], [11.193701255742738, 46.682666953506164], [11.193008265079408, 46.68241899748201], [11.19229430741512, 46.68224016039697], [11.191566258552472, 46.682132164549955], [11.19083113, 46.68209605], [11.190096001447527, 46.682132164549955], [11.18936795258488, 46.68224016039697], [11.18865399492059, 46.68241899748201], [11.18796100425726, 46.682666953506164], [11.187295654473804, 46.68298164051738], [11.186664353252352, 46.68336002790773], [11.186073180368773, 46.68379847159978], [11.185527829141101, 46.6842927491411], [11.185033551599778, 46.68483810036877], [11.18459510790773, 46.68542927325235], [11.184216720517387, 46.68606057447381], [11.183902033506165, 46.68672592425726], [11.183654077482007, 46.68741891492059], [11.183475240396975, 46.68813287258488], [11.183367244549958, 46.68886092144753], [11.18333113, 46.68959605], [11.183367244549958, 46.69033117855247], [11.183475240396975, 46.69105922741512], [11.183654077482007, 46.691773185079406], [11.183902033506165, 46.69246617574274], [11.184216720517387, 46.69313152552619], [11.18459510790773, 46.693762826747644], [11.185033551599778, 46.694353999631225], [11.185527829141101, 46.6948993508589], [11.186073180368773, 46.69539362840022], [11.186664353252352, 46.695832072092266], [11.187295654473804, 46.696210459482614], [11.18796100425726, 46.69652514649383], [11.18865399492059, 46.69677310251799], [11.18936795258488, 46.696951939603025], [11.190096001447527, 46.69705993545004], [11.19083113, 46.69709605], [11.191566258552472, 46.69705993545004], [11.19229430741512, 46.696951939603025], [11.193008265079408, 46.69677310251799], [11.193701255742738, 46.69652514649383], [11.194366605526195, 46.696210459482614], [11.194997906747647, 46.695832072092266], [11.195589079631226, 46.69539362840022], [11.196134430858898, 46.6948993508589], [11.19662870840022, 46.694353999631225], [11.197067152092268, 46.693762826747644], [11.197445539482612, 46.69313152552619], [11.197760226493834, 46.69246617574274], [11.198008182517992, 46.691773185079406], [11.198187019603024, 46.69105922741512], [11.198295015450041, 46.69033117855247], [11.19833113, 46.68959605]]]}, \"bbox\": [11.18333113, 46.68209605, 11.19833113, 46.69709605]}], \"bbox\": [11.16946798, 46.68209605, 11.25462619, 46.83034696]}, \"reducer\": {\"process_graph\": {\"median1\": {\"process_id\": \"median\", \"arguments\": {\"data\": {\"from_parameter\": \"data\"}}, \"result\": true}}}}, \"result\": true}}}}</script>\n",
       "    </openeo-model-builder>\n",
       "    "
      ],
      "text/plain": [
       "<openeo.rest.vectorcube.VectorCube at 0x7fc908af1710>"
      ]
     },
     "execution_count": 19,
     "metadata": {},
     "output_type": "execute_result"
    }
   ],
   "source": [
    "snowmap_per_station= snow_map_cloud_free.aggregate_spatial(catchment_stations_fc, reducer=\"median\")\n",
    "snowmap_per_station"
   ]
  },
  {
   "cell_type": "markdown",
   "id": "6417965b-8d86-468e-80a2-6bd26aa3afd4",
   "metadata": {},
   "source": [
    "Save outputs from process graph"
   ]
  },
  {
   "cell_type": "code",
   "execution_count": 20,
   "id": "b114331e-3206-4c38-8780-72c6bd87f882",
   "metadata": {
    "tags": []
   },
   "outputs": [],
   "source": [
    "snowmap_cloudfree_json = snowmap_per_station.save_result(format=\"JSON\")\n",
    "job = snowmap_cloudfree_json.create_job(title=\"snow_map\")\n",
    "job.start_job()"
   ]
  },
  {
   "cell_type": "code",
   "execution_count": 21,
   "id": "ef303390-bb1e-4332-b4b3-478df40f2fb0",
   "metadata": {
    "tags": []
   },
   "outputs": [
    {
     "data": {
      "text/plain": [
       "'queued'"
      ]
     },
     "execution_count": 21,
     "metadata": {},
     "output_type": "execute_result"
    }
   ],
   "source": [
    "job.status()"
   ]
  },
  {
   "cell_type": "code",
   "execution_count": 22,
   "id": "34f00259-a23e-49aa-a3ca-d82d900bd1eb",
   "metadata": {
    "tags": []
   },
   "outputs": [],
   "source": [
    "# job.logs()"
   ]
  },
  {
   "cell_type": "code",
   "execution_count": 23,
   "id": "5f43f292-9c32-4a5b-821f-8d21be8df5b0",
   "metadata": {
    "tags": []
   },
   "outputs": [],
   "source": [
    "if job.status() == \"finished\":\n",
    "    results = job.get_results()\n",
    "    results.download_files(\"results/snowmap/\")"
   ]
  },
  {
   "cell_type": "code",
   "execution_count": 24,
   "id": "1a5e1cfe-73c1-47cd-9eb0-128db0702edf",
   "metadata": {
    "tags": []
   },
   "outputs": [],
   "source": [
    "with open(\"results/snowmap/timeseries.json\",\"r\") as file:\n",
    "    snow_time_series = json.load(file)"
   ]
  },
  {
   "cell_type": "code",
   "execution_count": 25,
   "id": "4887bcd4-43ea-4298-9b30-b355fdd82af3",
   "metadata": {
    "tags": []
   },
   "outputs": [],
   "source": [
    "# snow_time_series"
   ]
  },
  {
   "cell_type": "markdown",
   "id": "ad4b1d37-12b1-4967-b8d1-48685c6c5ae8",
   "metadata": {
    "tags": []
   },
   "source": [
    "Extract snow values per station"
   ]
  },
  {
   "cell_type": "code",
   "execution_count": 26,
   "id": "f039220b-ad55-4d2f-9aad-33b5d523e1a4",
   "metadata": {
    "tags": []
   },
   "outputs": [],
   "source": [
    "# extra snow values from time-series output\n",
    "dates = [k.split(\"T\")[0] for k in snow_time_series]\n",
    "snow_val_smartino = [snow_time_series[k][0][0] for k in snow_time_series]\n",
    "snow_val_rifiano = [snow_time_series[k][1][0] for k in snow_time_series]\n",
    "snow_val_plata = [snow_time_series[k][2][0] for k in snow_time_series]\n",
    "snow_val_sleonardo = [snow_time_series[k][3][0] for k in snow_time_series]\n",
    "snow_val_scena = [snow_time_series[k][4][0] for k in snow_time_series]\n",
    "\n",
    "# filter in-situ data to match dates in snow map output\n",
    "catchment_stations_gpd_smartino = catchment_stations_gpd.query(\"Name == 'S_Martino_in_Passiria_Osservatore'\")\n",
    "catchment_stations_gpd_smartino = catchment_stations_gpd_smartino[\n",
    "    catchment_stations_gpd_smartino.id.isin(dates)\n",
    "]\n",
    "\n",
    "catchment_stations_gpd_rifiano = catchment_stations_gpd.query(\"Name == 'Rifiano_Beobachter'\")\n",
    "catchment_stations_gpd_rifiano = catchment_stations_gpd_rifiano[\n",
    "    catchment_stations_gpd_rifiano.id.isin(dates)\n",
    "]\n",
    "\n",
    "catchment_stations_gpd_plata = catchment_stations_gpd.query(\"Name == 'Plata_Osservatore'\")\n",
    "catchment_stations_gpd_plata = catchment_stations_gpd_plata[\n",
    "    catchment_stations_gpd_plata.id.isin(dates)\n",
    "]\n",
    "\n",
    "catchment_stations_gpd_sleonardo = catchment_stations_gpd.query(\"Name == 'S_Leonardo_in_Passiria_Osservatore'\")\n",
    "catchment_stations_gpd_sleonardo = catchment_stations_gpd_sleonardo[\n",
    "    catchment_stations_gpd_sleonardo.id.isin(dates)\n",
    "]\n",
    "\n",
    "catchment_stations_gpd_scena = catchment_stations_gpd.query(\"Name == 'Scena_Osservatore'\")\n",
    "catchment_stations_gpd_scena = catchment_stations_gpd_scena[\n",
    "    catchment_stations_gpd_scena.id.isin(dates)\n",
    "]"
   ]
  },
  {
   "cell_type": "code",
   "execution_count": 27,
   "id": "c80657a7-1a50-404f-9f51-ab4787b4a4cb",
   "metadata": {
    "tags": []
   },
   "outputs": [],
   "source": [
    "smartino_snow = assign_site_snow(catchment_stations_gpd_smartino, snow_val_smartino)\n",
    "rifiano_snow = assign_site_snow(catchment_stations_gpd_rifiano, snow_val_rifiano)\n",
    "plata_snow = assign_site_snow(catchment_stations_gpd_plata, snow_val_plata)\n",
    "sleonardo_snow = assign_site_snow(catchment_stations_gpd_sleonardo, snow_val_sleonardo)\n",
    "scena_snow = assign_site_snow(catchment_stations_gpd_scena, snow_val_scena)                                                                    "
   ]
  },
  {
   "cell_type": "code",
   "execution_count": 28,
   "id": "3aede571-8e46-46c5-898e-d250634b055e",
   "metadata": {
    "tags": []
   },
   "outputs": [
    {
     "data": {
      "text/html": [
       "<div>\n",
       "<style scoped>\n",
       "    .dataframe tbody tr th:only-of-type {\n",
       "        vertical-align: middle;\n",
       "    }\n",
       "\n",
       "    .dataframe tbody tr th {\n",
       "        vertical-align: top;\n",
       "    }\n",
       "\n",
       "    .dataframe thead th {\n",
       "        text-align: right;\n",
       "    }\n",
       "</style>\n",
       "<table border=\"1\" class=\"dataframe\">\n",
       "  <thead>\n",
       "    <tr style=\"text-align: right;\">\n",
       "      <th></th>\n",
       "      <th>Provider</th>\n",
       "      <th>Name</th>\n",
       "      <th>HN</th>\n",
       "      <th>HS</th>\n",
       "      <th>HN_after_qc</th>\n",
       "      <th>HS_after_qc</th>\n",
       "      <th>HS_after_gapfill</th>\n",
       "      <th>Longitude</th>\n",
       "      <th>Latitude</th>\n",
       "      <th>Elevation</th>\n",
       "      <th>snow_presence</th>\n",
       "      <th>geometry</th>\n",
       "      <th>cube_snow</th>\n",
       "    </tr>\n",
       "    <tr>\n",
       "      <th>id</th>\n",
       "      <th></th>\n",
       "      <th></th>\n",
       "      <th></th>\n",
       "      <th></th>\n",
       "      <th></th>\n",
       "      <th></th>\n",
       "      <th></th>\n",
       "      <th></th>\n",
       "      <th></th>\n",
       "      <th></th>\n",
       "      <th></th>\n",
       "      <th></th>\n",
       "      <th></th>\n",
       "    </tr>\n",
       "  </thead>\n",
       "  <tbody>\n",
       "    <tr>\n",
       "      <th>2018-04-29</th>\n",
       "      <td>IT_BZ</td>\n",
       "      <td>S_Martino_in_Passiria_Osservatore</td>\n",
       "      <td>0.0</td>\n",
       "      <td>0.0</td>\n",
       "      <td>0.0</td>\n",
       "      <td>0.0</td>\n",
       "      <td>0.0</td>\n",
       "      <td>11.227909</td>\n",
       "      <td>46.782682</td>\n",
       "      <td>588.0</td>\n",
       "      <td>0</td>\n",
       "      <td>POLYGON ((11.23541 46.78268, 11.23537 46.78195...</td>\n",
       "      <td>0</td>\n",
       "    </tr>\n",
       "    <tr>\n",
       "      <th>2018-05-07</th>\n",
       "      <td>IT_BZ</td>\n",
       "      <td>S_Martino_in_Passiria_Osservatore</td>\n",
       "      <td>0.0</td>\n",
       "      <td>0.0</td>\n",
       "      <td>0.0</td>\n",
       "      <td>0.0</td>\n",
       "      <td>0.0</td>\n",
       "      <td>11.227909</td>\n",
       "      <td>46.782682</td>\n",
       "      <td>588.0</td>\n",
       "      <td>0</td>\n",
       "      <td>POLYGON ((11.23541 46.78268, 11.23537 46.78195...</td>\n",
       "      <td>0</td>\n",
       "    </tr>\n",
       "    <tr>\n",
       "      <th>2018-03-08</th>\n",
       "      <td>IT_BZ</td>\n",
       "      <td>S_Martino_in_Passiria_Osservatore</td>\n",
       "      <td>0.0</td>\n",
       "      <td>0.0</td>\n",
       "      <td>0.0</td>\n",
       "      <td>0.0</td>\n",
       "      <td>0.0</td>\n",
       "      <td>11.227909</td>\n",
       "      <td>46.782682</td>\n",
       "      <td>588.0</td>\n",
       "      <td>0</td>\n",
       "      <td>POLYGON ((11.23541 46.78268, 11.23537 46.78195...</td>\n",
       "      <td>0</td>\n",
       "    </tr>\n",
       "    <tr>\n",
       "      <th>2018-06-06</th>\n",
       "      <td>IT_BZ</td>\n",
       "      <td>S_Martino_in_Passiria_Osservatore</td>\n",
       "      <td>0.0</td>\n",
       "      <td>0.0</td>\n",
       "      <td>0.0</td>\n",
       "      <td>0.0</td>\n",
       "      <td>0.0</td>\n",
       "      <td>11.227909</td>\n",
       "      <td>46.782682</td>\n",
       "      <td>588.0</td>\n",
       "      <td>0</td>\n",
       "      <td>POLYGON ((11.23541 46.78268, 11.23537 46.78195...</td>\n",
       "      <td>0</td>\n",
       "    </tr>\n",
       "    <tr>\n",
       "      <th>2018-05-02</th>\n",
       "      <td>IT_BZ</td>\n",
       "      <td>S_Martino_in_Passiria_Osservatore</td>\n",
       "      <td>0.0</td>\n",
       "      <td>0.0</td>\n",
       "      <td>0.0</td>\n",
       "      <td>0.0</td>\n",
       "      <td>0.0</td>\n",
       "      <td>11.227909</td>\n",
       "      <td>46.782682</td>\n",
       "      <td>588.0</td>\n",
       "      <td>0</td>\n",
       "      <td>POLYGON ((11.23541 46.78268, 11.23537 46.78195...</td>\n",
       "      <td>0</td>\n",
       "    </tr>\n",
       "  </tbody>\n",
       "</table>\n",
       "</div>"
      ],
      "text/plain": [
       "           Provider                               Name   HN   HS  HN_after_qc  \\\n",
       "id                                                                              \n",
       "2018-04-29    IT_BZ  S_Martino_in_Passiria_Osservatore  0.0  0.0          0.0   \n",
       "2018-05-07    IT_BZ  S_Martino_in_Passiria_Osservatore  0.0  0.0          0.0   \n",
       "2018-03-08    IT_BZ  S_Martino_in_Passiria_Osservatore  0.0  0.0          0.0   \n",
       "2018-06-06    IT_BZ  S_Martino_in_Passiria_Osservatore  0.0  0.0          0.0   \n",
       "2018-05-02    IT_BZ  S_Martino_in_Passiria_Osservatore  0.0  0.0          0.0   \n",
       "\n",
       "            HS_after_qc  HS_after_gapfill  Longitude   Latitude  Elevation  \\\n",
       "id                                                                           \n",
       "2018-04-29          0.0               0.0  11.227909  46.782682      588.0   \n",
       "2018-05-07          0.0               0.0  11.227909  46.782682      588.0   \n",
       "2018-03-08          0.0               0.0  11.227909  46.782682      588.0   \n",
       "2018-06-06          0.0               0.0  11.227909  46.782682      588.0   \n",
       "2018-05-02          0.0               0.0  11.227909  46.782682      588.0   \n",
       "\n",
       "            snow_presence                                           geometry  \\\n",
       "id                                                                             \n",
       "2018-04-29              0  POLYGON ((11.23541 46.78268, 11.23537 46.78195...   \n",
       "2018-05-07              0  POLYGON ((11.23541 46.78268, 11.23537 46.78195...   \n",
       "2018-03-08              0  POLYGON ((11.23541 46.78268, 11.23537 46.78195...   \n",
       "2018-06-06              0  POLYGON ((11.23541 46.78268, 11.23537 46.78195...   \n",
       "2018-05-02              0  POLYGON ((11.23541 46.78268, 11.23537 46.78195...   \n",
       "\n",
       "            cube_snow  \n",
       "id                     \n",
       "2018-04-29          0  \n",
       "2018-05-07          0  \n",
       "2018-03-08          0  \n",
       "2018-06-06          0  \n",
       "2018-05-02          0  "
      ]
     },
     "execution_count": 28,
     "metadata": {},
     "output_type": "execute_result"
    }
   ],
   "source": [
    "# sample of values in one \n",
    "smartino_snow.sample(5)"
   ]
  },
  {
   "cell_type": "markdown",
   "id": "16752292-e134-4f28-b325-ead839532951",
   "metadata": {},
   "source": [
    "## Confusion matrix"
   ]
  },
  {
   "cell_type": "markdown",
   "id": "c001bc34-f3d3-4e64-807e-b74a88d70a18",
   "metadata": {},
   "source": [
    "Saint Martino in Passiria Osservatore"
   ]
  },
  {
   "cell_type": "code",
   "execution_count": 29,
   "id": "48fefa34-ae4d-4e43-985c-098ced246af3",
   "metadata": {
    "tags": []
   },
   "outputs": [],
   "source": [
    "from sklearn.metrics import accuracy_score\n",
    "from sklearn.metrics import confusion_matrix, ConfusionMatrixDisplay"
   ]
  },
  {
   "cell_type": "code",
   "execution_count": 30,
   "id": "c747cfc7-9850-44ae-ad17-bc930e9d829f",
   "metadata": {
    "tags": []
   },
   "outputs": [],
   "source": [
    "def validation_metrics(df):\n",
    "    acc = accuracy_score(df.snow_presence, df.cube_snow)\n",
    "    cf = confusion_matrix(df.snow_presence, df.cube_snow)\n",
    "    \n",
    "    cm_display = ConfusionMatrixDisplay(confusion_matrix = cf, display_labels = [True, False])\n",
    "    cm_display.plot()\n",
    "    plt.show()\n",
    "    \n",
    "    print (\"Accuracy is: \", acc, \"\\nConfusion Matrix is:\\n\", cf)\n",
    "    "
   ]
  },
  {
   "cell_type": "code",
   "execution_count": 31,
   "id": "50916b98-50d8-4ac8-a9c0-1e6fb31b5370",
   "metadata": {
    "tags": []
   },
   "outputs": [
    {
     "data": {
      "image/png": "[encoded data removed]",
      "text/plain": [
       "<Figure size 640x480 with 2 Axes>"
      ]
     },
     "metadata": {},
     "output_type": "display_data"
    },
    {
     "name": "stdout",
     "output_type": "stream",
     "text": [
      "Accuracy is:  0.9791666666666666 \n",
      "Confusion Matrix is:\n",
      " [[47  1]\n",
      " [ 0  0]]\n"
     ]
    }
   ],
   "source": [
    "validation_metrics(smartino_snow)"
   ]
  },
  {
   "cell_type": "code",
   "execution_count": 32,
   "id": "096503f4-62b1-4986-b001-c9a1dce80b5a",
   "metadata": {
    "tags": []
   },
   "outputs": [
    {
     "data": {
      "image/png": "[encoded data removed]",
      "text/plain": [
       "<Figure size 640x480 with 2 Axes>"
      ]
     },
     "metadata": {},
     "output_type": "display_data"
    },
    {
     "name": "stdout",
     "output_type": "stream",
     "text": [
      "Accuracy is:  0.9791666666666666 \n",
      "Confusion Matrix is:\n",
      " [[47  0]\n",
      " [ 1  0]]\n"
     ]
    }
   ],
   "source": [
    "validation_metrics(rifiano_snow)"
   ]
  },
  {
   "cell_type": "code",
   "execution_count": 33,
   "id": "b444277b-db4d-46ab-8eaa-8fa378bcd96f",
   "metadata": {
    "tags": []
   },
   "outputs": [
    {
     "data": {
      "image/png": "[encoded data removed]",
      "text/plain": [
       "<Figure size 640x480 with 2 Axes>"
      ]
     },
     "metadata": {},
     "output_type": "display_data"
    },
    {
     "name": "stdout",
     "output_type": "stream",
     "text": [
      "Accuracy is:  0.6666666666666666 \n",
      "Confusion Matrix is:\n",
      " [[25  1]\n",
      " [15  7]]\n"
     ]
    }
   ],
   "source": [
    "validation_metrics(plata_snow) "
   ]
  },
  {
   "cell_type": "code",
   "execution_count": 38,
   "id": "d1bbcdf8-c016-4e16-8f87-06fc313cee15",
   "metadata": {
    "tags": []
   },
   "outputs": [
    {
     "name": "stdout",
     "output_type": "stream",
     "text": [
      "Accuracy : 1.0\n",
      "Confusion Matrix : [[48]]\n"
     ]
    },
    {
     "data": {
      "image/png": "[encoded data removed]",
      "text/plain": [
       "<Figure size 640x480 with 2 Axes>"
      ]
     },
     "metadata": {},
     "output_type": "display_data"
    }
   ],
   "source": [
    "# validation_metrics(sleonardo_snow)\n",
    "acc = accuracy_score(sleonardo_snow.snow_presence, sleonardo_snow.cube_snow)\n",
    "cf = confusion_matrix(sleonardo_snow.snow_presence, sleonardo_snow.cube_snow)\n",
    "print(\"Accuracy :\", acc)\n",
    "print(\"Confusion Matrix :\", cf)\n",
    "    \n",
    "cm_display = ConfusionMatrixDisplay(confusion_matrix = cf, display_labels = [True])\n",
    "cm_display.plot()\n",
    "plt.show()"
   ]
  },
  {
   "cell_type": "code",
   "execution_count": 35,
   "id": "0b7f3348-9a23-4d5e-90c5-2ad5c098623b",
   "metadata": {
    "tags": []
   },
   "outputs": [
    {
     "data": {
      "image/png": "[encoded data removed]",
      "text/plain": [
       "<Figure size 640x480 with 2 Axes>"
      ]
     },
     "metadata": {},
     "output_type": "display_data"
    },
    {
     "name": "stdout",
     "output_type": "stream",
     "text": [
      "Accuracy is:  0.9791666666666666 \n",
      "Confusion Matrix is:\n",
      " [[47  0]\n",
      " [ 1  0]]\n"
     ]
    }
   ],
   "source": [
    "validation_metrics(scena_snow)"
   ]
  }
 ],
 "metadata": {
  "kernelspec": {
   "display_name": "users-edc-2023.07-01",
   "language": "python",
   "name": "conda-env-users-edc-2023.07-01-py"
  },
  "language_info": {
   "codemirror_mode": {
    "name": "ipython",
    "version": 3
   },
   "file_extension": ".py",
   "mimetype": "text/x-python",
   "name": "python",
   "nbconvert_exporter": "python",
   "pygments_lexer": "ipython3",
   "version": "3.11.4"
  }
 },
 "nbformat": 4,
 "nbformat_minor": 5
}
