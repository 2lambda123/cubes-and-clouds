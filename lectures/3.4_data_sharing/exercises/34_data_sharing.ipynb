{
 "cells": [
  {
   "cell_type": "markdown",
   "id": "0c6aed2f-1493-4636-a124-03c81b28bc52",
   "metadata": {},
   "source": [
    "# 3.4 Data Sharing\n",
    "Science is much more impactful once it's shared. Therefore, we are going to learn how to \n",
    "open up our scientific output from a cloud platform, so that is openly available - and \n",
    "has the chance to make the impact it should.\n",
    "- Load data\n",
    "- ...\n"
   ]
  },
  {
   "cell_type": "code",
   "execution_count": 1,
   "id": "1abf270c-d73e-4109-854c-3cf36a1b36d7",
   "metadata": {},
   "outputs": [],
   "source": [
    "import openeo\n",
    "from sentinelhub import (SHConfig, SentinelHubRequest, DataCollection, MimeType, CRS, BBox, bbox_to_dimensions, geometry)\n",
    "\n",
    "import eo_utils"
   ]
  },
  {
   "cell_type": "code",
   "execution_count": 2,
   "id": "61e18b1a-6c58-4f64-b911-9451d170a116",
   "metadata": {},
   "outputs": [],
   "source": [
    "config = SHConfig()\n",
    "config.sh_client_id = %env SH_CLIENT_ID\n",
    "config.sh_client_secret = %env SH_CLIENT_SECRET"
   ]
  },
  {
   "cell_type": "code",
   "execution_count": 4,
   "id": "86afd551-857e-4129-a2ee-39a933255f34",
   "metadata": {},
   "outputs": [],
   "source": [
    "conn = openeo.connect('https://jjdxlu8vwl.execute-api.eu-central-1.amazonaws.com/production')"
   ]
  },
  {
   "cell_type": "code",
   "execution_count": 5,
   "id": "de26fd5c-71da-4d28-b895-f5108a97a1d5",
   "metadata": {},
   "outputs": [
    {
     "data": {
      "text/plain": [
       "<Connection to 'https://jjdxlu8vwl.execute-api.eu-central-1.amazonaws.com/production/' with BasicBearerAuth>"
      ]
     },
     "execution_count": 5,
     "metadata": {},
     "output_type": "execute_result"
    }
   ],
   "source": [
    "conn.authenticate_basic(username=config.sh_client_id, password=config.sh_client_secret)"
   ]
  },
  {
   "cell_type": "code",
   "execution_count": null,
   "id": "7afd0fd0-0207-495d-b076-ed68f826bc5f",
   "metadata": {},
   "outputs": [],
   "source": [
    "# Use this for more \n",
    "# https://github.com/openEOPlatform/sample-notebooks/blob/main/openEO%20Platfrom%20-%20Basics.ipynb\n",
    "# https://github.com/Open-EO/openeo-community-examples/tree/main/python"
   ]
  },
  {
   "cell_type": "markdown",
   "id": "b2d634d7-e719-4cab-8066-ed0cc1c278f6",
   "metadata": {},
   "source": [
    "### Select Area of Interest"
   ]
  },
  {
   "cell_type": "code",
   "execution_count": null,
   "id": "84aeb73e-08b7-4fe5-9b00-d2c686b6e863",
   "metadata": {},
   "outputs": [],
   "source": [
    "center = [46.497012, 11.356429]\n",
    "zoom = 16\n",
    "eo_map = openeoMap(center, zoom)\n",
    "eo_map.map"
   ]
  },
  {
   "cell_type": "code",
   "execution_count": null,
   "id": "72534923-5a3f-4918-a01a-43d0dfc27d38",
   "metadata": {},
   "outputs": [],
   "source": [
    "bbox = eo_map.getBbox()\n",
    "print('west',bbox[0],'\\neast',bbox[2],'\\nsouth',bbox[1],'\\nnorth',bbox[3])"
   ]
  },
  {
   "cell_type": "markdown",
   "id": "5d7c0e74-3158-403a-a5d8-1e646bd4b137",
   "metadata": {},
   "source": [
    "### Recreate process graph"
   ]
  },
  {
   "cell_type": "code",
   "execution_count": null,
   "id": "f504c070-0c31-4d98-8a6c-2917eba71f19",
   "metadata": {},
   "outputs": [],
   "source": [
    "collection      = 'SENTINEL2_L2A_SENTINELHUB'\n",
    "spatial_extent  = {'west':bbox[0],'east':bbox[2],'south':bbox[1],'north':bbox[3],'crs':4326}\n",
    "temporal_extent = [\"2018-02-01\", \"2018-02-15\"]\n",
    "bands           = ['B03', 'B11', 'CLM']"
   ]
  },
  {
   "cell_type": "code",
   "execution_count": null,
   "id": "9e09c3cb-e1b8-4ceb-ab38-1711edfc5718",
   "metadata": {},
   "outputs": [],
   "source": [
    "s2cube = conn.load_collection(collection,\n",
    "                          spatial_extent=spatial_extent,\n",
    "                          bands=bands,\n",
    "                          temporal_extent=temporal_extent)"
   ]
  },
  {
   "cell_type": "markdown",
   "id": "0e386469-c285-49a5-ab4e-07b017505ff8",
   "metadata": {},
   "source": [
    "#### Cloud Mask Extraction"
   ]
  },
  {
   "cell_type": "markdown",
   "id": "3f86c26a-0cb3-4e87-abb7-4b6c10df1a00",
   "metadata": {},
   "source": [
    "cloud_mask= s2cube.band(\"CLM\")\n",
    "s2cube_masked = s2cube.mask(cloud_mask)\n",
    "\n",
    "# cloud_mask = cloud_mask.reduce_dimension(dimension=\"t\", reducer=\"mean\")"
   ]
  },
  {
   "cell_type": "markdown",
   "id": "bac3c8e0-7e20-4db1-8f16-e41f6786dd63",
   "metadata": {},
   "source": [
    "#### NDSI Computation"
   ]
  },
  {
   "cell_type": "code",
   "execution_count": null,
   "id": "c10eb969-96c9-4954-84a7-3230a84f3e7d",
   "metadata": {},
   "outputs": [],
   "source": [
    "green = s2cube_masked.band(\"B03\")\n",
    "swir = s2cube_masked.band(\"B11\")\n",
    "ndsi = (green - swir) / (green + swir)\n",
    "snowmap = ndsi > 0.4\n",
    "# reduce along time\n",
    "snowmap  = snowmap.reduce_dimension(dimension=\"t\", reducer=\"mean\")"
   ]
  },
  {
   "cell_type": "code",
   "execution_count": null,
   "id": "1f7d55bd-72d5-4c32-8bc5-9863818d8339",
   "metadata": {},
   "outputs": [],
   "source": [
    "snowmap = snowmap.save_result(format=\"GTiff\")\n",
    "snowmap_job = snowmap.create_job(title=\"Snow map computation\")\n",
    "snowmap_job"
   ]
  },
  {
   "cell_type": "code",
   "execution_count": null,
   "id": "50bb67d9-b593-43cb-a5da-d3985c2a53f5",
   "metadata": {},
   "outputs": [],
   "source": [
    "snowmap_job.start_and_wait()"
   ]
  },
  {
   "cell_type": "code",
   "execution_count": null,
   "id": "10fdfbd7-c61a-490d-b477-7692d5ab748a",
   "metadata": {},
   "outputs": [],
   "source": [
    "snowmap_results = snowmap_job.get_results()\n",
    "snowmap_results.download_files(\"data/snowmap/\")"
   ]
  },
  {
   "cell_type": "code",
   "execution_count": null,
   "id": "5be3a867-58f0-412f-a231-e2e185a7586d",
   "metadata": {},
   "outputs": [],
   "source": []
  },
  {
   "cell_type": "markdown",
   "id": "3be755e8-1347-4c88-a698-1d81047ff59d",
   "metadata": {},
   "source": [
    "### Data sharing with STAC\n",
    "STAC: SpatioTemporal Assets Catalog\n"
   ]
  },
  {
   "cell_type": "code",
   "execution_count": null,
   "id": "a3813910-e176-4a6a-be98-2199f558630d",
   "metadata": {},
   "outputs": [],
   "source": [
    "import datetime\n",
    "\n",
    "import pystac\n",
    "from pystac.utils import str_to_datetime\n",
    "\n",
    "import rasterio\n",
    "\n",
    "# Import extension version\n",
    "from rio_stac.stac import PROJECTION_EXT_VERSION, RASTER_EXT_VERSION, EO_EXT_VERSION\n",
    "\n",
    "# Import rio_stac methods\n",
    "from rio_stac.stac import (\n",
    "    get_dataset_geom,\n",
    "    get_projection_info,\n",
    "    get_raster_info,\n",
    "    get_eobands_info,\n",
    "    bbox_to_geom,\n",
    ")"
   ]
  },
  {
   "cell_type": "code",
   "execution_count": null,
   "id": "30fc36d7-ff4c-4bd6-bc83-e01e70fe96ed",
   "metadata": {},
   "outputs": [],
   "source": [
    "assets = [\n",
    "    {\"name\": \"Snowmap_1\", \"path\": \"data/snowmap/1/default.tif\", \"href\": None,\"role\": None}\n",
    "    {\"name\": \"Snowmap_2\", \"path\": \"data/snowmap/2/default.tif\", \"href\": None,\"role\": None}\n",
    "]\n",
    "\n",
    "media_type = pystac.MediaType.COG #rio_stac.stac.get_media_type\n",
    "properties = {}\n",
    "input_datetime = None\n",
    "id = \"snowmap_stac\"\n",
    "collection = \"Snowmpa Bolzano\"\n",
    "collection_url = None\n",
    "\n",
    "extensions =[\n",
    "    f\"https://stac-extensions.github.io/projection/{PROJECTION_EXT_VERSION}/schema.json\", \n",
    "    f\"https://stac-extensions.github.io/raster/{RASTER_EXT_VERSION}/schema.json\",\n",
    "    f\"https://stac-extensions.github.io/eo/{EO_EXT_VERSION}/schema.json\",\n",
    "]\n"
   ]
  },
  {
   "cell_type": "code",
   "execution_count": null,
   "id": "1b3377f0-98ce-4c60-bf29-bc69fc2be4a6",
   "metadata": {},
   "outputs": [],
   "source": [
    "bboxes = []\n",
    "\n",
    "pystac_assets = []\n",
    "\n",
    "img_datetimes = []\n",
    "\n",
    "for asset in assets:\n",
    "    with rasterio.open(asset[\"path\"]) as src_dst:\n",
    "        # Get BBOX and Footprint\n",
    "        dataset_geom = get_dataset_geom(src_dst, densify_pts=0, precision=-1)\n",
    "        bboxes.append(dataset_geom[\"bbox\"])\n",
    "\n",
    "        if \"start_datetime\" not in properties and \"end_datetime\" not in properties:\n",
    "            # Try to get datetime from https://gdal.org/user/raster_data_model.html#imagery-domain-remote-sensing\n",
    "            dst_date = src_dst.get_tag_item(\"ACQUISITIONDATETIME\", \"IMAGERY\")\n",
    "            dst_datetime = str_to_datetime(dst_date) if dst_date else None\n",
    "            if dst_datetime:\n",
    "                img_datetimes.append(dst_datetime)\n",
    "\n",
    "        proj_info = {\n",
    "            f\"proj:{name}\": value\n",
    "            for name, value in get_projection_info(src_dst).items()\n",
    "        }\n",
    "\n",
    "        raster_info = {\n",
    "            \"raster:bands\": get_raster_info(src_dst, max_size=1024)\n",
    "        }\n",
    "\n",
    "        eo_info = {}\n",
    "        eo_info = {\"eo:bands\": get_eobands_info(src_dst)}\n",
    "        cloudcover = src_dst.get_tag_item(\"CLOUDCOVER\", \"IMAGERY\")\n",
    "        if cloudcover is not None:\n",
    "            properties.update({\"eo:cloud_cover\": int(cloudcover)})\n",
    "\n",
    "        pystac_assets.append(\n",
    "            (\n",
    "                asset[\"name\"], \n",
    "                pystac.Asset(\n",
    "                    href=asset[\"href\"] or src_dst.name,\n",
    "                    media_type=media_type,\n",
    "                    extra_fields={\n",
    "                        **proj_info,\n",
    "                        **raster_info, \n",
    "                        **eo_info\n",
    "                    },\n",
    "                    roles=asset[\"role\"],\n",
    "                ),\n",
    "            )\n",
    "        )\n",
    "\n",
    "if img_datetimes and not input_datetime:\n",
    "    input_datetime = img_datetimes[0]\n",
    "    \n",
    "input_datetime = input_datetime or datetime.datetime.utcnow()    \n",
    "\n",
    "minx, miny, maxx, maxy = zip(*bboxes)\n",
    "bbox = [min(minx), min(miny), max(maxx), max(maxy)]\n",
    "            \n",
    "# item\n",
    "item = pystac.Item(\n",
    "    id=id,\n",
    "    geometry=bbox_to_geom(bbox),\n",
    "    bbox=bbox,\n",
    "    collection=collection,\n",
    "    stac_extensions=extensions,\n",
    "    datetime=input_datetime,\n",
    "    properties=properties,\n",
    ")\n",
    "\n",
    "# if we add a collection we MUST add a link\n",
    "if collection:\n",
    "    item.add_link(\n",
    "        pystac.Link(\n",
    "            pystac.RelType.COLLECTION,\n",
    "            collection_url or collection,\n",
    "            media_type=pystac.MediaType.JSON,\n",
    "        )\n",
    "    )\n",
    "\n",
    "for key, asset in pystac_assets:\n",
    "    item.add_asset(key=key, asset=asset)"
   ]
  },
  {
   "cell_type": "code",
   "execution_count": null,
   "id": "d3b2b210-ca63-4356-9b6e-3db0b6572757",
   "metadata": {},
   "outputs": [],
   "source": [
    "item.validate()"
   ]
  },
  {
   "cell_type": "code",
   "execution_count": null,
   "id": "bd6817ad-5399-4bd8-94a2-c4eb4ae4a2d9",
   "metadata": {},
   "outputs": [],
   "source": [
    "import json\n",
    "\n",
    "print(json.dumps(item.to_dict(), indent=4))"
   ]
  },
  {
   "cell_type": "markdown",
   "id": "d48c696e-d642-4831-a875-a301b7813160",
   "metadata": {},
   "source": [
    "#### Validate STAC"
   ]
  },
  {
   "cell_type": "code",
   "execution_count": null,
   "id": "4972abfe-efa4-4ebd-9be3-b805e8285801",
   "metadata": {},
   "outputs": [],
   "source": [
    "#https://github.com/stac-utils/stac-validator\n",
    "from stac_validator import stac_validator\n",
    "\n",
    "stac = stac_validator.StacValidate()\n",
    "stac.validate_dict(json.dumps(item.to_dict(), indent=4))\n",
    "print(stac.message)"
   ]
  }
 ],
 "metadata": {
  "kernelspec": {
   "display_name": "users-edc-2023.03-02",
   "language": "python",
   "name": "conda-env-users-edc-2023.03-02-py"
  },
  "language_info": {
   "codemirror_mode": {
    "name": "ipython",
    "version": 3
   },
   "file_extension": ".py",
   "mimetype": "text/x-python",
   "name": "python",
   "nbconvert_exporter": "python",
   "pygments_lexer": "ipython3",
   "version": "3.9.16"
  }
 },
 "nbformat": 4,
 "nbformat_minor": 5
}
