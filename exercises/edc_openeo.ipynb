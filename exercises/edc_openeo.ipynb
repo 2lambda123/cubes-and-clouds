{
 "cells": [
  {
   "cell_type": "code",
   "execution_count": 3,
   "id": "1abf270c-d73e-4109-854c-3cf36a1b36d7",
   "metadata": {},
   "outputs": [],
   "source": [
    "import openeo\n",
    "from sentinelhub import (SHConfig, SentinelHubRequest, DataCollection, MimeType, CRS, BBox, bbox_to_dimensions, geometry)"
   ]
  },
  {
   "cell_type": "code",
   "execution_count": 4,
   "id": "61e18b1a-6c58-4f64-b911-9451d170a116",
   "metadata": {},
   "outputs": [],
   "source": [
    "# check that shub is active\n",
    "config = SHConfig()\n",
    "config.sh_client_id = %env SH_CLIENT_ID\n",
    "config.sh_client_secret = %env SH_CLIENT_SECRET"
   ]
  },
  {
   "cell_type": "code",
   "execution_count": 5,
   "id": "86afd551-857e-4129-a2ee-39a933255f34",
   "metadata": {},
   "outputs": [],
   "source": [
    "# connect, don't authenticate...\n",
    "conn = openeo.connect('https://jjdxlu8vwl.execute-api.eu-central-1.amazonaws.com/production')"
   ]
  },
  {
   "cell_type": "code",
   "execution_count": 6,
   "id": "89562387-ebef-4a3e-a4a1-d8be52bcd6ea",
   "metadata": {},
   "outputs": [
    {
     "ename": "OidcException",
     "evalue": "Timeout: no request to redirect URI after 60s",
     "output_type": "error",
     "traceback": [
      "\u001b[0;31m---------------------------------------------------------------------------\u001b[0m",
      "\u001b[0;31mTimeoutError\u001b[0m                              Traceback (most recent call last)",
      "File \u001b[0;32m/home/conda/users/21bc75412b4670c06be526ed2485fcd1a9b5acf13e91c7a2e670e00f0386350e-20230323-100034-261278-129-edc-2023.03-02/lib/python3.9/site-packages/openeo/rest/auth/oidc.py:537\u001b[0m, in \u001b[0;36mOidcAuthCodePkceAuthenticator._get_auth_code\u001b[0;34m(self, request_refresh_token)\u001b[0m\n\u001b[1;32m    535\u001b[0m     \u001b[38;5;66;03m# TODO: When authentication fails (e.g. identity provider is down), this might hang the client\u001b[39;00m\n\u001b[1;32m    536\u001b[0m     \u001b[38;5;66;03m#       (e.g. jupyter notebook). Is there a way to abort this? use signals? handle \"abort\" request?\u001b[39;00m\n\u001b[0;32m--> 537\u001b[0m     callbacks \u001b[38;5;241m=\u001b[39m \u001b[38;5;28;43mlist\u001b[39;49m\u001b[43m(\u001b[49m\u001b[43mdrain_queue\u001b[49m\u001b[43m(\u001b[49m\n\u001b[1;32m    538\u001b[0m \u001b[43m        \u001b[49m\u001b[43mcallback_queue\u001b[49m\u001b[43m,\u001b[49m\n\u001b[1;32m    539\u001b[0m \u001b[43m        \u001b[49m\u001b[43minitial_timeout\u001b[49m\u001b[38;5;241;43m=\u001b[39;49m\u001b[38;5;28;43mself\u001b[39;49m\u001b[38;5;241;43m.\u001b[39;49m\u001b[43m_authentication_timeout\u001b[49m\u001b[43m,\u001b[49m\n\u001b[1;32m    540\u001b[0m \u001b[43m        \u001b[49m\u001b[43mon_empty\u001b[49m\u001b[38;5;241;43m=\u001b[39;49m\u001b[38;5;28;43;01mlambda\u001b[39;49;00m\u001b[43m \u001b[49m\u001b[38;5;241;43m*\u001b[39;49m\u001b[38;5;241;43m*\u001b[39;49m\u001b[43mkwargs\u001b[49m\u001b[43m:\u001b[49m\u001b[43m \u001b[49m\u001b[43mlog\u001b[49m\u001b[38;5;241;43m.\u001b[39;49m\u001b[43minfo\u001b[49m\u001b[43m(\u001b[49m\n\u001b[1;32m    541\u001b[0m \u001b[43m            \u001b[49m\u001b[38;5;124;43m\"\u001b[39;49m\u001b[38;5;124;43mNo result yet (elapsed: \u001b[39;49m\u001b[38;5;132;43;01m{e:.2f}\u001b[39;49;00m\u001b[38;5;124;43ms)\u001b[39;49m\u001b[38;5;124;43m\"\u001b[39;49m\u001b[38;5;241;43m.\u001b[39;49m\u001b[43mformat\u001b[49m\u001b[43m(\u001b[49m\u001b[43me\u001b[49m\u001b[38;5;241;43m=\u001b[39;49m\u001b[43mkwargs\u001b[49m\u001b[38;5;241;43m.\u001b[39;49m\u001b[43mget\u001b[49m\u001b[43m(\u001b[49m\u001b[38;5;124;43m\"\u001b[39;49m\u001b[38;5;124;43melapsed\u001b[39;49m\u001b[38;5;124;43m\"\u001b[39;49m\u001b[43m,\u001b[49m\u001b[43m \u001b[49m\u001b[38;5;241;43m0\u001b[39;49m\u001b[43m)\u001b[49m\u001b[43m)\u001b[49m\n\u001b[1;32m    542\u001b[0m \u001b[43m        \u001b[49m\u001b[43m)\u001b[49m\n\u001b[1;32m    543\u001b[0m \u001b[43m    \u001b[49m\u001b[43m)\u001b[49m\u001b[43m)\u001b[49m\n\u001b[1;32m    544\u001b[0m \u001b[38;5;28;01mexcept\u001b[39;00m \u001b[38;5;167;01mTimeoutError\u001b[39;00m:\n",
      "File \u001b[0;32m/home/conda/users/21bc75412b4670c06be526ed2485fcd1a9b5acf13e91c7a2e670e00f0386350e-20230323-100034-261278-129-edc-2023.03-02/lib/python3.9/site-packages/openeo/rest/auth/oidc.py:177\u001b[0m, in \u001b[0;36mdrain_queue\u001b[0;34m(queue, initial_timeout, item_minimum, tail_timeout, on_empty)\u001b[0m\n\u001b[1;32m    176\u001b[0m \u001b[38;5;28;01mif\u001b[39;00m elapsed() \u001b[38;5;241m>\u001b[39m initial_timeout \u001b[38;5;129;01mand\u001b[39;00m count \u001b[38;5;241m<\u001b[39m item_minimum:\n\u001b[0;32m--> 177\u001b[0m     \u001b[38;5;28;01mraise\u001b[39;00m \u001b[38;5;167;01mTimeoutError\u001b[39;00m(\u001b[38;5;124m\"\u001b[39m\u001b[38;5;124mItems after initial \u001b[39m\u001b[38;5;132;01m{t}\u001b[39;00m\u001b[38;5;124m timeout: \u001b[39m\u001b[38;5;132;01m{c}\u001b[39;00m\u001b[38;5;124m (<\u001b[39m\u001b[38;5;132;01m{m}\u001b[39;00m\u001b[38;5;124m)\u001b[39m\u001b[38;5;124m\"\u001b[39m\u001b[38;5;241m.\u001b[39mformat(\n\u001b[1;32m    178\u001b[0m         c\u001b[38;5;241m=\u001b[39mcount, m\u001b[38;5;241m=\u001b[39mitem_minimum, t\u001b[38;5;241m=\u001b[39minitial_timeout))\n\u001b[1;32m    179\u001b[0m \u001b[38;5;28;01mif\u001b[39;00m queue\u001b[38;5;241m.\u001b[39mempty() \u001b[38;5;129;01mand\u001b[39;00m count \u001b[38;5;241m>\u001b[39m\u001b[38;5;241m=\u001b[39m item_minimum:\n",
      "\u001b[0;31mTimeoutError\u001b[0m: Items after initial 60 timeout: 0 (<1)",
      "\nDuring handling of the above exception, another exception occurred:\n",
      "\u001b[0;31mOidcException\u001b[0m                             Traceback (most recent call last)",
      "Cell \u001b[0;32mIn[6], line 2\u001b[0m\n\u001b[1;32m      1\u001b[0m \u001b[38;5;66;03m# authenticate with id and secret -> times out\u001b[39;00m\n\u001b[0;32m----> 2\u001b[0m \u001b[43mconn\u001b[49m\u001b[38;5;241;43m.\u001b[39;49m\u001b[43mauthenticate_oidc_authorization_code\u001b[49m\u001b[43m(\u001b[49m\n\u001b[1;32m      3\u001b[0m \u001b[43m    \u001b[49m\u001b[43mclient_id\u001b[49m\u001b[38;5;241;43m=\u001b[39;49m\u001b[43mconfig\u001b[49m\u001b[38;5;241;43m.\u001b[39;49m\u001b[43msh_client_id\u001b[49m\u001b[43m,\u001b[49m\n\u001b[1;32m      4\u001b[0m \u001b[43m    \u001b[49m\u001b[43mclient_secret\u001b[49m\u001b[38;5;241;43m=\u001b[39;49m\u001b[43mconfig\u001b[49m\u001b[38;5;241;43m.\u001b[39;49m\u001b[43msh_client_secret\u001b[49m\u001b[43m,\u001b[49m\n\u001b[1;32m      5\u001b[0m \u001b[43m)\u001b[49m\n",
      "File \u001b[0;32m/home/conda/users/21bc75412b4670c06be526ed2485fcd1a9b5acf13e91c7a2e670e00f0386350e-20230323-100034-261278-129-edc-2023.03-02/lib/python3.9/site-packages/openeo/rest/connection.py:454\u001b[0m, in \u001b[0;36mConnection.authenticate_oidc_authorization_code\u001b[0;34m(self, client_id, client_secret, provider_id, timeout, server_address, webbrowser_open, store_refresh_token)\u001b[0m\n\u001b[1;32m    446\u001b[0m provider_id, client_info \u001b[38;5;241m=\u001b[39m \u001b[38;5;28mself\u001b[39m\u001b[38;5;241m.\u001b[39m_get_oidc_provider_and_client_info(\n\u001b[1;32m    447\u001b[0m     provider_id\u001b[38;5;241m=\u001b[39mprovider_id, client_id\u001b[38;5;241m=\u001b[39mclient_id, client_secret\u001b[38;5;241m=\u001b[39mclient_secret,\n\u001b[1;32m    448\u001b[0m     default_client_grant_check\u001b[38;5;241m=\u001b[39m[DefaultOidcClientGrant\u001b[38;5;241m.\u001b[39mAUTH_CODE_PKCE],\n\u001b[1;32m    449\u001b[0m )\n\u001b[1;32m    450\u001b[0m authenticator \u001b[38;5;241m=\u001b[39m OidcAuthCodePkceAuthenticator(\n\u001b[1;32m    451\u001b[0m     client_info\u001b[38;5;241m=\u001b[39mclient_info,\n\u001b[1;32m    452\u001b[0m     webbrowser_open\u001b[38;5;241m=\u001b[39mwebbrowser_open, timeout\u001b[38;5;241m=\u001b[39mtimeout, server_address\u001b[38;5;241m=\u001b[39mserver_address\n\u001b[1;32m    453\u001b[0m )\n\u001b[0;32m--> 454\u001b[0m \u001b[38;5;28;01mreturn\u001b[39;00m \u001b[38;5;28;43mself\u001b[39;49m\u001b[38;5;241;43m.\u001b[39;49m\u001b[43m_authenticate_oidc\u001b[49m\u001b[43m(\u001b[49m\u001b[43mauthenticator\u001b[49m\u001b[43m,\u001b[49m\u001b[43m \u001b[49m\u001b[43mprovider_id\u001b[49m\u001b[38;5;241;43m=\u001b[39;49m\u001b[43mprovider_id\u001b[49m\u001b[43m,\u001b[49m\u001b[43m \u001b[49m\u001b[43mstore_refresh_token\u001b[49m\u001b[38;5;241;43m=\u001b[39;49m\u001b[43mstore_refresh_token\u001b[49m\u001b[43m)\u001b[49m\n",
      "File \u001b[0;32m/home/conda/users/21bc75412b4670c06be526ed2485fcd1a9b5acf13e91c7a2e670e00f0386350e-20230323-100034-261278-129-edc-2023.03-02/lib/python3.9/site-packages/openeo/rest/connection.py:406\u001b[0m, in \u001b[0;36mConnection._authenticate_oidc\u001b[0;34m(self, authenticator, provider_id, store_refresh_token, fallback_refresh_token_to_store, refreshable)\u001b[0m\n\u001b[1;32m    394\u001b[0m \u001b[38;5;28;01mdef\u001b[39;00m \u001b[38;5;21m_authenticate_oidc\u001b[39m(\n\u001b[1;32m    395\u001b[0m         \u001b[38;5;28mself\u001b[39m,\n\u001b[1;32m    396\u001b[0m         authenticator: OidcAuthenticator,\n\u001b[0;32m   (...)\u001b[0m\n\u001b[1;32m    401\u001b[0m         refreshable: \u001b[38;5;28mbool\u001b[39m \u001b[38;5;241m=\u001b[39m \u001b[38;5;28;01mFalse\u001b[39;00m,\n\u001b[1;32m    402\u001b[0m ) \u001b[38;5;241m-\u001b[39m\u001b[38;5;241m>\u001b[39m \u001b[38;5;124m'\u001b[39m\u001b[38;5;124mConnection\u001b[39m\u001b[38;5;124m'\u001b[39m:\n\u001b[1;32m    403\u001b[0m \u001b[38;5;250m    \u001b[39m\u001b[38;5;124;03m\"\"\"\u001b[39;00m\n\u001b[1;32m    404\u001b[0m \u001b[38;5;124;03m    Authenticate through OIDC and set up bearer token (based on OIDC access_token) for further requests.\u001b[39;00m\n\u001b[1;32m    405\u001b[0m \u001b[38;5;124;03m    \"\"\"\u001b[39;00m\n\u001b[0;32m--> 406\u001b[0m     tokens \u001b[38;5;241m=\u001b[39m \u001b[43mauthenticator\u001b[49m\u001b[38;5;241;43m.\u001b[39;49m\u001b[43mget_tokens\u001b[49m\u001b[43m(\u001b[49m\u001b[43mrequest_refresh_token\u001b[49m\u001b[38;5;241;43m=\u001b[39;49m\u001b[43mstore_refresh_token\u001b[49m\u001b[43m)\u001b[49m\n\u001b[1;32m    407\u001b[0m     _log\u001b[38;5;241m.\u001b[39minfo(\u001b[38;5;124m\"\u001b[39m\u001b[38;5;124mObtained tokens: \u001b[39m\u001b[38;5;132;01m{t}\u001b[39;00m\u001b[38;5;124m\"\u001b[39m\u001b[38;5;241m.\u001b[39mformat(t\u001b[38;5;241m=\u001b[39m[k \u001b[38;5;28;01mfor\u001b[39;00m k, v \u001b[38;5;129;01min\u001b[39;00m tokens\u001b[38;5;241m.\u001b[39m_asdict()\u001b[38;5;241m.\u001b[39mitems() \u001b[38;5;28;01mif\u001b[39;00m v]))\n\u001b[1;32m    408\u001b[0m     \u001b[38;5;28;01mif\u001b[39;00m store_refresh_token:\n",
      "File \u001b[0;32m/home/conda/users/21bc75412b4670c06be526ed2485fcd1a9b5acf13e91c7a2e670e00f0386350e-20230323-100034-261278-129-edc-2023.03-02/lib/python3.9/site-packages/openeo/rest/auth/oidc.py:573\u001b[0m, in \u001b[0;36mOidcAuthCodePkceAuthenticator.get_tokens\u001b[0;34m(self, request_refresh_token)\u001b[0m\n\u001b[1;32m    568\u001b[0m \u001b[38;5;250m\u001b[39m\u001b[38;5;124;03m\"\"\"\u001b[39;00m\n\u001b[1;32m    569\u001b[0m \u001b[38;5;124;03mDo OpenID authentication flow with PKCE:\u001b[39;00m\n\u001b[1;32m    570\u001b[0m \u001b[38;5;124;03mget auth code and exchange for access and id token\u001b[39;00m\n\u001b[1;32m    571\u001b[0m \u001b[38;5;124;03m\"\"\"\u001b[39;00m\n\u001b[1;32m    572\u001b[0m \u001b[38;5;66;03m# Get auth code from authentication provider\u001b[39;00m\n\u001b[0;32m--> 573\u001b[0m auth_code_result \u001b[38;5;241m=\u001b[39m \u001b[38;5;28;43mself\u001b[39;49m\u001b[38;5;241;43m.\u001b[39;49m\u001b[43m_get_auth_code\u001b[49m\u001b[43m(\u001b[49m\u001b[43mrequest_refresh_token\u001b[49m\u001b[38;5;241;43m=\u001b[39;49m\u001b[43mrequest_refresh_token\u001b[49m\u001b[43m)\u001b[49m\n\u001b[1;32m    575\u001b[0m \u001b[38;5;66;03m# Exchange authentication code for access token\u001b[39;00m\n\u001b[1;32m    576\u001b[0m result \u001b[38;5;241m=\u001b[39m \u001b[38;5;28mself\u001b[39m\u001b[38;5;241m.\u001b[39m_do_token_post_request(post_data\u001b[38;5;241m=\u001b[39mdict_no_none(\n\u001b[1;32m    577\u001b[0m     grant_type\u001b[38;5;241m=\u001b[39m\u001b[38;5;28mself\u001b[39m\u001b[38;5;241m.\u001b[39mgrant_type,\n\u001b[1;32m    578\u001b[0m     client_id\u001b[38;5;241m=\u001b[39m\u001b[38;5;28mself\u001b[39m\u001b[38;5;241m.\u001b[39mclient_id,\n\u001b[0;32m   (...)\u001b[0m\n\u001b[1;32m    582\u001b[0m     code_verifier\u001b[38;5;241m=\u001b[39mauth_code_result\u001b[38;5;241m.\u001b[39mcode_verifier,\n\u001b[1;32m    583\u001b[0m ))\n",
      "File \u001b[0;32m/home/conda/users/21bc75412b4670c06be526ed2485fcd1a9b5acf13e91c7a2e670e00f0386350e-20230323-100034-261278-129-edc-2023.03-02/lib/python3.9/site-packages/openeo/rest/auth/oidc.py:545\u001b[0m, in \u001b[0;36mOidcAuthCodePkceAuthenticator._get_auth_code\u001b[0;34m(self, request_refresh_token)\u001b[0m\n\u001b[1;32m    537\u001b[0m         callbacks \u001b[38;5;241m=\u001b[39m \u001b[38;5;28mlist\u001b[39m(drain_queue(\n\u001b[1;32m    538\u001b[0m             callback_queue,\n\u001b[1;32m    539\u001b[0m             initial_timeout\u001b[38;5;241m=\u001b[39m\u001b[38;5;28mself\u001b[39m\u001b[38;5;241m.\u001b[39m_authentication_timeout,\n\u001b[0;32m   (...)\u001b[0m\n\u001b[1;32m    542\u001b[0m             )\n\u001b[1;32m    543\u001b[0m         ))\n\u001b[1;32m    544\u001b[0m     \u001b[38;5;28;01mexcept\u001b[39;00m \u001b[38;5;167;01mTimeoutError\u001b[39;00m:\n\u001b[0;32m--> 545\u001b[0m         \u001b[38;5;28;01mraise\u001b[39;00m OidcException(\u001b[38;5;124m\"\u001b[39m\u001b[38;5;124mTimeout: no request to redirect URI after \u001b[39m\u001b[38;5;132;01m{t}\u001b[39;00m\u001b[38;5;124ms\u001b[39m\u001b[38;5;124m\"\u001b[39m\u001b[38;5;241m.\u001b[39mformat(\n\u001b[1;32m    546\u001b[0m             t\u001b[38;5;241m=\u001b[39m\u001b[38;5;28mself\u001b[39m\u001b[38;5;241m.\u001b[39m_authentication_timeout)\n\u001b[1;32m    547\u001b[0m         )\n\u001b[1;32m    549\u001b[0m \u001b[38;5;28;01mif\u001b[39;00m \u001b[38;5;28mlen\u001b[39m(callbacks) \u001b[38;5;241m!=\u001b[39m \u001b[38;5;241m1\u001b[39m:\n\u001b[1;32m    550\u001b[0m     \u001b[38;5;28;01mraise\u001b[39;00m OidcException(\u001b[38;5;124m\"\u001b[39m\u001b[38;5;124mExpected 1 OAuth redirect request, but got: \u001b[39m\u001b[38;5;132;01m{c}\u001b[39;00m\u001b[38;5;124m\"\u001b[39m\u001b[38;5;241m.\u001b[39mformat(c\u001b[38;5;241m=\u001b[39m\u001b[38;5;28mlen\u001b[39m(callbacks)))\n",
      "\u001b[0;31mOidcException\u001b[0m: Timeout: no request to redirect URI after 60s"
     ]
    }
   ],
   "source": [
    "# authenticate with id and secret -> times out\n",
    "conn.authenticate_oidc_authorization_code(\n",
    "    client_id=config.sh_client_id,\n",
    "    client_secret=config.sh_client_secret,\n",
    ")"
   ]
  },
  {
   "cell_type": "code",
   "execution_count": null,
   "id": "050b91c0-60d8-464e-9fd3-0ab62638aafd",
   "metadata": {},
   "outputs": [],
   "source": [
    "# this works with existing eurac account... but it's not what we want\n",
    "conn.authenticate_oidc()"
   ]
  }
 ],
 "metadata": {
  "kernelspec": {
   "display_name": "users-edc-2023.03-02",
   "language": "python",
   "name": "conda-env-users-edc-2023.03-02-py"
  },
  "language_info": {
   "codemirror_mode": {
    "name": "ipython",
    "version": 3
   },
   "file_extension": ".py",
   "mimetype": "text/x-python",
   "name": "python",
   "nbconvert_exporter": "python",
   "pygments_lexer": "ipython3",
   "version": "3.9.16"
  }
 },
 "nbformat": 4,
 "nbformat_minor": 5
}
