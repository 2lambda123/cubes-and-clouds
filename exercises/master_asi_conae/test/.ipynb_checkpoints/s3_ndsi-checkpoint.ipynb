{
 "cells": [
  {
   "cell_type": "code",
   "execution_count": 10,
   "id": "b869b48d-f9a8-406d-922a-ca0c07683da9",
   "metadata": {},
   "outputs": [],
   "source": [
    "# xcube_sh imports\n",
    "from xcube_sh.cube import open_cube\n",
    "from xcube_sh.config import CubeConfig\n",
    "from xcube_sh.sentinelhub import SentinelHub\n",
    "\n",
    "# xcube imports\n",
    "from xcube.core.geom import mask_dataset_by_geometry\n",
    "\n",
    "# Various utilities\n",
    "from datetime import date\n",
    "import numpy as np\n",
    "import pandas as pd\n",
    "import geopandas as gpd\n",
    "import matplotlib.pyplot as plt"
   ]
  },
  {
   "cell_type": "markdown",
   "id": "6a0f64c9-d78a-4bd5-9ad5-f3dc72e0b0ad",
   "metadata": {},
   "source": [
    "Load the catchment outline"
   ]
  },
  {
   "cell_type": "code",
   "execution_count": 11,
   "id": "3e5b712a-33b1-475f-9d4f-70fbb7c0d72c",
   "metadata": {},
   "outputs": [],
   "source": [
    "catchment_outline = gpd.read_file('catchment_outline.geojson')"
   ]
  },
  {
   "cell_type": "markdown",
   "id": "158e798d-d05b-4ccd-ab6c-f219fd46bb1d",
   "metadata": {},
   "source": [
    "#### List all the available dataset"
   ]
  },
  {
   "cell_type": "code",
   "execution_count": 6,
   "id": "dc9dc5f7-b844-4496-8622-a67647125bd3",
   "metadata": {},
   "outputs": [
    {
     "data": {
      "text/plain": [
       "['LETML2',\n",
       " 'S2L1C',\n",
       " 'LOTL2',\n",
       " 'S5PL2',\n",
       " 'LMSSL1',\n",
       " 'S2L2A',\n",
       " 'HLS',\n",
       " 'S3SLSTR',\n",
       " 'LTML1',\n",
       " 'S1GRD',\n",
       " 'CUSTOM',\n",
       " 'DEM',\n",
       " 'MODIS',\n",
       " 'LOTL1',\n",
       " 'LTML2',\n",
       " 'S3OLCI',\n",
       " 'LETML1']"
      ]
     },
     "execution_count": 6,
     "metadata": {},
     "output_type": "execute_result"
    }
   ],
   "source": [
    "SH = SentinelHub()\n",
    "SH.dataset_names"
   ]
  },
  {
   "cell_type": "code",
   "execution_count": 24,
   "id": "fe2223fd-0810-4d71-ab95-f0d86b1554c9",
   "metadata": {},
   "outputs": [
    {
     "data": {
      "text/plain": [
       "['S1',\n",
       " 'S2',\n",
       " 'S3',\n",
       " 'S4',\n",
       " 'S4_A',\n",
       " 'S4_B',\n",
       " 'S5',\n",
       " 'S5_A',\n",
       " 'S5_B',\n",
       " 'S6',\n",
       " 'S6_A',\n",
       " 'S6_B',\n",
       " 'S7',\n",
       " 'S8',\n",
       " 'S9',\n",
       " 'F1',\n",
       " 'F2',\n",
       " 'CLOUD_FRACTION',\n",
       " 'SEA_ICE_FRACTION',\n",
       " 'SEA_SURFACE_TEMPERATURE',\n",
       " 'DEW_POINT',\n",
       " 'SKIN_TEMPERATURE',\n",
       " 'SNOW_ALBEDO',\n",
       " 'SNOW_DEPTH',\n",
       " 'SOIL_WETNESS',\n",
       " 'TEMPERATURE',\n",
       " 'TOTAL_COLUMN_OZONE',\n",
       " 'TOTAL_COLUMN_WATER_VAPOR']"
      ]
     },
     "execution_count": 24,
     "metadata": {},
     "output_type": "execute_result"
    }
   ],
   "source": [
    "SH.band_names('S3SLSTR')"
   ]
  },
  {
   "cell_type": "markdown",
   "id": "d5f202c0-b2cf-4f3f-9f79-04afd67c2b43",
   "metadata": {},
   "source": [
    "Configuring the data content of the cube"
   ]
  },
  {
   "cell_type": "code",
   "execution_count": 25,
   "id": "44ac177f-0df9-4fdb-9874-5fe527b86648",
   "metadata": {},
   "outputs": [
    {
     "name": "stderr",
     "output_type": "stream",
     "text": [
      "/home/conda/master-asi-conae/315434deb1b1e05eacacc41e1b0529b1837100f46402a32041d77ba54ae6c5f3-20230213-125825-013239-74-edc-2022.10-14/lib/python3.9/site-packages/xcube_sh/config.py:248: FutureWarning: Units 'M', 'Y' and 'y' do not represent unambiguous timedelta values and will be removed in a future version.\n",
      "  time_tolerance = pd.to_timedelta(time_tolerance)\n"
     ]
    }
   ],
   "source": [
    "bbox = catchment_outline.bounds.iloc[0]\n",
    "\n",
    "start_date = date(2018, 2, 1)\n",
    "end_date = date(2018, 7, 1)\n",
    "\n",
    "cube_config = CubeConfig(\n",
    "    dataset_name='S3SLSTR',\n",
    "    band_names=['S1'],\n",
    "    bbox=bbox.tolist(),\n",
    "    spatial_res=0.009,   # = 500 meters in degree>\n",
    "    time_range=[start_date.strftime(\"%Y-%m-%d\"), end_date.strftime(\"%Y-%m-%d\")]\n",
    ")"
   ]
  },
  {
   "cell_type": "code",
   "execution_count": 26,
   "id": "5e93d135-0220-49f1-938f-81e1edc37353",
   "metadata": {},
   "outputs": [
    {
     "ename": "SentinelHubError",
     "evalue": "404 Client Error: Not Found for url: https://services.sentinel-hub.com/api/v1/catalog/search",
     "output_type": "error",
     "traceback": [
      "\u001b[0;31m---------------------------------------------------------------------------\u001b[0m",
      "\u001b[0;31mHTTPError\u001b[0m                                 Traceback (most recent call last)",
      "File \u001b[0;32m/home/conda/master-asi-conae/315434deb1b1e05eacacc41e1b0529b1837100f46402a32041d77ba54ae6c5f3-20230213-125825-013239-74-edc-2022.10-14/lib/python3.9/site-packages/xcube_sh/sentinelhub.py:645\u001b[0m, in \u001b[0;36mSentinelHubError.maybe_raise_for_response\u001b[0;34m(cls, response)\u001b[0m\n\u001b[1;32m    644\u001b[0m \u001b[38;5;28;01mtry\u001b[39;00m:\n\u001b[0;32m--> 645\u001b[0m     \u001b[43mresponse\u001b[49m\u001b[38;5;241;43m.\u001b[39;49m\u001b[43mraise_for_status\u001b[49m\u001b[43m(\u001b[49m\u001b[43m)\u001b[49m\n\u001b[1;32m    646\u001b[0m \u001b[38;5;28;01mexcept\u001b[39;00m requests\u001b[38;5;241m.\u001b[39mHTTPError \u001b[38;5;28;01mas\u001b[39;00m e:\n",
      "File \u001b[0;32m/home/conda/master-asi-conae/315434deb1b1e05eacacc41e1b0529b1837100f46402a32041d77ba54ae6c5f3-20230213-125825-013239-74-edc-2022.10-14/lib/python3.9/site-packages/requests/models.py:1021\u001b[0m, in \u001b[0;36mResponse.raise_for_status\u001b[0;34m(self)\u001b[0m\n\u001b[1;32m   1020\u001b[0m \u001b[38;5;28;01mif\u001b[39;00m http_error_msg:\n\u001b[0;32m-> 1021\u001b[0m     \u001b[38;5;28;01mraise\u001b[39;00m HTTPError(http_error_msg, response\u001b[38;5;241m=\u001b[39m\u001b[38;5;28mself\u001b[39m)\n",
      "\u001b[0;31mHTTPError\u001b[0m: 404 Client Error: Not Found for url: https://services.sentinel-hub.com/api/v1/catalog/search",
      "\nThe above exception was the direct cause of the following exception:\n",
      "\u001b[0;31mSentinelHubError\u001b[0m                          Traceback (most recent call last)",
      "Cell \u001b[0;32mIn[26], line 1\u001b[0m\n\u001b[0;32m----> 1\u001b[0m cube \u001b[38;5;241m=\u001b[39m \u001b[43mopen_cube\u001b[49m\u001b[43m(\u001b[49m\u001b[43mcube_config\u001b[49m\u001b[43m)\u001b[49m\n\u001b[1;32m      2\u001b[0m cube\n",
      "File \u001b[0;32m/home/conda/master-asi-conae/315434deb1b1e05eacacc41e1b0529b1837100f46402a32041d77ba54ae6c5f3-20230213-125825-013239-74-edc-2022.10-14/lib/python3.9/site-packages/xcube_sh/cube.py:63\u001b[0m, in \u001b[0;36mopen_cube\u001b[0;34m(cube_config, observer, trace_store_calls, max_cache_size, sentinel_hub, **sh_kwargs)\u001b[0m\n\u001b[1;32m     60\u001b[0m \u001b[38;5;28;01melif\u001b[39;00m sh_kwargs:\n\u001b[1;32m     61\u001b[0m     \u001b[38;5;28;01mraise\u001b[39;00m \u001b[38;5;167;01mValueError\u001b[39;00m(\u001b[38;5;124mf\u001b[39m\u001b[38;5;124m'\u001b[39m\u001b[38;5;124munexpected keyword-arguments:\u001b[39m\u001b[38;5;124m'\u001b[39m\n\u001b[1;32m     62\u001b[0m                      \u001b[38;5;124mf\u001b[39m\u001b[38;5;124m'\u001b[39m\u001b[38;5;124m \u001b[39m\u001b[38;5;132;01m{\u001b[39;00m\u001b[38;5;124m\"\u001b[39m\u001b[38;5;124m, \u001b[39m\u001b[38;5;124m\"\u001b[39m\u001b[38;5;241m.\u001b[39mjoin(sh_kwargs\u001b[38;5;241m.\u001b[39mkeys())\u001b[38;5;132;01m}\u001b[39;00m\u001b[38;5;124m'\u001b[39m)\n\u001b[0;32m---> 63\u001b[0m cube_store \u001b[38;5;241m=\u001b[39m \u001b[43mSentinelHubChunkStore\u001b[49m\u001b[43m(\u001b[49m\u001b[43msentinel_hub\u001b[49m\u001b[43m,\u001b[49m\n\u001b[1;32m     64\u001b[0m \u001b[43m                                   \u001b[49m\u001b[43mcube_config\u001b[49m\u001b[43m,\u001b[49m\n\u001b[1;32m     65\u001b[0m \u001b[43m                                   \u001b[49m\u001b[43mobserver\u001b[49m\u001b[38;5;241;43m=\u001b[39;49m\u001b[43mobserver\u001b[49m\u001b[43m,\u001b[49m\n\u001b[1;32m     66\u001b[0m \u001b[43m                                   \u001b[49m\u001b[43mtrace_store_calls\u001b[49m\u001b[38;5;241;43m=\u001b[39;49m\u001b[43mtrace_store_calls\u001b[49m\u001b[43m)\u001b[49m\n\u001b[1;32m     67\u001b[0m \u001b[38;5;28;01mif\u001b[39;00m max_cache_size:\n\u001b[1;32m     68\u001b[0m     cube_store \u001b[38;5;241m=\u001b[39m zarr\u001b[38;5;241m.\u001b[39mLRUStoreCache(cube_store, max_cache_size)\n",
      "File \u001b[0;32m/home/conda/master-asi-conae/315434deb1b1e05eacacc41e1b0529b1837100f46402a32041d77ba54ae6c5f3-20230213-125825-013239-74-edc-2022.10-14/lib/python3.9/site-packages/xcube_sh/chunkstore.py:570\u001b[0m, in \u001b[0;36mSentinelHubChunkStore.__init__\u001b[0;34m(self, sentinel_hub, cube_config, observer, trace_store_calls)\u001b[0m\n\u001b[1;32m    568\u001b[0m         d[\u001b[38;5;124m'\u001b[39m\u001b[38;5;124mband_sample_types\u001b[39m\u001b[38;5;124m'\u001b[39m] \u001b[38;5;241m=\u001b[39m band_sample_types\n\u001b[1;32m    569\u001b[0m     cube_config \u001b[38;5;241m=\u001b[39m CubeConfig\u001b[38;5;241m.\u001b[39mfrom_dict(d)\n\u001b[0;32m--> 570\u001b[0m \u001b[38;5;28;43msuper\u001b[39;49m\u001b[43m(\u001b[49m\u001b[43m)\u001b[49m\u001b[38;5;241;43m.\u001b[39;49m\u001b[38;5;21;43m__init__\u001b[39;49m\u001b[43m(\u001b[49m\u001b[43mcube_config\u001b[49m\u001b[43m,\u001b[49m\n\u001b[1;32m    571\u001b[0m \u001b[43m                 \u001b[49m\u001b[43mobserver\u001b[49m\u001b[38;5;241;43m=\u001b[39;49m\u001b[43mobserver\u001b[49m\u001b[43m,\u001b[49m\n\u001b[1;32m    572\u001b[0m \u001b[43m                 \u001b[49m\u001b[43mtrace_store_calls\u001b[49m\u001b[38;5;241;43m=\u001b[39;49m\u001b[43mtrace_store_calls\u001b[49m\u001b[43m)\u001b[49m\n",
      "File \u001b[0;32m/home/conda/master-asi-conae/315434deb1b1e05eacacc41e1b0529b1837100f46402a32041d77ba54ae6c5f3-20230213-125825-013239-74-edc-2022.10-14/lib/python3.9/site-packages/xcube_sh/chunkstore.py:92\u001b[0m, in \u001b[0;36mRemoteStore.__init__\u001b[0;34m(self, cube_config, observer, trace_store_calls)\u001b[0m\n\u001b[1;32m     90\u001b[0m \u001b[38;5;28mself\u001b[39m\u001b[38;5;241m.\u001b[39m_observers \u001b[38;5;241m=\u001b[39m [observer] \u001b[38;5;28;01mif\u001b[39;00m observer \u001b[38;5;129;01mis\u001b[39;00m \u001b[38;5;129;01mnot\u001b[39;00m \u001b[38;5;28;01mNone\u001b[39;00m \u001b[38;5;28;01melse\u001b[39;00m []\n\u001b[1;32m     91\u001b[0m \u001b[38;5;28mself\u001b[39m\u001b[38;5;241m.\u001b[39m_trace_store_calls \u001b[38;5;241m=\u001b[39m trace_store_calls\n\u001b[0;32m---> 92\u001b[0m \u001b[38;5;28mself\u001b[39m\u001b[38;5;241m.\u001b[39m_time_ranges \u001b[38;5;241m=\u001b[39m \u001b[38;5;28;43mself\u001b[39;49m\u001b[38;5;241;43m.\u001b[39;49m\u001b[43mget_time_ranges\u001b[49m\u001b[43m(\u001b[49m\u001b[43m)\u001b[49m\n\u001b[1;32m     94\u001b[0m \u001b[38;5;28;01mif\u001b[39;00m \u001b[38;5;129;01mnot\u001b[39;00m \u001b[38;5;28mself\u001b[39m\u001b[38;5;241m.\u001b[39m_time_ranges:\n\u001b[1;32m     95\u001b[0m     \u001b[38;5;28;01mraise\u001b[39;00m \u001b[38;5;167;01mValueError\u001b[39;00m(\u001b[38;5;124m'\u001b[39m\u001b[38;5;124mCould not determine any valid time stamps\u001b[39m\u001b[38;5;124m'\u001b[39m)\n",
      "File \u001b[0;32m/home/conda/master-asi-conae/315434deb1b1e05eacacc41e1b0529b1837100f46402a32041d77ba54ae6c5f3-20230213-125825-013239-74-edc-2022.10-14/lib/python3.9/site-packages/xcube_sh/chunkstore.py:593\u001b[0m, in \u001b[0;36mSentinelHubChunkStore.get_time_ranges\u001b[0;34m(self)\u001b[0m\n\u001b[1;32m    589\u001b[0m         \u001b[38;5;28;01mraise\u001b[39;00m \u001b[38;5;167;01mValueError\u001b[39;00m(\u001b[38;5;124mf\u001b[39m\u001b[38;5;124m\"\u001b[39m\u001b[38;5;124mcannot find collection\u001b[39m\u001b[38;5;124m\"\u001b[39m\n\u001b[1;32m    590\u001b[0m                          \u001b[38;5;124mf\u001b[39m\u001b[38;5;124m\"\u001b[39m\u001b[38;5;124m name for dataset name\u001b[39m\u001b[38;5;124m\"\u001b[39m\n\u001b[1;32m    591\u001b[0m                          \u001b[38;5;124mf\u001b[39m\u001b[38;5;124m\"\u001b[39m\u001b[38;5;124m \u001b[39m\u001b[38;5;132;01m{\u001b[39;00m\u001b[38;5;28mself\u001b[39m\u001b[38;5;241m.\u001b[39m_cube_config\u001b[38;5;241m.\u001b[39mdataset_name\u001b[38;5;132;01m!r}\u001b[39;00m\u001b[38;5;124m\"\u001b[39m)\n\u001b[1;32m    592\u001b[0m datetime_format \u001b[38;5;241m=\u001b[39m \u001b[38;5;124m\"\u001b[39m\u001b[38;5;124m%\u001b[39m\u001b[38;5;124mY-\u001b[39m\u001b[38;5;124m%\u001b[39m\u001b[38;5;124mm-\u001b[39m\u001b[38;5;132;01m%d\u001b[39;00m\u001b[38;5;124mT\u001b[39m\u001b[38;5;124m%\u001b[39m\u001b[38;5;124mH:\u001b[39m\u001b[38;5;124m%\u001b[39m\u001b[38;5;124mM:\u001b[39m\u001b[38;5;124m%\u001b[39m\u001b[38;5;124mSZ\u001b[39m\u001b[38;5;124m\"\u001b[39m\n\u001b[0;32m--> 593\u001b[0m features \u001b[38;5;241m=\u001b[39m \u001b[38;5;28;43mself\u001b[39;49m\u001b[38;5;241;43m.\u001b[39;49m\u001b[43m_sentinel_hub\u001b[49m\u001b[38;5;241;43m.\u001b[39;49m\u001b[43mget_features\u001b[49m\u001b[43m(\u001b[49m\n\u001b[1;32m    594\u001b[0m \u001b[43m    \u001b[49m\u001b[43mcollection_name\u001b[49m\u001b[38;5;241;43m=\u001b[39;49m\u001b[43mcollection_name\u001b[49m\u001b[43m,\u001b[49m\n\u001b[1;32m    595\u001b[0m \u001b[43m    \u001b[49m\u001b[43mbbox\u001b[49m\u001b[38;5;241;43m=\u001b[39;49m\u001b[38;5;28;43mself\u001b[39;49m\u001b[38;5;241;43m.\u001b[39;49m\u001b[43m_cube_config\u001b[49m\u001b[38;5;241;43m.\u001b[39;49m\u001b[43mbbox\u001b[49m\u001b[43m,\u001b[49m\n\u001b[1;32m    596\u001b[0m \u001b[43m    \u001b[49m\u001b[43mcrs\u001b[49m\u001b[38;5;241;43m=\u001b[39;49m\u001b[38;5;28;43mself\u001b[39;49m\u001b[38;5;241;43m.\u001b[39;49m\u001b[43m_cube_config\u001b[49m\u001b[38;5;241;43m.\u001b[39;49m\u001b[43mcrs\u001b[49m\u001b[43m,\u001b[49m\n\u001b[1;32m    597\u001b[0m \u001b[43m    \u001b[49m\u001b[43mtime_range\u001b[49m\u001b[38;5;241;43m=\u001b[39;49m\u001b[43m(\u001b[49m\n\u001b[1;32m    598\u001b[0m \u001b[43m        \u001b[49m\u001b[43mtime_start\u001b[49m\u001b[38;5;241;43m.\u001b[39;49m\u001b[43mstrftime\u001b[49m\u001b[43m(\u001b[49m\u001b[43mdatetime_format\u001b[49m\u001b[43m)\u001b[49m\u001b[43m,\u001b[49m\n\u001b[1;32m    599\u001b[0m \u001b[43m        \u001b[49m\u001b[43mtime_end\u001b[49m\u001b[38;5;241;43m.\u001b[39;49m\u001b[43mstrftime\u001b[49m\u001b[43m(\u001b[49m\u001b[43mdatetime_format\u001b[49m\u001b[43m)\u001b[49m\n\u001b[1;32m    600\u001b[0m \u001b[43m    \u001b[49m\u001b[43m)\u001b[49m\n\u001b[1;32m    601\u001b[0m \u001b[43m\u001b[49m\u001b[43m)\u001b[49m\n\u001b[1;32m    602\u001b[0m \u001b[38;5;28;01mif\u001b[39;00m \u001b[38;5;129;01mnot\u001b[39;00m features:\n\u001b[1;32m    603\u001b[0m     \u001b[38;5;66;03m# Maybe the dataset has no data in given time_range\u001b[39;00m\n\u001b[1;32m    604\u001b[0m     \u001b[38;5;66;03m# or the dataset has no associated time information\u001b[39;00m\n\u001b[1;32m    605\u001b[0m     \u001b[38;5;66;03m# such as some BYOC or DEM.\u001b[39;00m\n\u001b[1;32m    606\u001b[0m     \u001b[38;5;66;03m# Repeat query without time_range.\u001b[39;00m\n\u001b[1;32m    607\u001b[0m     features \u001b[38;5;241m=\u001b[39m \u001b[38;5;28mself\u001b[39m\u001b[38;5;241m.\u001b[39m_sentinel_hub\u001b[38;5;241m.\u001b[39mget_features(\n\u001b[1;32m    608\u001b[0m         collection_name\u001b[38;5;241m=\u001b[39mcollection_name,\n\u001b[1;32m    609\u001b[0m         bbox\u001b[38;5;241m=\u001b[39m\u001b[38;5;28mself\u001b[39m\u001b[38;5;241m.\u001b[39m_cube_config\u001b[38;5;241m.\u001b[39mbbox,\n\u001b[1;32m    610\u001b[0m         crs\u001b[38;5;241m=\u001b[39m\u001b[38;5;28mself\u001b[39m\u001b[38;5;241m.\u001b[39m_cube_config\u001b[38;5;241m.\u001b[39mcrs,\n\u001b[1;32m    611\u001b[0m     )\n",
      "File \u001b[0;32m/home/conda/master-asi-conae/315434deb1b1e05eacacc41e1b0529b1837100f46402a32041d77ba54ae6c5f3-20230213-125825-013239-74-edc-2022.10-14/lib/python3.9/site-packages/xcube_sh/sentinelhub.py:265\u001b[0m, in \u001b[0;36mSentinelHub.get_features\u001b[0;34m(self, collection_name, bbox, crs, time_range)\u001b[0m\n\u001b[1;32m    260\u001b[0m \u001b[38;5;28;01mwhile\u001b[39;00m features_count \u001b[38;5;241m==\u001b[39m max_feature_count:\n\u001b[1;32m    261\u001b[0m     response \u001b[38;5;241m=\u001b[39m \u001b[38;5;28mself\u001b[39m\u001b[38;5;241m.\u001b[39msession\u001b[38;5;241m.\u001b[39mpost(catalog_url,\n\u001b[1;32m    262\u001b[0m                                  json\u001b[38;5;241m=\u001b[39mrequest,\n\u001b[1;32m    263\u001b[0m                                  headers\u001b[38;5;241m=\u001b[39mheaders)\n\u001b[0;32m--> 265\u001b[0m     \u001b[43mSentinelHubError\u001b[49m\u001b[38;5;241;43m.\u001b[39;49m\u001b[43mmaybe_raise_for_response\u001b[49m\u001b[43m(\u001b[49m\u001b[43mresponse\u001b[49m\u001b[43m)\u001b[49m\n\u001b[1;32m    267\u001b[0m     feature_collection \u001b[38;5;241m=\u001b[39m json\u001b[38;5;241m.\u001b[39mloads(response\u001b[38;5;241m.\u001b[39mcontent)\n\u001b[1;32m    268\u001b[0m     \u001b[38;5;28;01mif\u001b[39;00m feature_collection\u001b[38;5;241m.\u001b[39mget(\u001b[38;5;124m'\u001b[39m\u001b[38;5;124mtype\u001b[39m\u001b[38;5;124m'\u001b[39m) \u001b[38;5;241m!=\u001b[39m \u001b[38;5;124m'\u001b[39m\u001b[38;5;124mFeatureCollection\u001b[39m\u001b[38;5;124m'\u001b[39m \\\n\u001b[1;32m    269\u001b[0m             \u001b[38;5;129;01mor\u001b[39;00m \u001b[38;5;129;01mnot\u001b[39;00m \u001b[38;5;28misinstance\u001b[39m(feature_collection\u001b[38;5;241m.\u001b[39mget(\u001b[38;5;124m'\u001b[39m\u001b[38;5;124mfeatures\u001b[39m\u001b[38;5;124m'\u001b[39m),\n\u001b[1;32m    270\u001b[0m                               \u001b[38;5;28mlist\u001b[39m):\n",
      "File \u001b[0;32m/home/conda/master-asi-conae/315434deb1b1e05eacacc41e1b0529b1837100f46402a32041d77ba54ae6c5f3-20230213-125825-013239-74-edc-2022.10-14/lib/python3.9/site-packages/xcube_sh/sentinelhub.py:655\u001b[0m, in \u001b[0;36mSentinelHubError.maybe_raise_for_response\u001b[0;34m(cls, response)\u001b[0m\n\u001b[1;32m    653\u001b[0m \u001b[38;5;28;01mexcept\u001b[39;00m \u001b[38;5;167;01mException\u001b[39;00m:\n\u001b[1;32m    654\u001b[0m     \u001b[38;5;28;01mpass\u001b[39;00m\n\u001b[0;32m--> 655\u001b[0m \u001b[38;5;28;01mraise\u001b[39;00m SentinelHubError(\u001b[38;5;124mf\u001b[39m\u001b[38;5;124m'\u001b[39m\u001b[38;5;132;01m{\u001b[39;00me\u001b[38;5;132;01m}\u001b[39;00m\u001b[38;5;124m: \u001b[39m\u001b[38;5;132;01m{\u001b[39;00mdetail\u001b[38;5;132;01m}\u001b[39;00m\u001b[38;5;124m'\u001b[39m \u001b[38;5;28;01mif\u001b[39;00m detail \u001b[38;5;28;01melse\u001b[39;00m \u001b[38;5;124mf\u001b[39m\u001b[38;5;124m'\u001b[39m\u001b[38;5;132;01m{\u001b[39;00me\u001b[38;5;132;01m}\u001b[39;00m\u001b[38;5;124m'\u001b[39m,\n\u001b[1;32m    656\u001b[0m                        response\u001b[38;5;241m=\u001b[39mresponse) \u001b[38;5;28;01mfrom\u001b[39;00m \u001b[38;5;21;01me\u001b[39;00m\n",
      "\u001b[0;31mSentinelHubError\u001b[0m: 404 Client Error: Not Found for url: https://services.sentinel-hub.com/api/v1/catalog/search"
     ]
    }
   ],
   "source": [
    "cube = open_cube(cube_config)\n",
    "cube"
   ]
  },
  {
   "cell_type": "code",
   "execution_count": null,
   "id": "d88181bc-8cf3-4ded-80b8-ab9786ad2ae2",
   "metadata": {},
   "outputs": [],
   "source": []
  }
 ],
 "metadata": {
  "kernelspec": {
   "display_name": "master-asi-conae-edc-2022.10-14",
   "language": "python",
   "name": "conda-env-master-asi-conae-edc-2022.10-14-py"
  },
  "language_info": {
   "codemirror_mode": {
    "name": "ipython",
    "version": 3
   },
   "file_extension": ".py",
   "mimetype": "text/x-python",
   "name": "python",
   "nbconvert_exporter": "python",
   "pygments_lexer": "ipython3",
   "version": "3.9.16"
  }
 },
 "nbformat": 4,
 "nbformat_minor": 5
}
