{
 "cells": [
  {
   "cell_type": "markdown",
   "id": "0c6aed2f-1493-4636-a124-03c81b28bc52",
   "metadata": {},
   "source": [
    "# 3.1 Data Processing\n",
    "In this exercise we will build a complete EO workflow on a cloud platform; from data access to obtaining the result. \n",
    "In this example we will analyse snow cover in the Alps. **MORE DETAILS HERE**\n",
    "\n",
    "We are going to follow these steps in our analysis:\n",
    "- Load relevant data sources\n",
    "- Specify the spatial, temporal extents and the features we are interested in\n",
    "- Process the satellite data to retreive snow cover information\n",
    "- aggregate information in data cubes\n",
    "- Tracking the resources we use for our computation\n",
    "- Visualize and analyse the results\n"
   ]
  },
  {
   "cell_type": "code",
   "execution_count": 1,
   "id": "1abf270c-d73e-4109-854c-3cf36a1b36d7",
   "metadata": {},
   "outputs": [],
   "source": [
    "import openeo\n",
    "from sentinelhub import (SHConfig, SentinelHubRequest, DataCollection, MimeType, CRS, BBox, bbox_to_dimensions, geometry)"
   ]
  },
  {
   "cell_type": "code",
   "execution_count": 2,
   "id": "61e18b1a-6c58-4f64-b911-9451d170a116",
   "metadata": {},
   "outputs": [],
   "source": [
    "config = SHConfig()\n",
    "config.sh_client_id = %env SH_CLIENT_ID\n",
    "config.sh_client_secret = %env SH_CLIENT_SECRET"
   ]
  },
  {
   "cell_type": "code",
   "execution_count": 4,
   "id": "86afd551-857e-4129-a2ee-39a933255f34",
   "metadata": {},
   "outputs": [],
   "source": [
    "conn = openeo.connect('https://jjdxlu8vwl.execute-api.eu-central-1.amazonaws.com/production')"
   ]
  },
  {
   "cell_type": "code",
   "execution_count": 5,
   "id": "de26fd5c-71da-4d28-b895-f5108a97a1d5",
   "metadata": {},
   "outputs": [
    {
     "data": {
      "text/plain": [
       "<Connection to 'https://jjdxlu8vwl.execute-api.eu-central-1.amazonaws.com/production/' with BasicBearerAuth>"
      ]
     },
     "execution_count": 5,
     "metadata": {},
     "output_type": "execute_result"
    }
   ],
   "source": [
    "conn.authenticate_basic(username=config.sh_client_id, password=config.sh_client_secret)"
   ]
  },
  {
   "cell_type": "code",
   "execution_count": null,
   "id": "7afd0fd0-0207-495d-b076-ed68f826bc5f",
   "metadata": {},
   "outputs": [],
   "source": [
    "# Use this for more \n",
    "# https://github.com/openEOPlatform/sample-notebooks/blob/main/openEO%20Platfrom%20-%20Basics.ipynb\n",
    "# https://github.com/Open-EO/openeo-community-examples/tree/main/python"
   ]
  }
 ],
 "metadata": {
  "kernelspec": {
   "display_name": "users-edc-2023.03-02",
   "language": "python",
   "name": "conda-env-users-edc-2023.03-02-py"
  },
  "language_info": {
   "codemirror_mode": {
    "name": "ipython",
    "version": 3
   },
   "file_extension": ".py",
   "mimetype": "text/x-python",
   "name": "python",
   "nbconvert_exporter": "python",
   "pygments_lexer": "ipython3",
   "version": "3.9.16"
  }
 },
 "nbformat": 4,
 "nbformat_minor": 5
}
